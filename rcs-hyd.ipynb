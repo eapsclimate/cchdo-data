{
 "cells": [
  {
   "cell_type": "markdown",
   "metadata": {},
   "source": [
    "## RCS-HYD"
   ]
  },
  {
   "cell_type": "code",
   "execution_count": 1,
   "metadata": {
    "collapsed": true
   },
   "outputs": [],
   "source": [
    "from pymongo import MongoClient\n",
    "from tqdm import tqdm\n",
    "import numpy as np\n",
    "import os\n",
    "import pandas as pd\n",
    "import pymongo\n",
    "import xarray as xr"
   ]
  },
  {
   "cell_type": "code",
   "execution_count": 2,
   "metadata": {
    "collapsed": true
   },
   "outputs": [],
   "source": [
    "def format(LON):\n",
    "    if LON < 0:\n",
    "        LON = LON + 360\n",
    "    else:\n",
    "        LON = LON\n",
    "    return LON"
   ]
  },
  {
   "cell_type": "code",
   "execution_count": 3,
   "metadata": {
    "collapsed": true
   },
   "outputs": [],
   "source": [
    "station = 0\n",
    "overlap = 0"
   ]
  },
  {
   "cell_type": "code",
   "execution_count": 4,
   "metadata": {
    "collapsed": true
   },
   "outputs": [],
   "source": [
    "rootdir = '/home/cz2397/data/cchdo-hyd/'"
   ]
  },
  {
   "cell_type": "code",
   "execution_count": 5,
   "metadata": {
    "collapsed": true
   },
   "outputs": [],
   "source": [
    "rcs_cchdo = MongoClient().eddies.rcs_cchdo\n",
    "rcs_hyd = MongoClient().eddies.rcs_hyd"
   ]
  },
  {
   "cell_type": "code",
   "execution_count": 6,
   "metadata": {
    "collapsed": false
   },
   "outputs": [
    {
     "data": {
      "text/plain": [
       "u'dat_1'"
      ]
     },
     "execution_count": 6,
     "metadata": {},
     "output_type": "execute_result"
    }
   ],
   "source": [
    "rcs_cchdo.create_index([('dat', pymongo.ASCENDING)])"
   ]
  },
  {
   "cell_type": "code",
   "execution_count": 7,
   "metadata": {
    "collapsed": false,
    "scrolled": true
   },
   "outputs": [
    {
     "name": "stderr",
     "output_type": "stream",
     "text": [
      "710it [15:28,  2.30s/it]\n"
     ]
    }
   ],
   "source": [
    "for subdir, dirs, files in tqdm(os.walk(rootdir)):\n",
    "    for file in files:\n",
    "        if file.endswith('hy1.nc'):\n",
    "            path = os.path.join(subdir, file)\n",
    "            DS = xr.open_dataset(path)\n",
    "            DAT = DS.time.values[0]\n",
    "            LAT = float(DS.latitude.values[0])\n",
    "            LON = float(format(DS.longitude.values[0]))\n",
    "            dat_var = np.timedelta64(4, 'D')\n",
    "            dat_min = pd.to_datetime(DAT - dat_var)\n",
    "            dat_max = pd.to_datetime(DAT + dat_var)\n",
    "            ft = {\n",
    "                'dat': {'$gt': dat_min, '$lt': dat_max},\n",
    "                'loc': {'$within': {'$center': [[LON, LAT], 1]}}\n",
    "            }\n",
    "            count = rcs_cchdo.find(ft).count()\n",
    "            station = station + 1\n",
    "            if count != 0:\n",
    "                overlap = overlap + 1\n",
    "                for document in rcs_cchdo.find(ft):\n",
    "                    eddy = {\n",
    "                        'FILEPATH': str(path),\n",
    "                        'EXPOCODE': str(DS.EXPOCODE),\n",
    "                        'expo_cat': 'HYD',\n",
    "                        'expo_sta': str(DS.STATION_NUMBER),\n",
    "                        'expo_cas': str(DS.CAST_NUMBER),\n",
    "                        'expo_dat': pd.to_datetime(DAT),\n",
    "                        'expo_loc': [LON, LAT],\n",
    "                        'EDDYCODE': document['eid'],\n",
    "                        'eddy_cat': 'RCS',\n",
    "                        'eddy_dat': pd.to_datetime(document['dat']),\n",
    "                        'eddy_loc': document['loc']\n",
    "                    }\n",
    "                    rcs_hyd.insert_one(dict(eddy))"
   ]
  },
  {
   "cell_type": "code",
   "execution_count": 8,
   "metadata": {
    "collapsed": false
   },
   "outputs": [
    {
     "data": {
      "text/plain": [
       "39790"
      ]
     },
     "execution_count": 8,
     "metadata": {},
     "output_type": "execute_result"
    }
   ],
   "source": [
    "station"
   ]
  },
  {
   "cell_type": "code",
   "execution_count": 9,
   "metadata": {
    "collapsed": false
   },
   "outputs": [
    {
     "data": {
      "text/plain": [
       "838"
      ]
     },
     "execution_count": 9,
     "metadata": {},
     "output_type": "execute_result"
    }
   ],
   "source": [
    "overlap"
   ]
  }
 ],
 "metadata": {
  "kernelspec": {
   "display_name": "Python 2.7",
   "language": "python",
   "name": "python2"
  },
  "language_info": {
   "codemirror_mode": {
    "name": "ipython",
    "version": 2
   },
   "file_extension": ".py",
   "mimetype": "text/x-python",
   "name": "python",
   "nbconvert_exporter": "python",
   "pygments_lexer": "ipython2",
   "version": "2.7.11"
  }
 },
 "nbformat": 4,
 "nbformat_minor": 0
}
