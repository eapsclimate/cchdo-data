{
 "cells": [
  {
   "cell_type": "markdown",
   "metadata": {},
   "source": [
    "### rcs-hyd ###"
   ]
  },
  {
   "cell_type": "code",
   "execution_count": null,
   "metadata": {
    "collapsed": true
   },
   "outputs": [],
   "source": [
    "from geopy.distance import great_circle\n",
    "from pymongo import MongoClient\n",
    "from tqdm import tqdm\n",
    "import numpy as np\n",
    "import os\n",
    "import pandas as pd\n",
    "import pymongo\n",
    "import xarray as xr"
   ]
  },
  {
   "cell_type": "markdown",
   "metadata": {},
   "source": [
    "__longitude__"
   ]
  },
  {
   "cell_type": "code",
   "execution_count": null,
   "metadata": {
    "collapsed": true
   },
   "outputs": [],
   "source": [
    "# longitude range setting\n",
    "# from -180 to 180\n",
    "def format(longitude):\n",
    "    if longitude > 180:\n",
    "        longitude = longitude - 360\n",
    "    else:\n",
    "        longitude = longitude\n",
    "    return longitude"
   ]
  },
  {
   "cell_type": "markdown",
   "metadata": {},
   "source": [
    "__variable__"
   ]
  },
  {
   "cell_type": "code",
   "execution_count": null,
   "metadata": {
    "collapsed": true
   },
   "outputs": [],
   "source": [
    "cast = 0\n",
    "flag = 0"
   ]
  },
  {
   "cell_type": "code",
   "execution_count": null,
   "metadata": {
    "collapsed": true
   },
   "outputs": [],
   "source": [
    "# hyd\n",
    "rootdir = '/home/cz2397/data/cchdo-hyd/'"
   ]
  },
  {
   "cell_type": "code",
   "execution_count": null,
   "metadata": {
    "collapsed": true
   },
   "outputs": [],
   "source": [
    "# collection\n",
    "rcs_cchdo = MongoClient().eddies.rcs_cchdo\n",
    "rcs_hyd = MongoClient().eddies.rcs_hyd"
   ]
  },
  {
   "cell_type": "markdown",
   "metadata": {},
   "source": [
    "__index__"
   ]
  },
  {
   "cell_type": "code",
   "execution_count": null,
   "metadata": {
    "collapsed": false
   },
   "outputs": [],
   "source": [
    "# date query index\n",
    "rcs_cchdo.create_index([('dat', pymongo.ASCENDING)])"
   ]
  },
  {
   "cell_type": "markdown",
   "metadata": {},
   "source": [
    "__mongodb__"
   ]
  },
  {
   "cell_type": "code",
   "execution_count": null,
   "metadata": {
    "collapsed": false,
    "scrolled": true
   },
   "outputs": [],
   "source": [
    "for subdir, dirs, files in tqdm(os.walk(rootdir)):\n",
    "    for file in files:\n",
    "        if file.endswith('hy1.nc'):\n",
    "            cast = cast + 1\n",
    "            path = os.path.join(subdir, file)\n",
    "            ds = xr.open_dataset(path)\n",
    "            dat = ds.time.values[0]\n",
    "            dat_del = np.timedelta64(4, 'D')\n",
    "            dat_min = pd.to_datetime(dat - dat_del)\n",
    "            dat_max = pd.to_datetime(dat + dat_del)\n",
    "            lon_expo = format(float(ds.longitude.values[0]))\n",
    "            lat_expo = float(ds.latitude.values[0])\n",
    "            ft = {\n",
    "                'dat': {\n",
    "                    '$gt': dat_min,\n",
    "                    '$lt': dat_max\n",
    "                }\n",
    "            }\n",
    "            for document in rcs_cchdo.find(ft):       \n",
    "                lon_eddy = document['loc']['coordinates'][0]\n",
    "                lat_eddy = document['loc']['coordinates'][1]\n",
    "                radius = document['rad']\n",
    "                loc_expo = (lat_expo, lon_expo)\n",
    "                loc_eddy = (lat_eddy, lon_eddy)\n",
    "                distance = great_circle(loc_expo, loc_eddy).meters\n",
    "                if radius >= distance:\n",
    "                    flag = flag + 1\n",
    "                    eddy = {\n",
    "                        'FILEPATH': str(path),\n",
    "                        'EXPOCODE': str(ds.EXPOCODE),\n",
    "                        'expo_cat': 'HYD',\n",
    "                        'expo_sta': str(ds.STATION_NUMBER),\n",
    "                        'expo_cas': str(ds.CAST_NUMBER),\n",
    "                        'expo_dat': pd.to_datetime(dat),\n",
    "                        'expo_loc': {\n",
    "                            'type': 'Point',\n",
    "                            'coordinates': [lon_expo, lat_expo]\n",
    "                        },\n",
    "                        'EDDYCODE': document['eid'],\n",
    "                        'eddy_cat': 'RCS',\n",
    "                        'eddy_dat': pd.to_datetime(document['dat']),\n",
    "                        'eddy_loc': document['loc'],\n",
    "                        'eddy_rad': float(document['rad'])\n",
    "                    }\n",
    "                    rcs_hyd.insert_one(dict(eddy))"
   ]
  },
  {
   "cell_type": "markdown",
   "metadata": {},
   "source": [
    "__result__"
   ]
  },
  {
   "cell_type": "code",
   "execution_count": null,
   "metadata": {
    "collapsed": false
   },
   "outputs": [],
   "source": [
    "cast"
   ]
  },
  {
   "cell_type": "code",
   "execution_count": null,
   "metadata": {
    "collapsed": false
   },
   "outputs": [],
   "source": [
    "flag"
   ]
  }
 ],
 "metadata": {
  "kernelspec": {
   "display_name": "Python 2.7",
   "language": "python",
   "name": "python2"
  },
  "language_info": {
   "codemirror_mode": {
    "name": "ipython",
    "version": 2
   },
   "file_extension": ".py",
   "mimetype": "text/x-python",
   "name": "python",
   "nbconvert_exporter": "python",
   "pygments_lexer": "ipython2",
   "version": "2.7.11"
  }
 },
 "nbformat": 4,
 "nbformat_minor": 0
}
