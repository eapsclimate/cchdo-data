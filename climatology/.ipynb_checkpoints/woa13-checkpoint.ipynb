{
 "cells": [
  {
   "cell_type": "code",
   "execution_count": 1,
   "metadata": {
    "collapsed": true
   },
   "outputs": [],
   "source": [
    "# packages\n",
    "from matplotlib import pyplot as plt\n",
    "import gsw\n",
    "import numpy as np\n",
    "import xarray as xr\n",
    "%matplotlib inline"
   ]
  },
  {
   "cell_type": "code",
   "execution_count": 2,
   "metadata": {
    "collapsed": true
   },
   "outputs": [],
   "source": [
    "variables = {'temperature': ('decav', 't', 'v2'),\n",
    "             'salinity': ('decav', 's', 'v2'),\n",
    "             'nitrate': ('all', 'n', ''),\n",
    "             'phosphate': ('all', 'p', ''),\n",
    "             'silicate': ('all', 'i', ''),\n",
    "             'oxygen': ('all', 'o', ''),\n",
    "             'o2sat': ('all', 'O', ''),\n",
    "             'AOU': ('all', 'A', '')}\n",
    "prefix = 'https://data.nodc.noaa.gov/thredds/dodsC/woa/WOA13/DATAv2/'\n",
    "suffix = '00_01'\n",
    "urls = [ prefix + vname + '/netcdf/' + dname +\n",
    "        '/1.00/woa13_' + dname + '_' + v + suffix + suf + '.nc'\n",
    "         for (vname, (dname, v, suf)) in variables.iteritems() ]"
   ]
  },
  {
   "cell_type": "code",
   "execution_count": 3,
   "metadata": {
    "collapsed": false
   },
   "outputs": [
    {
     "data": {
      "text/plain": [
       "['https://data.nodc.noaa.gov/thredds/dodsC/woa/WOA13/DATAv2/o2sat/netcdf/all/1.00/woa13_all_O00_01.nc',\n",
       " 'https://data.nodc.noaa.gov/thredds/dodsC/woa/WOA13/DATAv2/AOU/netcdf/all/1.00/woa13_all_A00_01.nc',\n",
       " 'https://data.nodc.noaa.gov/thredds/dodsC/woa/WOA13/DATAv2/phosphate/netcdf/all/1.00/woa13_all_p00_01.nc',\n",
       " 'https://data.nodc.noaa.gov/thredds/dodsC/woa/WOA13/DATAv2/silicate/netcdf/all/1.00/woa13_all_i00_01.nc',\n",
       " 'https://data.nodc.noaa.gov/thredds/dodsC/woa/WOA13/DATAv2/temperature/netcdf/decav/1.00/woa13_decav_t00_01v2.nc',\n",
       " 'https://data.nodc.noaa.gov/thredds/dodsC/woa/WOA13/DATAv2/oxygen/netcdf/all/1.00/woa13_all_o00_01.nc',\n",
       " 'https://data.nodc.noaa.gov/thredds/dodsC/woa/WOA13/DATAv2/nitrate/netcdf/all/1.00/woa13_all_n00_01.nc',\n",
       " 'https://data.nodc.noaa.gov/thredds/dodsC/woa/WOA13/DATAv2/salinity/netcdf/decav/1.00/woa13_decav_s00_01v2.nc']"
      ]
     },
     "execution_count": 3,
     "metadata": {},
     "output_type": "execute_result"
    }
   ],
   "source": [
    "urls"
   ]
  },
  {
   "cell_type": "code",
   "execution_count": null,
   "metadata": {
    "collapsed": false
   },
   "outputs": [],
   "source": [
    "dsets = [xr.open_dataset(url, decode_times=False) for url in urls]\n",
    "ds = xr.merge(dsets)"
   ]
  },
  {
   "cell_type": "code",
   "execution_count": 5,
   "metadata": {
    "collapsed": false
   },
   "outputs": [
    {
     "data": {
      "text/plain": [
       "<xarray.Dataset>\n",
       "Dimensions:             (depth: 102, lat: 180, lon: 360, nbounds: 2, time: 1)\n",
       "Coordinates:\n",
       "  * lat                 (lat) float32 -89.5 -88.5 -87.5 -86.5 -85.5 -84.5 ...\n",
       "  * lon                 (lon) float32 -179.5 -178.5 -177.5 -176.5 -175.5 ...\n",
       "  * depth               (depth) float32 0.0 5.0 10.0 15.0 20.0 25.0 30.0 ...\n",
       "  * time                (time) float32 6.0\n",
       "Unindexed dimensions:\n",
       "    nbounds\n",
       "Data variables:\n",
       "    crs                 int64 -2147483647\n",
       "    lat_bnds            (lat, nbounds) float32 -90.0 -89.0 -89.0 -88.0 -88.0 ...\n",
       "    lon_bnds            (lon, nbounds) float32 -180.0 -179.0 -179.0 -178.0 ...\n",
       "    depth_bnds          (depth, nbounds) float32 0.0 2.5 2.5 7.5 7.5 12.5 ...\n",
       "    climatology_bounds  (time, nbounds) float32 0.0 12.0\n",
       "    O_an                (time, depth, lat, lon) float64 ...\n",
       "    O_mn                (time, depth, lat, lon) float64 ...\n",
       "    O_dd                (time, depth, lat, lon) float64 ...\n",
       "    O_sd                (time, depth, lat, lon) float64 ...\n",
       "    O_se                (time, depth, lat, lon) float64 ...\n",
       "    O_oa                (time, depth, lat, lon) float64 ...\n",
       "    O_gp                (time, depth, lat, lon) float64 ...\n",
       "    A_an                (time, depth, lat, lon) float64 ...\n",
       "    A_mn                (time, depth, lat, lon) float64 ...\n",
       "    A_dd                (time, depth, lat, lon) float64 ...\n",
       "    A_sd                (time, depth, lat, lon) float64 ...\n",
       "    A_se                (time, depth, lat, lon) float64 ...\n",
       "    A_oa                (time, depth, lat, lon) float64 ...\n",
       "    A_gp                (time, depth, lat, lon) float64 ...\n",
       "    p_an                (time, depth, lat, lon) float64 ...\n",
       "    p_mn                (time, depth, lat, lon) float64 ...\n",
       "    p_dd                (time, depth, lat, lon) float64 ...\n",
       "    p_sd                (time, depth, lat, lon) float64 ...\n",
       "    p_se                (time, depth, lat, lon) float64 ...\n",
       "    p_oa                (time, depth, lat, lon) float64 ...\n",
       "    p_gp                (time, depth, lat, lon) float64 ...\n",
       "    i_an                (time, depth, lat, lon) float64 ...\n",
       "    i_mn                (time, depth, lat, lon) float64 ...\n",
       "    i_dd                (time, depth, lat, lon) float64 ...\n",
       "    i_sd                (time, depth, lat, lon) float64 ...\n",
       "    i_se                (time, depth, lat, lon) float64 ...\n",
       "    i_oa                (time, depth, lat, lon) float64 ...\n",
       "    i_gp                (time, depth, lat, lon) float64 ...\n",
       "    t_an                (time, depth, lat, lon) float64 ...\n",
       "    t_mn                (time, depth, lat, lon) float64 ...\n",
       "    t_dd                (time, depth, lat, lon) float64 ...\n",
       "    t_sd                (time, depth, lat, lon) float64 ...\n",
       "    t_se                (time, depth, lat, lon) float64 ...\n",
       "    t_oa                (time, depth, lat, lon) float64 ...\n",
       "    t_gp                (time, depth, lat, lon) float64 ...\n",
       "    o_an                (time, depth, lat, lon) float64 ...\n",
       "    o_mn                (time, depth, lat, lon) float64 ...\n",
       "    o_dd                (time, depth, lat, lon) float64 ...\n",
       "    o_sd                (time, depth, lat, lon) float64 ...\n",
       "    o_se                (time, depth, lat, lon) float64 ...\n",
       "    o_oa                (time, depth, lat, lon) float64 ...\n",
       "    o_gp                (time, depth, lat, lon) float64 ...\n",
       "    n_an                (time, depth, lat, lon) float64 ...\n",
       "    n_mn                (time, depth, lat, lon) float64 ...\n",
       "    n_dd                (time, depth, lat, lon) float64 ...\n",
       "    n_sd                (time, depth, lat, lon) float64 ...\n",
       "    n_se                (time, depth, lat, lon) float64 ...\n",
       "    n_oa                (time, depth, lat, lon) float64 ...\n",
       "    n_gp                (time, depth, lat, lon) float64 ...\n",
       "    s_an                (time, depth, lat, lon) float64 ...\n",
       "    s_mn                (time, depth, lat, lon) float64 ...\n",
       "    s_dd                (time, depth, lat, lon) float64 ...\n",
       "    s_sd                (time, depth, lat, lon) float64 ...\n",
       "    s_se                (time, depth, lat, lon) float64 ...\n",
       "    s_oa                (time, depth, lat, lon) float64 ...\n",
       "    s_gp                (time, depth, lat, lon) float64 ..."
      ]
     },
     "execution_count": 5,
     "metadata": {},
     "output_type": "execute_result"
    }
   ],
   "source": [
    "ds"
   ]
  },
  {
   "cell_type": "code",
   "execution_count": null,
   "metadata": {
    "collapsed": true
   },
   "outputs": [],
   "source": []
  }
 ],
 "metadata": {
  "kernelspec": {
   "display_name": "Python 2.7",
   "language": "python",
   "name": "python2"
  },
  "language_info": {
   "codemirror_mode": {
    "name": "ipython",
    "version": 2
   },
   "file_extension": ".py",
   "mimetype": "text/x-python",
   "name": "python",
   "nbconvert_exporter": "python",
   "pygments_lexer": "ipython2",
   "version": "2.7.11"
  }
 },
 "nbformat": 4,
 "nbformat_minor": 0
}
