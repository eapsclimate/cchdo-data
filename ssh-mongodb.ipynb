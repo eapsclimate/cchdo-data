{
 "cells": [
  {
   "cell_type": "markdown",
   "metadata": {},
   "source": [
    "### ssh eddies ###"
   ]
  },
  {
   "cell_type": "markdown",
   "metadata": {},
   "source": [
    "__data__"
   ]
  },
  {
   "cell_type": "code",
   "execution_count": 1,
   "metadata": {
    "collapsed": false
   },
   "outputs": [],
   "source": [
    "import datetime, jdcal\n",
    "import numpy as np\n",
    "import pandas as pd\n",
    "import xarray as xr"
   ]
  },
  {
   "cell_type": "code",
   "execution_count": 2,
   "metadata": {
    "collapsed": true
   },
   "outputs": [],
   "source": [
    "ds = xr.open_dataset('/home/cz2397/data/ssh-eddies/tracks_AVISO_DT2014_daily_web.nc', decode_cf=False)"
   ]
  },
  {
   "cell_type": "code",
   "execution_count": 3,
   "metadata": {
    "collapsed": true
   },
   "outputs": [],
   "source": [
    "df = ds.to_dataframe()"
   ]
  },
  {
   "cell_type": "code",
   "execution_count": 4,
   "metadata": {
    "collapsed": false
   },
   "outputs": [
    {
     "data": {
      "text/html": [
       "<div>\n",
       "<table border=\"1\" class=\"dataframe\">\n",
       "  <thead>\n",
       "    <tr style=\"text-align: right;\">\n",
       "      <th></th>\n",
       "      <th>track</th>\n",
       "      <th>n</th>\n",
       "      <th>j1</th>\n",
       "      <th>cyc</th>\n",
       "      <th>lon</th>\n",
       "      <th>lat</th>\n",
       "      <th>A</th>\n",
       "      <th>L</th>\n",
       "      <th>U</th>\n",
       "    </tr>\n",
       "    <tr>\n",
       "      <th>Nobs</th>\n",
       "      <th></th>\n",
       "      <th></th>\n",
       "      <th></th>\n",
       "      <th></th>\n",
       "      <th></th>\n",
       "      <th></th>\n",
       "      <th></th>\n",
       "      <th></th>\n",
       "      <th></th>\n",
       "    </tr>\n",
       "  </thead>\n",
       "  <tbody>\n",
       "    <tr>\n",
       "      <th>0</th>\n",
       "      <td>1</td>\n",
       "      <td>1</td>\n",
       "      <td>2448989</td>\n",
       "      <td>1</td>\n",
       "      <td>397.040985</td>\n",
       "      <td>-21.719400</td>\n",
       "      <td>31.473101</td>\n",
       "      <td>146.738998</td>\n",
       "      <td>79.148399</td>\n",
       "    </tr>\n",
       "    <tr>\n",
       "      <th>1</th>\n",
       "      <td>1</td>\n",
       "      <td>2</td>\n",
       "      <td>2448990</td>\n",
       "      <td>1</td>\n",
       "      <td>397.015991</td>\n",
       "      <td>-21.760300</td>\n",
       "      <td>30.215599</td>\n",
       "      <td>138.673996</td>\n",
       "      <td>79.141296</td>\n",
       "    </tr>\n",
       "    <tr>\n",
       "      <th>2</th>\n",
       "      <td>1</td>\n",
       "      <td>3</td>\n",
       "      <td>2448991</td>\n",
       "      <td>1</td>\n",
       "      <td>397.003998</td>\n",
       "      <td>-21.797701</td>\n",
       "      <td>28.817200</td>\n",
       "      <td>137.839996</td>\n",
       "      <td>78.532097</td>\n",
       "    </tr>\n",
       "    <tr>\n",
       "      <th>3</th>\n",
       "      <td>1</td>\n",
       "      <td>4</td>\n",
       "      <td>2448992</td>\n",
       "      <td>1</td>\n",
       "      <td>396.971008</td>\n",
       "      <td>-21.852100</td>\n",
       "      <td>28.791300</td>\n",
       "      <td>136.145996</td>\n",
       "      <td>77.241402</td>\n",
       "    </tr>\n",
       "    <tr>\n",
       "      <th>4</th>\n",
       "      <td>1</td>\n",
       "      <td>5</td>\n",
       "      <td>2448993</td>\n",
       "      <td>1</td>\n",
       "      <td>396.945007</td>\n",
       "      <td>-21.871201</td>\n",
       "      <td>27.741199</td>\n",
       "      <td>136.119995</td>\n",
       "      <td>77.705101</td>\n",
       "    </tr>\n",
       "  </tbody>\n",
       "</table>\n",
       "</div>"
      ],
      "text/plain": [
       "      track  n       j1  cyc         lon        lat          A           L  \\\n",
       "Nobs                                                                         \n",
       "0         1  1  2448989    1  397.040985 -21.719400  31.473101  146.738998   \n",
       "1         1  2  2448990    1  397.015991 -21.760300  30.215599  138.673996   \n",
       "2         1  3  2448991    1  397.003998 -21.797701  28.817200  137.839996   \n",
       "3         1  4  2448992    1  396.971008 -21.852100  28.791300  136.145996   \n",
       "4         1  5  2448993    1  396.945007 -21.871201  27.741199  136.119995   \n",
       "\n",
       "              U  \n",
       "Nobs             \n",
       "0     79.148399  \n",
       "1     79.141296  \n",
       "2     78.532097  \n",
       "3     77.241402  \n",
       "4     77.705101  "
      ]
     },
     "execution_count": 4,
     "metadata": {},
     "output_type": "execute_result"
    }
   ],
   "source": [
    "df.head()"
   ]
  },
  {
   "cell_type": "markdown",
   "metadata": {},
   "source": [
    "__time__"
   ]
  },
  {
   "cell_type": "code",
   "execution_count": 5,
   "metadata": {
    "collapsed": false
   },
   "outputs": [],
   "source": [
    "def jday_to_datetime(jday, refday=0):\n",
    "    y, m, d, f = jdcal.jd2gcal(jday, refday)\n",
    "    h = int(f*24)\n",
    "    return pd.to_datetime(datetime.datetime(y, m, d, h))"
   ]
  },
  {
   "cell_type": "code",
   "execution_count": 6,
   "metadata": {
    "collapsed": false
   },
   "outputs": [],
   "source": [
    "date_fix = df.j1.apply(jday_to_datetime)"
   ]
  },
  {
   "cell_type": "code",
   "execution_count": 7,
   "metadata": {
    "collapsed": true
   },
   "outputs": [],
   "source": [
    "df.j1 = date_fix\n",
    "df = df.rename(columns = {'j1': 'date'})"
   ]
  },
  {
   "cell_type": "code",
   "execution_count": 8,
   "metadata": {
    "collapsed": false
   },
   "outputs": [
    {
     "data": {
      "text/html": [
       "<div>\n",
       "<table border=\"1\" class=\"dataframe\">\n",
       "  <thead>\n",
       "    <tr style=\"text-align: right;\">\n",
       "      <th></th>\n",
       "      <th>track</th>\n",
       "      <th>n</th>\n",
       "      <th>date</th>\n",
       "      <th>cyc</th>\n",
       "      <th>lon</th>\n",
       "      <th>lat</th>\n",
       "      <th>A</th>\n",
       "      <th>L</th>\n",
       "      <th>U</th>\n",
       "    </tr>\n",
       "    <tr>\n",
       "      <th>Nobs</th>\n",
       "      <th></th>\n",
       "      <th></th>\n",
       "      <th></th>\n",
       "      <th></th>\n",
       "      <th></th>\n",
       "      <th></th>\n",
       "      <th></th>\n",
       "      <th></th>\n",
       "      <th></th>\n",
       "    </tr>\n",
       "  </thead>\n",
       "  <tbody>\n",
       "    <tr>\n",
       "      <th>0</th>\n",
       "      <td>1</td>\n",
       "      <td>1</td>\n",
       "      <td>1993-01-01 12:00:00</td>\n",
       "      <td>1</td>\n",
       "      <td>397.040985</td>\n",
       "      <td>-21.719400</td>\n",
       "      <td>31.473101</td>\n",
       "      <td>146.738998</td>\n",
       "      <td>79.148399</td>\n",
       "    </tr>\n",
       "    <tr>\n",
       "      <th>1</th>\n",
       "      <td>1</td>\n",
       "      <td>2</td>\n",
       "      <td>1993-01-02 12:00:00</td>\n",
       "      <td>1</td>\n",
       "      <td>397.015991</td>\n",
       "      <td>-21.760300</td>\n",
       "      <td>30.215599</td>\n",
       "      <td>138.673996</td>\n",
       "      <td>79.141296</td>\n",
       "    </tr>\n",
       "    <tr>\n",
       "      <th>2</th>\n",
       "      <td>1</td>\n",
       "      <td>3</td>\n",
       "      <td>1993-01-03 12:00:00</td>\n",
       "      <td>1</td>\n",
       "      <td>397.003998</td>\n",
       "      <td>-21.797701</td>\n",
       "      <td>28.817200</td>\n",
       "      <td>137.839996</td>\n",
       "      <td>78.532097</td>\n",
       "    </tr>\n",
       "    <tr>\n",
       "      <th>3</th>\n",
       "      <td>1</td>\n",
       "      <td>4</td>\n",
       "      <td>1993-01-04 12:00:00</td>\n",
       "      <td>1</td>\n",
       "      <td>396.971008</td>\n",
       "      <td>-21.852100</td>\n",
       "      <td>28.791300</td>\n",
       "      <td>136.145996</td>\n",
       "      <td>77.241402</td>\n",
       "    </tr>\n",
       "    <tr>\n",
       "      <th>4</th>\n",
       "      <td>1</td>\n",
       "      <td>5</td>\n",
       "      <td>1993-01-05 12:00:00</td>\n",
       "      <td>1</td>\n",
       "      <td>396.945007</td>\n",
       "      <td>-21.871201</td>\n",
       "      <td>27.741199</td>\n",
       "      <td>136.119995</td>\n",
       "      <td>77.705101</td>\n",
       "    </tr>\n",
       "  </tbody>\n",
       "</table>\n",
       "</div>"
      ],
      "text/plain": [
       "      track  n                date  cyc         lon        lat          A  \\\n",
       "Nobs                                                                        \n",
       "0         1  1 1993-01-01 12:00:00    1  397.040985 -21.719400  31.473101   \n",
       "1         1  2 1993-01-02 12:00:00    1  397.015991 -21.760300  30.215599   \n",
       "2         1  3 1993-01-03 12:00:00    1  397.003998 -21.797701  28.817200   \n",
       "3         1  4 1993-01-04 12:00:00    1  396.971008 -21.852100  28.791300   \n",
       "4         1  5 1993-01-05 12:00:00    1  396.945007 -21.871201  27.741199   \n",
       "\n",
       "               L          U  \n",
       "Nobs                         \n",
       "0     146.738998  79.148399  \n",
       "1     138.673996  79.141296  \n",
       "2     137.839996  78.532097  \n",
       "3     136.145996  77.241402  \n",
       "4     136.119995  77.705101  "
      ]
     },
     "execution_count": 8,
     "metadata": {},
     "output_type": "execute_result"
    }
   ],
   "source": [
    "df.head()"
   ]
  },
  {
   "cell_type": "markdown",
   "metadata": {},
   "source": [
    "__longitude__"
   ]
  },
  {
   "cell_type": "code",
   "execution_count": 9,
   "metadata": {
    "collapsed": true
   },
   "outputs": [],
   "source": [
    "# longitude range setting\n",
    "# from -180 to 180\n",
    "lon_fix_1 = df.where(df.lon < 540).lon - 360\n",
    "lon_fix_2 = df.where(df.lon >= 540).lon - 720\n",
    "lon_fix = lon_fix_1\n",
    "lon_fix = lon_fix_1.fillna(lon_fix_2)\n",
    "df.lon = lon_fix"
   ]
  },
  {
   "cell_type": "code",
   "execution_count": 10,
   "metadata": {
    "collapsed": false
   },
   "outputs": [
    {
     "data": {
      "text/html": [
       "<div>\n",
       "<table border=\"1\" class=\"dataframe\">\n",
       "  <thead>\n",
       "    <tr style=\"text-align: right;\">\n",
       "      <th></th>\n",
       "      <th>track</th>\n",
       "      <th>n</th>\n",
       "      <th>date</th>\n",
       "      <th>cyc</th>\n",
       "      <th>lon</th>\n",
       "      <th>lat</th>\n",
       "      <th>A</th>\n",
       "      <th>L</th>\n",
       "      <th>U</th>\n",
       "    </tr>\n",
       "    <tr>\n",
       "      <th>Nobs</th>\n",
       "      <th></th>\n",
       "      <th></th>\n",
       "      <th></th>\n",
       "      <th></th>\n",
       "      <th></th>\n",
       "      <th></th>\n",
       "      <th></th>\n",
       "      <th></th>\n",
       "      <th></th>\n",
       "    </tr>\n",
       "  </thead>\n",
       "  <tbody>\n",
       "    <tr>\n",
       "      <th>0</th>\n",
       "      <td>1</td>\n",
       "      <td>1</td>\n",
       "      <td>1993-01-01 12:00:00</td>\n",
       "      <td>1</td>\n",
       "      <td>37.040985</td>\n",
       "      <td>-21.719400</td>\n",
       "      <td>31.473101</td>\n",
       "      <td>146.738998</td>\n",
       "      <td>79.148399</td>\n",
       "    </tr>\n",
       "    <tr>\n",
       "      <th>1</th>\n",
       "      <td>1</td>\n",
       "      <td>2</td>\n",
       "      <td>1993-01-02 12:00:00</td>\n",
       "      <td>1</td>\n",
       "      <td>37.015991</td>\n",
       "      <td>-21.760300</td>\n",
       "      <td>30.215599</td>\n",
       "      <td>138.673996</td>\n",
       "      <td>79.141296</td>\n",
       "    </tr>\n",
       "    <tr>\n",
       "      <th>2</th>\n",
       "      <td>1</td>\n",
       "      <td>3</td>\n",
       "      <td>1993-01-03 12:00:00</td>\n",
       "      <td>1</td>\n",
       "      <td>37.003998</td>\n",
       "      <td>-21.797701</td>\n",
       "      <td>28.817200</td>\n",
       "      <td>137.839996</td>\n",
       "      <td>78.532097</td>\n",
       "    </tr>\n",
       "    <tr>\n",
       "      <th>3</th>\n",
       "      <td>1</td>\n",
       "      <td>4</td>\n",
       "      <td>1993-01-04 12:00:00</td>\n",
       "      <td>1</td>\n",
       "      <td>36.971008</td>\n",
       "      <td>-21.852100</td>\n",
       "      <td>28.791300</td>\n",
       "      <td>136.145996</td>\n",
       "      <td>77.241402</td>\n",
       "    </tr>\n",
       "    <tr>\n",
       "      <th>4</th>\n",
       "      <td>1</td>\n",
       "      <td>5</td>\n",
       "      <td>1993-01-05 12:00:00</td>\n",
       "      <td>1</td>\n",
       "      <td>36.945007</td>\n",
       "      <td>-21.871201</td>\n",
       "      <td>27.741199</td>\n",
       "      <td>136.119995</td>\n",
       "      <td>77.705101</td>\n",
       "    </tr>\n",
       "  </tbody>\n",
       "</table>\n",
       "</div>"
      ],
      "text/plain": [
       "      track  n                date  cyc        lon        lat          A  \\\n",
       "Nobs                                                                       \n",
       "0         1  1 1993-01-01 12:00:00    1  37.040985 -21.719400  31.473101   \n",
       "1         1  2 1993-01-02 12:00:00    1  37.015991 -21.760300  30.215599   \n",
       "2         1  3 1993-01-03 12:00:00    1  37.003998 -21.797701  28.817200   \n",
       "3         1  4 1993-01-04 12:00:00    1  36.971008 -21.852100  28.791300   \n",
       "4         1  5 1993-01-05 12:00:00    1  36.945007 -21.871201  27.741199   \n",
       "\n",
       "               L          U  \n",
       "Nobs                         \n",
       "0     146.738998  79.148399  \n",
       "1     138.673996  79.141296  \n",
       "2     137.839996  78.532097  \n",
       "3     136.145996  77.241402  \n",
       "4     136.119995  77.705101  "
      ]
     },
     "execution_count": 10,
     "metadata": {},
     "output_type": "execute_result"
    }
   ],
   "source": [
    "df.head()"
   ]
  },
  {
   "cell_type": "markdown",
   "metadata": {},
   "source": [
    "__radius__"
   ]
  },
  {
   "cell_type": "code",
   "execution_count": 11,
   "metadata": {
    "collapsed": false
   },
   "outputs": [],
   "source": [
    "radius = df.L*1000\n",
    "df.L = radius\n",
    "df = df.rename(columns = {'L': 'radius'})"
   ]
  },
  {
   "cell_type": "code",
   "execution_count": 12,
   "metadata": {
    "collapsed": false
   },
   "outputs": [
    {
     "data": {
      "text/html": [
       "<div>\n",
       "<table border=\"1\" class=\"dataframe\">\n",
       "  <thead>\n",
       "    <tr style=\"text-align: right;\">\n",
       "      <th></th>\n",
       "      <th>track</th>\n",
       "      <th>n</th>\n",
       "      <th>date</th>\n",
       "      <th>cyc</th>\n",
       "      <th>lon</th>\n",
       "      <th>lat</th>\n",
       "      <th>A</th>\n",
       "      <th>radius</th>\n",
       "      <th>U</th>\n",
       "    </tr>\n",
       "    <tr>\n",
       "      <th>Nobs</th>\n",
       "      <th></th>\n",
       "      <th></th>\n",
       "      <th></th>\n",
       "      <th></th>\n",
       "      <th></th>\n",
       "      <th></th>\n",
       "      <th></th>\n",
       "      <th></th>\n",
       "      <th></th>\n",
       "    </tr>\n",
       "  </thead>\n",
       "  <tbody>\n",
       "    <tr>\n",
       "      <th>0</th>\n",
       "      <td>1</td>\n",
       "      <td>1</td>\n",
       "      <td>1993-01-01 12:00:00</td>\n",
       "      <td>1</td>\n",
       "      <td>37.040985</td>\n",
       "      <td>-21.719400</td>\n",
       "      <td>31.473101</td>\n",
       "      <td>146739</td>\n",
       "      <td>79.148399</td>\n",
       "    </tr>\n",
       "    <tr>\n",
       "      <th>1</th>\n",
       "      <td>1</td>\n",
       "      <td>2</td>\n",
       "      <td>1993-01-02 12:00:00</td>\n",
       "      <td>1</td>\n",
       "      <td>37.015991</td>\n",
       "      <td>-21.760300</td>\n",
       "      <td>30.215599</td>\n",
       "      <td>138674</td>\n",
       "      <td>79.141296</td>\n",
       "    </tr>\n",
       "    <tr>\n",
       "      <th>2</th>\n",
       "      <td>1</td>\n",
       "      <td>3</td>\n",
       "      <td>1993-01-03 12:00:00</td>\n",
       "      <td>1</td>\n",
       "      <td>37.003998</td>\n",
       "      <td>-21.797701</td>\n",
       "      <td>28.817200</td>\n",
       "      <td>137840</td>\n",
       "      <td>78.532097</td>\n",
       "    </tr>\n",
       "    <tr>\n",
       "      <th>3</th>\n",
       "      <td>1</td>\n",
       "      <td>4</td>\n",
       "      <td>1993-01-04 12:00:00</td>\n",
       "      <td>1</td>\n",
       "      <td>36.971008</td>\n",
       "      <td>-21.852100</td>\n",
       "      <td>28.791300</td>\n",
       "      <td>136146</td>\n",
       "      <td>77.241402</td>\n",
       "    </tr>\n",
       "    <tr>\n",
       "      <th>4</th>\n",
       "      <td>1</td>\n",
       "      <td>5</td>\n",
       "      <td>1993-01-05 12:00:00</td>\n",
       "      <td>1</td>\n",
       "      <td>36.945007</td>\n",
       "      <td>-21.871201</td>\n",
       "      <td>27.741199</td>\n",
       "      <td>136120</td>\n",
       "      <td>77.705101</td>\n",
       "    </tr>\n",
       "  </tbody>\n",
       "</table>\n",
       "</div>"
      ],
      "text/plain": [
       "      track  n                date  cyc        lon        lat          A  \\\n",
       "Nobs                                                                       \n",
       "0         1  1 1993-01-01 12:00:00    1  37.040985 -21.719400  31.473101   \n",
       "1         1  2 1993-01-02 12:00:00    1  37.015991 -21.760300  30.215599   \n",
       "2         1  3 1993-01-03 12:00:00    1  37.003998 -21.797701  28.817200   \n",
       "3         1  4 1993-01-04 12:00:00    1  36.971008 -21.852100  28.791300   \n",
       "4         1  5 1993-01-05 12:00:00    1  36.945007 -21.871201  27.741199   \n",
       "\n",
       "      radius          U  \n",
       "Nobs                     \n",
       "0     146739  79.148399  \n",
       "1     138674  79.141296  \n",
       "2     137840  78.532097  \n",
       "3     136146  77.241402  \n",
       "4     136120  77.705101  "
      ]
     },
     "execution_count": 12,
     "metadata": {},
     "output_type": "execute_result"
    }
   ],
   "source": [
    "df.head()"
   ]
  },
  {
   "cell_type": "markdown",
   "metadata": {},
   "source": [
    "### mongodb ###"
   ]
  },
  {
   "cell_type": "code",
   "execution_count": 13,
   "metadata": {
    "collapsed": true
   },
   "outputs": [],
   "source": [
    "from pymongo import MongoClient\n",
    "from tqdm import tqdm"
   ]
  },
  {
   "cell_type": "code",
   "execution_count": 14,
   "metadata": {
    "collapsed": false
   },
   "outputs": [],
   "source": [
    "track = np.asarray(df.track)\n",
    "n = np.asarray(df.n)\n",
    "date = df.date\n",
    "lon = np.asarray(df.lon)\n",
    "lat = np.asarray(df.lat)\n",
    "radius = np.asarray(df.radius)"
   ]
  },
  {
   "cell_type": "code",
   "execution_count": 15,
   "metadata": {
    "collapsed": false
   },
   "outputs": [
    {
     "data": {
      "text/plain": [
       "245389"
      ]
     },
     "execution_count": 15,
     "metadata": {},
     "output_type": "execute_result"
    }
   ],
   "source": [
    "tra_num = max(track)\n",
    "tra_num"
   ]
  },
  {
   "cell_type": "code",
   "execution_count": 16,
   "metadata": {
    "collapsed": false
   },
   "outputs": [
    {
     "data": {
      "text/plain": [
       "22510604"
      ]
     },
     "execution_count": 16,
     "metadata": {},
     "output_type": "execute_result"
    }
   ],
   "source": [
    "obs_num = len(n)\n",
    "obs_num"
   ]
  },
  {
   "cell_type": "code",
   "execution_count": 17,
   "metadata": {
    "collapsed": false
   },
   "outputs": [
    {
     "data": {
      "text/html": [
       "<div>\n",
       "<table border=\"1\" class=\"dataframe\">\n",
       "  <thead>\n",
       "    <tr style=\"text-align: right;\">\n",
       "      <th></th>\n",
       "      <th>track</th>\n",
       "      <th>n</th>\n",
       "      <th>date</th>\n",
       "      <th>cyc</th>\n",
       "      <th>lon</th>\n",
       "      <th>lat</th>\n",
       "      <th>A</th>\n",
       "      <th>radius</th>\n",
       "      <th>U</th>\n",
       "    </tr>\n",
       "    <tr>\n",
       "      <th>Nobs</th>\n",
       "      <th></th>\n",
       "      <th></th>\n",
       "      <th></th>\n",
       "      <th></th>\n",
       "      <th></th>\n",
       "      <th></th>\n",
       "      <th></th>\n",
       "      <th></th>\n",
       "      <th></th>\n",
       "    </tr>\n",
       "  </thead>\n",
       "  <tbody>\n",
       "    <tr>\n",
       "      <th>0</th>\n",
       "      <td>1</td>\n",
       "      <td>1</td>\n",
       "      <td>1993-01-01 12:00:00</td>\n",
       "      <td>1</td>\n",
       "      <td>37.040985</td>\n",
       "      <td>-21.719400</td>\n",
       "      <td>31.473101</td>\n",
       "      <td>146739</td>\n",
       "      <td>79.148399</td>\n",
       "    </tr>\n",
       "    <tr>\n",
       "      <th>1</th>\n",
       "      <td>1</td>\n",
       "      <td>2</td>\n",
       "      <td>1993-01-02 12:00:00</td>\n",
       "      <td>1</td>\n",
       "      <td>37.015991</td>\n",
       "      <td>-21.760300</td>\n",
       "      <td>30.215599</td>\n",
       "      <td>138674</td>\n",
       "      <td>79.141296</td>\n",
       "    </tr>\n",
       "    <tr>\n",
       "      <th>2</th>\n",
       "      <td>1</td>\n",
       "      <td>3</td>\n",
       "      <td>1993-01-03 12:00:00</td>\n",
       "      <td>1</td>\n",
       "      <td>37.003998</td>\n",
       "      <td>-21.797701</td>\n",
       "      <td>28.817200</td>\n",
       "      <td>137840</td>\n",
       "      <td>78.532097</td>\n",
       "    </tr>\n",
       "    <tr>\n",
       "      <th>3</th>\n",
       "      <td>1</td>\n",
       "      <td>4</td>\n",
       "      <td>1993-01-04 12:00:00</td>\n",
       "      <td>1</td>\n",
       "      <td>36.971008</td>\n",
       "      <td>-21.852100</td>\n",
       "      <td>28.791300</td>\n",
       "      <td>136146</td>\n",
       "      <td>77.241402</td>\n",
       "    </tr>\n",
       "    <tr>\n",
       "      <th>4</th>\n",
       "      <td>1</td>\n",
       "      <td>5</td>\n",
       "      <td>1993-01-05 12:00:00</td>\n",
       "      <td>1</td>\n",
       "      <td>36.945007</td>\n",
       "      <td>-21.871201</td>\n",
       "      <td>27.741199</td>\n",
       "      <td>136120</td>\n",
       "      <td>77.705101</td>\n",
       "    </tr>\n",
       "  </tbody>\n",
       "</table>\n",
       "</div>"
      ],
      "text/plain": [
       "      track  n                date  cyc        lon        lat          A  \\\n",
       "Nobs                                                                       \n",
       "0         1  1 1993-01-01 12:00:00    1  37.040985 -21.719400  31.473101   \n",
       "1         1  2 1993-01-02 12:00:00    1  37.015991 -21.760300  30.215599   \n",
       "2         1  3 1993-01-03 12:00:00    1  37.003998 -21.797701  28.817200   \n",
       "3         1  4 1993-01-04 12:00:00    1  36.971008 -21.852100  28.791300   \n",
       "4         1  5 1993-01-05 12:00:00    1  36.945007 -21.871201  27.741199   \n",
       "\n",
       "      radius          U  \n",
       "Nobs                     \n",
       "0     146739  79.148399  \n",
       "1     138674  79.141296  \n",
       "2     137840  78.532097  \n",
       "3     136146  77.241402  \n",
       "4     136120  77.705101  "
      ]
     },
     "execution_count": 17,
     "metadata": {},
     "output_type": "execute_result"
    }
   ],
   "source": [
    "df.head()"
   ]
  },
  {
   "cell_type": "code",
   "execution_count": 18,
   "metadata": {
    "collapsed": true
   },
   "outputs": [],
   "source": [
    "# collection\n",
    "ssh_cchdo = MongoClient().eddies.ssh_cchdo"
   ]
  },
  {
   "cell_type": "code",
   "execution_count": 19,
   "metadata": {
    "collapsed": false
   },
   "outputs": [
    {
     "name": "stderr",
     "output_type": "stream",
     "text": [
      "100%|██████████| 22510604/22510604 [1:41:05<00:00, 3711.45it/s]\n"
     ]
    }
   ],
   "source": [
    "for i in tqdm(range(obs_num)):\n",
    "    eddy = {\n",
    "        'eid': str(track[i]) + \"-\" + str(n[i]),\n",
    "        'dat': date[i],\n",
    "        'loc': {\n",
    "            'type': 'Point',\n",
    "            'coordinates': [float(lon[i]), float(lat[i])]\n",
    "        },\n",
    "        'rad': float(radius[i])\n",
    "    }\n",
    "    ssh_cchdo.insert_one(dict(eddy))"
   ]
  }
 ],
 "metadata": {
  "kernelspec": {
   "display_name": "Python 2.7",
   "language": "python",
   "name": "python2"
  },
  "language_info": {
   "codemirror_mode": {
    "name": "ipython",
    "version": 2
   },
   "file_extension": ".py",
   "mimetype": "text/x-python",
   "name": "python",
   "nbconvert_exporter": "python",
   "pygments_lexer": "ipython2",
   "version": "2.7.11"
  }
 },
 "nbformat": 4,
 "nbformat_minor": 0
}
