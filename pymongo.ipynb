{
 "cells": [
  {
   "cell_type": "markdown",
   "metadata": {},
   "source": [
    "## SSH Eddies"
   ]
  },
  {
   "cell_type": "code",
   "execution_count": 1,
   "metadata": {
    "collapsed": false
   },
   "outputs": [],
   "source": [
    "import datetime\n",
    "import jdcal\n",
    "import numpy as np\n",
    "import pandas as pd\n",
    "import xarray as xr"
   ]
  },
  {
   "cell_type": "code",
   "execution_count": 2,
   "metadata": {
    "collapsed": true
   },
   "outputs": [],
   "source": [
    "ds = xr.open_dataset('/home/cz2397/data/ssh-eddies/tracks.20130125.nc', decode_cf=False)"
   ]
  },
  {
   "cell_type": "code",
   "execution_count": 3,
   "metadata": {
    "collapsed": false
   },
   "outputs": [
    {
     "data": {
      "text/plain": [
       "<xarray.Dataset>\n",
       "Dimensions:  (Nobs: 2590938)\n",
       "Coordinates:\n",
       "  * Nobs     (Nobs) int64 0 1 2 3 4 5 6 7 8 9 10 11 12 13 14 15 16 17 18 19 ...\n",
       "Data variables:\n",
       "    track    (Nobs) int32 1 1 1 1 2 2 2 2 3 3 3 3 4 4 4 4 5 5 5 5 6 6 6 6 7 ...\n",
       "    n        (Nobs) int32 1 2 3 4 1 2 3 4 1 2 3 4 1 2 3 4 1 2 3 4 1 2 3 4 1 ...\n",
       "    j1       (Nobs) int32 2448910 2448917 2448924 2448931 2448910 2448917 ...\n",
       "    cyc      (Nobs) int32 -1 -1 -1 -1 -1 -1 -1 -1 -1 -1 -1 -1 -1 -1 -1 -1 -1 ...\n",
       "    lon      (Nobs) float32 636.74 635.99 635.82 635.845 560.642 561.447 ...\n",
       "    lat      (Nobs) float32 -65.0011 -65.1376 -65.2457 -65.2933 -62.5424 ...\n",
       "    A        (Nobs) float32 1.24564 2.64604 3.40119 1.45836 2.16156 4.87579 ...\n",
       "    L        (Nobs) float32 44.464 36.7024 45.4221 43.022 63.0697 51.1345 ...\n",
       "    U        (Nobs) float32 5.97993 8.17373 8.28628 5.20364 4.81408 6.59872 ...\n",
       "Attributes:\n",
       "    title: Mesoscale Eddies in Altimeter Observations of SSH\n",
       "    institution: Oregon State University/CEOAS\n",
       "    file_name: tracks.20130125.nc\n",
       "    file_creation_time: 2013May06 15:53:30\n",
       "    data_process_date: 20130125\n",
       "    data_start_date: Oct 14, 1992\n",
       "    data_end_date: Apr  4, 2012\n",
       "    authors: Dudley Chelton and Michael Schlax\n",
       "    inquiries_to: Eric Beals (beals@coas.oregonstate.edu)"
      ]
     },
     "execution_count": 3,
     "metadata": {},
     "output_type": "execute_result"
    }
   ],
   "source": [
    "ds"
   ]
  },
  {
   "cell_type": "code",
   "execution_count": 4,
   "metadata": {
    "collapsed": true
   },
   "outputs": [],
   "source": [
    "df = ds.to_dataframe()"
   ]
  },
  {
   "cell_type": "code",
   "execution_count": 5,
   "metadata": {
    "collapsed": false
   },
   "outputs": [
    {
     "data": {
      "text/html": [
       "<div>\n",
       "<table border=\"1\" class=\"dataframe\">\n",
       "  <thead>\n",
       "    <tr style=\"text-align: right;\">\n",
       "      <th></th>\n",
       "      <th>track</th>\n",
       "      <th>n</th>\n",
       "      <th>j1</th>\n",
       "      <th>cyc</th>\n",
       "      <th>lon</th>\n",
       "      <th>lat</th>\n",
       "      <th>A</th>\n",
       "      <th>L</th>\n",
       "      <th>U</th>\n",
       "    </tr>\n",
       "    <tr>\n",
       "      <th>Nobs</th>\n",
       "      <th></th>\n",
       "      <th></th>\n",
       "      <th></th>\n",
       "      <th></th>\n",
       "      <th></th>\n",
       "      <th></th>\n",
       "      <th></th>\n",
       "      <th></th>\n",
       "      <th></th>\n",
       "    </tr>\n",
       "  </thead>\n",
       "  <tbody>\n",
       "    <tr>\n",
       "      <th>0</th>\n",
       "      <td>1</td>\n",
       "      <td>1</td>\n",
       "      <td>2448910</td>\n",
       "      <td>-1</td>\n",
       "      <td>636.739990</td>\n",
       "      <td>-65.001099</td>\n",
       "      <td>1.24564</td>\n",
       "      <td>44.464001</td>\n",
       "      <td>5.97993</td>\n",
       "    </tr>\n",
       "    <tr>\n",
       "      <th>1</th>\n",
       "      <td>1</td>\n",
       "      <td>2</td>\n",
       "      <td>2448917</td>\n",
       "      <td>-1</td>\n",
       "      <td>635.989990</td>\n",
       "      <td>-65.137604</td>\n",
       "      <td>2.64604</td>\n",
       "      <td>36.702400</td>\n",
       "      <td>8.17373</td>\n",
       "    </tr>\n",
       "    <tr>\n",
       "      <th>2</th>\n",
       "      <td>1</td>\n",
       "      <td>3</td>\n",
       "      <td>2448924</td>\n",
       "      <td>-1</td>\n",
       "      <td>635.820007</td>\n",
       "      <td>-65.245697</td>\n",
       "      <td>3.40119</td>\n",
       "      <td>45.422100</td>\n",
       "      <td>8.28628</td>\n",
       "    </tr>\n",
       "    <tr>\n",
       "      <th>3</th>\n",
       "      <td>1</td>\n",
       "      <td>4</td>\n",
       "      <td>2448931</td>\n",
       "      <td>-1</td>\n",
       "      <td>635.844971</td>\n",
       "      <td>-65.293297</td>\n",
       "      <td>1.45836</td>\n",
       "      <td>43.021999</td>\n",
       "      <td>5.20364</td>\n",
       "    </tr>\n",
       "    <tr>\n",
       "      <th>4</th>\n",
       "      <td>2</td>\n",
       "      <td>1</td>\n",
       "      <td>2448910</td>\n",
       "      <td>-1</td>\n",
       "      <td>560.642029</td>\n",
       "      <td>-62.542400</td>\n",
       "      <td>2.16156</td>\n",
       "      <td>63.069698</td>\n",
       "      <td>4.81408</td>\n",
       "    </tr>\n",
       "  </tbody>\n",
       "</table>\n",
       "</div>"
      ],
      "text/plain": [
       "      track  n       j1  cyc         lon        lat        A          L  \\\n",
       "Nobs                                                                      \n",
       "0         1  1  2448910   -1  636.739990 -65.001099  1.24564  44.464001   \n",
       "1         1  2  2448917   -1  635.989990 -65.137604  2.64604  36.702400   \n",
       "2         1  3  2448924   -1  635.820007 -65.245697  3.40119  45.422100   \n",
       "3         1  4  2448931   -1  635.844971 -65.293297  1.45836  43.021999   \n",
       "4         2  1  2448910   -1  560.642029 -62.542400  2.16156  63.069698   \n",
       "\n",
       "            U  \n",
       "Nobs           \n",
       "0     5.97993  \n",
       "1     8.17373  \n",
       "2     8.28628  \n",
       "3     5.20364  \n",
       "4     4.81408  "
      ]
     },
     "execution_count": 5,
     "metadata": {},
     "output_type": "execute_result"
    }
   ],
   "source": [
    "df.head()"
   ]
  },
  {
   "cell_type": "code",
   "execution_count": 6,
   "metadata": {
    "collapsed": false
   },
   "outputs": [],
   "source": [
    "def jday_to_datetime(jday, refday=0):\n",
    "    y, m, d, f = jdcal.jd2gcal(jday, refday)\n",
    "    h = int(f*24)\n",
    "    return pd.to_datetime(datetime.datetime(y, m, d, h))"
   ]
  },
  {
   "cell_type": "code",
   "execution_count": 7,
   "metadata": {
    "collapsed": false
   },
   "outputs": [],
   "source": [
    "pd_date = df.j1.apply(jday_to_datetime)"
   ]
  },
  {
   "cell_type": "code",
   "execution_count": 8,
   "metadata": {
    "collapsed": true
   },
   "outputs": [],
   "source": [
    "df.j1 = pd_date\n",
    "df = df.rename(columns = {'j1': 'date'})"
   ]
  },
  {
   "cell_type": "code",
   "execution_count": 9,
   "metadata": {
    "collapsed": false
   },
   "outputs": [
    {
     "data": {
      "text/html": [
       "<div>\n",
       "<table border=\"1\" class=\"dataframe\">\n",
       "  <thead>\n",
       "    <tr style=\"text-align: right;\">\n",
       "      <th></th>\n",
       "      <th>track</th>\n",
       "      <th>n</th>\n",
       "      <th>date</th>\n",
       "      <th>cyc</th>\n",
       "      <th>lon</th>\n",
       "      <th>lat</th>\n",
       "      <th>A</th>\n",
       "      <th>L</th>\n",
       "      <th>U</th>\n",
       "    </tr>\n",
       "    <tr>\n",
       "      <th>Nobs</th>\n",
       "      <th></th>\n",
       "      <th></th>\n",
       "      <th></th>\n",
       "      <th></th>\n",
       "      <th></th>\n",
       "      <th></th>\n",
       "      <th></th>\n",
       "      <th></th>\n",
       "      <th></th>\n",
       "    </tr>\n",
       "  </thead>\n",
       "  <tbody>\n",
       "    <tr>\n",
       "      <th>0</th>\n",
       "      <td>1</td>\n",
       "      <td>1</td>\n",
       "      <td>1992-10-14 12:00:00</td>\n",
       "      <td>-1</td>\n",
       "      <td>636.739990</td>\n",
       "      <td>-65.001099</td>\n",
       "      <td>1.24564</td>\n",
       "      <td>44.464001</td>\n",
       "      <td>5.97993</td>\n",
       "    </tr>\n",
       "    <tr>\n",
       "      <th>1</th>\n",
       "      <td>1</td>\n",
       "      <td>2</td>\n",
       "      <td>1992-10-21 12:00:00</td>\n",
       "      <td>-1</td>\n",
       "      <td>635.989990</td>\n",
       "      <td>-65.137604</td>\n",
       "      <td>2.64604</td>\n",
       "      <td>36.702400</td>\n",
       "      <td>8.17373</td>\n",
       "    </tr>\n",
       "    <tr>\n",
       "      <th>2</th>\n",
       "      <td>1</td>\n",
       "      <td>3</td>\n",
       "      <td>1992-10-28 12:00:00</td>\n",
       "      <td>-1</td>\n",
       "      <td>635.820007</td>\n",
       "      <td>-65.245697</td>\n",
       "      <td>3.40119</td>\n",
       "      <td>45.422100</td>\n",
       "      <td>8.28628</td>\n",
       "    </tr>\n",
       "    <tr>\n",
       "      <th>3</th>\n",
       "      <td>1</td>\n",
       "      <td>4</td>\n",
       "      <td>1992-11-04 12:00:00</td>\n",
       "      <td>-1</td>\n",
       "      <td>635.844971</td>\n",
       "      <td>-65.293297</td>\n",
       "      <td>1.45836</td>\n",
       "      <td>43.021999</td>\n",
       "      <td>5.20364</td>\n",
       "    </tr>\n",
       "    <tr>\n",
       "      <th>4</th>\n",
       "      <td>2</td>\n",
       "      <td>1</td>\n",
       "      <td>1992-10-14 12:00:00</td>\n",
       "      <td>-1</td>\n",
       "      <td>560.642029</td>\n",
       "      <td>-62.542400</td>\n",
       "      <td>2.16156</td>\n",
       "      <td>63.069698</td>\n",
       "      <td>4.81408</td>\n",
       "    </tr>\n",
       "  </tbody>\n",
       "</table>\n",
       "</div>"
      ],
      "text/plain": [
       "      track  n                date  cyc         lon        lat        A  \\\n",
       "Nobs                                                                      \n",
       "0         1  1 1992-10-14 12:00:00   -1  636.739990 -65.001099  1.24564   \n",
       "1         1  2 1992-10-21 12:00:00   -1  635.989990 -65.137604  2.64604   \n",
       "2         1  3 1992-10-28 12:00:00   -1  635.820007 -65.245697  3.40119   \n",
       "3         1  4 1992-11-04 12:00:00   -1  635.844971 -65.293297  1.45836   \n",
       "4         2  1 1992-10-14 12:00:00   -1  560.642029 -62.542400  2.16156   \n",
       "\n",
       "              L        U  \n",
       "Nobs                      \n",
       "0     44.464001  5.97993  \n",
       "1     36.702400  8.17373  \n",
       "2     45.422100  8.28628  \n",
       "3     43.021999  5.20364  \n",
       "4     63.069698  4.81408  "
      ]
     },
     "execution_count": 9,
     "metadata": {},
     "output_type": "execute_result"
    }
   ],
   "source": [
    "df.head()"
   ]
  },
  {
   "cell_type": "code",
   "execution_count": 10,
   "metadata": {
    "collapsed": true
   },
   "outputs": [],
   "source": [
    "lon_fix_01 = df.where(df.lon <= 540).lon - 360\n",
    "lon_fix_02 = df.where(df.lon > 540).lon - 720\n",
    "lon_fix_A = lon_fix_01\n",
    "lon_fix_A = lon_fix_A.fillna(lon_fix_02)\n",
    "df.lon = lon_fix_A"
   ]
  },
  {
   "cell_type": "code",
   "execution_count": 11,
   "metadata": {
    "collapsed": false
   },
   "outputs": [
    {
     "data": {
      "text/html": [
       "<div>\n",
       "<table border=\"1\" class=\"dataframe\">\n",
       "  <thead>\n",
       "    <tr style=\"text-align: right;\">\n",
       "      <th></th>\n",
       "      <th>track</th>\n",
       "      <th>n</th>\n",
       "      <th>date</th>\n",
       "      <th>cyc</th>\n",
       "      <th>lon</th>\n",
       "      <th>lat</th>\n",
       "      <th>A</th>\n",
       "      <th>L</th>\n",
       "      <th>U</th>\n",
       "    </tr>\n",
       "    <tr>\n",
       "      <th>Nobs</th>\n",
       "      <th></th>\n",
       "      <th></th>\n",
       "      <th></th>\n",
       "      <th></th>\n",
       "      <th></th>\n",
       "      <th></th>\n",
       "      <th></th>\n",
       "      <th></th>\n",
       "      <th></th>\n",
       "    </tr>\n",
       "  </thead>\n",
       "  <tbody>\n",
       "    <tr>\n",
       "      <th>0</th>\n",
       "      <td>1</td>\n",
       "      <td>1</td>\n",
       "      <td>1992-10-14 12:00:00</td>\n",
       "      <td>-1</td>\n",
       "      <td>-83.260010</td>\n",
       "      <td>-65.001099</td>\n",
       "      <td>1.24564</td>\n",
       "      <td>44.464001</td>\n",
       "      <td>5.97993</td>\n",
       "    </tr>\n",
       "    <tr>\n",
       "      <th>1</th>\n",
       "      <td>1</td>\n",
       "      <td>2</td>\n",
       "      <td>1992-10-21 12:00:00</td>\n",
       "      <td>-1</td>\n",
       "      <td>-84.010010</td>\n",
       "      <td>-65.137604</td>\n",
       "      <td>2.64604</td>\n",
       "      <td>36.702400</td>\n",
       "      <td>8.17373</td>\n",
       "    </tr>\n",
       "    <tr>\n",
       "      <th>2</th>\n",
       "      <td>1</td>\n",
       "      <td>3</td>\n",
       "      <td>1992-10-28 12:00:00</td>\n",
       "      <td>-1</td>\n",
       "      <td>-84.179993</td>\n",
       "      <td>-65.245697</td>\n",
       "      <td>3.40119</td>\n",
       "      <td>45.422100</td>\n",
       "      <td>8.28628</td>\n",
       "    </tr>\n",
       "    <tr>\n",
       "      <th>3</th>\n",
       "      <td>1</td>\n",
       "      <td>4</td>\n",
       "      <td>1992-11-04 12:00:00</td>\n",
       "      <td>-1</td>\n",
       "      <td>-84.155029</td>\n",
       "      <td>-65.293297</td>\n",
       "      <td>1.45836</td>\n",
       "      <td>43.021999</td>\n",
       "      <td>5.20364</td>\n",
       "    </tr>\n",
       "    <tr>\n",
       "      <th>4</th>\n",
       "      <td>2</td>\n",
       "      <td>1</td>\n",
       "      <td>1992-10-14 12:00:00</td>\n",
       "      <td>-1</td>\n",
       "      <td>-159.357971</td>\n",
       "      <td>-62.542400</td>\n",
       "      <td>2.16156</td>\n",
       "      <td>63.069698</td>\n",
       "      <td>4.81408</td>\n",
       "    </tr>\n",
       "  </tbody>\n",
       "</table>\n",
       "</div>"
      ],
      "text/plain": [
       "      track  n                date  cyc         lon        lat        A  \\\n",
       "Nobs                                                                      \n",
       "0         1  1 1992-10-14 12:00:00   -1  -83.260010 -65.001099  1.24564   \n",
       "1         1  2 1992-10-21 12:00:00   -1  -84.010010 -65.137604  2.64604   \n",
       "2         1  3 1992-10-28 12:00:00   -1  -84.179993 -65.245697  3.40119   \n",
       "3         1  4 1992-11-04 12:00:00   -1  -84.155029 -65.293297  1.45836   \n",
       "4         2  1 1992-10-14 12:00:00   -1 -159.357971 -62.542400  2.16156   \n",
       "\n",
       "              L        U  \n",
       "Nobs                      \n",
       "0     44.464001  5.97993  \n",
       "1     36.702400  8.17373  \n",
       "2     45.422100  8.28628  \n",
       "3     43.021999  5.20364  \n",
       "4     63.069698  4.81408  "
      ]
     },
     "execution_count": 11,
     "metadata": {},
     "output_type": "execute_result"
    }
   ],
   "source": [
    "df.head()"
   ]
  },
  {
   "cell_type": "code",
   "execution_count": 12,
   "metadata": {
    "collapsed": true
   },
   "outputs": [],
   "source": [
    "lon_fix_03 = df.where(df.lon < 0).lon + 360\n",
    "lon_fix_04 = df.where(df.lon >= 0).lon\n",
    "lon_fix_B = lon_fix_03\n",
    "lon_fix_B = lon_fix_B.fillna(lon_fix_04)\n",
    "df.lon = lon_fix_B"
   ]
  },
  {
   "cell_type": "code",
   "execution_count": 13,
   "metadata": {
    "collapsed": false
   },
   "outputs": [
    {
     "data": {
      "text/html": [
       "<div>\n",
       "<table border=\"1\" class=\"dataframe\">\n",
       "  <thead>\n",
       "    <tr style=\"text-align: right;\">\n",
       "      <th></th>\n",
       "      <th>track</th>\n",
       "      <th>n</th>\n",
       "      <th>date</th>\n",
       "      <th>cyc</th>\n",
       "      <th>lon</th>\n",
       "      <th>lat</th>\n",
       "      <th>A</th>\n",
       "      <th>L</th>\n",
       "      <th>U</th>\n",
       "    </tr>\n",
       "    <tr>\n",
       "      <th>Nobs</th>\n",
       "      <th></th>\n",
       "      <th></th>\n",
       "      <th></th>\n",
       "      <th></th>\n",
       "      <th></th>\n",
       "      <th></th>\n",
       "      <th></th>\n",
       "      <th></th>\n",
       "      <th></th>\n",
       "    </tr>\n",
       "  </thead>\n",
       "  <tbody>\n",
       "    <tr>\n",
       "      <th>0</th>\n",
       "      <td>1</td>\n",
       "      <td>1</td>\n",
       "      <td>1992-10-14 12:00:00</td>\n",
       "      <td>-1</td>\n",
       "      <td>276.739990</td>\n",
       "      <td>-65.001099</td>\n",
       "      <td>1.24564</td>\n",
       "      <td>44.464001</td>\n",
       "      <td>5.97993</td>\n",
       "    </tr>\n",
       "    <tr>\n",
       "      <th>1</th>\n",
       "      <td>1</td>\n",
       "      <td>2</td>\n",
       "      <td>1992-10-21 12:00:00</td>\n",
       "      <td>-1</td>\n",
       "      <td>275.989990</td>\n",
       "      <td>-65.137604</td>\n",
       "      <td>2.64604</td>\n",
       "      <td>36.702400</td>\n",
       "      <td>8.17373</td>\n",
       "    </tr>\n",
       "    <tr>\n",
       "      <th>2</th>\n",
       "      <td>1</td>\n",
       "      <td>3</td>\n",
       "      <td>1992-10-28 12:00:00</td>\n",
       "      <td>-1</td>\n",
       "      <td>275.820007</td>\n",
       "      <td>-65.245697</td>\n",
       "      <td>3.40119</td>\n",
       "      <td>45.422100</td>\n",
       "      <td>8.28628</td>\n",
       "    </tr>\n",
       "    <tr>\n",
       "      <th>3</th>\n",
       "      <td>1</td>\n",
       "      <td>4</td>\n",
       "      <td>1992-11-04 12:00:00</td>\n",
       "      <td>-1</td>\n",
       "      <td>275.844971</td>\n",
       "      <td>-65.293297</td>\n",
       "      <td>1.45836</td>\n",
       "      <td>43.021999</td>\n",
       "      <td>5.20364</td>\n",
       "    </tr>\n",
       "    <tr>\n",
       "      <th>4</th>\n",
       "      <td>2</td>\n",
       "      <td>1</td>\n",
       "      <td>1992-10-14 12:00:00</td>\n",
       "      <td>-1</td>\n",
       "      <td>200.642029</td>\n",
       "      <td>-62.542400</td>\n",
       "      <td>2.16156</td>\n",
       "      <td>63.069698</td>\n",
       "      <td>4.81408</td>\n",
       "    </tr>\n",
       "  </tbody>\n",
       "</table>\n",
       "</div>"
      ],
      "text/plain": [
       "      track  n                date  cyc         lon        lat        A  \\\n",
       "Nobs                                                                      \n",
       "0         1  1 1992-10-14 12:00:00   -1  276.739990 -65.001099  1.24564   \n",
       "1         1  2 1992-10-21 12:00:00   -1  275.989990 -65.137604  2.64604   \n",
       "2         1  3 1992-10-28 12:00:00   -1  275.820007 -65.245697  3.40119   \n",
       "3         1  4 1992-11-04 12:00:00   -1  275.844971 -65.293297  1.45836   \n",
       "4         2  1 1992-10-14 12:00:00   -1  200.642029 -62.542400  2.16156   \n",
       "\n",
       "              L        U  \n",
       "Nobs                      \n",
       "0     44.464001  5.97993  \n",
       "1     36.702400  8.17373  \n",
       "2     45.422100  8.28628  \n",
       "3     43.021999  5.20364  \n",
       "4     63.069698  4.81408  "
      ]
     },
     "execution_count": 13,
     "metadata": {},
     "output_type": "execute_result"
    }
   ],
   "source": [
    "df.head()"
   ]
  },
  {
   "cell_type": "code",
   "execution_count": 14,
   "metadata": {
    "collapsed": false
   },
   "outputs": [],
   "source": [
    "track = np.asarray(df.track)\n",
    "n = np.asarray(df.n)\n",
    "date = df.date\n",
    "lon = np.asarray(df.lon)\n",
    "lat = np.asarray(df.lat)"
   ]
  },
  {
   "cell_type": "markdown",
   "metadata": {},
   "source": [
    "## PyMongo"
   ]
  },
  {
   "cell_type": "code",
   "execution_count": 15,
   "metadata": {
    "collapsed": false
   },
   "outputs": [],
   "source": [
    "from pymongo import MongoClient\n",
    "from tqdm import tqdm"
   ]
  },
  {
   "cell_type": "code",
   "execution_count": 16,
   "metadata": {
    "collapsed": true
   },
   "outputs": [],
   "source": [
    "client = MongoClient()"
   ]
  },
  {
   "cell_type": "code",
   "execution_count": 17,
   "metadata": {
    "collapsed": false
   },
   "outputs": [
    {
     "data": {
      "text/plain": [
       "[u'eddies', u'local']"
      ]
     },
     "execution_count": 17,
     "metadata": {},
     "output_type": "execute_result"
    }
   ],
   "source": [
    "client.database_names()"
   ]
  },
  {
   "cell_type": "code",
   "execution_count": 18,
   "metadata": {
    "collapsed": false
   },
   "outputs": [],
   "source": [
    "db = client.eddies"
   ]
  },
  {
   "cell_type": "code",
   "execution_count": 19,
   "metadata": {
    "collapsed": false
   },
   "outputs": [
    {
     "data": {
      "text/plain": [
       "[u'rcs_eddies', u'cchdo', u'ssh_eddies']"
      ]
     },
     "execution_count": 19,
     "metadata": {},
     "output_type": "execute_result"
    }
   ],
   "source": [
    "db.collection_names()"
   ]
  },
  {
   "cell_type": "code",
   "execution_count": 20,
   "metadata": {
    "collapsed": true
   },
   "outputs": [],
   "source": [
    "collection = db.cchdo"
   ]
  },
  {
   "cell_type": "code",
   "execution_count": 21,
   "metadata": {
    "collapsed": false
   },
   "outputs": [
    {
     "name": "stderr",
     "output_type": "stream",
     "text": [
      "-c:1: DeprecationWarning: remove is deprecated. Use delete_one or delete_many instead.\n"
     ]
    }
   ],
   "source": [
    "result = db.cchdo.remove()"
   ]
  },
  {
   "cell_type": "code",
   "execution_count": 22,
   "metadata": {
    "collapsed": false
   },
   "outputs": [
    {
     "name": "stdout",
     "output_type": "stream",
     "text": [
      "215184\n"
     ]
    }
   ],
   "source": [
    "M = max(df.track)\n",
    "print(M)"
   ]
  },
  {
   "cell_type": "code",
   "execution_count": 23,
   "metadata": {
    "collapsed": false
   },
   "outputs": [
    {
     "name": "stdout",
     "output_type": "stream",
     "text": [
      "2590938\n"
     ]
    }
   ],
   "source": [
    "N = len(df.n)\n",
    "print(N)"
   ]
  },
  {
   "cell_type": "code",
   "execution_count": 24,
   "metadata": {
    "collapsed": false
   },
   "outputs": [
    {
     "name": "stderr",
     "output_type": "stream",
     "text": [
      "100%|██████████| 2590938/2590938 [11:47<00:00, 3660.72it/s]\n"
     ]
    }
   ],
   "source": [
    "for i in tqdm(range(N)):\n",
    "    eddy = {\n",
    "        'eid': str(track[i]) + \"-\" + str(n[i]),\n",
    "        'dat': date[i],\n",
    "        'lat': str(lat[i]),\n",
    "        'lon': str(lon[i])\n",
    "    }\n",
    "    result = db.cchdo.insert_one(dict(eddy))"
   ]
  },
  {
   "cell_type": "markdown",
   "metadata": {},
   "source": [
    "## CCHDO"
   ]
  },
  {
   "cell_type": "code",
   "execution_count": 25,
   "metadata": {
    "collapsed": false
   },
   "outputs": [],
   "source": [
    "ds = xr.open_dataset('/home/cz2397/data/cchdo-hyd/698_33RO20150410_nc_hyd/33RO20150410_00001_00001_hy1.nc')"
   ]
  },
  {
   "cell_type": "code",
   "execution_count": 29,
   "metadata": {
    "collapsed": false
   },
   "outputs": [
    {
     "data": {
      "text/plain": [
       "<xarray.Dataset>\n",
       "Dimensions:                 (latitude: 1, longitude: 1, pressure: 24, time: 1)\n",
       "Coordinates:\n",
       "  * pressure                (pressure) float64 3.1 20.1 41.7 66.4 91.6 117.0 ...\n",
       "  * time                    (time) datetime64[ns] 2015-04-11T05:50:00\n",
       "  * latitude                (latitude) float32 -16.5011\n",
       "  * longitude               (longitude) float32 -150.001\n",
       "Data variables:\n",
       "    temperature             (pressure) float64 29.13 29.14 29.08 27.5 25.72 ...\n",
       "    salinity                (pressure) float64 35.66 35.66 35.72 35.85 36.17 ...\n",
       "    salinity_QC             (pressure) int16 2 2 2 2 2 2 2 2 2 2 2 2 2 2 2 2 ...\n",
       "    bottle_salinity         (pressure) float64 35.65 35.66 35.72 35.85 36.17 ...\n",
       "    bottle_salinity_QC      (pressure) int16 2 2 2 2 2 2 2 2 2 2 2 6 2 2 9 2 ...\n",
       "    oxygen                  (pressure) float64 194.1 195.7 195.6 204.5 196.9 ...\n",
       "    oxygen_QC               (pressure) int16 2 2 2 2 2 2 2 2 2 2 2 2 2 2 2 2 ...\n",
       "    bottle_oxygen           (pressure) float64 194.0 194.0 197.0 203.3 199.6 ...\n",
       "    bottle_oxygen_QC        (pressure) int16 2 2 2 2 2 2 2 2 9 2 2 2 2 2 2 2 ...\n",
       "    silicate                (pressure) float64 0.5 0.5 0.5 0.4 0.4 0.5 0.5 ...\n",
       "    silicate_QC             (pressure) int16 2 2 2 2 2 2 2 2 2 2 2 2 2 2 9 2 ...\n",
       "    nitrate                 (pressure) float64 0.0 0.0 0.0 0.0 0.0 0.3 2.5 ...\n",
       "    nitrate_QC              (pressure) int16 2 2 2 2 2 2 2 2 2 2 2 2 2 2 9 2 ...\n",
       "    nitrite                 (pressure) float64 0.0 0.0 0.0 0.01 0.01 0.21 ...\n",
       "    nitrite_QC              (pressure) int16 2 2 2 2 2 2 2 2 2 2 2 2 2 2 9 2 ...\n",
       "    phosphate               (pressure) float64 0.08 0.06 0.11 0.13 0.14 0.19 ...\n",
       "    phosphate_QC            (pressure) int16 4 4 4 4 4 4 4 4 4 4 4 4 4 4 9 4 ...\n",
       "    freon_11                (pressure) float64 1.331 1.332 1.351 1.506 1.572 ...\n",
       "    freon_11_QC             (pressure) int16 2 2 2 2 2 2 2 2 9 2 2 2 2 2 2 2 ...\n",
       "    freon_12                (pressure) float64 0.916 0.911 0.912 0.991 1.045 ...\n",
       "    freon_12_QC             (pressure) int16 2 2 2 2 2 2 2 2 9 2 2 2 2 2 2 2 ...\n",
       "    sulfur_hexifluoride     (pressure) float64 1.165 1.247 1.215 1.267 1.3 ...\n",
       "    sulfur_hexifluoride_QC  (pressure) int16 2 2 2 2 2 2 2 2 9 2 2 2 2 2 2 2 ...\n",
       "    total_carbon            (pressure) float64 1.983e+03 1.981e+03 1.987e+03 ...\n",
       "    total_carbon_QC         (pressure) int16 2 2 2 2 2 2 2 3 9 3 3 2 3 2 2 2 ...\n",
       "    alkalinity              (pressure) float64 2.347e+03 2.346e+03 2.35e+03 ...\n",
       "    ph1                     (pressure) float64 8.12 8.12 8.119 8.102 8.073 ...\n",
       "    ph1_QC                  (pressure) int16 2 2 6 2 2 2 2 2 9 3 6 2 2 6 2 2 ...\n",
       "    ph_temperature          (pressure) float64 25.0 25.0 25.01 25.0 25.01 ...\n",
       "    nitrous_oxide           (pressure) float64 0.58 0.57 0.58 0.62 0.65 0.68 ...\n",
       "    nitrous_oxide_QC        (pressure) int16 2 2 2 2 2 2 2 2 9 2 2 2 2 2 2 2 ...\n",
       "    sbe35                   (pressure) float64 29.13 29.14 29.08 27.54 25.71 ...\n",
       "    sbe35_QC                (pressure) int16 2 2 2 3 2 2 3 2 2 2 2 2 2 2 2 2 ...\n",
       "    reference_salinity      (pressure) float64 35.82 35.83 35.89 36.02 36.34 ...\n",
       "    reference_salinity_QC   (pressure) int16 2 2 2 2 2 2 2 2 2 2 2 6 2 2 9 2 ...\n",
       "    woce_date               (time) int32 20150411\n",
       "    woce_time               (time) int16 550\n",
       "    station                 |S40 '1                                       '\n",
       "    cast                    |S40 '1                                       '\n",
       "Attributes:\n",
       "    EXPOCODE: 33RO20150410\n",
       "    Conventions: COARDS/WOCE\n",
       "    WOCE_VERSION: 3.0\n",
       "    WOCE_ID: P16N.1\n",
       "    DATA_TYPE: WOCE Bottle\n",
       "    STATION_NUMBER: 1\n",
       "    CAST_NUMBER: 1\n",
       "    BOTTOM_DEPTH_METERS: 4283\n",
       "    Creation_Time: 2016-02-20T20:57:11.203046Z\n",
       "    ORIGINAL_HEADER: BOTTLE,20160217PRINUNIVRMK\n",
       "# 2/15/16 Initialized README file  \n",
       "# Data source: CCHDO \n",
       "# SHIP: R/V Ron BrownCruise:  \n",
       "# Region: NE Pacific, Leg 1 of P16N (A.K.A. P16C) \n",
       "# EXPOCODE: 33RO20150410 \n",
       "# DATES: 20150410 - 20150513 \n",
       "# Chief Scientist: Jessica Cross, Samantha Siedlecki \n",
       "# 112 stations with 24 place Rosette \n",
       "# Hydro: Who - G.Johnson, M.Baringer; Status - final \n",
       "# \tNotes: \t \n",
       "# Nutrients: Who - C.Mordy; Status - final \n",
       "# \tNotes: Final data from E.Wisgarver via CCHDO Jan 7, 2016 \n",
       "# O2: Who ...\n",
       "    BOTTLE_NUMBERS: 24 23 22 21 20 19 18 17 16 15 14 13 12 11 10 9 8 7 6 5 4 3 2 1\n",
       "    BOTTLE_QUALITY_CODES: [2 2 2 2 2 2 2 2 3 2 2 2 2 2 2 2 2 2 2 2 2 2 2 2]\n",
       "    WOCE_BOTTLE_FLAG_DESCRIPTION: ::1 = Bottle information unavailable.:2 = No problems noted.:3 = Leaking.:4 = Did not trip correctly.:5 = Not reported.:6 = Significant discrepancy in measured values between Gerard and Niskin bottles.:7 = Unknown problem.:8 = Pair did not trip correctly. Note that the Niskin bottle can trip at an unplanned depth while the Gerard trips correctly and vice versa.:9 = Samples not drawn from this bottle.:\n",
       "\n",
       "    WOCE_WATER_SAMPLE_FLAG_DESCRIPTION: ::1 = Sample for this measurement was drawn from water bottle but analysis not received.:2 = Acceptable measurement.:3 = Questionable measurement.:4 = Bad measurement.:5 = Not reported.:6 = Mean of replicate measurements.:7 = Manual chromatographic peak measurement.:8 = Irregular digital chromatographic peak integration.:9 = Sample not drawn for this measurement from this bottle.:"
      ]
     },
     "execution_count": 29,
     "metadata": {},
     "output_type": "execute_result"
    }
   ],
   "source": [
    "ds"
   ]
  },
  {
   "cell_type": "code",
   "execution_count": 31,
   "metadata": {
    "collapsed": false
   },
   "outputs": [],
   "source": [
    "DAT = ds.time.values[0]"
   ]
  },
  {
   "cell_type": "code",
   "execution_count": 32,
   "metadata": {
    "collapsed": false
   },
   "outputs": [],
   "source": [
    "LAT = ds.latitude.values[0]"
   ]
  },
  {
   "cell_type": "code",
   "execution_count": 33,
   "metadata": {
    "collapsed": false
   },
   "outputs": [],
   "source": [
    "LON = ds.longitude.values[0]"
   ]
  },
  {
   "cell_type": "code",
   "execution_count": null,
   "metadata": {
    "collapsed": false
   },
   "outputs": [],
   "source": []
  },
  {
   "cell_type": "code",
   "execution_count": null,
   "metadata": {
    "collapsed": true
   },
   "outputs": [],
   "source": []
  }
 ],
 "metadata": {
  "kernelspec": {
   "display_name": "Python 2.7",
   "language": "python",
   "name": "python2"
  },
  "language_info": {
   "codemirror_mode": {
    "name": "ipython",
    "version": 2
   },
   "file_extension": ".py",
   "mimetype": "text/x-python",
   "name": "python",
   "nbconvert_exporter": "python",
   "pygments_lexer": "ipython2",
   "version": "2.7.11"
  }
 },
 "nbformat": 4,
 "nbformat_minor": 0
}
