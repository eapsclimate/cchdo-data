{
 "cells": [
  {
   "cell_type": "markdown",
   "metadata": {},
   "source": [
    "## PyMongo"
   ]
  },
  {
   "cell_type": "code",
   "execution_count": 1,
   "metadata": {
    "collapsed": true
   },
   "outputs": [],
   "source": [
    "from pymongo import MongoClient\n",
    "import pymongo"
   ]
  },
  {
   "cell_type": "code",
   "execution_count": 2,
   "metadata": {
    "collapsed": true
   },
   "outputs": [],
   "source": [
    "client = MongoClient()"
   ]
  },
  {
   "cell_type": "code",
   "execution_count": 3,
   "metadata": {
    "collapsed": false
   },
   "outputs": [
    {
     "data": {
      "text/plain": [
       "[u'eddies', u'local']"
      ]
     },
     "execution_count": 3,
     "metadata": {},
     "output_type": "execute_result"
    }
   ],
   "source": [
    "client.database_names()"
   ]
  },
  {
   "cell_type": "code",
   "execution_count": 4,
   "metadata": {
    "collapsed": true
   },
   "outputs": [],
   "source": [
    "db = client.eddies"
   ]
  },
  {
   "cell_type": "code",
   "execution_count": 5,
   "metadata": {
    "collapsed": false
   },
   "outputs": [
    {
     "data": {
      "text/plain": [
       "[u'ssh_hyd',\n",
       " u'rcs_cchdo',\n",
       " u'rcs_eddies',\n",
       " u'ssh_ctd',\n",
       " u'rcs_hyd',\n",
       " u'rcs_ctd',\n",
       " u'ssh_eddies',\n",
       " u'ssh_cchdo']"
      ]
     },
     "execution_count": 5,
     "metadata": {},
     "output_type": "execute_result"
    }
   ],
   "source": [
    "db.collection_names()"
   ]
  },
  {
   "cell_type": "markdown",
   "metadata": {},
   "source": [
    "### RCS"
   ]
  },
  {
   "cell_type": "markdown",
   "metadata": {},
   "source": [
    "__Collections__"
   ]
  },
  {
   "cell_type": "code",
   "execution_count": 6,
   "metadata": {
    "collapsed": false
   },
   "outputs": [],
   "source": [
    "rcs_eddies = db.rcs_eddies\n",
    "rcs_cchdo = db.rcs_cchdo\n",
    "rcs_ctd = db.rcs_ctd\n",
    "rcs_hyd = db.rcs_hyd"
   ]
  },
  {
   "cell_type": "markdown",
   "metadata": {},
   "source": [
    "__Counts__"
   ]
  },
  {
   "cell_type": "code",
   "execution_count": 7,
   "metadata": {
    "collapsed": false
   },
   "outputs": [
    {
     "data": {
      "text/plain": [
       "50117"
      ]
     },
     "execution_count": 7,
     "metadata": {},
     "output_type": "execute_result"
    }
   ],
   "source": [
    "rcs_eddies.find().count()"
   ]
  },
  {
   "cell_type": "code",
   "execution_count": 8,
   "metadata": {
    "collapsed": false
   },
   "outputs": [
    {
     "data": {
      "text/plain": [
       "1628927"
      ]
     },
     "execution_count": 8,
     "metadata": {},
     "output_type": "execute_result"
    }
   ],
   "source": [
    "rcs_cchdo.find().count()"
   ]
  },
  {
   "cell_type": "code",
   "execution_count": 9,
   "metadata": {
    "collapsed": false
   },
   "outputs": [
    {
     "data": {
      "text/plain": [
       "5353"
      ]
     },
     "execution_count": 9,
     "metadata": {},
     "output_type": "execute_result"
    }
   ],
   "source": [
    "rcs_ctd.find().count()"
   ]
  },
  {
   "cell_type": "code",
   "execution_count": 10,
   "metadata": {
    "collapsed": false
   },
   "outputs": [
    {
     "data": {
      "text/plain": [
       "5289"
      ]
     },
     "execution_count": 10,
     "metadata": {},
     "output_type": "execute_result"
    }
   ],
   "source": [
    "rcs_hyd.find().count()"
   ]
  },
  {
   "cell_type": "markdown",
   "metadata": {},
   "source": [
    "__Indexes__"
   ]
  },
  {
   "cell_type": "code",
   "execution_count": 11,
   "metadata": {
    "collapsed": false
   },
   "outputs": [
    {
     "data": {
      "text/plain": [
       "{u'_id_': {u'key': [(u'_id', 1)], u'ns': u'eddies.rcs_cchdo', u'v': 1},\n",
       " u'dat_1': {u'key': [(u'dat', 1)], u'ns': u'eddies.rcs_cchdo', u'v': 1}}"
      ]
     },
     "execution_count": 11,
     "metadata": {},
     "output_type": "execute_result"
    }
   ],
   "source": [
    "rcs_cchdo.index_information()"
   ]
  },
  {
   "cell_type": "code",
   "execution_count": 12,
   "metadata": {
    "collapsed": false
   },
   "outputs": [],
   "source": [
    "# rcs_cchdo.drop_indexes()"
   ]
  },
  {
   "cell_type": "markdown",
   "metadata": {},
   "source": [
    "__Examples__"
   ]
  },
  {
   "cell_type": "code",
   "execution_count": 13,
   "metadata": {
    "collapsed": false
   },
   "outputs": [
    {
     "data": {
      "text/plain": [
       "{u'_id': ObjectId('5807b8c12895ee2494bbc8f0'),\n",
       " u'dat': datetime.datetime(1993, 4, 1, 0, 0),\n",
       " u'eid': u'traj_0090-0180_0001089991-1',\n",
       " u'loc': [192.1953125, -58.703125]}"
      ]
     },
     "execution_count": 13,
     "metadata": {},
     "output_type": "execute_result"
    }
   ],
   "source": [
    "rcs_cchdo.find_one()"
   ]
  },
  {
   "cell_type": "code",
   "execution_count": 14,
   "metadata": {
    "collapsed": false
   },
   "outputs": [
    {
     "data": {
      "text/plain": [
       "{u'EDDYCODE': u'traj_2910-2940_0005266326-1',\n",
       " u'EXPOCODE': u'33KI121_1',\n",
       " u'FILEPATH': u'/home/cz2397/data/cchdo-ctd/12_33KI121_1_nc_ctd/prs2_00002_00008_ctd.nc',\n",
       " u'_id': ObjectId('5807bd792895ee637f421686'),\n",
       " u'eddy_cat': u'RCS',\n",
       " u'eddy_dat': datetime.datetime(2000, 12, 20, 0, 0),\n",
       " u'eddy_loc': [202.6640625, 22.859375],\n",
       " u'expo_cas': u'8',\n",
       " u'expo_cat': u'CTD',\n",
       " u'expo_dat': datetime.datetime(2000, 12, 20, 8, 57),\n",
       " u'expo_loc': [201.9915, 22.7545],\n",
       " u'expo_sta': u'2'}"
      ]
     },
     "execution_count": 14,
     "metadata": {},
     "output_type": "execute_result"
    }
   ],
   "source": [
    "rcs_ctd.find_one()"
   ]
  },
  {
   "cell_type": "code",
   "execution_count": 15,
   "metadata": {
    "collapsed": false
   },
   "outputs": [
    {
     "data": {
      "text/plain": [
       "{u'EDDYCODE': u'traj_0240-0270_0005199082-12',\n",
       " u'EXPOCODE': u'32MW049_1',\n",
       " u'FILEPATH': u'/home/cz2397/data/cchdo-hyd/73_32MW049_1_nc_hyd/hot049_00001_00001_hy1.nc',\n",
       " u'_id': ObjectId('5807bdbd2895ee293da1db4c'),\n",
       " u'eddy_cat': u'RCS',\n",
       " u'eddy_dat': datetime.datetime(1993, 9, 9, 0, 0),\n",
       " u'eddy_loc': [201.11196899414062, 21.346900939941406],\n",
       " u'expo_cas': u'  1',\n",
       " u'expo_cat': u'HYD',\n",
       " u'expo_dat': datetime.datetime(1993, 9, 12, 21, 40),\n",
       " u'expo_loc': [201.7247, 21.3483],\n",
       " u'expo_sta': u'     1'}"
      ]
     },
     "execution_count": 15,
     "metadata": {},
     "output_type": "execute_result"
    }
   ],
   "source": [
    "rcs_hyd.find_one()"
   ]
  },
  {
   "cell_type": "markdown",
   "metadata": {},
   "source": [
    "__Drops__"
   ]
  },
  {
   "cell_type": "code",
   "execution_count": 16,
   "metadata": {
    "collapsed": true
   },
   "outputs": [],
   "source": [
    "# rcs_cchdo.drop()\n",
    "# rcs_ctd.drop()\n",
    "# rcs_hyd.drop()"
   ]
  },
  {
   "cell_type": "markdown",
   "metadata": {},
   "source": [
    "### SSH"
   ]
  },
  {
   "cell_type": "markdown",
   "metadata": {},
   "source": [
    "__Collections__"
   ]
  },
  {
   "cell_type": "code",
   "execution_count": 17,
   "metadata": {
    "collapsed": true
   },
   "outputs": [],
   "source": [
    "ssh_eddies = db.ssh_eddies\n",
    "ssh_cchdo = db.ssh_cchdo\n",
    "ssh_ctd = db.ssh_ctd\n",
    "ssh_hyd = db.ssh_hyd"
   ]
  },
  {
   "cell_type": "markdown",
   "metadata": {},
   "source": [
    "__Counts__"
   ]
  },
  {
   "cell_type": "code",
   "execution_count": 18,
   "metadata": {
    "collapsed": false
   },
   "outputs": [
    {
     "data": {
      "text/plain": [
       "215184"
      ]
     },
     "execution_count": 18,
     "metadata": {},
     "output_type": "execute_result"
    }
   ],
   "source": [
    "ssh_eddies.find().count()"
   ]
  },
  {
   "cell_type": "code",
   "execution_count": 19,
   "metadata": {
    "collapsed": false
   },
   "outputs": [
    {
     "data": {
      "text/plain": [
       "2590938"
      ]
     },
     "execution_count": 19,
     "metadata": {},
     "output_type": "execute_result"
    }
   ],
   "source": [
    "ssh_cchdo.find().count()"
   ]
  },
  {
   "cell_type": "code",
   "execution_count": 20,
   "metadata": {
    "collapsed": false
   },
   "outputs": [
    {
     "data": {
      "text/plain": [
       "6250"
      ]
     },
     "execution_count": 20,
     "metadata": {},
     "output_type": "execute_result"
    }
   ],
   "source": [
    "ssh_ctd.find().count()"
   ]
  },
  {
   "cell_type": "code",
   "execution_count": 21,
   "metadata": {
    "collapsed": false
   },
   "outputs": [
    {
     "data": {
      "text/plain": [
       "7322"
      ]
     },
     "execution_count": 21,
     "metadata": {},
     "output_type": "execute_result"
    }
   ],
   "source": [
    "ssh_hyd.find().count()"
   ]
  },
  {
   "cell_type": "markdown",
   "metadata": {},
   "source": [
    "__Indexes__"
   ]
  },
  {
   "cell_type": "code",
   "execution_count": 22,
   "metadata": {
    "collapsed": false
   },
   "outputs": [
    {
     "data": {
      "text/plain": [
       "{u'_id_': {u'key': [(u'_id', 1)], u'ns': u'eddies.ssh_cchdo', u'v': 1},\n",
       " u'dat_1': {u'key': [(u'dat', 1)], u'ns': u'eddies.ssh_cchdo', u'v': 1}}"
      ]
     },
     "execution_count": 22,
     "metadata": {},
     "output_type": "execute_result"
    }
   ],
   "source": [
    "ssh_cchdo.index_information()"
   ]
  },
  {
   "cell_type": "code",
   "execution_count": 23,
   "metadata": {
    "collapsed": true
   },
   "outputs": [],
   "source": [
    "# ssh_cchdo.drop_indexes()"
   ]
  },
  {
   "cell_type": "markdown",
   "metadata": {},
   "source": [
    "__Examples__"
   ]
  },
  {
   "cell_type": "code",
   "execution_count": 24,
   "metadata": {
    "collapsed": false
   },
   "outputs": [
    {
     "data": {
      "text/plain": [
       "{u'_id': ObjectId('5807b9de2895ee0c4fbeb7b9'),\n",
       " u'dat': datetime.datetime(1992, 10, 14, 12, 0),\n",
       " u'eid': u'1-1',\n",
       " u'loc': [276.739990234375, -65.0010986328125]}"
      ]
     },
     "execution_count": 24,
     "metadata": {},
     "output_type": "execute_result"
    }
   ],
   "source": [
    "ssh_cchdo.find_one()"
   ]
  },
  {
   "cell_type": "code",
   "execution_count": 25,
   "metadata": {
    "collapsed": false
   },
   "outputs": [
    {
     "data": {
      "text/plain": [
       "{u'EDDYCODE': u'91268-20',\n",
       " u'EXPOCODE': u'33H420090223',\n",
       " u'FILEPATH': u'/home/cz2397/data/cchdo-ctd/bats-ars20_61125_00001_ctd.nc',\n",
       " u'_id': ObjectId('5807bdcb2895ee26e3109e90'),\n",
       " u'eddy_cat': u'SSH',\n",
       " u'eddy_dat': datetime.datetime(2009, 2, 25, 12, 0),\n",
       " u'eddy_loc': [295.6719970703125, 31.322399139404297],\n",
       " u'expo_cas': u'001',\n",
       " u'expo_cat': u'CTD',\n",
       " u'expo_dat': datetime.datetime(2009, 2, 23, 5, 32),\n",
       " u'expo_loc': [295.495, 32.165],\n",
       " u'expo_sta': u'61125'}"
      ]
     },
     "execution_count": 25,
     "metadata": {},
     "output_type": "execute_result"
    }
   ],
   "source": [
    "ssh_ctd.find_one()"
   ]
  },
  {
   "cell_type": "code",
   "execution_count": 26,
   "metadata": {
    "collapsed": false
   },
   "outputs": [
    {
     "data": {
      "text/plain": [
       "{u'EDDYCODE': u'183912-13',\n",
       " u'EXPOCODE': u'06MT20060712',\n",
       " u'FILEPATH': u'/home/cz2397/data/cchdo-hyd/257_06MT20060712_nc_hyd/06MT20060712_00264_00020_hy1.nc',\n",
       " u'_id': ObjectId('5807bddd2895ee24a397b176'),\n",
       " u'eddy_cat': u'SSH',\n",
       " u'eddy_dat': datetime.datetime(2006, 7, 12, 12, 0),\n",
       " u'eddy_loc': [337.4830017089844, 18.848100662231445],\n",
       " u'expo_cas': u'20',\n",
       " u'expo_cat': u'HYD',\n",
       " u'expo_dat': datetime.datetime(2006, 7, 16, 0, 0),\n",
       " u'expo_loc': [337.0, 18.0],\n",
       " u'expo_sta': u'264'}"
      ]
     },
     "execution_count": 26,
     "metadata": {},
     "output_type": "execute_result"
    }
   ],
   "source": [
    "ssh_hyd.find_one()"
   ]
  },
  {
   "cell_type": "markdown",
   "metadata": {},
   "source": [
    "__Drops__"
   ]
  },
  {
   "cell_type": "code",
   "execution_count": 27,
   "metadata": {
    "collapsed": false
   },
   "outputs": [],
   "source": [
    "# ssh_cchdo.drop()\n",
    "# ssh_ctd.drop()\n",
    "# ssh_hyd.drop()"
   ]
  }
 ],
 "metadata": {
  "kernelspec": {
   "display_name": "Python 2.7",
   "language": "python",
   "name": "python2"
  },
  "language_info": {
   "codemirror_mode": {
    "name": "ipython",
    "version": 2
   },
   "file_extension": ".py",
   "mimetype": "text/x-python",
   "name": "python",
   "nbconvert_exporter": "python",
   "pygments_lexer": "ipython2",
   "version": "2.7.11"
  }
 },
 "nbformat": 4,
 "nbformat_minor": 0
}
