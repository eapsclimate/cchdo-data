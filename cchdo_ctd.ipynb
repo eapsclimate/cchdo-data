{
 "cells": [
  {
   "cell_type": "markdown",
   "metadata": {},
   "source": [
    "### packages"
   ]
  },
  {
   "cell_type": "code",
   "execution_count": 12,
   "metadata": {
    "collapsed": false
   },
   "outputs": [],
   "source": [
    "import matplotlib.pyplot as plt\n",
    "import seaborn as sns\n",
    "import xarray as xr"
   ]
  },
  {
   "cell_type": "code",
   "execution_count": 13,
   "metadata": {
    "collapsed": true
   },
   "outputs": [],
   "source": [
    "%matplotlib inline"
   ]
  },
  {
   "cell_type": "markdown",
   "metadata": {
    "collapsed": true
   },
   "source": [
    "### data"
   ]
  },
  {
   "cell_type": "code",
   "execution_count": 15,
   "metadata": {
    "collapsed": false
   },
   "outputs": [],
   "source": [
    "ds = xr.open_dataset\\\n",
    "('/home/cz2397/repositories/cchdo-data/cchdo_33HQ20150809/33HQ20150809_nc_ctd/33HQ20150809_00001_00002_ctd.nc')"
   ]
  },
  {
   "cell_type": "code",
   "execution_count": 16,
   "metadata": {
    "collapsed": false
   },
   "outputs": [
    {
     "data": {
      "text/plain": [
       "<xarray.Dataset>\n",
       "Dimensions:         (latitude: 1, longitude: 1, pressure: 744, time: 1)\n",
       "Coordinates:\n",
       "  * pressure        (pressure) float64 0.0 1.0 2.0 3.0 4.0 5.0 6.0 7.0 8.0 ...\n",
       "  * time            (time) datetime64[ns] 2015-08-12T18:13:00\n",
       "  * latitude        (latitude) float32 60.252\n",
       "  * longitude       (longitude) float32 -179.066\n",
       "Data variables:\n",
       "    pressure_QC     (pressure) int16 2 2 2 2 2 2 2 2 2 2 2 2 2 2 2 2 2 2 2 2 ...\n",
       "    temperature     (pressure) float64 9.659 9.659 9.658 9.658 9.658 9.656 ...\n",
       "    temperature_QC  (pressure) int16 2 2 2 2 2 2 2 2 2 2 2 2 2 2 2 2 2 2 2 2 ...\n",
       "    salinity        (pressure) float64 32.92 32.92 32.92 32.92 32.92 32.92 ...\n",
       "    salinity_QC     (pressure) int16 2 2 2 2 2 2 2 2 2 2 2 2 2 2 2 2 2 2 2 2 ...\n",
       "    oxygen          (pressure) float64 290.0 289.8 289.5 289.3 289.0 289.1 ...\n",
       "    oxygen_QC       (pressure) int16 2 2 2 2 2 2 2 2 2 2 2 2 2 2 2 2 2 2 2 2 ...\n",
       "    XMISS           (pressure) float64 nan nan nan nan nan nan nan nan nan ...\n",
       "    XMISS_QC        (pressure) int16 9 9 9 9 9 9 9 9 9 9 9 9 9 9 9 9 9 9 9 9 ...\n",
       "    FLUOR           (pressure) float64 0.088 0.086 0.084 0.082 0.081 0.084 ...\n",
       "    FLUOR_QC        (pressure) int16 1 1 1 1 1 1 1 1 1 1 1 1 1 1 1 1 1 1 1 1 ...\n",
       "    CDOMF           (pressure) float64 nan nan nan nan nan nan nan nan nan ...\n",
       "    CDOMF_QC        (pressure) int16 9 9 9 9 9 9 9 9 9 9 9 9 9 9 9 9 9 9 9 9 ...\n",
       "    par             (pressure) float64 3.134 3.062 2.99 2.917 2.845 2.781 ...\n",
       "    par_QC          (pressure) int16 1 1 1 1 1 1 1 1 1 1 1 1 1 1 1 1 1 1 1 1 ...\n",
       "    CTDNOBS         (pressure) float64 1.0 1.0 1.0 12.0 24.0 72.0 84.0 60.0 ...\n",
       "    CTDETIME        (pressure) float64 520.2 521.0 521.8 522.5 523.2 525.2 ...\n",
       "    woce_date       (time) int32 20150812\n",
       "    woce_time       (time) int16 1813\n",
       "    station         |S40 '1                                       '\n",
       "    cast            |S40 '2                                       '\n",
       "Attributes:\n",
       "    EXPOCODE: 33HQ20150809\n",
       "    Conventions: COARDS/WOCE\n",
       "    WOCE_VERSION: 3.0\n",
       "    WOCE_ID: ARC01\n",
       "    DATA_TYPE: WOCE CTD\n",
       "    STATION_NUMBER: 1\n",
       "    CAST_NUMBER: 2\n",
       "    BOTTOM_DEPTH_METERS: 750\n",
       "    Creation_Time: 2016-03-10T14:32:30.020997Z\n",
       "    ORIGINAL_HEADER: CTD,20160310CCHSIOSEE\n",
       "# LATITUDE_UNITS = degrees_North; unknown reference location\n",
       "# LONGITUDE_UNITS = degrees_East; unknown reference location\n",
       "# TIME_UNITS = HHMM, UTC; unknown time-zone reference; unknown positon in water column during cast\n",
       "# DATE_UNITS: YYYYMMDD; unknown time-zone reference;  unknown positon in water column during cast\n",
       "# FLUOR: renamed parameter from FLUORM to FLUOR.\n",
       "# XMISS: renamed parameter from TRANSM to XMISS.\n",
       "# CDOMF: renamed parameter from CDOMFL to CDOMF.\n",
       "# DEPTH: ...\n",
       "    WOCE_CTD_FLAG_DESCRIPTION: ::1 = Not calibrated:2 = Acceptable measurement:3 = Questionable measurement:4 = Bad measurement:5 = Not reported:6 = Interpolated over >2 dbar interval:7 = Despiked:8 = Not assigned for CTD data:9 = Not sampled:"
      ]
     },
     "execution_count": 16,
     "metadata": {},
     "output_type": "execute_result"
    }
   ],
   "source": [
    "ds"
   ]
  },
  {
   "cell_type": "code",
   "execution_count": 17,
   "metadata": {
    "collapsed": false
   },
   "outputs": [],
   "source": [
    "df = ds.to_dataframe()"
   ]
  },
  {
   "cell_type": "code",
   "execution_count": 19,
   "metadata": {
    "collapsed": false
   },
   "outputs": [
    {
     "data": {
      "text/html": [
       "<div>\n",
       "<table border=\"1\" class=\"dataframe\">\n",
       "  <thead>\n",
       "    <tr style=\"text-align: right;\">\n",
       "      <th></th>\n",
       "      <th></th>\n",
       "      <th></th>\n",
       "      <th></th>\n",
       "      <th>pressure_QC</th>\n",
       "      <th>temperature</th>\n",
       "      <th>temperature_QC</th>\n",
       "      <th>salinity</th>\n",
       "      <th>salinity_QC</th>\n",
       "      <th>oxygen</th>\n",
       "      <th>oxygen_QC</th>\n",
       "      <th>XMISS</th>\n",
       "      <th>XMISS_QC</th>\n",
       "      <th>FLUOR</th>\n",
       "      <th>...</th>\n",
       "      <th>CDOMF</th>\n",
       "      <th>CDOMF_QC</th>\n",
       "      <th>par</th>\n",
       "      <th>par_QC</th>\n",
       "      <th>CTDNOBS</th>\n",
       "      <th>CTDETIME</th>\n",
       "      <th>woce_date</th>\n",
       "      <th>woce_time</th>\n",
       "      <th>station</th>\n",
       "      <th>cast</th>\n",
       "    </tr>\n",
       "    <tr>\n",
       "      <th>latitude</th>\n",
       "      <th>longitude</th>\n",
       "      <th>pressure</th>\n",
       "      <th>time</th>\n",
       "      <th></th>\n",
       "      <th></th>\n",
       "      <th></th>\n",
       "      <th></th>\n",
       "      <th></th>\n",
       "      <th></th>\n",
       "      <th></th>\n",
       "      <th></th>\n",
       "      <th></th>\n",
       "      <th></th>\n",
       "      <th></th>\n",
       "      <th></th>\n",
       "      <th></th>\n",
       "      <th></th>\n",
       "      <th></th>\n",
       "      <th></th>\n",
       "      <th></th>\n",
       "      <th></th>\n",
       "      <th></th>\n",
       "      <th></th>\n",
       "      <th></th>\n",
       "    </tr>\n",
       "  </thead>\n",
       "  <tbody>\n",
       "    <tr>\n",
       "      <th rowspan=\"5\" valign=\"top\">60.251999</th>\n",
       "      <th rowspan=\"5\" valign=\"top\">-179.065506</th>\n",
       "      <th>0</th>\n",
       "      <th>2015-08-12 18:13:00</th>\n",
       "      <td>2</td>\n",
       "      <td>9.6592</td>\n",
       "      <td>2</td>\n",
       "      <td>32.9165</td>\n",
       "      <td>2</td>\n",
       "      <td>290.0</td>\n",
       "      <td>2</td>\n",
       "      <td>NaN</td>\n",
       "      <td>9</td>\n",
       "      <td>0.088</td>\n",
       "      <td>...</td>\n",
       "      <td>NaN</td>\n",
       "      <td>9</td>\n",
       "      <td>3.1341</td>\n",
       "      <td>1</td>\n",
       "      <td>1</td>\n",
       "      <td>520.2</td>\n",
       "      <td>20150812</td>\n",
       "      <td>1813</td>\n",
       "      <td>1</td>\n",
       "      <td>2</td>\n",
       "    </tr>\n",
       "    <tr>\n",
       "      <th>1</th>\n",
       "      <th>2015-08-12 18:13:00</th>\n",
       "      <td>2</td>\n",
       "      <td>9.6588</td>\n",
       "      <td>2</td>\n",
       "      <td>32.9165</td>\n",
       "      <td>2</td>\n",
       "      <td>289.8</td>\n",
       "      <td>2</td>\n",
       "      <td>NaN</td>\n",
       "      <td>9</td>\n",
       "      <td>0.086</td>\n",
       "      <td>...</td>\n",
       "      <td>NaN</td>\n",
       "      <td>9</td>\n",
       "      <td>3.0619</td>\n",
       "      <td>1</td>\n",
       "      <td>1</td>\n",
       "      <td>521.0</td>\n",
       "      <td>20150812</td>\n",
       "      <td>1813</td>\n",
       "      <td>1</td>\n",
       "      <td>2</td>\n",
       "    </tr>\n",
       "    <tr>\n",
       "      <th>2</th>\n",
       "      <th>2015-08-12 18:13:00</th>\n",
       "      <td>2</td>\n",
       "      <td>9.6584</td>\n",
       "      <td>2</td>\n",
       "      <td>32.9165</td>\n",
       "      <td>2</td>\n",
       "      <td>289.5</td>\n",
       "      <td>2</td>\n",
       "      <td>NaN</td>\n",
       "      <td>9</td>\n",
       "      <td>0.084</td>\n",
       "      <td>...</td>\n",
       "      <td>NaN</td>\n",
       "      <td>9</td>\n",
       "      <td>2.9896</td>\n",
       "      <td>1</td>\n",
       "      <td>1</td>\n",
       "      <td>521.8</td>\n",
       "      <td>20150812</td>\n",
       "      <td>1813</td>\n",
       "      <td>1</td>\n",
       "      <td>2</td>\n",
       "    </tr>\n",
       "    <tr>\n",
       "      <th>3</th>\n",
       "      <th>2015-08-12 18:13:00</th>\n",
       "      <td>2</td>\n",
       "      <td>9.6580</td>\n",
       "      <td>2</td>\n",
       "      <td>32.9165</td>\n",
       "      <td>2</td>\n",
       "      <td>289.3</td>\n",
       "      <td>2</td>\n",
       "      <td>NaN</td>\n",
       "      <td>9</td>\n",
       "      <td>0.082</td>\n",
       "      <td>...</td>\n",
       "      <td>NaN</td>\n",
       "      <td>9</td>\n",
       "      <td>2.9174</td>\n",
       "      <td>1</td>\n",
       "      <td>12</td>\n",
       "      <td>522.5</td>\n",
       "      <td>20150812</td>\n",
       "      <td>1813</td>\n",
       "      <td>1</td>\n",
       "      <td>2</td>\n",
       "    </tr>\n",
       "    <tr>\n",
       "      <th>4</th>\n",
       "      <th>2015-08-12 18:13:00</th>\n",
       "      <td>2</td>\n",
       "      <td>9.6575</td>\n",
       "      <td>2</td>\n",
       "      <td>32.9166</td>\n",
       "      <td>2</td>\n",
       "      <td>289.0</td>\n",
       "      <td>2</td>\n",
       "      <td>NaN</td>\n",
       "      <td>9</td>\n",
       "      <td>0.081</td>\n",
       "      <td>...</td>\n",
       "      <td>NaN</td>\n",
       "      <td>9</td>\n",
       "      <td>2.8451</td>\n",
       "      <td>1</td>\n",
       "      <td>24</td>\n",
       "      <td>523.2</td>\n",
       "      <td>20150812</td>\n",
       "      <td>1813</td>\n",
       "      <td>1</td>\n",
       "      <td>2</td>\n",
       "    </tr>\n",
       "  </tbody>\n",
       "</table>\n",
       "<p>5 rows × 21 columns</p>\n",
       "</div>"
      ],
      "text/plain": [
       "                                                    pressure_QC  temperature  \\\n",
       "latitude  longitude   pressure time                                            \n",
       "60.251999 -179.065506 0        2015-08-12 18:13:00            2       9.6592   \n",
       "                      1        2015-08-12 18:13:00            2       9.6588   \n",
       "                      2        2015-08-12 18:13:00            2       9.6584   \n",
       "                      3        2015-08-12 18:13:00            2       9.6580   \n",
       "                      4        2015-08-12 18:13:00            2       9.6575   \n",
       "\n",
       "                                                    temperature_QC  salinity  \\\n",
       "latitude  longitude   pressure time                                            \n",
       "60.251999 -179.065506 0        2015-08-12 18:13:00               2   32.9165   \n",
       "                      1        2015-08-12 18:13:00               2   32.9165   \n",
       "                      2        2015-08-12 18:13:00               2   32.9165   \n",
       "                      3        2015-08-12 18:13:00               2   32.9165   \n",
       "                      4        2015-08-12 18:13:00               2   32.9166   \n",
       "\n",
       "                                                    salinity_QC  oxygen  \\\n",
       "latitude  longitude   pressure time                                       \n",
       "60.251999 -179.065506 0        2015-08-12 18:13:00            2   290.0   \n",
       "                      1        2015-08-12 18:13:00            2   289.8   \n",
       "                      2        2015-08-12 18:13:00            2   289.5   \n",
       "                      3        2015-08-12 18:13:00            2   289.3   \n",
       "                      4        2015-08-12 18:13:00            2   289.0   \n",
       "\n",
       "                                                    oxygen_QC  XMISS  \\\n",
       "latitude  longitude   pressure time                                    \n",
       "60.251999 -179.065506 0        2015-08-12 18:13:00          2    NaN   \n",
       "                      1        2015-08-12 18:13:00          2    NaN   \n",
       "                      2        2015-08-12 18:13:00          2    NaN   \n",
       "                      3        2015-08-12 18:13:00          2    NaN   \n",
       "                      4        2015-08-12 18:13:00          2    NaN   \n",
       "\n",
       "                                                    XMISS_QC  FLUOR  \\\n",
       "latitude  longitude   pressure time                                   \n",
       "60.251999 -179.065506 0        2015-08-12 18:13:00         9  0.088   \n",
       "                      1        2015-08-12 18:13:00         9  0.086   \n",
       "                      2        2015-08-12 18:13:00         9  0.084   \n",
       "                      3        2015-08-12 18:13:00         9  0.082   \n",
       "                      4        2015-08-12 18:13:00         9  0.081   \n",
       "\n",
       "                                                                      ...                     \\\n",
       "latitude  longitude   pressure time                                   ...                      \n",
       "60.251999 -179.065506 0        2015-08-12 18:13:00                    ...                      \n",
       "                      1        2015-08-12 18:13:00                    ...                      \n",
       "                      2        2015-08-12 18:13:00                    ...                      \n",
       "                      3        2015-08-12 18:13:00                    ...                      \n",
       "                      4        2015-08-12 18:13:00                    ...                      \n",
       "\n",
       "                                                    CDOMF  CDOMF_QC     par  \\\n",
       "latitude  longitude   pressure time                                           \n",
       "60.251999 -179.065506 0        2015-08-12 18:13:00    NaN         9  3.1341   \n",
       "                      1        2015-08-12 18:13:00    NaN         9  3.0619   \n",
       "                      2        2015-08-12 18:13:00    NaN         9  2.9896   \n",
       "                      3        2015-08-12 18:13:00    NaN         9  2.9174   \n",
       "                      4        2015-08-12 18:13:00    NaN         9  2.8451   \n",
       "\n",
       "                                                    par_QC  CTDNOBS  CTDETIME  \\\n",
       "latitude  longitude   pressure time                                             \n",
       "60.251999 -179.065506 0        2015-08-12 18:13:00       1        1     520.2   \n",
       "                      1        2015-08-12 18:13:00       1        1     521.0   \n",
       "                      2        2015-08-12 18:13:00       1        1     521.8   \n",
       "                      3        2015-08-12 18:13:00       1       12     522.5   \n",
       "                      4        2015-08-12 18:13:00       1       24     523.2   \n",
       "\n",
       "                                                    woce_date  woce_time  \\\n",
       "latitude  longitude   pressure time                                        \n",
       "60.251999 -179.065506 0        2015-08-12 18:13:00   20150812       1813   \n",
       "                      1        2015-08-12 18:13:00   20150812       1813   \n",
       "                      2        2015-08-12 18:13:00   20150812       1813   \n",
       "                      3        2015-08-12 18:13:00   20150812       1813   \n",
       "                      4        2015-08-12 18:13:00   20150812       1813   \n",
       "\n",
       "                                                                                     station  \\\n",
       "latitude  longitude   pressure time                                                            \n",
       "60.251999 -179.065506 0        2015-08-12 18:13:00  1                                          \n",
       "                      1        2015-08-12 18:13:00  1                                          \n",
       "                      2        2015-08-12 18:13:00  1                                          \n",
       "                      3        2015-08-12 18:13:00  1                                          \n",
       "                      4        2015-08-12 18:13:00  1                                          \n",
       "\n",
       "                                                                                        cast  \n",
       "latitude  longitude   pressure time                                                           \n",
       "60.251999 -179.065506 0        2015-08-12 18:13:00  2                                         \n",
       "                      1        2015-08-12 18:13:00  2                                         \n",
       "                      2        2015-08-12 18:13:00  2                                         \n",
       "                      3        2015-08-12 18:13:00  2                                         \n",
       "                      4        2015-08-12 18:13:00  2                                         \n",
       "\n",
       "[5 rows x 21 columns]"
      ]
     },
     "execution_count": 19,
     "metadata": {},
     "output_type": "execute_result"
    }
   ],
   "source": [
    "df.head()"
   ]
  },
  {
   "cell_type": "markdown",
   "metadata": {
    "collapsed": false
   },
   "source": [
    "### pressure"
   ]
  },
  {
   "cell_type": "code",
   "execution_count": 20,
   "metadata": {
    "collapsed": true
   },
   "outputs": [],
   "source": [
    "pressure = ds.indexes['pressure'].values"
   ]
  },
  {
   "cell_type": "markdown",
   "metadata": {},
   "source": [
    "### temperature"
   ]
  },
  {
   "cell_type": "code",
   "execution_count": 22,
   "metadata": {
    "collapsed": true
   },
   "outputs": [],
   "source": [
    "temperature = df.temperature"
   ]
  },
  {
   "cell_type": "code",
   "execution_count": 23,
   "metadata": {
    "collapsed": false
   },
   "outputs": [
    {
     "data": {
      "text/plain": [
       "<matplotlib.text.Text at 0x7f6e2ce7f350>"
      ]
     },
     "execution_count": 23,
     "metadata": {},
     "output_type": "execute_result"
    },
    {
     "data": {
      "image/png": "[encoded data removed]",
      "text/plain": [
       "<matplotlib.figure.Figure at 0x7f6e54056dd0>"
      ]
     },
     "metadata": {},
     "output_type": "display_data"
    }
   ],
   "source": [
    "plt.rcParams['figure.figsize'] = (5, 8)\n",
    "plt.plot(temperature, pressure)\n",
    "plt.gca().invert_yaxis()\n",
    "plt.xlabel('$temperature$')\n",
    "plt.ylabel('$pressure$')"
   ]
  },
  {
   "cell_type": "markdown",
   "metadata": {},
   "source": [
    "### salinity"
   ]
  },
  {
   "cell_type": "code",
   "execution_count": 24,
   "metadata": {
    "collapsed": true
   },
   "outputs": [],
   "source": [
    "salinity = df.salinity"
   ]
  },
  {
   "cell_type": "code",
   "execution_count": 25,
   "metadata": {
    "collapsed": false
   },
   "outputs": [
    {
     "data": {
      "text/plain": [
       "<matplotlib.text.Text at 0x7f6e2cfecd90>"
      ]
     },
     "execution_count": 25,
     "metadata": {},
     "output_type": "execute_result"
    },
    {
     "data": {
      "image/png": "[encoded data removed]",
      "text/plain": [
       "<matplotlib.figure.Figure at 0x7f6e2caae450>"
      ]
     },
     "metadata": {},
     "output_type": "display_data"
    }
   ],
   "source": [
    "plt.rcParams['figure.figsize'] = (5, 8)\n",
    "plt.plot(salinity, pressure)\n",
    "plt.gca().invert_yaxis()\n",
    "plt.xlabel('$salinity$')\n",
    "plt.ylabel('$pressure$')"
   ]
  },
  {
   "cell_type": "markdown",
   "metadata": {
    "collapsed": true
   },
   "source": [
    "### oxygen"
   ]
  },
  {
   "cell_type": "code",
   "execution_count": 26,
   "metadata": {
    "collapsed": true
   },
   "outputs": [],
   "source": [
    "oxygen = df.oxygen"
   ]
  },
  {
   "cell_type": "code",
   "execution_count": 27,
   "metadata": {
    "collapsed": false
   },
   "outputs": [
    {
     "data": {
      "text/plain": [
       "<matplotlib.text.Text at 0x7f6e2d05fe90>"
      ]
     },
     "execution_count": 27,
     "metadata": {},
     "output_type": "execute_result"
    },
    {
     "data": {
      "image/png": "[encoded data removed]",
      "text/plain": [
       "<matplotlib.figure.Figure at 0x7f6e2ce7f850>"
      ]
     },
     "metadata": {},
     "output_type": "display_data"
    }
   ],
   "source": [
    "plt.rcParams['figure.figsize'] = (5, 8)\n",
    "plt.plot(oxygen, pressure)\n",
    "plt.gca().invert_yaxis()\n",
    "plt.xlabel('$oxygen$')\n",
    "plt.ylabel('$pressure$')"
   ]
  },
  {
   "cell_type": "code",
   "execution_count": null,
   "metadata": {
    "collapsed": true
   },
   "outputs": [],
   "source": []
  }
 ],
 "metadata": {
  "kernelspec": {
   "display_name": "Python 2.7",
   "language": "python",
   "name": "python2"
  },
  "language_info": {
   "codemirror_mode": {
    "name": "ipython",
    "version": 2
   },
   "file_extension": ".py",
   "mimetype": "text/x-python",
   "name": "python",
   "nbconvert_exporter": "python",
   "pygments_lexer": "ipython2",
   "version": "2.7.11"
  }
 },
 "nbformat": 4,
 "nbformat_minor": 0
}
