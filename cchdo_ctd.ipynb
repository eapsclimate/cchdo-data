{
 "cells": [
  {
   "cell_type": "markdown",
   "metadata": {},
   "source": [
    "### packages"
   ]
  },
  {
   "cell_type": "code",
   "execution_count": 1,
   "metadata": {
    "collapsed": false
   },
   "outputs": [],
   "source": [
    "import matplotlib.pyplot as plt\n",
    "import seaborn as sns\n",
    "import xarray as xr"
   ]
  },
  {
   "cell_type": "code",
   "execution_count": 2,
   "metadata": {
    "collapsed": true
   },
   "outputs": [],
   "source": [
    "%matplotlib inline"
   ]
  },
  {
   "cell_type": "markdown",
   "metadata": {
    "collapsed": true
   },
   "source": [
    "### data"
   ]
  },
  {
   "cell_type": "code",
   "execution_count": 28,
   "metadata": {
    "collapsed": false
   },
   "outputs": [],
   "source": [
    "ds = xr.open_dataset\\\n",
    "('/home/cz2397/data/cchdo-ctd/208_09AR20120105_nc_ctd/09AR1203_1_00033_00001_ctd.nc')"
   ]
  },
  {
   "cell_type": "code",
   "execution_count": 29,
   "metadata": {
    "collapsed": false
   },
   "outputs": [
    {
     "data": {
      "text/plain": [
       "<xarray.Dataset>\n",
       "Dimensions:              (latitude: 1, longitude: 1, pressure: 2309, time: 1)\n",
       "Coordinates:\n",
       "  * pressure             (pressure) float64 2.0 4.0 6.0 8.0 10.0 12.0 14.0 ...\n",
       "  * time                 (time) datetime64[ns] 2012-01-25T21:05:00\n",
       "  * latitude             (latitude) float32 -58.602\n",
       "  * longitude            (longitude) float32 114.987\n",
       "Data variables:\n",
       "    pressure_QC          (pressure) int16 2 2 2 2 2 2 2 2 2 2 2 2 2 2 2 2 2 ...\n",
       "    temperature          (pressure) float64 nan nan nan 2.122 2.122 2.122 ...\n",
       "    temperature_QC       (pressure) int16 5 5 5 2 2 2 2 2 2 2 2 2 2 2 2 2 2 ...\n",
       "    salinity             (pressure) float64 nan nan nan 33.86 33.86 33.86 ...\n",
       "    salinity_QC          (pressure) int16 5 5 5 2 2 2 2 2 2 2 2 2 2 2 2 2 2 ...\n",
       "    oxygen               (pressure) float64 nan nan nan 330.4 330.5 330.5 ...\n",
       "    oxygen_QC            (pressure) int16 5 5 5 2 2 2 2 2 2 2 2 2 2 2 2 2 2 ...\n",
       "    CTD_PAR              (pressure) float64 nan nan nan 3.171 3.005 2.657 ...\n",
       "    CTD_PAR_QC           (pressure) int16 5 5 5 2 2 2 2 2 2 2 2 2 2 2 2 2 2 ...\n",
       "    CTD_PARUPCAST        (pressure) float64 113.2 86.41 66.53 54.42 46.89 ...\n",
       "    CTD_PARUPCAST_QC     (pressure) int16 2 2 2 2 2 2 2 2 2 2 2 2 2 2 2 2 2 ...\n",
       "    CTD_FLUOROUPCAST     (pressure) float64 0.789 0.831 0.882 0.906 0.962 ...\n",
       "    CTD_FLUOROUPCAST_QC  (pressure) int16 2 2 2 2 2 2 2 2 2 2 2 2 2 2 2 2 2 ...\n",
       "    CTD_FLUORO           (pressure) float64 nan nan nan 0.854 0.845 0.82 ...\n",
       "    CTD_FLUORO_QC        (pressure) int16 5 5 5 2 2 2 2 2 2 2 2 2 2 2 2 2 2 ...\n",
       "    CTD_TRANSUPCAST      (pressure) float64 95.99 96.05 96.08 96.05 96.05 ...\n",
       "    CTD_TRANSUPCAST_QC   (pressure) int16 2 2 2 2 2 2 2 2 2 2 2 2 2 2 2 2 2 ...\n",
       "    CTD_TRANS            (pressure) float64 nan nan nan 95.97 96.0 96.0 ...\n",
       "    CTD_TRANS_QC         (pressure) int16 5 5 5 2 2 2 2 2 2 2 2 2 2 2 2 2 2 ...\n",
       "    woce_date            (time) int32 20120125\n",
       "    woce_time            (time) int16 2105\n",
       "    station              |S40 '033                                     '\n",
       "    cast                 |S40 '1                                       '\n",
       "Attributes:\n",
       "    EXPOCODE: 09AR1203_1\n",
       "    Conventions: COARDS/WOCE\n",
       "    WOCE_VERSION: 3.0\n",
       "    WOCE_ID: I09S\n",
       "    DATA_TYPE: WOCE CTD\n",
       "    STATION_NUMBER: 033\n",
       "    CAST_NUMBER: 1\n",
       "    BOTTOM_DEPTH_METERS: 4521\n",
       "    Creation_Time: 2013-10-16T23:53:57.849191Z\n",
       "    ORIGINAL_HEADER: \n",
       "    WOCE_CTD_FLAG_DESCRIPTION: ::1 = Not calibrated:2 = Acceptable measurement:3 = Questionable measurement:4 = Bad measurement:5 = Not reported:6 = Interpolated over >2 dbar interval:7 = Despiked:8 = Not assigned for CTD data:9 = Not sampled:"
      ]
     },
     "execution_count": 29,
     "metadata": {},
     "output_type": "execute_result"
    }
   ],
   "source": [
    "ds"
   ]
  },
  {
   "cell_type": "code",
   "execution_count": 30,
   "metadata": {
    "collapsed": false
   },
   "outputs": [],
   "source": [
    "df = ds.to_dataframe()"
   ]
  },
  {
   "cell_type": "code",
   "execution_count": 31,
   "metadata": {
    "collapsed": false
   },
   "outputs": [
    {
     "data": {
      "text/html": [
       "<div>\n",
       "<table border=\"1\" class=\"dataframe\">\n",
       "  <thead>\n",
       "    <tr style=\"text-align: right;\">\n",
       "      <th></th>\n",
       "      <th></th>\n",
       "      <th></th>\n",
       "      <th></th>\n",
       "      <th>pressure_QC</th>\n",
       "      <th>temperature</th>\n",
       "      <th>temperature_QC</th>\n",
       "      <th>salinity</th>\n",
       "      <th>salinity_QC</th>\n",
       "      <th>oxygen</th>\n",
       "      <th>oxygen_QC</th>\n",
       "      <th>CTD_PAR</th>\n",
       "      <th>CTD_PAR_QC</th>\n",
       "      <th>CTD_PARUPCAST</th>\n",
       "      <th>...</th>\n",
       "      <th>CTD_FLUORO</th>\n",
       "      <th>CTD_FLUORO_QC</th>\n",
       "      <th>CTD_TRANSUPCAST</th>\n",
       "      <th>CTD_TRANSUPCAST_QC</th>\n",
       "      <th>CTD_TRANS</th>\n",
       "      <th>CTD_TRANS_QC</th>\n",
       "      <th>woce_date</th>\n",
       "      <th>woce_time</th>\n",
       "      <th>station</th>\n",
       "      <th>cast</th>\n",
       "    </tr>\n",
       "    <tr>\n",
       "      <th>latitude</th>\n",
       "      <th>longitude</th>\n",
       "      <th>pressure</th>\n",
       "      <th>time</th>\n",
       "      <th></th>\n",
       "      <th></th>\n",
       "      <th></th>\n",
       "      <th></th>\n",
       "      <th></th>\n",
       "      <th></th>\n",
       "      <th></th>\n",
       "      <th></th>\n",
       "      <th></th>\n",
       "      <th></th>\n",
       "      <th></th>\n",
       "      <th></th>\n",
       "      <th></th>\n",
       "      <th></th>\n",
       "      <th></th>\n",
       "      <th></th>\n",
       "      <th></th>\n",
       "      <th></th>\n",
       "      <th></th>\n",
       "      <th></th>\n",
       "      <th></th>\n",
       "    </tr>\n",
       "  </thead>\n",
       "  <tbody>\n",
       "    <tr>\n",
       "      <th rowspan=\"5\" valign=\"top\">-58.602001</th>\n",
       "      <th rowspan=\"5\" valign=\"top\">114.986801</th>\n",
       "      <th>2</th>\n",
       "      <th>2012-01-25 21:05:00</th>\n",
       "      <td>2</td>\n",
       "      <td>NaN</td>\n",
       "      <td>5</td>\n",
       "      <td>NaN</td>\n",
       "      <td>5</td>\n",
       "      <td>NaN</td>\n",
       "      <td>5</td>\n",
       "      <td>NaN</td>\n",
       "      <td>5</td>\n",
       "      <td>113.246</td>\n",
       "      <td>...</td>\n",
       "      <td>NaN</td>\n",
       "      <td>5</td>\n",
       "      <td>95.994</td>\n",
       "      <td>2</td>\n",
       "      <td>NaN</td>\n",
       "      <td>5</td>\n",
       "      <td>20120125</td>\n",
       "      <td>2105</td>\n",
       "      <td>033</td>\n",
       "      <td>1</td>\n",
       "    </tr>\n",
       "    <tr>\n",
       "      <th>4</th>\n",
       "      <th>2012-01-25 21:05:00</th>\n",
       "      <td>2</td>\n",
       "      <td>NaN</td>\n",
       "      <td>5</td>\n",
       "      <td>NaN</td>\n",
       "      <td>5</td>\n",
       "      <td>NaN</td>\n",
       "      <td>5</td>\n",
       "      <td>NaN</td>\n",
       "      <td>5</td>\n",
       "      <td>86.406</td>\n",
       "      <td>...</td>\n",
       "      <td>NaN</td>\n",
       "      <td>5</td>\n",
       "      <td>96.047</td>\n",
       "      <td>2</td>\n",
       "      <td>NaN</td>\n",
       "      <td>5</td>\n",
       "      <td>20120125</td>\n",
       "      <td>2105</td>\n",
       "      <td>033</td>\n",
       "      <td>1</td>\n",
       "    </tr>\n",
       "    <tr>\n",
       "      <th>6</th>\n",
       "      <th>2012-01-25 21:05:00</th>\n",
       "      <td>2</td>\n",
       "      <td>NaN</td>\n",
       "      <td>5</td>\n",
       "      <td>NaN</td>\n",
       "      <td>5</td>\n",
       "      <td>NaN</td>\n",
       "      <td>5</td>\n",
       "      <td>NaN</td>\n",
       "      <td>5</td>\n",
       "      <td>66.534</td>\n",
       "      <td>...</td>\n",
       "      <td>NaN</td>\n",
       "      <td>5</td>\n",
       "      <td>96.078</td>\n",
       "      <td>2</td>\n",
       "      <td>NaN</td>\n",
       "      <td>5</td>\n",
       "      <td>20120125</td>\n",
       "      <td>2105</td>\n",
       "      <td>033</td>\n",
       "      <td>1</td>\n",
       "    </tr>\n",
       "    <tr>\n",
       "      <th>8</th>\n",
       "      <th>2012-01-25 21:05:00</th>\n",
       "      <td>2</td>\n",
       "      <td>2.1221</td>\n",
       "      <td>2</td>\n",
       "      <td>33.8626</td>\n",
       "      <td>2</td>\n",
       "      <td>330.35</td>\n",
       "      <td>2</td>\n",
       "      <td>3.171</td>\n",
       "      <td>2</td>\n",
       "      <td>54.416</td>\n",
       "      <td>...</td>\n",
       "      <td>0.854</td>\n",
       "      <td>2</td>\n",
       "      <td>96.045</td>\n",
       "      <td>2</td>\n",
       "      <td>95.966</td>\n",
       "      <td>2</td>\n",
       "      <td>20120125</td>\n",
       "      <td>2105</td>\n",
       "      <td>033</td>\n",
       "      <td>1</td>\n",
       "    </tr>\n",
       "    <tr>\n",
       "      <th>10</th>\n",
       "      <th>2012-01-25 21:05:00</th>\n",
       "      <td>2</td>\n",
       "      <td>2.1217</td>\n",
       "      <td>2</td>\n",
       "      <td>33.8625</td>\n",
       "      <td>2</td>\n",
       "      <td>330.48</td>\n",
       "      <td>2</td>\n",
       "      <td>3.005</td>\n",
       "      <td>2</td>\n",
       "      <td>46.894</td>\n",
       "      <td>...</td>\n",
       "      <td>0.845</td>\n",
       "      <td>2</td>\n",
       "      <td>96.052</td>\n",
       "      <td>2</td>\n",
       "      <td>95.998</td>\n",
       "      <td>2</td>\n",
       "      <td>20120125</td>\n",
       "      <td>2105</td>\n",
       "      <td>033</td>\n",
       "      <td>1</td>\n",
       "    </tr>\n",
       "  </tbody>\n",
       "</table>\n",
       "<p>5 rows × 23 columns</p>\n",
       "</div>"
      ],
      "text/plain": [
       "                                                    pressure_QC  temperature  \\\n",
       "latitude   longitude  pressure time                                            \n",
       "-58.602001 114.986801 2        2012-01-25 21:05:00            2          NaN   \n",
       "                      4        2012-01-25 21:05:00            2          NaN   \n",
       "                      6        2012-01-25 21:05:00            2          NaN   \n",
       "                      8        2012-01-25 21:05:00            2       2.1221   \n",
       "                      10       2012-01-25 21:05:00            2       2.1217   \n",
       "\n",
       "                                                    temperature_QC  salinity  \\\n",
       "latitude   longitude  pressure time                                            \n",
       "-58.602001 114.986801 2        2012-01-25 21:05:00               5       NaN   \n",
       "                      4        2012-01-25 21:05:00               5       NaN   \n",
       "                      6        2012-01-25 21:05:00               5       NaN   \n",
       "                      8        2012-01-25 21:05:00               2   33.8626   \n",
       "                      10       2012-01-25 21:05:00               2   33.8625   \n",
       "\n",
       "                                                    salinity_QC  oxygen  \\\n",
       "latitude   longitude  pressure time                                       \n",
       "-58.602001 114.986801 2        2012-01-25 21:05:00            5     NaN   \n",
       "                      4        2012-01-25 21:05:00            5     NaN   \n",
       "                      6        2012-01-25 21:05:00            5     NaN   \n",
       "                      8        2012-01-25 21:05:00            2  330.35   \n",
       "                      10       2012-01-25 21:05:00            2  330.48   \n",
       "\n",
       "                                                    oxygen_QC  CTD_PAR  \\\n",
       "latitude   longitude  pressure time                                      \n",
       "-58.602001 114.986801 2        2012-01-25 21:05:00          5      NaN   \n",
       "                      4        2012-01-25 21:05:00          5      NaN   \n",
       "                      6        2012-01-25 21:05:00          5      NaN   \n",
       "                      8        2012-01-25 21:05:00          2    3.171   \n",
       "                      10       2012-01-25 21:05:00          2    3.005   \n",
       "\n",
       "                                                    CTD_PAR_QC  CTD_PARUPCAST  \\\n",
       "latitude   longitude  pressure time                                             \n",
       "-58.602001 114.986801 2        2012-01-25 21:05:00           5        113.246   \n",
       "                      4        2012-01-25 21:05:00           5         86.406   \n",
       "                      6        2012-01-25 21:05:00           5         66.534   \n",
       "                      8        2012-01-25 21:05:00           2         54.416   \n",
       "                      10       2012-01-25 21:05:00           2         46.894   \n",
       "\n",
       "                                                                      ...                     \\\n",
       "latitude   longitude  pressure time                                   ...                      \n",
       "-58.602001 114.986801 2        2012-01-25 21:05:00                    ...                      \n",
       "                      4        2012-01-25 21:05:00                    ...                      \n",
       "                      6        2012-01-25 21:05:00                    ...                      \n",
       "                      8        2012-01-25 21:05:00                    ...                      \n",
       "                      10       2012-01-25 21:05:00                    ...                      \n",
       "\n",
       "                                                    CTD_FLUORO  CTD_FLUORO_QC  \\\n",
       "latitude   longitude  pressure time                                             \n",
       "-58.602001 114.986801 2        2012-01-25 21:05:00         NaN              5   \n",
       "                      4        2012-01-25 21:05:00         NaN              5   \n",
       "                      6        2012-01-25 21:05:00         NaN              5   \n",
       "                      8        2012-01-25 21:05:00       0.854              2   \n",
       "                      10       2012-01-25 21:05:00       0.845              2   \n",
       "\n",
       "                                                    CTD_TRANSUPCAST  \\\n",
       "latitude   longitude  pressure time                                   \n",
       "-58.602001 114.986801 2        2012-01-25 21:05:00           95.994   \n",
       "                      4        2012-01-25 21:05:00           96.047   \n",
       "                      6        2012-01-25 21:05:00           96.078   \n",
       "                      8        2012-01-25 21:05:00           96.045   \n",
       "                      10       2012-01-25 21:05:00           96.052   \n",
       "\n",
       "                                                    CTD_TRANSUPCAST_QC  \\\n",
       "latitude   longitude  pressure time                                      \n",
       "-58.602001 114.986801 2        2012-01-25 21:05:00                   2   \n",
       "                      4        2012-01-25 21:05:00                   2   \n",
       "                      6        2012-01-25 21:05:00                   2   \n",
       "                      8        2012-01-25 21:05:00                   2   \n",
       "                      10       2012-01-25 21:05:00                   2   \n",
       "\n",
       "                                                    CTD_TRANS  CTD_TRANS_QC  \\\n",
       "latitude   longitude  pressure time                                           \n",
       "-58.602001 114.986801 2        2012-01-25 21:05:00        NaN             5   \n",
       "                      4        2012-01-25 21:05:00        NaN             5   \n",
       "                      6        2012-01-25 21:05:00        NaN             5   \n",
       "                      8        2012-01-25 21:05:00     95.966             2   \n",
       "                      10       2012-01-25 21:05:00     95.998             2   \n",
       "\n",
       "                                                    woce_date  woce_time  \\\n",
       "latitude   longitude  pressure time                                        \n",
       "-58.602001 114.986801 2        2012-01-25 21:05:00   20120125       2105   \n",
       "                      4        2012-01-25 21:05:00   20120125       2105   \n",
       "                      6        2012-01-25 21:05:00   20120125       2105   \n",
       "                      8        2012-01-25 21:05:00   20120125       2105   \n",
       "                      10       2012-01-25 21:05:00   20120125       2105   \n",
       "\n",
       "                                                                                     station  \\\n",
       "latitude   longitude  pressure time                                                            \n",
       "-58.602001 114.986801 2        2012-01-25 21:05:00  033                                        \n",
       "                      4        2012-01-25 21:05:00  033                                        \n",
       "                      6        2012-01-25 21:05:00  033                                        \n",
       "                      8        2012-01-25 21:05:00  033                                        \n",
       "                      10       2012-01-25 21:05:00  033                                        \n",
       "\n",
       "                                                                                        cast  \n",
       "latitude   longitude  pressure time                                                           \n",
       "-58.602001 114.986801 2        2012-01-25 21:05:00  1                                         \n",
       "                      4        2012-01-25 21:05:00  1                                         \n",
       "                      6        2012-01-25 21:05:00  1                                         \n",
       "                      8        2012-01-25 21:05:00  1                                         \n",
       "                      10       2012-01-25 21:05:00  1                                         \n",
       "\n",
       "[5 rows x 23 columns]"
      ]
     },
     "execution_count": 31,
     "metadata": {},
     "output_type": "execute_result"
    }
   ],
   "source": [
    "df.head()"
   ]
  },
  {
   "cell_type": "markdown",
   "metadata": {
    "collapsed": false
   },
   "source": [
    "### pressure"
   ]
  },
  {
   "cell_type": "code",
   "execution_count": 32,
   "metadata": {
    "collapsed": true
   },
   "outputs": [],
   "source": [
    "pressure = ds.indexes['pressure'].values"
   ]
  },
  {
   "cell_type": "markdown",
   "metadata": {},
   "source": [
    "### temperature"
   ]
  },
  {
   "cell_type": "code",
   "execution_count": 33,
   "metadata": {
    "collapsed": false
   },
   "outputs": [],
   "source": [
    "temperature = df.temperature"
   ]
  },
  {
   "cell_type": "code",
   "execution_count": 34,
   "metadata": {
    "collapsed": false
   },
   "outputs": [
    {
     "data": {
      "text/plain": [
       "<matplotlib.text.Text at 0x7fe3f8786fd0>"
      ]
     },
     "execution_count": 34,
     "metadata": {},
     "output_type": "execute_result"
    },
    {
     "data": {
      "image/png": "[encoded data removed]",
      "text/plain": [
       "<matplotlib.figure.Figure at 0x7fe418087f10>"
      ]
     },
     "metadata": {},
     "output_type": "display_data"
    }
   ],
   "source": [
    "plt.rcParams['figure.figsize'] = (5, 8)\n",
    "plt.plot(temperature, pressure)\n",
    "plt.gca().invert_yaxis()\n",
    "plt.xlabel('$temperature$')\n",
    "plt.ylabel('$pressure$')"
   ]
  },
  {
   "cell_type": "markdown",
   "metadata": {},
   "source": [
    "### salinity"
   ]
  },
  {
   "cell_type": "code",
   "execution_count": 35,
   "metadata": {
    "collapsed": false
   },
   "outputs": [],
   "source": [
    "salinity = df.salinity"
   ]
  },
  {
   "cell_type": "code",
   "execution_count": 36,
   "metadata": {
    "collapsed": false
   },
   "outputs": [
    {
     "data": {
      "text/plain": [
       "<matplotlib.text.Text at 0x7fe418468510>"
      ]
     },
     "execution_count": 36,
     "metadata": {},
     "output_type": "execute_result"
    },
    {
     "data": {
      "image/png": "[encoded data removed]",
      "text/plain": [
       "<matplotlib.figure.Figure at 0x7fe41841a6d0>"
      ]
     },
     "metadata": {},
     "output_type": "display_data"
    }
   ],
   "source": [
    "plt.rcParams['figure.figsize'] = (5, 8)\n",
    "plt.plot(salinity, pressure)\n",
    "plt.gca().invert_yaxis()\n",
    "plt.xlabel('$salinity$')\n",
    "plt.ylabel('$pressure$')"
   ]
  },
  {
   "cell_type": "markdown",
   "metadata": {
    "collapsed": true
   },
   "source": [
    "### oxygen"
   ]
  },
  {
   "cell_type": "code",
   "execution_count": 37,
   "metadata": {
    "collapsed": false
   },
   "outputs": [],
   "source": [
    "oxygen = df.oxygen"
   ]
  },
  {
   "cell_type": "code",
   "execution_count": 38,
   "metadata": {
    "collapsed": false
   },
   "outputs": [
    {
     "data": {
      "text/plain": [
       "<matplotlib.text.Text at 0x7fe3f86ac790>"
      ]
     },
     "execution_count": 38,
     "metadata": {},
     "output_type": "execute_result"
    },
    {
     "data": {
      "image/png": "[encoded data removed]",
      "text/plain": [
       "<matplotlib.figure.Figure at 0x7fe41808d350>"
      ]
     },
     "metadata": {},
     "output_type": "display_data"
    }
   ],
   "source": [
    "plt.rcParams['figure.figsize'] = (5, 8)\n",
    "plt.plot(oxygen, pressure)\n",
    "plt.gca().invert_yaxis()\n",
    "plt.xlabel('$oxygen$')\n",
    "plt.ylabel('$pressure$')"
   ]
  },
  {
   "cell_type": "code",
   "execution_count": null,
   "metadata": {
    "collapsed": true
   },
   "outputs": [],
   "source": []
  }
 ],
 "metadata": {
  "kernelspec": {
   "display_name": "Python 2.7",
   "language": "python",
   "name": "python2"
  },
  "language_info": {
   "codemirror_mode": {
    "name": "ipython",
    "version": 2
   },
   "file_extension": ".py",
   "mimetype": "text/x-python",
   "name": "python",
   "nbconvert_exporter": "python",
   "pygments_lexer": "ipython2",
   "version": "2.7.11"
  }
 },
 "nbformat": 4,
 "nbformat_minor": 0
}
