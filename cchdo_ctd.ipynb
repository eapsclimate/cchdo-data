{
 "cells": [
  {
   "cell_type": "markdown",
   "metadata": {},
   "source": [
    "### packages"
   ]
  },
  {
   "cell_type": "code",
   "execution_count": 1,
   "metadata": {
    "collapsed": false
   },
   "outputs": [],
   "source": [
    "import matplotlib.pyplot as plt\n",
    "import seaborn as sns\n",
    "import xarray as xr"
   ]
  },
  {
   "cell_type": "code",
   "execution_count": 2,
   "metadata": {
    "collapsed": true
   },
   "outputs": [],
   "source": [
    "%matplotlib inline"
   ]
  },
  {
   "cell_type": "markdown",
   "metadata": {
    "collapsed": true
   },
   "source": [
    "### data"
   ]
  },
  {
   "cell_type": "code",
   "execution_count": 19,
   "metadata": {
    "collapsed": false
   },
   "outputs": [],
   "source": [
    "ds = xr.open_dataset\\\n",
    "('/home/cz2397/data/cchdo-ctd/762_06AQ20080210_nc_ctd/06AQ20080210_00250_00006_ctd.nc')"
   ]
  },
  {
   "cell_type": "code",
   "execution_count": 20,
   "metadata": {
    "collapsed": false
   },
   "outputs": [
    {
     "data": {
      "text/plain": [
       "<xarray.Dataset>\n",
       "Dimensions:      (latitude: 1, longitude: 1, pressure: 3786, time: 1)\n",
       "Coordinates:\n",
       "  * pressure     (pressure) float64 9.0 10.0 11.0 12.0 13.0 14.0 15.0 16.0 ...\n",
       "  * time         (time) datetime64[ns] 2008-04-11T15:57:00\n",
       "  * latitude     (latitude) float32 -55.701\n",
       "  * longitude    (longitude) float32 -64.4278\n",
       "Data variables:\n",
       "    temperature  (pressure) float64 5.152 5.144 5.145 5.143 5.143 5.143 ...\n",
       "    salinity     (pressure) float64 33.9 33.9 33.9 33.9 33.9 33.9 33.9 33.9 ...\n",
       "    FLUOR        (pressure) float64 0.16 0.16 0.16 0.16 0.16 0.17 0.19 0.19 ...\n",
       "    ATTN         (pressure) float64 -10.0 -10.0 -10.0 -10.0 -10.0 -10.0 ...\n",
       "    CTDNOBS      (pressure) float64 5.0 13.0 12.0 11.0 11.0 16.0 17.0 15.0 ...\n",
       "    woce_date    (time) int32 20080411\n",
       "    woce_time    (time) int16 1557\n",
       "    station      |S40 '250                                     '\n",
       "    cast         |S40 '6                                       '\n",
       "Attributes:\n",
       "    EXPOCODE: 06AQ20080210\n",
       "    Conventions: COARDS/WOCE\n",
       "    WOCE_VERSION: 3.0\n",
       "    WOCE_ID: UNKNOWN\n",
       "    DATA_TYPE: WOCE CTD\n",
       "    STATION_NUMBER: 250\n",
       "    CAST_NUMBER: 6\n",
       "    BOTTOM_DEPTH_METERS: 3798\n",
       "    Creation_Time: 2016-06-29T17:00:30.889410Z\n",
       "    ORIGINAL_HEADER: CTD,20160629CCHSIOSEE\n",
       "# Data source: final data from S.van Heuven 3/15/2013\n",
       "# SHIP: Polarstern\n",
       "# Cruise: ANT-XXIV_3; CASO; GEOTRACES-NL\n",
       "# Region: A21/A12; Cape Town to Punta Arenas\n",
       "# DATES: 20080210 - 20080416\n",
       "# Chief Scientist: E.Fahrbach;H.de Baar\n",
       "# 129 stations with (two different) 24 place Rosettes\n",
       "# Hydro: Who - E.Fahrbach ; Status - final\n",
       "# Original file in AWI format. Converted to Exchange format\n",
       "# EVENT_CODE=unknown\n",
       "# DATE: YYYYMMDD\n",
       "# TIME: HHMM\n",
       "# LATITUDE: degrees_North\n",
       "# LONGITUDE: ...\n",
       "    WOCE_CTD_FLAG_DESCRIPTION: ::1 = Not calibrated:2 = Acceptable measurement:3 = Questionable measurement:4 = Bad measurement:5 = Not reported:6 = Interpolated over >2 dbar interval:7 = Despiked:8 = Not assigned for CTD data:9 = Not sampled:"
      ]
     },
     "execution_count": 20,
     "metadata": {},
     "output_type": "execute_result"
    }
   ],
   "source": [
    "ds"
   ]
  },
  {
   "cell_type": "code",
   "execution_count": 21,
   "metadata": {
    "collapsed": false
   },
   "outputs": [],
   "source": [
    "df = ds.to_dataframe()"
   ]
  },
  {
   "cell_type": "code",
   "execution_count": 22,
   "metadata": {
    "collapsed": false
   },
   "outputs": [
    {
     "data": {
      "text/html": [
       "<div>\n",
       "<table border=\"1\" class=\"dataframe\">\n",
       "  <thead>\n",
       "    <tr style=\"text-align: right;\">\n",
       "      <th></th>\n",
       "      <th></th>\n",
       "      <th></th>\n",
       "      <th></th>\n",
       "      <th>temperature</th>\n",
       "      <th>salinity</th>\n",
       "      <th>FLUOR</th>\n",
       "      <th>ATTN</th>\n",
       "      <th>CTDNOBS</th>\n",
       "      <th>woce_date</th>\n",
       "      <th>woce_time</th>\n",
       "      <th>station</th>\n",
       "      <th>cast</th>\n",
       "    </tr>\n",
       "    <tr>\n",
       "      <th>latitude</th>\n",
       "      <th>longitude</th>\n",
       "      <th>pressure</th>\n",
       "      <th>time</th>\n",
       "      <th></th>\n",
       "      <th></th>\n",
       "      <th></th>\n",
       "      <th></th>\n",
       "      <th></th>\n",
       "      <th></th>\n",
       "      <th></th>\n",
       "      <th></th>\n",
       "      <th></th>\n",
       "    </tr>\n",
       "  </thead>\n",
       "  <tbody>\n",
       "    <tr>\n",
       "      <th rowspan=\"5\" valign=\"top\">-55.701</th>\n",
       "      <th rowspan=\"5\" valign=\"top\">-64.427803</th>\n",
       "      <th>9</th>\n",
       "      <th>2008-04-11 15:57:00</th>\n",
       "      <td>5.1522</td>\n",
       "      <td>33.8979</td>\n",
       "      <td>0.16</td>\n",
       "      <td>-10</td>\n",
       "      <td>5</td>\n",
       "      <td>20080411</td>\n",
       "      <td>1557</td>\n",
       "      <td>250</td>\n",
       "      <td>6</td>\n",
       "    </tr>\n",
       "    <tr>\n",
       "      <th>10</th>\n",
       "      <th>2008-04-11 15:57:00</th>\n",
       "      <td>5.1444</td>\n",
       "      <td>33.8984</td>\n",
       "      <td>0.16</td>\n",
       "      <td>-10</td>\n",
       "      <td>13</td>\n",
       "      <td>20080411</td>\n",
       "      <td>1557</td>\n",
       "      <td>250</td>\n",
       "      <td>6</td>\n",
       "    </tr>\n",
       "    <tr>\n",
       "      <th>11</th>\n",
       "      <th>2008-04-11 15:57:00</th>\n",
       "      <td>5.1447</td>\n",
       "      <td>33.8983</td>\n",
       "      <td>0.16</td>\n",
       "      <td>-10</td>\n",
       "      <td>12</td>\n",
       "      <td>20080411</td>\n",
       "      <td>1557</td>\n",
       "      <td>250</td>\n",
       "      <td>6</td>\n",
       "    </tr>\n",
       "    <tr>\n",
       "      <th>12</th>\n",
       "      <th>2008-04-11 15:57:00</th>\n",
       "      <td>5.1430</td>\n",
       "      <td>33.8982</td>\n",
       "      <td>0.16</td>\n",
       "      <td>-10</td>\n",
       "      <td>11</td>\n",
       "      <td>20080411</td>\n",
       "      <td>1557</td>\n",
       "      <td>250</td>\n",
       "      <td>6</td>\n",
       "    </tr>\n",
       "    <tr>\n",
       "      <th>13</th>\n",
       "      <th>2008-04-11 15:57:00</th>\n",
       "      <td>5.1434</td>\n",
       "      <td>33.8983</td>\n",
       "      <td>0.16</td>\n",
       "      <td>-10</td>\n",
       "      <td>11</td>\n",
       "      <td>20080411</td>\n",
       "      <td>1557</td>\n",
       "      <td>250</td>\n",
       "      <td>6</td>\n",
       "    </tr>\n",
       "  </tbody>\n",
       "</table>\n",
       "</div>"
      ],
      "text/plain": [
       "                                                  temperature  salinity  \\\n",
       "latitude longitude  pressure time                                         \n",
       "-55.701  -64.427803 9        2008-04-11 15:57:00       5.1522   33.8979   \n",
       "                    10       2008-04-11 15:57:00       5.1444   33.8984   \n",
       "                    11       2008-04-11 15:57:00       5.1447   33.8983   \n",
       "                    12       2008-04-11 15:57:00       5.1430   33.8982   \n",
       "                    13       2008-04-11 15:57:00       5.1434   33.8983   \n",
       "\n",
       "                                                  FLUOR  ATTN  CTDNOBS  \\\n",
       "latitude longitude  pressure time                                        \n",
       "-55.701  -64.427803 9        2008-04-11 15:57:00   0.16   -10        5   \n",
       "                    10       2008-04-11 15:57:00   0.16   -10       13   \n",
       "                    11       2008-04-11 15:57:00   0.16   -10       12   \n",
       "                    12       2008-04-11 15:57:00   0.16   -10       11   \n",
       "                    13       2008-04-11 15:57:00   0.16   -10       11   \n",
       "\n",
       "                                                  woce_date  woce_time  \\\n",
       "latitude longitude  pressure time                                        \n",
       "-55.701  -64.427803 9        2008-04-11 15:57:00   20080411       1557   \n",
       "                    10       2008-04-11 15:57:00   20080411       1557   \n",
       "                    11       2008-04-11 15:57:00   20080411       1557   \n",
       "                    12       2008-04-11 15:57:00   20080411       1557   \n",
       "                    13       2008-04-11 15:57:00   20080411       1557   \n",
       "\n",
       "                                                                                   station  \\\n",
       "latitude longitude  pressure time                                                            \n",
       "-55.701  -64.427803 9        2008-04-11 15:57:00  250                                        \n",
       "                    10       2008-04-11 15:57:00  250                                        \n",
       "                    11       2008-04-11 15:57:00  250                                        \n",
       "                    12       2008-04-11 15:57:00  250                                        \n",
       "                    13       2008-04-11 15:57:00  250                                        \n",
       "\n",
       "                                                                                      cast  \n",
       "latitude longitude  pressure time                                                           \n",
       "-55.701  -64.427803 9        2008-04-11 15:57:00  6                                         \n",
       "                    10       2008-04-11 15:57:00  6                                         \n",
       "                    11       2008-04-11 15:57:00  6                                         \n",
       "                    12       2008-04-11 15:57:00  6                                         \n",
       "                    13       2008-04-11 15:57:00  6                                         "
      ]
     },
     "execution_count": 22,
     "metadata": {},
     "output_type": "execute_result"
    }
   ],
   "source": [
    "df.head()"
   ]
  },
  {
   "cell_type": "markdown",
   "metadata": {
    "collapsed": false
   },
   "source": [
    "### pressure"
   ]
  },
  {
   "cell_type": "code",
   "execution_count": 23,
   "metadata": {
    "collapsed": true
   },
   "outputs": [],
   "source": [
    "pressure = ds.indexes['pressure'].values"
   ]
  },
  {
   "cell_type": "markdown",
   "metadata": {},
   "source": [
    "### temperature"
   ]
  },
  {
   "cell_type": "code",
   "execution_count": 24,
   "metadata": {
    "collapsed": false
   },
   "outputs": [],
   "source": [
    "temperature = df.temperature"
   ]
  },
  {
   "cell_type": "code",
   "execution_count": 25,
   "metadata": {
    "collapsed": false
   },
   "outputs": [
    {
     "data": {
      "text/plain": [
       "<matplotlib.text.Text at 0x7f60b0333710>"
      ]
     },
     "execution_count": 25,
     "metadata": {},
     "output_type": "execute_result"
    },
    {
     "data": {
      "image/png": "[encoded data removed]",
      "text/plain": [
       "<matplotlib.figure.Figure at 0x7f60f40202d0>"
      ]
     },
     "metadata": {},
     "output_type": "display_data"
    }
   ],
   "source": [
    "plt.rcParams['figure.figsize'] = (5, 8)\n",
    "plt.plot(temperature, pressure)\n",
    "plt.gca().invert_yaxis()\n",
    "plt.xlabel('$temperature$')\n",
    "plt.ylabel('$pressure$')"
   ]
  },
  {
   "cell_type": "markdown",
   "metadata": {},
   "source": [
    "### salinity"
   ]
  },
  {
   "cell_type": "code",
   "execution_count": 27,
   "metadata": {
    "collapsed": false
   },
   "outputs": [],
   "source": [
    "salinity = df.salinity"
   ]
  },
  {
   "cell_type": "code",
   "execution_count": 28,
   "metadata": {
    "collapsed": false
   },
   "outputs": [
    {
     "data": {
      "text/plain": [
       "<matplotlib.text.Text at 0x7f60d006a410>"
      ]
     },
     "execution_count": 28,
     "metadata": {},
     "output_type": "execute_result"
    },
    {
     "data": {
      "image/png": "[encoded data removed]",
      "text/plain": [
       "<matplotlib.figure.Figure at 0x7f60d01d8110>"
      ]
     },
     "metadata": {},
     "output_type": "display_data"
    }
   ],
   "source": [
    "plt.rcParams['figure.figsize'] = (5, 8)\n",
    "plt.plot(salinity, pressure)\n",
    "plt.gca().invert_yaxis()\n",
    "plt.xlabel('$salinity$')\n",
    "plt.ylabel('$pressure$')"
   ]
  },
  {
   "cell_type": "markdown",
   "metadata": {
    "collapsed": true
   },
   "source": [
    "### oxygen"
   ]
  },
  {
   "cell_type": "code",
   "execution_count": 17,
   "metadata": {
    "collapsed": false
   },
   "outputs": [],
   "source": [
    "oxygen = df.Oxygen_CTD"
   ]
  },
  {
   "cell_type": "code",
   "execution_count": 18,
   "metadata": {
    "collapsed": false
   },
   "outputs": [
    {
     "data": {
      "text/plain": [
       "<matplotlib.text.Text at 0x7f60d0139350>"
      ]
     },
     "execution_count": 18,
     "metadata": {},
     "output_type": "execute_result"
    },
    {
     "data": {
      "image/png": "[encoded data removed]",
      "text/plain": [
       "<matplotlib.figure.Figure at 0x7f60f4020ad0>"
      ]
     },
     "metadata": {},
     "output_type": "display_data"
    }
   ],
   "source": [
    "plt.rcParams['figure.figsize'] = (5, 8)\n",
    "plt.plot(oxygen, pressure)\n",
    "plt.gca().invert_yaxis()\n",
    "plt.xlabel('$oxygen$')\n",
    "plt.ylabel('$pressure$')"
   ]
  },
  {
   "cell_type": "code",
   "execution_count": null,
   "metadata": {
    "collapsed": true
   },
   "outputs": [],
   "source": []
  }
 ],
 "metadata": {
  "kernelspec": {
   "display_name": "Python 2.7",
   "language": "python",
   "name": "python2"
  },
  "language_info": {
   "codemirror_mode": {
    "name": "ipython",
    "version": 2
   },
   "file_extension": ".py",
   "mimetype": "text/x-python",
   "name": "python",
   "nbconvert_exporter": "python",
   "pygments_lexer": "ipython2",
   "version": "2.7.11"
  }
 },
 "nbformat": 4,
 "nbformat_minor": 0
}
