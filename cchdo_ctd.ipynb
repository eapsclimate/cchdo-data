{
 "cells": [
  {
   "cell_type": "markdown",
   "metadata": {},
   "source": [
    "### packages"
   ]
  },
  {
   "cell_type": "code",
   "execution_count": 1,
   "metadata": {
    "collapsed": false
   },
   "outputs": [],
   "source": [
    "import matplotlib.pyplot as plt\n",
    "import seaborn as sns\n",
    "import xarray as xr"
   ]
  },
  {
   "cell_type": "code",
   "execution_count": 2,
   "metadata": {
    "collapsed": true
   },
   "outputs": [],
   "source": [
    "%matplotlib inline"
   ]
  },
  {
   "cell_type": "markdown",
   "metadata": {
    "collapsed": true
   },
   "source": [
    "### data"
   ]
  },
  {
   "cell_type": "code",
   "execution_count": 3,
   "metadata": {
    "collapsed": false
   },
   "outputs": [],
   "source": [
    "ds = xr.open_dataset\\\n",
    "('/home/cz2397/data/cchdo-ctd/338_33RO20130803_nc_ctd/33RO20130803_00001_00001_ctd.nc')"
   ]
  },
  {
   "cell_type": "code",
   "execution_count": 4,
   "metadata": {
    "collapsed": false
   },
   "outputs": [
    {
     "data": {
      "text/plain": [
       "<xarray.Dataset>\n",
       "Dimensions:         (latitude: 1, longitude: 1, pressure: 189, time: 1)\n",
       "Coordinates:\n",
       "  * pressure        (pressure) float64 3.0 4.0 5.0 6.0 7.0 8.0 9.0 10.0 11.0 ...\n",
       "  * time            (time) datetime64[ns] 2013-08-03T23:07:00\n",
       "  * latitude        (latitude) float32 63.301\n",
       "  * longitude       (longitude) float32 -20.001\n",
       "Data variables:\n",
       "    pressure_QC     (pressure) int16 2 2 2 2 2 2 2 2 2 2 2 2 2 2 2 2 2 2 2 2 ...\n",
       "    temperature     (pressure) float64 12.47 12.21 11.99 11.95 11.9 11.86 ...\n",
       "    temperature_QC  (pressure) int16 2 2 2 2 2 2 2 2 2 2 2 2 2 2 2 2 2 2 2 2 ...\n",
       "    salinity        (pressure) float64 33.23 33.53 33.84 33.9 33.95 34.01 ...\n",
       "    salinity_QC     (pressure) int16 2 2 2 2 2 2 2 2 2 2 2 2 2 2 2 2 2 2 2 2 ...\n",
       "    oxygen          (pressure) float64 296.8 298.8 300.5 301.3 302.0 302.7 ...\n",
       "    oxygen_QC       (pressure) int16 2 2 2 2 2 2 2 2 2 2 2 2 2 2 2 2 2 2 2 2 ...\n",
       "    TRANSM          (pressure) float64 4.048 4.034 3.923 3.883 3.883 3.891 ...\n",
       "    FLUORM          (pressure) float64 0.136 0.137 0.139 0.141 0.142 0.139 ...\n",
       "    woce_date       (time) int32 20130803\n",
       "    woce_time       (time) int16 2307\n",
       "    station         |S40 '001                                     '\n",
       "    cast            |S40 '1                                       '\n",
       "Attributes:\n",
       "    EXPOCODE: 33RO20130803\n",
       "    Conventions: COARDS/WOCE\n",
       "    WOCE_VERSION: 3.0\n",
       "    WOCE_ID: A16N\n",
       "    DATA_TYPE: WOCE CTD\n",
       "    STATION_NUMBER: 001\n",
       "    CAST_NUMBER: 1\n",
       "    BOTTOM_DEPTH_METERS: 197\n",
       "    Creation_Time: 2014-05-23T18:33:24.600510Z\n",
       "    ORIGINAL_HEADER: CTD,20140410PMELNOAAKEM\n",
       "#CODE:  ctd_to_csv.m KEM 4/10/14\n",
       "#SUMFILE_NAME:  a16n_kem.sum 4/9/14\n",
       "#CTDFILE_NAME:  rh10011.ctd\n",
       "#DEPTH_TYPE:  UNC\n",
       "#EVENT_CODE:  BO\n",
       "\n",
       "    WOCE_CTD_FLAG_DESCRIPTION: ::1 = Not calibrated:2 = Acceptable measurement:3 = Questionable measurement:4 = Bad measurement:5 = Not reported:6 = Interpolated over >2 dbar interval:7 = Despiked:8 = Not assigned for CTD data:9 = Not sampled:"
      ]
     },
     "execution_count": 4,
     "metadata": {},
     "output_type": "execute_result"
    }
   ],
   "source": [
    "ds"
   ]
  },
  {
   "cell_type": "code",
   "execution_count": 5,
   "metadata": {
    "collapsed": false
   },
   "outputs": [],
   "source": [
    "df = ds.to_dataframe()"
   ]
  },
  {
   "cell_type": "code",
   "execution_count": 6,
   "metadata": {
    "collapsed": false
   },
   "outputs": [
    {
     "data": {
      "text/html": [
       "<div>\n",
       "<table border=\"1\" class=\"dataframe\">\n",
       "  <thead>\n",
       "    <tr style=\"text-align: right;\">\n",
       "      <th></th>\n",
       "      <th></th>\n",
       "      <th></th>\n",
       "      <th></th>\n",
       "      <th>pressure_QC</th>\n",
       "      <th>temperature</th>\n",
       "      <th>temperature_QC</th>\n",
       "      <th>salinity</th>\n",
       "      <th>salinity_QC</th>\n",
       "      <th>oxygen</th>\n",
       "      <th>oxygen_QC</th>\n",
       "      <th>TRANSM</th>\n",
       "      <th>FLUORM</th>\n",
       "      <th>woce_date</th>\n",
       "      <th>woce_time</th>\n",
       "      <th>station</th>\n",
       "      <th>cast</th>\n",
       "    </tr>\n",
       "    <tr>\n",
       "      <th>latitude</th>\n",
       "      <th>longitude</th>\n",
       "      <th>pressure</th>\n",
       "      <th>time</th>\n",
       "      <th></th>\n",
       "      <th></th>\n",
       "      <th></th>\n",
       "      <th></th>\n",
       "      <th></th>\n",
       "      <th></th>\n",
       "      <th></th>\n",
       "      <th></th>\n",
       "      <th></th>\n",
       "      <th></th>\n",
       "      <th></th>\n",
       "      <th></th>\n",
       "      <th></th>\n",
       "    </tr>\n",
       "  </thead>\n",
       "  <tbody>\n",
       "    <tr>\n",
       "      <th rowspan=\"5\" valign=\"top\">63.300999</th>\n",
       "      <th rowspan=\"5\" valign=\"top\">-20.000999</th>\n",
       "      <th>3</th>\n",
       "      <th>2013-08-03 23:07:00</th>\n",
       "      <td>2</td>\n",
       "      <td>12.4734</td>\n",
       "      <td>2</td>\n",
       "      <td>33.2293</td>\n",
       "      <td>2</td>\n",
       "      <td>296.8</td>\n",
       "      <td>2</td>\n",
       "      <td>4.048</td>\n",
       "      <td>0.136</td>\n",
       "      <td>20130803</td>\n",
       "      <td>2307</td>\n",
       "      <td>001</td>\n",
       "      <td>1</td>\n",
       "    </tr>\n",
       "    <tr>\n",
       "      <th>4</th>\n",
       "      <th>2013-08-03 23:07:00</th>\n",
       "      <td>2</td>\n",
       "      <td>12.2109</td>\n",
       "      <td>2</td>\n",
       "      <td>33.5278</td>\n",
       "      <td>2</td>\n",
       "      <td>298.8</td>\n",
       "      <td>2</td>\n",
       "      <td>4.034</td>\n",
       "      <td>0.137</td>\n",
       "      <td>20130803</td>\n",
       "      <td>2307</td>\n",
       "      <td>001</td>\n",
       "      <td>1</td>\n",
       "    </tr>\n",
       "    <tr>\n",
       "      <th>5</th>\n",
       "      <th>2013-08-03 23:07:00</th>\n",
       "      <td>2</td>\n",
       "      <td>11.9907</td>\n",
       "      <td>2</td>\n",
       "      <td>33.8378</td>\n",
       "      <td>2</td>\n",
       "      <td>300.5</td>\n",
       "      <td>2</td>\n",
       "      <td>3.923</td>\n",
       "      <td>0.139</td>\n",
       "      <td>20130803</td>\n",
       "      <td>2307</td>\n",
       "      <td>001</td>\n",
       "      <td>1</td>\n",
       "    </tr>\n",
       "    <tr>\n",
       "      <th>6</th>\n",
       "      <th>2013-08-03 23:07:00</th>\n",
       "      <td>2</td>\n",
       "      <td>11.9478</td>\n",
       "      <td>2</td>\n",
       "      <td>33.8951</td>\n",
       "      <td>2</td>\n",
       "      <td>301.3</td>\n",
       "      <td>2</td>\n",
       "      <td>3.883</td>\n",
       "      <td>0.141</td>\n",
       "      <td>20130803</td>\n",
       "      <td>2307</td>\n",
       "      <td>001</td>\n",
       "      <td>1</td>\n",
       "    </tr>\n",
       "    <tr>\n",
       "      <th>7</th>\n",
       "      <th>2013-08-03 23:07:00</th>\n",
       "      <td>2</td>\n",
       "      <td>11.9049</td>\n",
       "      <td>2</td>\n",
       "      <td>33.9525</td>\n",
       "      <td>2</td>\n",
       "      <td>302.0</td>\n",
       "      <td>2</td>\n",
       "      <td>3.883</td>\n",
       "      <td>0.142</td>\n",
       "      <td>20130803</td>\n",
       "      <td>2307</td>\n",
       "      <td>001</td>\n",
       "      <td>1</td>\n",
       "    </tr>\n",
       "  </tbody>\n",
       "</table>\n",
       "</div>"
      ],
      "text/plain": [
       "                                                   pressure_QC  temperature  \\\n",
       "latitude  longitude  pressure time                                            \n",
       "63.300999 -20.000999 3        2013-08-03 23:07:00            2      12.4734   \n",
       "                     4        2013-08-03 23:07:00            2      12.2109   \n",
       "                     5        2013-08-03 23:07:00            2      11.9907   \n",
       "                     6        2013-08-03 23:07:00            2      11.9478   \n",
       "                     7        2013-08-03 23:07:00            2      11.9049   \n",
       "\n",
       "                                                   temperature_QC  salinity  \\\n",
       "latitude  longitude  pressure time                                            \n",
       "63.300999 -20.000999 3        2013-08-03 23:07:00               2   33.2293   \n",
       "                     4        2013-08-03 23:07:00               2   33.5278   \n",
       "                     5        2013-08-03 23:07:00               2   33.8378   \n",
       "                     6        2013-08-03 23:07:00               2   33.8951   \n",
       "                     7        2013-08-03 23:07:00               2   33.9525   \n",
       "\n",
       "                                                   salinity_QC  oxygen  \\\n",
       "latitude  longitude  pressure time                                       \n",
       "63.300999 -20.000999 3        2013-08-03 23:07:00            2   296.8   \n",
       "                     4        2013-08-03 23:07:00            2   298.8   \n",
       "                     5        2013-08-03 23:07:00            2   300.5   \n",
       "                     6        2013-08-03 23:07:00            2   301.3   \n",
       "                     7        2013-08-03 23:07:00            2   302.0   \n",
       "\n",
       "                                                   oxygen_QC  TRANSM  FLUORM  \\\n",
       "latitude  longitude  pressure time                                             \n",
       "63.300999 -20.000999 3        2013-08-03 23:07:00          2   4.048   0.136   \n",
       "                     4        2013-08-03 23:07:00          2   4.034   0.137   \n",
       "                     5        2013-08-03 23:07:00          2   3.923   0.139   \n",
       "                     6        2013-08-03 23:07:00          2   3.883   0.141   \n",
       "                     7        2013-08-03 23:07:00          2   3.883   0.142   \n",
       "\n",
       "                                                   woce_date  woce_time  \\\n",
       "latitude  longitude  pressure time                                        \n",
       "63.300999 -20.000999 3        2013-08-03 23:07:00   20130803       2307   \n",
       "                     4        2013-08-03 23:07:00   20130803       2307   \n",
       "                     5        2013-08-03 23:07:00   20130803       2307   \n",
       "                     6        2013-08-03 23:07:00   20130803       2307   \n",
       "                     7        2013-08-03 23:07:00   20130803       2307   \n",
       "\n",
       "                                                                                    station  \\\n",
       "latitude  longitude  pressure time                                                            \n",
       "63.300999 -20.000999 3        2013-08-03 23:07:00  001                                        \n",
       "                     4        2013-08-03 23:07:00  001                                        \n",
       "                     5        2013-08-03 23:07:00  001                                        \n",
       "                     6        2013-08-03 23:07:00  001                                        \n",
       "                     7        2013-08-03 23:07:00  001                                        \n",
       "\n",
       "                                                                                       cast  \n",
       "latitude  longitude  pressure time                                                           \n",
       "63.300999 -20.000999 3        2013-08-03 23:07:00  1                                         \n",
       "                     4        2013-08-03 23:07:00  1                                         \n",
       "                     5        2013-08-03 23:07:00  1                                         \n",
       "                     6        2013-08-03 23:07:00  1                                         \n",
       "                     7        2013-08-03 23:07:00  1                                         "
      ]
     },
     "execution_count": 6,
     "metadata": {},
     "output_type": "execute_result"
    }
   ],
   "source": [
    "df.head()"
   ]
  },
  {
   "cell_type": "markdown",
   "metadata": {
    "collapsed": false
   },
   "source": [
    "### pressure"
   ]
  },
  {
   "cell_type": "code",
   "execution_count": 7,
   "metadata": {
    "collapsed": true
   },
   "outputs": [],
   "source": [
    "pressure = ds.indexes['pressure'].values"
   ]
  },
  {
   "cell_type": "markdown",
   "metadata": {},
   "source": [
    "### temperature"
   ]
  },
  {
   "cell_type": "code",
   "execution_count": 8,
   "metadata": {
    "collapsed": false
   },
   "outputs": [],
   "source": [
    "temperature = df.temperature"
   ]
  },
  {
   "cell_type": "code",
   "execution_count": 9,
   "metadata": {
    "collapsed": false
   },
   "outputs": [
    {
     "data": {
      "text/plain": [
       "<matplotlib.text.Text at 0x7f4619e4ca90>"
      ]
     },
     "execution_count": 9,
     "metadata": {},
     "output_type": "execute_result"
    },
    {
     "data": {
      "image/png": "[encoded data removed]",
      "text/plain": [
       "<matplotlib.figure.Figure at 0x7f46145d5a90>"
      ]
     },
     "metadata": {},
     "output_type": "display_data"
    }
   ],
   "source": [
    "plt.rcParams['figure.figsize'] = (5, 8)\n",
    "plt.plot(temperature, pressure)\n",
    "plt.gca().invert_yaxis()\n",
    "plt.xlabel('$temperature$')\n",
    "plt.ylabel('$pressure$')"
   ]
  },
  {
   "cell_type": "markdown",
   "metadata": {},
   "source": [
    "### salinity"
   ]
  },
  {
   "cell_type": "code",
   "execution_count": 10,
   "metadata": {
    "collapsed": false
   },
   "outputs": [],
   "source": [
    "salinity = df.salinity"
   ]
  },
  {
   "cell_type": "code",
   "execution_count": 11,
   "metadata": {
    "collapsed": false
   },
   "outputs": [
    {
     "data": {
      "text/plain": [
       "<matplotlib.text.Text at 0x7f45f40fd290>"
      ]
     },
     "execution_count": 11,
     "metadata": {},
     "output_type": "execute_result"
    },
    {
     "data": {
      "image/png": "[encoded data removed]",
      "text/plain": [
       "<matplotlib.figure.Figure at 0x7f4619e01510>"
      ]
     },
     "metadata": {},
     "output_type": "display_data"
    }
   ],
   "source": [
    "plt.rcParams['figure.figsize'] = (5, 8)\n",
    "plt.plot(salinity, pressure)\n",
    "plt.gca().invert_yaxis()\n",
    "plt.xlabel('$salinity$')\n",
    "plt.ylabel('$pressure$')"
   ]
  },
  {
   "cell_type": "markdown",
   "metadata": {
    "collapsed": true
   },
   "source": [
    "### oxygen"
   ]
  },
  {
   "cell_type": "code",
   "execution_count": 12,
   "metadata": {
    "collapsed": false
   },
   "outputs": [],
   "source": [
    "oxygen = df.oxygen"
   ]
  },
  {
   "cell_type": "code",
   "execution_count": 13,
   "metadata": {
    "collapsed": false
   },
   "outputs": [
    {
     "data": {
      "text/plain": [
       "<matplotlib.text.Text at 0x7f45d41ec450>"
      ]
     },
     "execution_count": 13,
     "metadata": {},
     "output_type": "execute_result"
    },
    {
     "data": {
      "image/png": "[encoded data removed]",
      "text/plain": [
       "<matplotlib.figure.Figure at 0x7f45f404c450>"
      ]
     },
     "metadata": {},
     "output_type": "display_data"
    }
   ],
   "source": [
    "plt.rcParams['figure.figsize'] = (5, 8)\n",
    "plt.plot(oxygen, pressure)\n",
    "plt.gca().invert_yaxis()\n",
    "plt.xlabel('$oxygen$')\n",
    "plt.ylabel('$pressure$')"
   ]
  },
  {
   "cell_type": "code",
   "execution_count": null,
   "metadata": {
    "collapsed": true
   },
   "outputs": [],
   "source": []
  }
 ],
 "metadata": {
  "kernelspec": {
   "display_name": "Python 2.7",
   "language": "python",
   "name": "python2"
  },
  "language_info": {
   "codemirror_mode": {
    "name": "ipython",
    "version": 2
   },
   "file_extension": ".py",
   "mimetype": "text/x-python",
   "name": "python",
   "nbconvert_exporter": "python",
   "pygments_lexer": "ipython2",
   "version": "2.7.11"
  }
 },
 "nbformat": 4,
 "nbformat_minor": 0
}
