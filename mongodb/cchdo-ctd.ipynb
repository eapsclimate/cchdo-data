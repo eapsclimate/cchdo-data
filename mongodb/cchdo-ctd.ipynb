{
 "cells": [
  {
   "cell_type": "code",
   "execution_count": 1,
   "metadata": {
    "collapsed": true
   },
   "outputs": [],
   "source": [
    "from pymongo import MongoClient\n",
    "from tqdm import tqdm\n",
    "import os\n",
    "import pandas as pd\n",
    "import xarray as xr"
   ]
  },
  {
   "cell_type": "code",
   "execution_count": 2,
   "metadata": {
    "collapsed": true
   },
   "outputs": [],
   "source": [
    "# longitude range setting\n",
    "# from -180 to 180\n",
    "def format(longitude):\n",
    "    if longitude > 180:\n",
    "        longitude = longitude - 360\n",
    "    else:\n",
    "        longitude = longitude\n",
    "    return longitude"
   ]
  },
  {
   "cell_type": "code",
   "execution_count": 3,
   "metadata": {
    "collapsed": true
   },
   "outputs": [],
   "source": [
    "rootdir = '/home/cz2397/data/cchdo-ctd/'"
   ]
  },
  {
   "cell_type": "code",
   "execution_count": 4,
   "metadata": {
    "collapsed": true
   },
   "outputs": [],
   "source": [
    "cchdo_ctd = MongoClient().eddies.cchdo_ctd"
   ]
  },
  {
   "cell_type": "code",
   "execution_count": 5,
   "metadata": {
    "collapsed": false
   },
   "outputs": [
    {
     "name": "stderr",
     "output_type": "stream",
     "text": [
      "739it [05:28,  1.54it/s]\n"
     ]
    }
   ],
   "source": [
    "for subdir, dirs, files in tqdm(os.walk(rootdir)):\n",
    "    for file in files:\n",
    "        if file.endswith('ctd.nc'):\n",
    "            path = os.path.join(subdir, file)\n",
    "            ds = xr.open_dataset(path)\n",
    "            cast = {\n",
    "                'path': path,\n",
    "                'time': pd.to_datetime(ds.time.values[0]),\n",
    "                'location': {'type': 'Point',\n",
    "                             'coordinates': [format(float(ds.longitude.values[0])), float(ds.latitude.values[0])],\n",
    "                },\n",
    "                'expocode': ds.EXPOCODE,\n",
    "                'station': ds.STATION_NUMBER,\n",
    "                'cast': ds.CAST_NUMBER,\n",
    "                'category': 'CTD'\n",
    "            }\n",
    "            cchdo_ctd.insert_one(dict(cast))"
   ]
  }
 ],
 "metadata": {
  "kernelspec": {
   "display_name": "Python 2.7",
   "language": "python",
   "name": "python2"
  },
  "language_info": {
   "codemirror_mode": {
    "name": "ipython",
    "version": 2
   },
   "file_extension": ".py",
   "mimetype": "text/x-python",
   "name": "python",
   "nbconvert_exporter": "python",
   "pygments_lexer": "ipython2",
   "version": "2.7.11"
  }
 },
 "nbformat": 4,
 "nbformat_minor": 0
}
