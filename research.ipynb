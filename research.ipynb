{
 "cells": [
  {
   "cell_type": "code",
   "execution_count": 1,
   "metadata": {
    "collapsed": true
   },
   "outputs": [],
   "source": [
    "import xarray as xr"
   ]
  },
  {
   "cell_type": "code",
   "execution_count": 5,
   "metadata": {
    "collapsed": false
   },
   "outputs": [
    {
     "data": {
      "text/plain": [
       "<xarray.Dataset>\n",
       "Dimensions:             (depth: 102, lat: 160, lon: 360, nbounds: 2, time: 1)\n",
       "Coordinates:\n",
       "  * lat                 (lat) float32 -79.5 -78.5 -77.5 -76.5 -75.5 -74.5 ...\n",
       "  * lon                 (lon) float32 -179.5 -178.5 -177.5 -176.5 -175.5 ...\n",
       "  * depth               (depth) float32 0.0 5.0 10.0 15.0 20.0 25.0 30.0 ...\n",
       "  * time                (time) float32 6.0\n",
       "  * nbounds             (nbounds) int64 0 1\n",
       "Data variables:\n",
       "    crs                 int64 -2147483647\n",
       "    lat_bnds            (lat, nbounds) float32 -80.0 -79.0 -79.0 -78.0 -78.0 ...\n",
       "    lon_bnds            (lon, nbounds) float32 -180.0 -179.0 -179.0 -178.0 ...\n",
       "    depth_bnds          (depth, nbounds) float32 0.0 2.5 2.5 7.5 7.5 12.5 ...\n",
       "    climatology_bounds  (time, nbounds) float32 0.0 12.0\n",
       "    O_an                (time, depth, lat, lon) float64 nan nan nan nan nan ...\n",
       "    O_mn                (time, depth, lat, lon) float64 nan nan nan nan nan ...\n",
       "    O_dd                (time, depth, lat, lon) float64 nan nan nan nan nan ...\n",
       "    O_sd                (time, depth, lat, lon) float64 nan nan nan nan nan ...\n",
       "    O_se                (time, depth, lat, lon) float64 nan nan nan nan nan ...\n",
       "    O_oa                (time, depth, lat, lon) float64 nan nan nan nan nan ...\n",
       "    O_gp                (time, depth, lat, lon) float64 nan nan nan nan nan ...\n",
       "    A_an                (time, depth, lat, lon) float64 nan nan nan nan nan ...\n",
       "    A_mn                (time, depth, lat, lon) float64 nan nan nan nan nan ...\n",
       "    A_dd                (time, depth, lat, lon) float64 nan nan nan nan nan ...\n",
       "    A_sd                (time, depth, lat, lon) float64 nan nan nan nan nan ...\n",
       "    A_se                (time, depth, lat, lon) float64 nan nan nan nan nan ...\n",
       "    A_oa                (time, depth, lat, lon) float64 nan nan nan nan nan ...\n",
       "    A_gp                (time, depth, lat, lon) float64 nan nan nan nan nan ...\n",
       "    p_an                (time, depth, lat, lon) float64 nan nan nan nan nan ...\n",
       "    p_mn                (time, depth, lat, lon) float64 nan nan nan nan nan ...\n",
       "    p_dd                (time, depth, lat, lon) float64 nan nan nan nan nan ...\n",
       "    p_sd                (time, depth, lat, lon) float64 nan nan nan nan nan ...\n",
       "    p_se                (time, depth, lat, lon) float64 nan nan nan nan nan ...\n",
       "    p_oa                (time, depth, lat, lon) float64 nan nan nan nan nan ...\n",
       "    p_gp                (time, depth, lat, lon) float64 9.969e+36 9.969e+36 ...\n",
       "Attributes:\n",
       "    Conventions: CF-1.6\n",
       "    title: World Ocean Atlas 2013 version 2 : fractional_saturation_of_oxygen_in_seawater Annual 1.00 degree\n",
       "    summary: Climatological mean Percent Oxygen Saturation for the global ocean from in situ profile data\n",
       "    references:  Garcia H. E., T. P. Boyer, R. A. Locarnini, A. V. Mishonov, J. I. Antonov, O. K. Baranova, M. M. Zweng, J. R. Reagan, and D. R. Johnson, 2013: World Ocean Atlas 2013, Volume 3: Dissolve Oxygen, Apparent Oxygen Utilization, and Oxygen Saturation. S. Levitus, Ed., A. Mishonov technical editor, NOAA Atlas NESDIS 75, 29 pp.\n",
       "    institution: National Oceanographic Data Center(NODC)\n",
       "    comment: global climatology as part of the World Ocean Atlas project\n",
       "    id: woa13_all_O00_01.nc\n",
       "    naming_authority: gov.noaa.nodc\n",
       "    standard_name_vocabulary: NetCDF Climate and Forecast (CF) Metadata Convention Standard Name Table v29\n",
       "    sea_name: World-Wide Distribution\n",
       "    time_coverage_start: 0000-01-01\n",
       "    time_coverage_duration: P01Y\n",
       "    time_coverage_resolution: P01Y\n",
       "    geospatial_lat_min: -90.0\n",
       "    geospatial_lat_max: 90.0\n",
       "    geospatial_lon_min: -180.0\n",
       "    geospatial_lon_max: 180.0\n",
       "    geospatial_vertical_min: 0.0\n",
       "    geospatial_vertical_max: 5500.0\n",
       "    geospatial_lat_units: degrees_north\n",
       "    geospatial_lat_resolution: 1.00 degrees\n",
       "    geospatial_lon_units: degrees_east\n",
       "    geospatial_lon_resolution: 1.00 degrees\n",
       "    geospatial_vertical_units: m\n",
       "    geospatial_vertical_positive: down\n",
       "    creator_name: Ocean Climate Laboratory\n",
       "    creator_email: NODC.Services@noaa.gov\n",
       "    creator_url: http://www.nodc.noaa.gov\n",
       "    project: World Ocean Atlas\n",
       "    processing_level: processed\n",
       "    keywords: <ISO_TOPIC_Category> Oceans</ISO_TOPIC_Category>\n",
       "    keywords_vocabulary: ISO 19115\n",
       "    contributor_name: Ocean Climate Laboratory\n",
       "    contributor_role: Calculation of climatologies\n",
       "    cdm_data_type: Grid\n",
       "    publisher_name: National Oceanographic Data Center\n",
       "    publisher_url: http://www.nodc.noaa.gov/\n",
       "    publisher_email: NODC.Services@noaa.gov\n",
       "    nodc_template_version: NODC_NetCDF_Grid_Template_v1.0\n",
       "    license: These data are openly available to the public. Please acknowledge the use of these data with the text given in the acknowledgment attribute.\n",
       "    Metadata_Conventions: Unidata Dataset Discovery v1.0\n",
       "    metadata_link: http://www.nodc.noaa.gov/OC5/WOA13/pr_woa13.html\n",
       "    date_created: 2011-09-28 \n",
       "    date_modified: 2011-09-28 "
      ]
     },
     "execution_count": 5,
     "metadata": {},
     "output_type": "execute_result"
    }
   ],
   "source": [
    "ds = xr.open_dataset('/home/rpa/WOA_analysis/WOA13v2.nc', decode_cf=False)\n",
    "ds"
   ]
  },
  {
   "cell_type": "code",
   "execution_count": 6,
   "metadata": {
    "collapsed": false
   },
   "outputs": [
    {
     "data": {
      "text/plain": [
       "<xarray.DataArray 'crs' ()>\n",
       "array(-2147483647)\n",
       "Attributes:\n",
       "    grid_mapping_name: latitude_longitude\n",
       "    epsg_code: EPSG:4326\n",
       "    longitude_of_prime_meridian: 0.0\n",
       "    semi_major_axis: 6.37814e+06\n",
       "    inverse_flattening: 298.257"
      ]
     },
     "execution_count": 6,
     "metadata": {},
     "output_type": "execute_result"
    }
   ],
   "source": [
    "ds.crs"
   ]
  },
  {
   "cell_type": "code",
   "execution_count": 9,
   "metadata": {
    "collapsed": false
   },
   "outputs": [
    {
     "data": {
      "text/plain": [
       "<xarray.DataArray 'time' (time: 1)>\n",
       "array([ 6.], dtype=float32)\n",
       "Coordinates:\n",
       "  * time     (time) float32 6.0\n",
       "Attributes:\n",
       "    standard_name: time\n",
       "    long_name: time\n",
       "    units: months since 0000-01-01 00:00:00\n",
       "    axis: T\n",
       "    climatology: climatology_bounds"
      ]
     },
     "execution_count": 9,
     "metadata": {},
     "output_type": "execute_result"
    }
   ],
   "source": [
    "ds.O_an.time"
   ]
  },
  {
   "cell_type": "code",
   "execution_count": null,
   "metadata": {
    "collapsed": true
   },
   "outputs": [],
   "source": []
  }
 ],
 "metadata": {
  "kernelspec": {
   "display_name": "Python 2.7",
   "language": "python",
   "name": "python2"
  },
  "language_info": {
   "codemirror_mode": {
    "name": "ipython",
    "version": 2
   },
   "file_extension": ".py",
   "mimetype": "text/x-python",
   "name": "python",
   "nbconvert_exporter": "python",
   "pygments_lexer": "ipython2",
   "version": "2.7.11"
  }
 },
 "nbformat": 4,
 "nbformat_minor": 0
}
