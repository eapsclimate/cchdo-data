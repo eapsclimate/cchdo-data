{
 "cells": [
  {
   "cell_type": "markdown",
   "metadata": {},
   "source": [
    "### traj_5730-5760_0005437714-325020080826"
   ]
  },
  {
   "cell_type": "markdown",
   "metadata": {},
   "source": [
    "** packages **"
   ]
  },
  {
   "cell_type": "code",
   "execution_count": 1,
   "metadata": {
    "collapsed": true
   },
   "outputs": [],
   "source": [
    "from ctd2xray import cchdo\n",
    "from mpl_toolkits.basemap import Basemap\n",
    "from pymongo import MongoClient\n",
    "import gsw\n",
    "import matplotlib as mpl\n",
    "import matplotlib.pyplot as plt\n",
    "import numpy as np\n",
    "import seaborn as sns\n",
    "import xarray as xr\n",
    "from Circles.circles import circle"
   ]
  },
  {
   "cell_type": "code",
   "execution_count": 2,
   "metadata": {
    "collapsed": true
   },
   "outputs": [],
   "source": [
    "%matplotlib inline"
   ]
  },
  {
   "cell_type": "markdown",
   "metadata": {},
   "source": [
    "** traj_5730-5760_0005437714 **"
   ]
  },
  {
   "cell_type": "markdown",
   "metadata": {},
   "source": [
    "Sep. 9, 2008 - Oct. 9, 2008"
   ]
  },
  {
   "cell_type": "code",
   "execution_count": 3,
   "metadata": {
    "collapsed": false
   },
   "outputs": [],
   "source": [
    "rcs_eddies = MongoClient().eddies.rcs_eddies"
   ]
  },
  {
   "cell_type": "code",
   "execution_count": 4,
   "metadata": {
    "collapsed": true
   },
   "outputs": [],
   "source": [
    "eddy_code = 'traj_5730-5760_0005437714'"
   ]
  },
  {
   "cell_type": "code",
   "execution_count": 5,
   "metadata": {
    "collapsed": false
   },
   "outputs": [],
   "source": [
    "eddy_rclv = rcs_eddies.find_one({'_id': eddy_code})"
   ]
  },
  {
   "cell_type": "code",
   "execution_count": 7,
   "metadata": {
    "collapsed": false
   },
   "outputs": [],
   "source": [
    "eddy_traj = eddy_rclv['features'][2]['geometry']['coordinates']"
   ]
  },
  {
   "cell_type": "code",
   "execution_count": 8,
   "metadata": {
    "collapsed": false
   },
   "outputs": [],
   "source": [
    "obs_num = len(eddy_traj)"
   ]
  },
  {
   "cell_type": "code",
   "execution_count": 9,
   "metadata": {
    "collapsed": true
   },
   "outputs": [],
   "source": [
    "lon_eddy = np.zeros(obs_num)\n",
    "lat_eddy = np.zeros(obs_num)"
   ]
  },
  {
   "cell_type": "code",
   "execution_count": 10,
   "metadata": {
    "collapsed": false
   },
   "outputs": [],
   "source": [
    "for i in range(obs_num):\n",
    "    lon_eddy[i] = eddy_traj[i][0]\n",
    "    lat_eddy[i] = eddy_traj[i][1]"
   ]
  },
  {
   "cell_type": "markdown",
   "metadata": {},
   "source": [
    "** 325020080826 **"
   ]
  },
  {
   "cell_type": "markdown",
   "metadata": {},
   "source": [
    "Aug. 26, 2008 - Sep. 17, 2008"
   ]
  },
  {
   "cell_type": "code",
   "execution_count": 11,
   "metadata": {
    "collapsed": true
   },
   "outputs": [],
   "source": [
    "cchdo_ctd = MongoClient().eddies.cchdo_ctd"
   ]
  },
  {
   "cell_type": "code",
   "execution_count": 12,
   "metadata": {
    "collapsed": true
   },
   "outputs": [],
   "source": [
    "expo_code = '325020080826'"
   ]
  },
  {
   "cell_type": "code",
   "execution_count": 13,
   "metadata": {
    "collapsed": false
   },
   "outputs": [],
   "source": [
    "cas_num = cchdo_ctd.find({'expocode': expo_code}).count()"
   ]
  },
  {
   "cell_type": "code",
   "execution_count": 14,
   "metadata": {
    "collapsed": false
   },
   "outputs": [],
   "source": [
    "lon_expo = np.zeros(cas_num)\n",
    "lat_expo = np.zeros(cas_num)"
   ]
  },
  {
   "cell_type": "code",
   "execution_count": 15,
   "metadata": {
    "collapsed": true
   },
   "outputs": [],
   "source": [
    "# longitude range setting\n",
    "# from 0 to 360\n",
    "def format(longitude):\n",
    "    if longitude > 0:\n",
    "        longitude = longitude\n",
    "    else:\n",
    "        longitude = longitude + 360\n",
    "    return longitude"
   ]
  },
  {
   "cell_type": "code",
   "execution_count": 16,
   "metadata": {
    "collapsed": false
   },
   "outputs": [],
   "source": [
    "i = 0\n",
    "for expo in cchdo_ctd.find({'expocode': expo_code}).sort('time', 1):\n",
    "    lon_expo[i] = format(expo['location']['coordinates'][0])\n",
    "    lat_expo[i] = expo['location']['coordinates'][1]\n",
    "    i = i+1"
   ]
  },
  {
   "cell_type": "code",
   "execution_count": 25,
   "metadata": {
    "collapsed": false
   },
   "outputs": [
    {
     "data": {
      "image/png": "[encoded data removed]",
      "text/plain": [
       "<matplotlib.figure.Figure at 0x7fc2d8304210>"
      ]
     },
     "metadata": {},
     "output_type": "display_data"
    }
   ],
   "source": [
    "sns.set(color_codes=True)\n",
    "plt.rcParams['figure.figsize'] = (12, 12)\n",
    "mpl.rcParams['font.family'] = \"STIX\"\n",
    "my_map = Basemap(projection='cyl', llcrnrlat=25, urcrnrlat=27,\\\n",
    "                 llcrnrlon=207, urcrnrlon=209, resolution='c')\n",
    "my_map.fillcontinents()\n",
    "parallels = np.arange(-90, 90, 1)\n",
    "my_map.drawparallels(parallels, labels=[True,False,False,True])\n",
    "meridians = np.arange(0, 360, 1)\n",
    "my_map.drawmeridians(meridians, labels=[True,False,False,True])\n",
    "x_eddy, y_eddy = my_map(lon_eddy, lat_eddy)\n",
    "x_expo, y_expo = my_map(lon_expo, lat_expo)\n",
    "my_map.plot(x_eddy, y_eddy, '.', color='#0080ff')\n",
    "my_map.plot(x_expo, y_expo, '.', color='#ff0080')\n",
    "plt.title(eddy_code + '-' + expo_code)\n",
    "plt.savefig('figures/figure-1/' + eddy_code + '-' + expo_code + '.jpeg')\n",
    "plt.show()"
   ]
  },
  {
   "cell_type": "markdown",
   "metadata": {
    "collapsed": true
   },
   "source": [
    "** temperature-salinity **"
   ]
  },
  {
   "cell_type": "code",
   "execution_count": 26,
   "metadata": {
    "collapsed": true
   },
   "outputs": [],
   "source": [
    "STA = 35\n",
    "CAS = 1"
   ]
  },
  {
   "cell_type": "code",
   "execution_count": 27,
   "metadata": {
    "collapsed": false
   },
   "outputs": [
    {
     "ename": "AttributeError",
     "evalue": "'Dataset' object has no attribute 'salinity'",
     "output_type": "error",
     "traceback": [
      "\u001b[1;31m---------------------------------------------------------------------------\u001b[0m",
      "\u001b[1;31mAttributeError\u001b[0m                            Traceback (most recent call last)",
      "\u001b[1;32m<ipython-input-27-8690788a9227>\u001b[0m in \u001b[0;36m<module>\u001b[1;34m()\u001b[0m\n\u001b[0;32m     10\u001b[0m     \u001b[0mp\u001b[0m \u001b[1;33m=\u001b[0m \u001b[0mds\u001b[0m\u001b[1;33m.\u001b[0m\u001b[0mpressure\u001b[0m\u001b[1;33m.\u001b[0m\u001b[0mvalues\u001b[0m\u001b[1;33m\u001b[0m\u001b[0m\n\u001b[0;32m     11\u001b[0m     \u001b[0mt\u001b[0m \u001b[1;33m=\u001b[0m \u001b[0mds\u001b[0m\u001b[1;33m.\u001b[0m\u001b[0mtemperature\u001b[0m\u001b[1;33m.\u001b[0m\u001b[0mvalues\u001b[0m\u001b[1;33m\u001b[0m\u001b[0m\n\u001b[1;32m---> 12\u001b[1;33m     \u001b[0ms\u001b[0m \u001b[1;33m=\u001b[0m \u001b[0mds\u001b[0m\u001b[1;33m.\u001b[0m\u001b[0msalinity\u001b[0m\u001b[1;33m.\u001b[0m\u001b[0mvalues\u001b[0m\u001b[1;33m\u001b[0m\u001b[0m\n\u001b[0m\u001b[0;32m     13\u001b[0m     \u001b[0mo\u001b[0m \u001b[1;33m=\u001b[0m \u001b[0mds\u001b[0m\u001b[1;33m.\u001b[0m\u001b[0moxygen\u001b[0m\u001b[1;33m.\u001b[0m\u001b[0mvalues\u001b[0m\u001b[1;33m\u001b[0m\u001b[0m\n\u001b[0;32m     14\u001b[0m     \u001b[0msa\u001b[0m \u001b[1;33m=\u001b[0m \u001b[0mgsw\u001b[0m\u001b[1;33m.\u001b[0m\u001b[0mSA_from_SP\u001b[0m\u001b[1;33m(\u001b[0m\u001b[0ms\u001b[0m\u001b[1;33m,\u001b[0m \u001b[0mp\u001b[0m\u001b[1;33m,\u001b[0m \u001b[0mlon\u001b[0m\u001b[1;33m,\u001b[0m \u001b[0mlat\u001b[0m\u001b[1;33m)\u001b[0m\u001b[1;33m\u001b[0m\u001b[0m\n",
      "\u001b[1;32m/usr/local/anaconda/lib/python2.7/site-packages/xarray/core/common.pyc\u001b[0m in \u001b[0;36m__getattr__\u001b[1;34m(self, name)\u001b[0m\n\u001b[0;32m    192\u001b[0m                     \u001b[1;32mreturn\u001b[0m \u001b[0msource\u001b[0m\u001b[1;33m[\u001b[0m\u001b[0mname\u001b[0m\u001b[1;33m]\u001b[0m\u001b[1;33m\u001b[0m\u001b[0m\n\u001b[0;32m    193\u001b[0m         raise AttributeError(\"%r object has no attribute %r\" %\n\u001b[1;32m--> 194\u001b[1;33m                              (type(self).__name__, name))\n\u001b[0m\u001b[0;32m    195\u001b[0m \u001b[1;33m\u001b[0m\u001b[0m\n\u001b[0;32m    196\u001b[0m     \u001b[1;32mdef\u001b[0m \u001b[0m__setattr__\u001b[0m\u001b[1;33m(\u001b[0m\u001b[0mself\u001b[0m\u001b[1;33m,\u001b[0m \u001b[0mname\u001b[0m\u001b[1;33m,\u001b[0m \u001b[0mvalue\u001b[0m\u001b[1;33m)\u001b[0m\u001b[1;33m:\u001b[0m\u001b[1;33m\u001b[0m\u001b[0m\n",
      "\u001b[1;31mAttributeError\u001b[0m: 'Dataset' object has no attribute 'salinity'"
     ]
    }
   ],
   "source": [
    "sns.set(color_codes=True)\n",
    "mpl.rcParams['font.family'] = \"STIX\"\n",
    "mpl.rcParams['figure.figsize'] = (12, 12)\n",
    "for expo in cchdo_ctd.find({'expocode': expo_code}).sort('time', 1):\n",
    "    ds = xr.open_dataset(expo['path'])\n",
    "    woce = str(ds.WOCE_ID)\n",
    "    time = ds.time.values[0]\n",
    "    lon = ds.longitude.values[0]\n",
    "    lat = ds.latitude.values[0]\n",
    "    p = ds.pressure.values\n",
    "    t = ds.temperature.values\n",
    "    s = ds.salinity.values\n",
    "    o = ds.oxygen.values\n",
    "    sa = gsw.SA_from_SP(s, p, lon, lat)\n",
    "    ct = gsw.CT_from_t(sa, t, p)\n",
    "    station = int(filter(str.isdigit, str(ds.STATION_NUMBER)))\n",
    "    cast = int(filter(str.isdigit, str(ds.CAST_NUMBER)))\n",
    "    if (station == STA and cast == CAS):\n",
    "        DAT = time\n",
    "        LAT = lat\n",
    "        plt.plot(sa, ct, color='#ff0000', zorder=2)\n",
    "    elif (STA-6) < station < STA:\n",
    "        plt.plot(sa, ct, color='#cccccc', zorder=1)\n",
    "    elif STA < station < (STA+6):\n",
    "        plt.plot(sa, ct, color='#999999', zorder=1)\n",
    "plt.xlim([32.5, 35])\n",
    "plt.ylim([0, 10])\n",
    "plt.title(eddy_code + '-' + expo_code)\n",
    "plt.xlabel('salinity')\n",
    "plt.ylabel('temperature')\n",
    "plt.savefig('figures/figure-2/' + eddy_code + '-' + expo_code + '.jpeg')\n",
    "plt.show()"
   ]
  },
  {
   "cell_type": "markdown",
   "metadata": {},
   "source": [
    "** pressure-temperature **"
   ]
  },
  {
   "cell_type": "code",
   "execution_count": 28,
   "metadata": {
    "collapsed": false
   },
   "outputs": [
    {
     "ename": "AttributeError",
     "evalue": "'Dataset' object has no attribute 'salinity'",
     "output_type": "error",
     "traceback": [
      "\u001b[1;31m---------------------------------------------------------------------------\u001b[0m",
      "\u001b[1;31mAttributeError\u001b[0m                            Traceback (most recent call last)",
      "\u001b[1;32m<ipython-input-28-3c6c4e0ade2f>\u001b[0m in \u001b[0;36m<module>\u001b[1;34m()\u001b[0m\n\u001b[0;32m     10\u001b[0m     \u001b[0mp\u001b[0m \u001b[1;33m=\u001b[0m \u001b[0mds\u001b[0m\u001b[1;33m.\u001b[0m\u001b[0mpressure\u001b[0m\u001b[1;33m.\u001b[0m\u001b[0mvalues\u001b[0m\u001b[1;33m\u001b[0m\u001b[0m\n\u001b[0;32m     11\u001b[0m     \u001b[0mt\u001b[0m \u001b[1;33m=\u001b[0m \u001b[0mds\u001b[0m\u001b[1;33m.\u001b[0m\u001b[0mtemperature\u001b[0m\u001b[1;33m.\u001b[0m\u001b[0mvalues\u001b[0m\u001b[1;33m\u001b[0m\u001b[0m\n\u001b[1;32m---> 12\u001b[1;33m     \u001b[0ms\u001b[0m \u001b[1;33m=\u001b[0m \u001b[0mds\u001b[0m\u001b[1;33m.\u001b[0m\u001b[0msalinity\u001b[0m\u001b[1;33m.\u001b[0m\u001b[0mvalues\u001b[0m\u001b[1;33m\u001b[0m\u001b[0m\n\u001b[0m\u001b[0;32m     13\u001b[0m     \u001b[0mo\u001b[0m \u001b[1;33m=\u001b[0m \u001b[0mds\u001b[0m\u001b[1;33m.\u001b[0m\u001b[0moxygen\u001b[0m\u001b[1;33m.\u001b[0m\u001b[0mvalues\u001b[0m\u001b[1;33m\u001b[0m\u001b[0m\n\u001b[0;32m     14\u001b[0m     \u001b[0msa\u001b[0m \u001b[1;33m=\u001b[0m \u001b[0mgsw\u001b[0m\u001b[1;33m.\u001b[0m\u001b[0mSA_from_SP\u001b[0m\u001b[1;33m(\u001b[0m\u001b[0ms\u001b[0m\u001b[1;33m,\u001b[0m \u001b[0mp\u001b[0m\u001b[1;33m,\u001b[0m \u001b[0mlon\u001b[0m\u001b[1;33m,\u001b[0m \u001b[0mlat\u001b[0m\u001b[1;33m)\u001b[0m\u001b[1;33m\u001b[0m\u001b[0m\n",
      "\u001b[1;32m/usr/local/anaconda/lib/python2.7/site-packages/xarray/core/common.pyc\u001b[0m in \u001b[0;36m__getattr__\u001b[1;34m(self, name)\u001b[0m\n\u001b[0;32m    192\u001b[0m                     \u001b[1;32mreturn\u001b[0m \u001b[0msource\u001b[0m\u001b[1;33m[\u001b[0m\u001b[0mname\u001b[0m\u001b[1;33m]\u001b[0m\u001b[1;33m\u001b[0m\u001b[0m\n\u001b[0;32m    193\u001b[0m         raise AttributeError(\"%r object has no attribute %r\" %\n\u001b[1;32m--> 194\u001b[1;33m                              (type(self).__name__, name))\n\u001b[0m\u001b[0;32m    195\u001b[0m \u001b[1;33m\u001b[0m\u001b[0m\n\u001b[0;32m    196\u001b[0m     \u001b[1;32mdef\u001b[0m \u001b[0m__setattr__\u001b[0m\u001b[1;33m(\u001b[0m\u001b[0mself\u001b[0m\u001b[1;33m,\u001b[0m \u001b[0mname\u001b[0m\u001b[1;33m,\u001b[0m \u001b[0mvalue\u001b[0m\u001b[1;33m)\u001b[0m\u001b[1;33m:\u001b[0m\u001b[1;33m\u001b[0m\u001b[0m\n",
      "\u001b[1;31mAttributeError\u001b[0m: 'Dataset' object has no attribute 'salinity'"
     ]
    }
   ],
   "source": [
    "sns.set(color_codes=True)\n",
    "plt.rcParams['figure.figsize'] = (12, 12)\n",
    "mpl.rcParams['font.family'] = \"STIX\"\n",
    "for expo in cchdo_ctd.find({'expocode': expo_code}).sort('time', 1):\n",
    "    ds = xr.open_dataset(expo['path'])\n",
    "    woce = str(ds.WOCE_ID)\n",
    "    time = ds.time.values[0]\n",
    "    lon = ds.longitude.values[0]\n",
    "    lat = ds.latitude.values[0]\n",
    "    p = ds.pressure.values\n",
    "    t = ds.temperature.values\n",
    "    s = ds.salinity.values\n",
    "    o = ds.oxygen.values\n",
    "    sa = gsw.SA_from_SP(s, p, lon, lat)\n",
    "    ct = gsw.CT_from_t(sa, t, p)\n",
    "    station = int(filter(str.isdigit, str(ds.STATION_NUMBER)))\n",
    "    cast = int(filter(str.isdigit, str(ds.CAST_NUMBER)))\n",
    "    if (station == STA and cast == CAS):\n",
    "        LAT = lat\n",
    "        plt.plot(ct, p, color='#ff0000', zorder=2)\n",
    "    elif (STA-6) < station < STA:\n",
    "        plt.plot(ct, p, color='#cccccc', zorder=1)\n",
    "    elif STA < station < (STA+6):\n",
    "        plt.plot(ct, p, color='#999999', zorder=1)\n",
    "plt.xlim([0, 10])\n",
    "plt.ylim([1000, 0])\n",
    "plt.title(eddy_code + '-' + expo_code)\n",
    "plt.xlabel('temperature')\n",
    "plt.ylabel('pressure')\n",
    "plt.savefig('figures/figure-3/' + eddy_code + '-' + expo_code + '.jpeg')\n",
    "plt.show()"
   ]
  },
  {
   "cell_type": "markdown",
   "metadata": {},
   "source": [
    "** pressure-salinity **"
   ]
  },
  {
   "cell_type": "code",
   "execution_count": 29,
   "metadata": {
    "collapsed": false
   },
   "outputs": [
    {
     "ename": "AttributeError",
     "evalue": "'Dataset' object has no attribute 'salinity'",
     "output_type": "error",
     "traceback": [
      "\u001b[1;31m---------------------------------------------------------------------------\u001b[0m",
      "\u001b[1;31mAttributeError\u001b[0m                            Traceback (most recent call last)",
      "\u001b[1;32m<ipython-input-29-022ccebe6560>\u001b[0m in \u001b[0;36m<module>\u001b[1;34m()\u001b[0m\n\u001b[0;32m     10\u001b[0m     \u001b[0mp\u001b[0m \u001b[1;33m=\u001b[0m \u001b[0mds\u001b[0m\u001b[1;33m.\u001b[0m\u001b[0mpressure\u001b[0m\u001b[1;33m.\u001b[0m\u001b[0mvalues\u001b[0m\u001b[1;33m\u001b[0m\u001b[0m\n\u001b[0;32m     11\u001b[0m     \u001b[0mt\u001b[0m \u001b[1;33m=\u001b[0m \u001b[0mds\u001b[0m\u001b[1;33m.\u001b[0m\u001b[0mtemperature\u001b[0m\u001b[1;33m.\u001b[0m\u001b[0mvalues\u001b[0m\u001b[1;33m\u001b[0m\u001b[0m\n\u001b[1;32m---> 12\u001b[1;33m     \u001b[0ms\u001b[0m \u001b[1;33m=\u001b[0m \u001b[0mds\u001b[0m\u001b[1;33m.\u001b[0m\u001b[0msalinity\u001b[0m\u001b[1;33m.\u001b[0m\u001b[0mvalues\u001b[0m\u001b[1;33m\u001b[0m\u001b[0m\n\u001b[0m\u001b[0;32m     13\u001b[0m     \u001b[0mo\u001b[0m \u001b[1;33m=\u001b[0m \u001b[0mds\u001b[0m\u001b[1;33m.\u001b[0m\u001b[0moxygen\u001b[0m\u001b[1;33m.\u001b[0m\u001b[0mvalues\u001b[0m\u001b[1;33m\u001b[0m\u001b[0m\n\u001b[0;32m     14\u001b[0m     \u001b[0msa\u001b[0m \u001b[1;33m=\u001b[0m \u001b[0mgsw\u001b[0m\u001b[1;33m.\u001b[0m\u001b[0mSA_from_SP\u001b[0m\u001b[1;33m(\u001b[0m\u001b[0ms\u001b[0m\u001b[1;33m,\u001b[0m \u001b[0mp\u001b[0m\u001b[1;33m,\u001b[0m \u001b[0mlon\u001b[0m\u001b[1;33m,\u001b[0m \u001b[0mlat\u001b[0m\u001b[1;33m)\u001b[0m\u001b[1;33m\u001b[0m\u001b[0m\n",
      "\u001b[1;32m/usr/local/anaconda/lib/python2.7/site-packages/xarray/core/common.pyc\u001b[0m in \u001b[0;36m__getattr__\u001b[1;34m(self, name)\u001b[0m\n\u001b[0;32m    192\u001b[0m                     \u001b[1;32mreturn\u001b[0m \u001b[0msource\u001b[0m\u001b[1;33m[\u001b[0m\u001b[0mname\u001b[0m\u001b[1;33m]\u001b[0m\u001b[1;33m\u001b[0m\u001b[0m\n\u001b[0;32m    193\u001b[0m         raise AttributeError(\"%r object has no attribute %r\" %\n\u001b[1;32m--> 194\u001b[1;33m                              (type(self).__name__, name))\n\u001b[0m\u001b[0;32m    195\u001b[0m \u001b[1;33m\u001b[0m\u001b[0m\n\u001b[0;32m    196\u001b[0m     \u001b[1;32mdef\u001b[0m \u001b[0m__setattr__\u001b[0m\u001b[1;33m(\u001b[0m\u001b[0mself\u001b[0m\u001b[1;33m,\u001b[0m \u001b[0mname\u001b[0m\u001b[1;33m,\u001b[0m \u001b[0mvalue\u001b[0m\u001b[1;33m)\u001b[0m\u001b[1;33m:\u001b[0m\u001b[1;33m\u001b[0m\u001b[0m\n",
      "\u001b[1;31mAttributeError\u001b[0m: 'Dataset' object has no attribute 'salinity'"
     ]
    }
   ],
   "source": [
    "sns.set(color_codes=True)\n",
    "mpl.rcParams['figure.figsize'] = (12, 12)\n",
    "mpl.rcParams['font.family'] = \"STIX\"\n",
    "for expo in cchdo_ctd.find({'expocode': expo_code}).sort('time', 1):\n",
    "    ds = xr.open_dataset(expo['path'])\n",
    "    time = ds.time.values[0]\n",
    "    woce = str(ds.WOCE_ID)\n",
    "    lon = ds.longitude.values[0]\n",
    "    lat = ds.latitude.values[0]\n",
    "    p = ds.pressure.values\n",
    "    t = ds.temperature.values\n",
    "    s = ds.salinity.values\n",
    "    o = ds.oxygen.values\n",
    "    sa = gsw.SA_from_SP(s, p, lon, lat)\n",
    "    ct = gsw.CT_from_t(sa, t, p)\n",
    "    station = int(filter(str.isdigit, str(ds.STATION_NUMBER)))\n",
    "    cast = int(filter(str.isdigit, str(ds.CAST_NUMBER)))\n",
    "    if (station == STA and cast == CAS):\n",
    "        DAT = time\n",
    "        LAT = lat\n",
    "        plt.plot(sa, p, color='#ff0000', zorder=2)\n",
    "    elif (STA-6) < station < STA:\n",
    "        plt.plot(sa, p, color='#cccccc', zorder=1)\n",
    "    elif STA < station < (STA+6):\n",
    "        plt.plot(sa, p, color='#999999', zorder=1)\n",
    "plt.xlim([32.5, 35])\n",
    "plt.ylim([1000, 0])\n",
    "plt.title(eddy_code + '-' + expo_code)\n",
    "plt.xlabel('salinity')\n",
    "plt.ylabel('pressure')\n",
    "plt.savefig('figures/figure-4/' + eddy_code + '-' + expo_code + '.jpeg')\n",
    "plt.show()"
   ]
  },
  {
   "cell_type": "markdown",
   "metadata": {},
   "source": [
    "** pressure-oxygen **"
   ]
  },
  {
   "cell_type": "code",
   "execution_count": 30,
   "metadata": {
    "collapsed": false
   },
   "outputs": [
    {
     "data": {
      "image/png": "[encoded data removed]",
      "text/plain": [
       "<matplotlib.figure.Figure at 0x7fc2d81a9450>"
      ]
     },
     "metadata": {},
     "output_type": "display_data"
    }
   ],
   "source": [
    "sns.set(color_codes=True)\n",
    "mpl.rcParams['figure.figsize'] = (12, 12)\n",
    "mpl.rcParams['font.family'] = \"STIX\"\n",
    "for expo in cchdo_ctd.find({'expocode': expo_code}).sort('time', 1):\n",
    "    ds = xr.open_dataset(expo['path'])\n",
    "    woce = str(ds.WOCE_ID)\n",
    "    time = ds.time.values[0]\n",
    "    lon = ds.longitude.values[0]\n",
    "    lat = ds.latitude.values[0]\n",
    "    p = ds.pressure.values\n",
    "    t = ds.temperature.values\n",
    "    #s = ds.salinity.values\n",
    "    #o = ds.oxygen.values\n",
    "    #sa = gsw.SA_from_SP(s, p, lon, lat)\n",
    "    #ct = gsw.CT_from_t(sa, t, p)\n",
    "    station = int(filter(str.isdigit, str(ds.STATION_NUMBER)))\n",
    "    cast = int(filter(str.isdigit, str(ds.CAST_NUMBER)))\n",
    "    if (station == STA and cast == CAS):\n",
    "        LAT = lat\n",
    "        #plt.plot(o, p, color='#ff0000', zorder=2)\n",
    "    #elif (STA-6) < station < STA:\n",
    "        #plt.plot(o, p, color='#cccccc', zorder=1)\n",
    "    #elif STA < station < (STA+6):\n",
    "        #plt.plot(o, p, color='#999999', zorder=1)\n",
    "plt.xlim([0, 350])\n",
    "plt.ylim([1000, 0])\n",
    "plt.title(eddy_code + '-' + expo_code)\n",
    "plt.xlabel('oxygen')\n",
    "plt.ylabel('pressure')\n",
    "plt.savefig('figures/figure-5/' + eddy_code + '-' + expo_code + '.jpeg')\n",
    "plt.show()"
   ]
  },
  {
   "cell_type": "code",
   "execution_count": 31,
   "metadata": {
    "collapsed": false
   },
   "outputs": [
    {
     "data": {
      "text/plain": [
       "26.000299"
      ]
     },
     "execution_count": 31,
     "metadata": {},
     "output_type": "execute_result"
    }
   ],
   "source": [
    "LAT"
   ]
  },
  {
   "cell_type": "code",
   "execution_count": 32,
   "metadata": {
    "collapsed": false
   },
   "outputs": [
    {
     "data": {
      "text/plain": [
       "{u'_id': ObjectId('583c78002895ee70a2e32a35'),\n",
       " u'cast': u'01',\n",
       " u'category': u'CTD',\n",
       " u'expocode': u'325020080826',\n",
       " u'location': {u'coordinates': [-152.00050354003906, 17.999799728393555],\n",
       "  u'type': u'Point'},\n",
       " u'path': u'/home/cz2397/data/cchdo-ctd/741_325020080826_nc_ctd/325020080826_00039_00001_ctd.nc',\n",
       " u'station': u'039',\n",
       " u'time': datetime.datetime(2008, 9, 16, 0, 52)}"
      ]
     },
     "execution_count": 32,
     "metadata": {},
     "output_type": "execute_result"
    }
   ],
   "source": [
    "expo"
   ]
  },
  {
   "cell_type": "markdown",
   "metadata": {},
   "source": [
    "** contours **"
   ]
  },
  {
   "cell_type": "code",
   "execution_count": 33,
   "metadata": {
    "collapsed": true
   },
   "outputs": [],
   "source": [
    "path_list = '/home/cz2397/data/cchdo-ctd/741_325020080826_nc_ctd/325020080826*'"
   ]
  },
  {
   "cell_type": "code",
   "execution_count": 34,
   "metadata": {
    "collapsed": true
   },
   "outputs": [],
   "source": [
    "pressure = np.linspace(0, 6000, num=6001, endpoint=True)"
   ]
  },
  {
   "cell_type": "code",
   "execution_count": 35,
   "metadata": {
    "collapsed": false
   },
   "outputs": [],
   "source": [
    "ds_tim = cchdo.open_cchdo_as_mfdataset(path_list, pressure)"
   ]
  },
  {
   "cell_type": "code",
   "execution_count": 36,
   "metadata": {
    "collapsed": true
   },
   "outputs": [],
   "source": [
    "ds_lat = ds_tim.swap_dims({'time': 'latitude'})"
   ]
  },
  {
   "cell_type": "code",
   "execution_count": 37,
   "metadata": {
    "collapsed": false
   },
   "outputs": [
    {
     "data": {
      "image/png": "[encoded data removed]",
      "text/plain": [
       "<matplotlib.figure.Figure at 0x7fc2d81e9b50>"
      ]
     },
     "metadata": {},
     "output_type": "display_data"
    }
   ],
   "source": [
    "sns.set(color_codes=True)\n",
    "fig, ax = plt.subplots(figsize=(16, 8))\n",
    "mpl.rcParams['font.family'] = \"STIX\"\n",
    "image = ds_lat.temperature_i.T.plot.contourf(yincrease=False, ax=ax, cmap='bwr',\\\n",
    "                                             vmin=2, vmax=6, levels=40)\n",
    "image.colorbar.set_label('temperature')\n",
    "plt.xlim([LAT-5, LAT+5])\n",
    "plt.ylim([1000, 0])\n",
    "plt.axvline(LAT, color='k')\n",
    "plt.title(eddy_code + '-' + expo_code)\n",
    "plt.xlabel('latitude')\n",
    "plt.ylabel('pressure')\n",
    "plt.savefig('figures/figure-6/' + eddy_code + '-' + expo_code + '.jpeg')\n",
    "plt.show()"
   ]
  },
  {
   "cell_type": "code",
   "execution_count": 38,
   "metadata": {
    "collapsed": false
   },
   "outputs": [
    {
     "ename": "AttributeError",
     "evalue": "'Dataset' object has no attribute 'salinity_i'",
     "output_type": "error",
     "traceback": [
      "\u001b[1;31m---------------------------------------------------------------------------\u001b[0m",
      "\u001b[1;31mAttributeError\u001b[0m                            Traceback (most recent call last)",
      "\u001b[1;32m<ipython-input-38-807c85a30f0e>\u001b[0m in \u001b[0;36m<module>\u001b[1;34m()\u001b[0m\n\u001b[0;32m      2\u001b[0m \u001b[0mfig\u001b[0m\u001b[1;33m,\u001b[0m \u001b[0max\u001b[0m \u001b[1;33m=\u001b[0m \u001b[0mplt\u001b[0m\u001b[1;33m.\u001b[0m\u001b[0msubplots\u001b[0m\u001b[1;33m(\u001b[0m\u001b[0mfigsize\u001b[0m\u001b[1;33m=\u001b[0m\u001b[1;33m(\u001b[0m\u001b[1;36m16\u001b[0m\u001b[1;33m,\u001b[0m \u001b[1;36m8\u001b[0m\u001b[1;33m)\u001b[0m\u001b[1;33m)\u001b[0m\u001b[1;33m\u001b[0m\u001b[0m\n\u001b[0;32m      3\u001b[0m \u001b[0msns\u001b[0m\u001b[1;33m.\u001b[0m\u001b[0mset\u001b[0m\u001b[1;33m(\u001b[0m\u001b[0mcolor_codes\u001b[0m\u001b[1;33m=\u001b[0m\u001b[0mTrue\u001b[0m\u001b[1;33m)\u001b[0m\u001b[1;33m\u001b[0m\u001b[0m\n\u001b[1;32m----> 4\u001b[1;33m \u001b[0mimage\u001b[0m \u001b[1;33m=\u001b[0m \u001b[0mds_lat\u001b[0m\u001b[1;33m.\u001b[0m\u001b[0msalinity_i\u001b[0m\u001b[1;33m.\u001b[0m\u001b[0mT\u001b[0m\u001b[1;33m.\u001b[0m\u001b[0mplot\u001b[0m\u001b[1;33m.\u001b[0m\u001b[0mcontourf\u001b[0m\u001b[1;33m(\u001b[0m\u001b[0myincrease\u001b[0m\u001b[1;33m=\u001b[0m\u001b[0mFalse\u001b[0m\u001b[1;33m,\u001b[0m \u001b[0max\u001b[0m\u001b[1;33m=\u001b[0m\u001b[0max\u001b[0m\u001b[1;33m,\u001b[0m \u001b[0mcmap\u001b[0m\u001b[1;33m=\u001b[0m\u001b[1;34m'bwr'\u001b[0m\u001b[1;33m,\u001b[0m                                          \u001b[0mvmin\u001b[0m\u001b[1;33m=\u001b[0m\u001b[1;36m32.5\u001b[0m\u001b[1;33m,\u001b[0m \u001b[0mvmax\u001b[0m\u001b[1;33m=\u001b[0m\u001b[1;36m35\u001b[0m\u001b[1;33m,\u001b[0m \u001b[0mlevels\u001b[0m\u001b[1;33m=\u001b[0m\u001b[1;36m40\u001b[0m\u001b[1;33m)\u001b[0m\u001b[1;33m\u001b[0m\u001b[0m\n\u001b[0m\u001b[0;32m      5\u001b[0m \u001b[0mimage\u001b[0m\u001b[1;33m.\u001b[0m\u001b[0mcolorbar\u001b[0m\u001b[1;33m.\u001b[0m\u001b[0mset_label\u001b[0m\u001b[1;33m(\u001b[0m\u001b[1;34m'salinity'\u001b[0m\u001b[1;33m)\u001b[0m\u001b[1;33m\u001b[0m\u001b[0m\n\u001b[0;32m      6\u001b[0m \u001b[0mplt\u001b[0m\u001b[1;33m.\u001b[0m\u001b[0mxlim\u001b[0m\u001b[1;33m(\u001b[0m\u001b[1;33m[\u001b[0m\u001b[0mLAT\u001b[0m\u001b[1;33m-\u001b[0m\u001b[1;36m5\u001b[0m\u001b[1;33m,\u001b[0m \u001b[0mLAT\u001b[0m\u001b[1;33m+\u001b[0m\u001b[1;36m5\u001b[0m\u001b[1;33m]\u001b[0m\u001b[1;33m)\u001b[0m\u001b[1;33m\u001b[0m\u001b[0m\n",
      "\u001b[1;32m/usr/local/anaconda/lib/python2.7/site-packages/xarray/core/common.pyc\u001b[0m in \u001b[0;36m__getattr__\u001b[1;34m(self, name)\u001b[0m\n\u001b[0;32m    192\u001b[0m                     \u001b[1;32mreturn\u001b[0m \u001b[0msource\u001b[0m\u001b[1;33m[\u001b[0m\u001b[0mname\u001b[0m\u001b[1;33m]\u001b[0m\u001b[1;33m\u001b[0m\u001b[0m\n\u001b[0;32m    193\u001b[0m         raise AttributeError(\"%r object has no attribute %r\" %\n\u001b[1;32m--> 194\u001b[1;33m                              (type(self).__name__, name))\n\u001b[0m\u001b[0;32m    195\u001b[0m \u001b[1;33m\u001b[0m\u001b[0m\n\u001b[0;32m    196\u001b[0m     \u001b[1;32mdef\u001b[0m \u001b[0m__setattr__\u001b[0m\u001b[1;33m(\u001b[0m\u001b[0mself\u001b[0m\u001b[1;33m,\u001b[0m \u001b[0mname\u001b[0m\u001b[1;33m,\u001b[0m \u001b[0mvalue\u001b[0m\u001b[1;33m)\u001b[0m\u001b[1;33m:\u001b[0m\u001b[1;33m\u001b[0m\u001b[0m\n",
      "\u001b[1;31mAttributeError\u001b[0m: 'Dataset' object has no attribute 'salinity_i'"
     ]
    },
    {
     "data": {
      "image/png": "[encoded data removed]",
      "text/plain": [
       "<matplotlib.figure.Figure at 0x7fc2d8e13310>"
      ]
     },
     "metadata": {},
     "output_type": "display_data"
    }
   ],
   "source": [
    "mpl.rcParams['font.family'] = 'STIX'\n",
    "fig, ax = plt.subplots(figsize=(16, 8))\n",
    "sns.set(color_codes=True)\n",
    "image = ds_lat.salinity_i.T.plot.contourf(yincrease=False, ax=ax, cmap='bwr',\\\n",
    "                                          vmin=32.5, vmax=35, levels=40)\n",
    "image.colorbar.set_label('salinity')\n",
    "plt.xlim([LAT-5, LAT+5])\n",
    "plt.ylim([1000, 0])\n",
    "plt.axvline(LAT, color='k')\n",
    "plt.title(eddy_code + '-' + expo_code)\n",
    "plt.xlabel('latitude')\n",
    "plt.ylabel('pressure')\n",
    "plt.savefig('figures/figure-7/' + eddy_code + '-' + expo_code + '.jpeg')\n",
    "plt.show()"
   ]
  },
  {
   "cell_type": "code",
   "execution_count": 39,
   "metadata": {
    "collapsed": false
   },
   "outputs": [
    {
     "ename": "AttributeError",
     "evalue": "'Dataset' object has no attribute 'oxygen_i'",
     "output_type": "error",
     "traceback": [
      "\u001b[1;31m---------------------------------------------------------------------------\u001b[0m",
      "\u001b[1;31mAttributeError\u001b[0m                            Traceback (most recent call last)",
      "\u001b[1;32m<ipython-input-39-25c2dc426fb9>\u001b[0m in \u001b[0;36m<module>\u001b[1;34m()\u001b[0m\n\u001b[0;32m      2\u001b[0m \u001b[0mfig\u001b[0m\u001b[1;33m,\u001b[0m \u001b[0max\u001b[0m \u001b[1;33m=\u001b[0m \u001b[0mplt\u001b[0m\u001b[1;33m.\u001b[0m\u001b[0msubplots\u001b[0m\u001b[1;33m(\u001b[0m\u001b[0mfigsize\u001b[0m\u001b[1;33m=\u001b[0m\u001b[1;33m(\u001b[0m\u001b[1;36m16\u001b[0m\u001b[1;33m,\u001b[0m \u001b[1;36m8\u001b[0m\u001b[1;33m)\u001b[0m\u001b[1;33m)\u001b[0m\u001b[1;33m\u001b[0m\u001b[0m\n\u001b[0;32m      3\u001b[0m \u001b[0mmpl\u001b[0m\u001b[1;33m.\u001b[0m\u001b[0mrcParams\u001b[0m\u001b[1;33m[\u001b[0m\u001b[1;34m'font.family'\u001b[0m\u001b[1;33m]\u001b[0m \u001b[1;33m=\u001b[0m \u001b[1;34m\"STIX\"\u001b[0m\u001b[1;33m\u001b[0m\u001b[0m\n\u001b[1;32m----> 4\u001b[1;33m \u001b[0mimage\u001b[0m \u001b[1;33m=\u001b[0m \u001b[0mds_lat\u001b[0m\u001b[1;33m.\u001b[0m\u001b[0moxygen_i\u001b[0m\u001b[1;33m.\u001b[0m\u001b[0mT\u001b[0m\u001b[1;33m.\u001b[0m\u001b[0mplot\u001b[0m\u001b[1;33m.\u001b[0m\u001b[0mcontourf\u001b[0m\u001b[1;33m(\u001b[0m\u001b[0myincrease\u001b[0m\u001b[1;33m=\u001b[0m\u001b[0mFalse\u001b[0m\u001b[1;33m,\u001b[0m \u001b[0max\u001b[0m\u001b[1;33m=\u001b[0m\u001b[0max\u001b[0m\u001b[1;33m,\u001b[0m \u001b[0mcmap\u001b[0m\u001b[1;33m=\u001b[0m\u001b[1;34m'bwr'\u001b[0m\u001b[1;33m,\u001b[0m                                        \u001b[0mvmin\u001b[0m\u001b[1;33m=\u001b[0m\u001b[1;36m20\u001b[0m\u001b[1;33m,\u001b[0m \u001b[0mvmax\u001b[0m\u001b[1;33m=\u001b[0m\u001b[1;36m300\u001b[0m\u001b[1;33m,\u001b[0m \u001b[0mlevels\u001b[0m\u001b[1;33m=\u001b[0m\u001b[1;36m45\u001b[0m\u001b[1;33m)\u001b[0m\u001b[1;33m\u001b[0m\u001b[0m\n\u001b[0m\u001b[0;32m      5\u001b[0m \u001b[0mimage\u001b[0m\u001b[1;33m.\u001b[0m\u001b[0mcolorbar\u001b[0m\u001b[1;33m.\u001b[0m\u001b[0mset_label\u001b[0m\u001b[1;33m(\u001b[0m\u001b[1;34m'oxygen'\u001b[0m\u001b[1;33m)\u001b[0m\u001b[1;33m\u001b[0m\u001b[0m\n\u001b[0;32m      6\u001b[0m \u001b[0mplt\u001b[0m\u001b[1;33m.\u001b[0m\u001b[0mxlim\u001b[0m\u001b[1;33m(\u001b[0m\u001b[1;33m[\u001b[0m\u001b[0mLAT\u001b[0m\u001b[1;33m-\u001b[0m\u001b[1;36m5\u001b[0m\u001b[1;33m,\u001b[0m \u001b[0mLAT\u001b[0m\u001b[1;33m+\u001b[0m\u001b[1;36m5\u001b[0m\u001b[1;33m]\u001b[0m\u001b[1;33m)\u001b[0m\u001b[1;33m\u001b[0m\u001b[0m\n",
      "\u001b[1;32m/usr/local/anaconda/lib/python2.7/site-packages/xarray/core/common.pyc\u001b[0m in \u001b[0;36m__getattr__\u001b[1;34m(self, name)\u001b[0m\n\u001b[0;32m    192\u001b[0m                     \u001b[1;32mreturn\u001b[0m \u001b[0msource\u001b[0m\u001b[1;33m[\u001b[0m\u001b[0mname\u001b[0m\u001b[1;33m]\u001b[0m\u001b[1;33m\u001b[0m\u001b[0m\n\u001b[0;32m    193\u001b[0m         raise AttributeError(\"%r object has no attribute %r\" %\n\u001b[1;32m--> 194\u001b[1;33m                              (type(self).__name__, name))\n\u001b[0m\u001b[0;32m    195\u001b[0m \u001b[1;33m\u001b[0m\u001b[0m\n\u001b[0;32m    196\u001b[0m     \u001b[1;32mdef\u001b[0m \u001b[0m__setattr__\u001b[0m\u001b[1;33m(\u001b[0m\u001b[0mself\u001b[0m\u001b[1;33m,\u001b[0m \u001b[0mname\u001b[0m\u001b[1;33m,\u001b[0m \u001b[0mvalue\u001b[0m\u001b[1;33m)\u001b[0m\u001b[1;33m:\u001b[0m\u001b[1;33m\u001b[0m\u001b[0m\n",
      "\u001b[1;31mAttributeError\u001b[0m: 'Dataset' object has no attribute 'oxygen_i'"
     ]
    },
    {
     "data": {
      "image/png": "[encoded data removed]",
      "text/plain": [
       "<matplotlib.figure.Figure at 0x7fc2d8230410>"
      ]
     },
     "metadata": {},
     "output_type": "display_data"
    }
   ],
   "source": [
    "sns.set(color_codes=True)\n",
    "fig, ax = plt.subplots(figsize=(16, 8))\n",
    "mpl.rcParams['font.family'] = \"STIX\"\n",
    "image = ds_lat.oxygen_i.T.plot.contourf(yincrease=False, ax=ax, cmap='bwr',\\\n",
    "                                        vmin=20, vmax=300, levels=45)\n",
    "image.colorbar.set_label('oxygen')\n",
    "plt.xlim([LAT-5, LAT+5])\n",
    "plt.ylim([1000, 0])\n",
    "plt.axvline(LAT, color='k')\n",
    "plt.title(eddy_code + '-' + expo_code)\n",
    "plt.xlabel('latitude')\n",
    "plt.ylabel('pressure')\n",
    "plt.savefig('figures/figure-8/' + eddy_code + '-' + expo_code + '.jpeg')\n",
    "plt.show()"
   ]
  }
 ],
 "metadata": {
  "kernelspec": {
   "display_name": "Python 2.7",
   "language": "python",
   "name": "python2"
  },
  "language_info": {
   "codemirror_mode": {
    "name": "ipython",
    "version": 2
   },
   "file_extension": ".py",
   "mimetype": "text/x-python",
   "name": "python",
   "nbconvert_exporter": "python",
   "pygments_lexer": "ipython2",
   "version": "2.7.11"
  }
 },
 "nbformat": 4,
 "nbformat_minor": 0
}
