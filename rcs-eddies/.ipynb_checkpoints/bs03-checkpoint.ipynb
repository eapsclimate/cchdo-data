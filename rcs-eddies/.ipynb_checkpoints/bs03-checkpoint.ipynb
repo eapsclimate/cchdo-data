{
 "cells": [
  {
   "cell_type": "markdown",
   "metadata": {},
   "source": [
    "** packages **"
   ]
  },
  {
   "cell_type": "code",
   "execution_count": 1,
   "metadata": {
    "collapsed": true
   },
   "outputs": [],
   "source": [
    "from ctd2xray import cchdo\n",
    "from mpl_toolkits.basemap import Basemap\n",
    "from pymongo import MongoClient\n",
    "import gsw\n",
    "import matplotlib.pyplot as plt\n",
    "import numpy as np\n",
    "import seaborn as sns\n",
    "import xarray as xr\n",
    "%matplotlib inline"
   ]
  },
  {
   "cell_type": "markdown",
   "metadata": {},
   "source": [
    "** traj_5400-5430_0006806452 **"
   ]
  },
  {
   "cell_type": "markdown",
   "metadata": {},
   "source": [
    "Oct. 15, 2007 - Nov. 14, 2007"
   ]
  },
  {
   "cell_type": "code",
   "execution_count": 2,
   "metadata": {
    "collapsed": false
   },
   "outputs": [],
   "source": [
    "rcs_eddies = MongoClient().eddies.rcs_eddies"
   ]
  },
  {
   "cell_type": "code",
   "execution_count": 3,
   "metadata": {
    "collapsed": true
   },
   "outputs": [],
   "source": [
    "eddy_code = 'traj_5400-5430_0006806452'"
   ]
  },
  {
   "cell_type": "code",
   "execution_count": 4,
   "metadata": {
    "collapsed": true
   },
   "outputs": [],
   "source": [
    "eddy_rclv = rcs_eddies.find_one({'_id': eddy_code})"
   ]
  },
  {
   "cell_type": "code",
   "execution_count": 5,
   "metadata": {
    "collapsed": false
   },
   "outputs": [],
   "source": [
    "eddy_traj = eddy_rclv['features'][2]['geometry']['coordinates']"
   ]
  },
  {
   "cell_type": "code",
   "execution_count": 6,
   "metadata": {
    "collapsed": false
   },
   "outputs": [],
   "source": [
    "obs_num = len(eddy_traj)"
   ]
  },
  {
   "cell_type": "code",
   "execution_count": 7,
   "metadata": {
    "collapsed": true
   },
   "outputs": [],
   "source": [
    "lon_eddy = np.zeros(obs_num)\n",
    "lat_eddy = np.zeros(obs_num)"
   ]
  },
  {
   "cell_type": "code",
   "execution_count": 8,
   "metadata": {
    "collapsed": false
   },
   "outputs": [],
   "source": [
    "for i in range(obs_num):\n",
    "    lon_eddy[i] = eddy_traj[i][0]\n",
    "    lat_eddy[i] = eddy_traj[i][1]"
   ]
  },
  {
   "cell_type": "markdown",
   "metadata": {},
   "source": [
    "** 49NZ20071008 **"
   ]
  },
  {
   "cell_type": "markdown",
   "metadata": {},
   "source": [
    "Oct. 08, 2007 - Dec. 26, 2007"
   ]
  },
  {
   "cell_type": "code",
   "execution_count": 9,
   "metadata": {
    "collapsed": true
   },
   "outputs": [],
   "source": [
    "cchdo_ctd = MongoClient().eddies.cchdo_ctd"
   ]
  },
  {
   "cell_type": "code",
   "execution_count": 10,
   "metadata": {
    "collapsed": true
   },
   "outputs": [],
   "source": [
    "expo_code = '49NZ20071008'"
   ]
  },
  {
   "cell_type": "code",
   "execution_count": 11,
   "metadata": {
    "collapsed": false
   },
   "outputs": [],
   "source": [
    "cas_num = cchdo_ctd.find({'expocode': expo_code}).count()"
   ]
  },
  {
   "cell_type": "code",
   "execution_count": 12,
   "metadata": {
    "collapsed": false
   },
   "outputs": [
    {
     "data": {
      "text/plain": [
       "144"
      ]
     },
     "execution_count": 12,
     "metadata": {},
     "output_type": "execute_result"
    }
   ],
   "source": [
    "cas_num"
   ]
  },
  {
   "cell_type": "code",
   "execution_count": 13,
   "metadata": {
    "collapsed": false
   },
   "outputs": [],
   "source": [
    "lon_expo = np.zeros(cas_num)\n",
    "lat_expo = np.zeros(cas_num)"
   ]
  },
  {
   "cell_type": "code",
   "execution_count": 14,
   "metadata": {
    "collapsed": true
   },
   "outputs": [],
   "source": [
    "# longitude range setting\n",
    "# from 0 to 360\n",
    "def format(longitude):\n",
    "    if longitude > 0:\n",
    "        longitude = longitude\n",
    "    else:\n",
    "        longitude = longitude + 360\n",
    "    return longitude"
   ]
  },
  {
   "cell_type": "code",
   "execution_count": 15,
   "metadata": {
    "collapsed": true
   },
   "outputs": [],
   "source": [
    "i = 0"
   ]
  },
  {
   "cell_type": "code",
   "execution_count": 16,
   "metadata": {
    "collapsed": false
   },
   "outputs": [],
   "source": [
    "for expo_traj in cchdo_ctd.find({'expocode': expo_code}).sort('time', 1):\n",
    "    lon_expo[i] = format(expo_traj['location']['coordinates'][0])\n",
    "    lat_expo[i] = expo_traj['location']['coordinates'][1]\n",
    "    i = i+1"
   ]
  },
  {
   "cell_type": "code",
   "execution_count": 17,
   "metadata": {
    "collapsed": false
   },
   "outputs": [
    {
     "data": {
      "text/plain": [
       "144"
      ]
     },
     "execution_count": 17,
     "metadata": {},
     "output_type": "execute_result"
    }
   ],
   "source": [
    "i"
   ]
  },
  {
   "cell_type": "code",
   "execution_count": null,
   "metadata": {
    "collapsed": false
   },
   "outputs": [],
   "source": [
    "plt.rcParams['figure.figsize'] = (12, 12)\n",
    "my_map = Basemap(projection='cyl', llcrnrlat=53.1, urcrnrlat=53.6,\\\n",
    "                 llcrnrlon=180.5, urcrnrlon=182.5, resolution='i')\n",
    "my_map.fillcontinents()\n",
    "x_eddy, y_eddy = my_map(lon_eddy, lat_eddy)\n",
    "x_expo, y_expo = my_map(lon_expo, lat_expo)\n",
    "my_map.plot(x_eddy, y_eddy, '.', color='#0080ff')\n",
    "my_map.plot(x_expo, y_expo, '.', color='#ff0080')\n",
    "plt.savefig('figures/' + eddy_code + '-' + expo_code + '.jpeg')\n",
    "plt.show()"
   ]
  },
  {
   "cell_type": "markdown",
   "metadata": {
    "collapsed": true
   },
   "source": [
    "** temperature-salinity **"
   ]
  },
  {
   "cell_type": "code",
   "execution_count": 19,
   "metadata": {
    "collapsed": true
   },
   "outputs": [],
   "source": [
    "target = 8"
   ]
  },
  {
   "cell_type": "code",
   "execution_count": null,
   "metadata": {
    "collapsed": false
   },
   "outputs": [],
   "source": [
    "for expo in cchdo_ctd.find({'expocode': expo_code}):\n",
    "    ds = xr.open_dataset(expo['path'])\n",
    "    lon = ds.longitude.values[0]\n",
    "    lat = ds.latitude.values[0]\n",
    "    p = ds.pressure.values\n",
    "    t = ds.temperature.values\n",
    "    s = ds.salinity.values\n",
    "    o = ds.oxygen.values\n",
    "    sa = gsw.SA_from_SP(s, p, lon, lat)\n",
    "    ct = gsw.CT_from_t(sa, t, p)\n",
    "    station = int(filter(str.isdigit, str(ds.STATION_NUMBER)))\n",
    "    if station == target:\n",
    "        plt.plot(sa, ct, color='#ff0000', zorder=2)\n",
    "    elif (target-11) < station < target:\n",
    "        plt.plot(sa, ct, color='#cccccc', zorder=1)\n",
    "    elif target < station < (target+11):\n",
    "        plt.plot(sa, ct, color='#999999', zorder=1)\n",
    "plt.xlim([32.5, 35])\n",
    "plt.ylim([0, 10])\n",
    "plt.rcParams['figure.figsize'] = (12, 12)"
   ]
  },
  {
   "cell_type": "markdown",
   "metadata": {},
   "source": [
    "** pressure-temperature **"
   ]
  },
  {
   "cell_type": "code",
   "execution_count": null,
   "metadata": {
    "collapsed": false
   },
   "outputs": [],
   "source": [
    "for expo in cchdo_ctd.find({'expocode': expo_code}):\n",
    "    ds = xr.open_dataset(expo['path'])\n",
    "    lon = ds.longitude.values[0]\n",
    "    lat = ds.latitude.values[0]\n",
    "    p = ds.pressure.values\n",
    "    t = ds.temperature.values\n",
    "    s = ds.salinity.values\n",
    "    o = ds.oxygen.values\n",
    "    sa = gsw.SA_from_SP(s, p, lon, lat)\n",
    "    ct = gsw.CT_from_t(sa, t, p)\n",
    "    station = int(filter(str.isdigit, str(ds.STATION_NUMBER)))\n",
    "    if station == target:\n",
    "        plt.plot(ct, p, color='#ff0000', zorder=2)\n",
    "    elif (target-11) < station < target:\n",
    "        plt.plot(ct, p, color='#cccccc', zorder=1)\n",
    "    elif target < station < (target+11):\n",
    "        plt.plot(ct, p, color='#999999', zorder=1)\n",
    "plt.xlim([0, 10])\n",
    "plt.ylim([1000, 0])\n",
    "plt.rcParams['figure.figsize'] = (12, 12)"
   ]
  },
  {
   "cell_type": "markdown",
   "metadata": {},
   "source": [
    "** pressure-salinity **"
   ]
  },
  {
   "cell_type": "code",
   "execution_count": null,
   "metadata": {
    "collapsed": false
   },
   "outputs": [],
   "source": [
    "for expo in cchdo_ctd.find({'expocode': expo_code}):\n",
    "    ds = xr.open_dataset(expo['path'])\n",
    "    lon = ds.longitude.values[0]\n",
    "    lat = ds.latitude.values[0]\n",
    "    p = ds.pressure.values\n",
    "    t = ds.temperature.values\n",
    "    s = ds.salinity.values\n",
    "    o = ds.oxygen.values\n",
    "    sa = gsw.SA_from_SP(s, p, lon, lat)\n",
    "    ct = gsw.CT_from_t(sa, t, p)\n",
    "    station = int(filter(str.isdigit, str(ds.STATION_NUMBER)))\n",
    "    if station == target:\n",
    "        plt.plot(sa, p, color='#ff0000', zorder=2)\n",
    "    elif (target-11) < station < target:\n",
    "        plt.plot(sa, p, color='#cccccc', zorder=1)\n",
    "    elif target < station < (target+11):\n",
    "        plt.plot(sa, p, color='#999999', zorder=1)\n",
    "plt.xlim([32.5, 35])\n",
    "plt.ylim([1000, 0])\n",
    "plt.rcParams['figure.figsize'] = (12, 12)"
   ]
  },
  {
   "cell_type": "markdown",
   "metadata": {},
   "source": [
    "** temperature-oxygen **"
   ]
  },
  {
   "cell_type": "code",
   "execution_count": null,
   "metadata": {
    "collapsed": false
   },
   "outputs": [],
   "source": [
    "for expo in cchdo_ctd.find({'expocode': expo_code}):\n",
    "    ds = xr.open_dataset(expo['path'])\n",
    "    lon = ds.longitude.values[0]\n",
    "    lat = ds.latitude.values[0]\n",
    "    p = ds.pressure.values\n",
    "    t = ds.temperature.values\n",
    "    s = ds.salinity.values\n",
    "    o = ds.oxygen.values\n",
    "    sa = gsw.SA_from_SP(s, p, lon, lat)\n",
    "    ct = gsw.CT_from_t(sa, t, p)\n",
    "    station = int(filter(str.isdigit, str(ds.STATION_NUMBER)))\n",
    "    if station == target:\n",
    "        plt.plot(o, p, color='#ff0000', zorder=2)\n",
    "    elif (target-11) < station < target:\n",
    "        plt.plot(o, p, color='#cccccc', zorder=1)\n",
    "    elif target < station < (target+11):\n",
    "        plt.plot(o, p, color='#999999', zorder=1)\n",
    "plt.xlim([0, 350])\n",
    "plt.ylim([1000, 0])\n",
    "plt.rcParams['figure.figsize'] = (12, 12)"
   ]
  },
  {
   "cell_type": "markdown",
   "metadata": {},
   "source": [
    "** contours **"
   ]
  },
  {
   "cell_type": "code",
   "execution_count": null,
   "metadata": {
    "collapsed": true
   },
   "outputs": [],
   "source": [
    "path_list = '/home/cz2397/data/cchdo-ctd/201_p14_49NZ20071008_nc_ctd/p14n_*'"
   ]
  },
  {
   "cell_type": "code",
   "execution_count": null,
   "metadata": {
    "collapsed": true
   },
   "outputs": [],
   "source": [
    "pressure = np.linspace(0, 6000, num=6001, endpoint=True)"
   ]
  },
  {
   "cell_type": "code",
   "execution_count": null,
   "metadata": {
    "collapsed": false
   },
   "outputs": [],
   "source": [
    "ds_tim = cchdo.open_cchdo_as_mfdataset(path_list, pressure)"
   ]
  },
  {
   "cell_type": "code",
   "execution_count": null,
   "metadata": {
    "collapsed": true
   },
   "outputs": [],
   "source": [
    "ds_lat = ds_tim.swap_dims({'time': 'latitude'})"
   ]
  },
  {
   "cell_type": "code",
   "execution_count": null,
   "metadata": {
    "collapsed": false
   },
   "outputs": [],
   "source": [
    "fig, ax = plt.subplots(figsize=(16, 8))\n",
    "ds_lat.temperature_i.T.plot.contourf(yincrease=False, ax=ax, cmap='bwr',\\\n",
    "                                     vmin=2, vmax=6, levels=40)\n",
    "plt.xlim([eddy_lat-5, eddy_lat+5])\n",
    "plt.ylim([1000, 0])\n",
    "plt.axvline(eddy_lat, color='k')\n",
    "plt.xlabel('$latitude$')\n",
    "plt.ylabel('$pressure$')"
   ]
  },
  {
   "cell_type": "code",
   "execution_count": null,
   "metadata": {
    "collapsed": false
   },
   "outputs": [],
   "source": [
    "fig, ax = plt.subplots(figsize=(16, 8))\n",
    "ds_lat.salinity_i.T.plot.contourf(yincrease=False, ax=ax, levels=40, cmap='bwr')\n",
    "plt.xlim([eddy_lat-5, eddy_lat+5])\n",
    "plt.ylim([1000, 0])\n",
    "plt.axvline(eddy_lat, color='k')\n",
    "plt.xlabel('$latitude$')\n",
    "plt.ylabel('$pressure$')"
   ]
  },
  {
   "cell_type": "code",
   "execution_count": null,
   "metadata": {
    "collapsed": false
   },
   "outputs": [],
   "source": [
    "fig, ax = plt.subplots(figsize=(16, 8))\n",
    "ds_lat.oxygen_i.T.plot.contourf(yincrease=False, ax=ax, cmap='bwr',\\\n",
    "                                vmin=0, vmax=350, levels=40)\n",
    "plt.xlim([eddy_lat-5, eddy_lat+5])\n",
    "plt.ylim([1000, 0])\n",
    "plt.axvline(eddy_lat, color='k')\n",
    "plt.xlabel('$latitude$')\n",
    "plt.ylabel('$pressure$')"
   ]
  },
  {
   "cell_type": "code",
   "execution_count": null,
   "metadata": {
    "collapsed": true
   },
   "outputs": [],
   "source": []
  }
 ],
 "metadata": {
  "kernelspec": {
   "display_name": "Python 2.7",
   "language": "python",
   "name": "python2"
  },
  "language_info": {
   "codemirror_mode": {
    "name": "ipython",
    "version": 2
   },
   "file_extension": ".py",
   "mimetype": "text/x-python",
   "name": "python",
   "nbconvert_exporter": "python",
   "pygments_lexer": "ipython2",
   "version": "2.7.11"
  }
 },
 "nbformat": 4,
 "nbformat_minor": 0
}
