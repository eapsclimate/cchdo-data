{
 "cells": [
  {
   "cell_type": "markdown",
   "metadata": {},
   "source": [
    "### traj_0120-0150_0006620699-18DD9309_1"
   ]
  },
  {
   "cell_type": "markdown",
   "metadata": {},
   "source": [
    "** packages **"
   ]
  },
  {
   "cell_type": "code",
   "execution_count": 1,
   "metadata": {
    "collapsed": true
   },
   "outputs": [],
   "source": [
    "from ctd2xray import cchdo\n",
    "from mpl_toolkits.basemap import Basemap\n",
    "from pymongo import MongoClient\n",
    "import gsw\n",
    "import matplotlib as mpl\n",
    "import matplotlib.pyplot as plt\n",
    "import numpy as np\n",
    "import seaborn as sns\n",
    "import xarray as xr\n",
    "from Circles.circles import circle"
   ]
  },
  {
   "cell_type": "code",
   "execution_count": 2,
   "metadata": {
    "collapsed": true
   },
   "outputs": [],
   "source": [
    "%matplotlib inline"
   ]
  },
  {
   "cell_type": "markdown",
   "metadata": {},
   "source": [
    "** traj_0120-0150_0006620699 **"
   ]
  },
  {
   "cell_type": "markdown",
   "metadata": {},
   "source": [
    "May 1, 1993 - May 31, 1993"
   ]
  },
  {
   "cell_type": "code",
   "execution_count": 20,
   "metadata": {
    "collapsed": false
   },
   "outputs": [],
   "source": [
    "rcs_eddies = MongoClient().eddies.rcs_eddies"
   ]
  },
  {
   "cell_type": "code",
   "execution_count": 21,
   "metadata": {
    "collapsed": true
   },
   "outputs": [],
   "source": [
    "eddy_code = 'traj_0120-0150_0006620699'"
   ]
  },
  {
   "cell_type": "code",
   "execution_count": 23,
   "metadata": {
    "collapsed": false
   },
   "outputs": [],
   "source": [
    "eddy_rclv = rcs_eddies.find_one({'_id': eddy_code})"
   ]
  },
  {
   "cell_type": "code",
   "execution_count": 24,
   "metadata": {
    "collapsed": false
   },
   "outputs": [],
   "source": [
    "eddy_traj = eddy_rclv['features'][2]['geometry']['coordinates']"
   ]
  },
  {
   "cell_type": "code",
   "execution_count": 25,
   "metadata": {
    "collapsed": false
   },
   "outputs": [],
   "source": [
    "obs_num = len(eddy_traj)"
   ]
  },
  {
   "cell_type": "code",
   "execution_count": 26,
   "metadata": {
    "collapsed": true
   },
   "outputs": [],
   "source": [
    "lon_eddy = np.zeros(obs_num)\n",
    "lat_eddy = np.zeros(obs_num)"
   ]
  },
  {
   "cell_type": "code",
   "execution_count": 27,
   "metadata": {
    "collapsed": false
   },
   "outputs": [],
   "source": [
    "for i in range(obs_num):\n",
    "    lon_eddy[i] = eddy_traj[i][0]\n",
    "    lat_eddy[i] = eddy_traj[i][1]"
   ]
  },
  {
   "cell_type": "markdown",
   "metadata": {},
   "source": [
    "** 18DD9309_1 **"
   ]
  },
  {
   "cell_type": "markdown",
   "metadata": {},
   "source": [
    "May 8, 1995 - May 26, 1995"
   ]
  },
  {
   "cell_type": "code",
   "execution_count": 28,
   "metadata": {
    "collapsed": true
   },
   "outputs": [],
   "source": [
    "cchdo_ctd = MongoClient().eddies.cchdo_ctd"
   ]
  },
  {
   "cell_type": "code",
   "execution_count": 29,
   "metadata": {
    "collapsed": true
   },
   "outputs": [],
   "source": [
    "expo_code = '18DD9505_1'"
   ]
  },
  {
   "cell_type": "code",
   "execution_count": 30,
   "metadata": {
    "collapsed": false
   },
   "outputs": [],
   "source": [
    "cas_num = cchdo_ctd.find({'expocode': expo_code}).count()"
   ]
  },
  {
   "cell_type": "code",
   "execution_count": 31,
   "metadata": {
    "collapsed": false
   },
   "outputs": [],
   "source": [
    "lon_expo = np.zeros(cas_num)\n",
    "lat_expo = np.zeros(cas_num)"
   ]
  },
  {
   "cell_type": "code",
   "execution_count": 32,
   "metadata": {
    "collapsed": true
   },
   "outputs": [],
   "source": [
    "# longitude range setting\n",
    "# from 0 to 360\n",
    "def format(longitude):\n",
    "    if longitude > 0:\n",
    "        longitude = longitude\n",
    "    else:\n",
    "        longitude = longitude + 360\n",
    "    return longitude"
   ]
  },
  {
   "cell_type": "code",
   "execution_count": 33,
   "metadata": {
    "collapsed": false
   },
   "outputs": [],
   "source": [
    "i = 0\n",
    "for expo in cchdo_ctd.find({'expocode': expo_code}).sort('time', 1):\n",
    "    lon_expo[i] = format(expo['location']['coordinates'][0])\n",
    "    lat_expo[i] = expo['location']['coordinates'][1]\n",
    "    i = i+1"
   ]
  },
  {
   "cell_type": "code",
   "execution_count": 41,
   "metadata": {
    "collapsed": false
   },
   "outputs": [
    {
     "data": {
      "image/png": "[encoded data removed]",
      "text/plain": [
       "<matplotlib.figure.Figure at 0x7fb935363bd0>"
      ]
     },
     "metadata": {},
     "output_type": "display_data"
    }
   ],
   "source": [
    "sns.set(color_codes=True)\n",
    "plt.rcParams['figure.figsize'] = (12, 12)\n",
    "mpl.rcParams['font.family'] = \"STIX\"\n",
    "my_map = Basemap(projection='cyl', llcrnrlat=48.7, urcrnrlat=49.7,\\\n",
    "                 llcrnrlon=226.6, urcrnrlon=227.6, resolution='c')\n",
    "my_map.fillcontinents()\n",
    "parallels = np.arange(-90, 90, 1)\n",
    "my_map.drawparallels(parallels, labels=[True,False,False,True])\n",
    "meridians = np.arange(0, 360, 1)\n",
    "my_map.drawmeridians(meridians, labels=[True,False,False,True])\n",
    "x_eddy, y_eddy = my_map(lon_eddy, lat_eddy)\n",
    "x_expo, y_expo = my_map(lon_expo, lat_expo)\n",
    "my_map.plot(x_eddy, y_eddy, '.', color='#0080ff')\n",
    "my_map.plot(x_expo, y_expo, '.', color='#ff0080')\n",
    "plt.title(eddy_code + '-' + expo_code)\n",
    "plt.savefig('figures/figure-1/' + eddy_code + '-' + expo_code + '.jpeg')\n",
    "plt.show()"
   ]
  },
  {
   "cell_type": "markdown",
   "metadata": {
    "collapsed": true
   },
   "source": [
    "** temperature-salinity **"
   ]
  },
  {
   "cell_type": "code",
   "execution_count": 34,
   "metadata": {
    "collapsed": true
   },
   "outputs": [],
   "source": [
    "STA = 'DL11'\n",
    "CAS = 1"
   ]
  },
  {
   "cell_type": "code",
   "execution_count": 33,
   "metadata": {
    "collapsed": false
   },
   "outputs": [
    {
     "ename": "NameError",
     "evalue": "name 'STA' is not defined",
     "output_type": "error",
     "traceback": [
      "\u001b[1;31m---------------------------------------------------------------------------\u001b[0m",
      "\u001b[1;31mNameError\u001b[0m                                 Traceback (most recent call last)",
      "\u001b[1;32m<ipython-input-33-357af6f9cf29>\u001b[0m in \u001b[0;36m<module>\u001b[1;34m()\u001b[0m\n\u001b[0;32m     16\u001b[0m     \u001b[0mstation\u001b[0m \u001b[1;33m=\u001b[0m \u001b[0mint\u001b[0m\u001b[1;33m(\u001b[0m\u001b[0mfilter\u001b[0m\u001b[1;33m(\u001b[0m\u001b[0mstr\u001b[0m\u001b[1;33m.\u001b[0m\u001b[0misdigit\u001b[0m\u001b[1;33m,\u001b[0m \u001b[0mstr\u001b[0m\u001b[1;33m(\u001b[0m\u001b[0mds\u001b[0m\u001b[1;33m.\u001b[0m\u001b[0mSTATION_NUMBER\u001b[0m\u001b[1;33m)\u001b[0m\u001b[1;33m)\u001b[0m\u001b[1;33m)\u001b[0m\u001b[1;33m\u001b[0m\u001b[0m\n\u001b[0;32m     17\u001b[0m     \u001b[0mcast\u001b[0m \u001b[1;33m=\u001b[0m \u001b[0mint\u001b[0m\u001b[1;33m(\u001b[0m\u001b[0mfilter\u001b[0m\u001b[1;33m(\u001b[0m\u001b[0mstr\u001b[0m\u001b[1;33m.\u001b[0m\u001b[0misdigit\u001b[0m\u001b[1;33m,\u001b[0m \u001b[0mstr\u001b[0m\u001b[1;33m(\u001b[0m\u001b[0mds\u001b[0m\u001b[1;33m.\u001b[0m\u001b[0mCAST_NUMBER\u001b[0m\u001b[1;33m)\u001b[0m\u001b[1;33m)\u001b[0m\u001b[1;33m)\u001b[0m\u001b[1;33m\u001b[0m\u001b[0m\n\u001b[1;32m---> 18\u001b[1;33m     \u001b[1;32mif\u001b[0m \u001b[1;33m(\u001b[0m\u001b[0mwoce\u001b[0m \u001b[1;33m==\u001b[0m \u001b[1;34m'PR06'\u001b[0m \u001b[1;32mand\u001b[0m \u001b[0mstation\u001b[0m \u001b[1;33m==\u001b[0m \u001b[0mSTA\u001b[0m \u001b[1;32mand\u001b[0m \u001b[0mcast\u001b[0m \u001b[1;33m==\u001b[0m \u001b[0mCAS\u001b[0m\u001b[1;33m)\u001b[0m\u001b[1;33m:\u001b[0m\u001b[1;33m\u001b[0m\u001b[0m\n\u001b[0m\u001b[0;32m     19\u001b[0m         \u001b[0mDAT\u001b[0m \u001b[1;33m=\u001b[0m \u001b[0mtime\u001b[0m\u001b[1;33m\u001b[0m\u001b[0m\n\u001b[0;32m     20\u001b[0m         \u001b[0mLAT\u001b[0m \u001b[1;33m=\u001b[0m \u001b[0mlat\u001b[0m\u001b[1;33m\u001b[0m\u001b[0m\n",
      "\u001b[1;31mNameError\u001b[0m: name 'STA' is not defined"
     ]
    }
   ],
   "source": [
    "sns.set(color_codes=True)\n",
    "mpl.rcParams['font.family'] = \"STIX\"\n",
    "mpl.rcParams['figure.figsize'] = (12, 12)\n",
    "for expo in cchdo_ctd.find({'expocode': expo_code}).sort('time', 1):\n",
    "    ds = xr.open_dataset(expo['path'])\n",
    "    woce = str(ds.WOCE_ID)\n",
    "    time = ds.time.values[0]\n",
    "    lon = ds.longitude.values[0]\n",
    "    lat = ds.latitude.values[0]\n",
    "    p = ds.pressure.values\n",
    "    t = ds.temperature.values\n",
    "    s = ds.salinity.values\n",
    "    o = ds.oxygen.values\n",
    "    sa = gsw.SA_from_SP(s, p, lon, lat)\n",
    "    ct = gsw.CT_from_t(sa, t, p)\n",
    "    station = int(filter(str.isdigit, str(ds.STATION_NUMBER)))\n",
    "    cast = int(filter(str.isdigit, str(ds.CAST_NUMBER)))\n",
    "    if (woce == 'PR06' and station == STA and cast == CAS):\n",
    "        DAT = time\n",
    "        LAT = lat\n",
    "        plt.plot(sa, ct, color='#ff0000', zorder=2)\n",
    "    elif (CAS-6) < cast < CAS:\n",
    "        plt.plot(sa, ct, color='#cccccc', zorder=1)\n",
    "    elif CAS < cast < (CAS+6):\n",
    "        plt.plot(sa, ct, color='#999999', zorder=1)\n",
    "plt.xlim([32.5, 35])\n",
    "plt.ylim([0, 10])\n",
    "plt.title(eddy_code + '-' + expo_code)\n",
    "plt.xlabel('salinity')\n",
    "plt.ylabel('temperature')\n",
    "plt.savefig('figures/figure-2/' + eddy_code + '-' + expo_code + '.jpeg')\n",
    "plt.show()"
   ]
  },
  {
   "cell_type": "markdown",
   "metadata": {},
   "source": [
    "** pressure-temperature **"
   ]
  },
  {
   "cell_type": "code",
   "execution_count": null,
   "metadata": {
    "collapsed": false
   },
   "outputs": [],
   "source": [
    "sns.set(color_codes=True)\n",
    "plt.rcParams['figure.figsize'] = (12, 12)\n",
    "mpl.rcParams['font.family'] = \"STIX\"\n",
    "for expo in cchdo_ctd.find({'expocode': expo_code}).sort('time', 1):\n",
    "    ds = xr.open_dataset(expo['path'])\n",
    "    woce = str(ds.WOCE_ID)\n",
    "    time = ds.time.values[0]\n",
    "    lon = ds.longitude.values[0]\n",
    "    lat = ds.latitude.values[0]\n",
    "    p = ds.pressure.values\n",
    "    t = ds.temperature.values\n",
    "    s = ds.salinity.values\n",
    "    o = ds.oxygen.values\n",
    "    sa = gsw.SA_from_SP(s, p, lon, lat)\n",
    "    ct = gsw.CT_from_t(sa, t, p)\n",
    "    #station = int(filter(str.isdigit, str(ds.STATION_NUMBER)))\n",
    "    cast = int(filter(str.isdigit, str(ds.CAST_NUMBER)))\n",
    "    if (woce == 'PR06' and station == STA and cast == CAS):\n",
    "        LAT = lat\n",
    "        plt.plot(ct, p, color='#ff0000', zorder=2)\n",
    "    elif (CAS-6) < cast < CAS:\n",
    "        plt.plot(ct, p, color='#cccccc', zorder=1)\n",
    "    elif CAS < cast < (CAS+6):\n",
    "        plt.plot(ct, p, color='#999999', zorder=1)\n",
    "plt.xlim([0, 10])\n",
    "plt.ylim([1000, 0])\n",
    "plt.title(eddy_code + '-' + expo_code)\n",
    "plt.xlabel('temperature')\n",
    "plt.ylabel('pressure')\n",
    "plt.savefig('figures/figure-3/' + eddy_code + '-' + expo_code + '.jpeg')\n",
    "plt.show()"
   ]
  },
  {
   "cell_type": "markdown",
   "metadata": {},
   "source": [
    "** pressure-salinity **"
   ]
  },
  {
   "cell_type": "code",
   "execution_count": null,
   "metadata": {
    "collapsed": false
   },
   "outputs": [],
   "source": [
    "sns.set(color_codes=True)\n",
    "mpl.rcParams['figure.figsize'] = (12, 12)\n",
    "mpl.rcParams['font.family'] = \"STIX\"\n",
    "for expo in cchdo_ctd.find({'expocode': expo_code}).sort('time', 1):\n",
    "    ds = xr.open_dataset(expo['path'])\n",
    "    time = ds.time.values[0]\n",
    "    woce = str(ds.WOCE_ID)\n",
    "    lon = ds.longitude.values[0]\n",
    "    lat = ds.latitude.values[0]\n",
    "    p = ds.pressure.values\n",
    "    t = ds.temperature.values\n",
    "    s = ds.salinity.values\n",
    "    o = ds.oxygen.values\n",
    "    sa = gsw.SA_from_SP(s, p, lon, lat)\n",
    "    ct = gsw.CT_from_t(sa, t, p)\n",
    "    #station = int(filter(str.isdigit, str(ds.STATION_NUMBER)))\n",
    "    cast = int(filter(str.isdigit, str(ds.CAST_NUMBER)))\n",
    "    if (woce == 'PR06' and station == STA and cast == CAS):\n",
    "        DAT = time\n",
    "        LAT = lat\n",
    "        plt.plot(sa, p, color='#ff0000', zorder=2)\n",
    "    elif (CAS-6) < cast < CAS:\n",
    "        plt.plot(sa, p, color='#cccccc', zorder=1)\n",
    "    elif CAS < cast < (CAS+6):\n",
    "        plt.plot(sa, p, color='#999999', zorder=1)\n",
    "plt.xlim([32.5, 35])\n",
    "plt.ylim([1000, 0])\n",
    "plt.title(eddy_code + '-' + expo_code)\n",
    "plt.xlabel('salinity')\n",
    "plt.ylabel('pressure')\n",
    "plt.savefig('figures/figure-4/' + eddy_code + '-' + expo_code + '.jpeg')\n",
    "plt.show()"
   ]
  },
  {
   "cell_type": "markdown",
   "metadata": {},
   "source": [
    "** pressure-oxygen **"
   ]
  },
  {
   "cell_type": "code",
   "execution_count": null,
   "metadata": {
    "collapsed": false
   },
   "outputs": [],
   "source": [
    "sns.set(color_codes=True)\n",
    "mpl.rcParams['figure.figsize'] = (12, 12)\n",
    "mpl.rcParams['font.family'] = \"STIX\"\n",
    "for expo in cchdo_ctd.find({'expocode': expo_code}).sort('time', 1):\n",
    "    ds = xr.open_dataset(expo['path'])\n",
    "    woce = str(ds.WOCE_ID)\n",
    "    time = ds.time.values[0]\n",
    "    lon = ds.longitude.values[0]\n",
    "    lat = ds.latitude.values[0]\n",
    "    p = ds.pressure.values\n",
    "    t = ds.temperature.values\n",
    "    s = ds.salinity.values\n",
    "    o = ds.oxygen.values\n",
    "    sa = gsw.SA_from_SP(s, p, lon, lat)\n",
    "    ct = gsw.CT_from_t(sa, t, p)\n",
    "    #station = int(filter(str.isdigit, str(ds.STATION_NUMBER)))\n",
    "    cast = int(filter(str.isdigit, str(ds.CAST_NUMBER)))\n",
    "    if (woce == 'PR06' and station == STA and cast == CAS):\n",
    "        LAT = lat\n",
    "        plt.plot(o, p, color='#ff0000', zorder=2)\n",
    "    elif (CAS-6) < cast < CAS:\n",
    "        plt.plot(o, p, color='#cccccc', zorder=1)\n",
    "    elif CAS < cast < (CAS+6):\n",
    "        plt.plot(o, p, color='#999999', zorder=1)\n",
    "plt.xlim([0, 350])\n",
    "plt.ylim([1000, 0])\n",
    "plt.title(eddy_code + '-' + expo_code)\n",
    "plt.xlabel('oxygen')\n",
    "plt.ylabel('pressure')\n",
    "plt.savefig('figures/figure-5/' + eddy_code + '-' + expo_code + '.jpeg')\n",
    "plt.show()"
   ]
  },
  {
   "cell_type": "code",
   "execution_count": null,
   "metadata": {
    "collapsed": false
   },
   "outputs": [],
   "source": [
    "woce"
   ]
  },
  {
   "cell_type": "code",
   "execution_count": null,
   "metadata": {
    "collapsed": false
   },
   "outputs": [],
   "source": [
    "expo"
   ]
  },
  {
   "cell_type": "markdown",
   "metadata": {},
   "source": [
    "** contours **"
   ]
  },
  {
   "cell_type": "code",
   "execution_count": null,
   "metadata": {
    "collapsed": true
   },
   "outputs": [],
   "source": [
    "path_list = '/home/cz2397/data/cchdo-ctd/284_pr06_h_nc_ctd/pr06_*'"
   ]
  },
  {
   "cell_type": "code",
   "execution_count": null,
   "metadata": {
    "collapsed": true
   },
   "outputs": [],
   "source": [
    "pressure = np.linspace(0, 6000, num=6001, endpoint=True)"
   ]
  },
  {
   "cell_type": "code",
   "execution_count": null,
   "metadata": {
    "collapsed": false
   },
   "outputs": [],
   "source": [
    "ds_tim = cchdo.open_cchdo_as_mfdataset(path_list, pressure)"
   ]
  },
  {
   "cell_type": "code",
   "execution_count": null,
   "metadata": {
    "collapsed": true
   },
   "outputs": [],
   "source": [
    "ds_lat = ds_tim.swap_dims({'time': 'latitude'})"
   ]
  },
  {
   "cell_type": "code",
   "execution_count": null,
   "metadata": {
    "collapsed": false
   },
   "outputs": [],
   "source": [
    "sns.set(color_codes=True)\n",
    "fig, ax = plt.subplots(figsize=(16, 8))\n",
    "mpl.rcParams['font.family'] = \"STIX\"\n",
    "image = ds_lat.temperature_i.T.plot.contourf(yincrease=False, ax=ax, cmap='bwr',\\\n",
    "                                             vmin=2, vmax=6, levels=40)\n",
    "image.colorbar.set_label('temperature')\n",
    "#plt.xlim([LAT-5, LAT+5])\n",
    "plt.ylim([1000, 0])\n",
    "plt.axvline(LAT, color='k')\n",
    "plt.title(eddy_code + '-' + expo_code)\n",
    "plt.xlabel('latitude')\n",
    "plt.ylabel('pressure')\n",
    "plt.savefig('figures/figure-6/' + eddy_code + '-' + expo_code + '.jpeg')\n",
    "plt.show()"
   ]
  },
  {
   "cell_type": "code",
   "execution_count": null,
   "metadata": {
    "collapsed": false
   },
   "outputs": [],
   "source": [
    "sns.set(color_codes=True)\n",
    "fig, ax = plt.subplots(figsize=(16, 8))\n",
    "mpl.rcParams['font.family'] = \"STIX\"\n",
    "image = ds_lat.salinity_i.T.plot.contourf(yincrease=False, ax=ax, cmap='bwr',\\\n",
    "                                          vmin=32.5, vmax=35, levels=40)\n",
    "image.colorbar.set_label('salinity')\n",
    "plt.xlim([LAT-5, LAT+5])\n",
    "plt.ylim([1000, 0])\n",
    "plt.axvline(LAT, color='k')\n",
    "plt.title(eddy_code + '-' + expo_code)\n",
    "plt.xlabel('latitude')\n",
    "plt.ylabel('pressure')\n",
    "plt.savefig('figures/figure-7/' + eddy_code + '-' + expo_code + '.jpeg')\n",
    "plt.show()"
   ]
  },
  {
   "cell_type": "code",
   "execution_count": null,
   "metadata": {
    "collapsed": false
   },
   "outputs": [],
   "source": [
    "sns.set(color_codes=True)\n",
    "fig, ax = plt.subplots(figsize=(16, 8))\n",
    "mpl.rcParams['font.family'] = \"STIX\"\n",
    "image = ds_lat.oxygen_i.T.plot.contourf(yincrease=False, ax=ax, cmap='bwr',\\\n",
    "                                        vmin=20, vmax=300, levels=45)\n",
    "image.colorbar.set_label('oxygen')\n",
    "plt.xlim([LAT-5, LAT+5])\n",
    "plt.ylim([1000, 0])\n",
    "plt.axvline(LAT, color='k')\n",
    "plt.title(eddy_code + '-' + expo_code)\n",
    "plt.xlabel('latitude')\n",
    "plt.ylabel('pressure')\n",
    "plt.savefig('figures/figure-8/' + eddy_code + '-' + expo_code + '.jpeg')\n",
    "plt.show()"
   ]
  },
  {
   "cell_type": "code",
   "execution_count": null,
   "metadata": {
    "collapsed": true
   },
   "outputs": [],
   "source": []
  }
 ],
 "metadata": {
  "kernelspec": {
   "display_name": "Python 2.7",
   "language": "python",
   "name": "python2"
  },
  "language_info": {
   "codemirror_mode": {
    "name": "ipython",
    "version": 2
   },
   "file_extension": ".py",
   "mimetype": "text/x-python",
   "name": "python",
   "nbconvert_exporter": "python",
   "pygments_lexer": "ipython2",
   "version": "2.7.11"
  }
 },
 "nbformat": 4,
 "nbformat_minor": 0
}
