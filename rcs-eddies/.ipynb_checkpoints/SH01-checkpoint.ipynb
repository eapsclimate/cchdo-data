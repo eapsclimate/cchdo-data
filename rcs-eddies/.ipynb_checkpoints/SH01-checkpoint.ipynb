{
 "cells": [
  {
   "cell_type": "code",
   "execution_count": 1,
   "metadata": {
    "collapsed": true
   },
   "outputs": [],
   "source": [
    "from ctd2xray import cchdo\n",
    "from glob import glob\n",
    "import matplotlib.pyplot as plt\n",
    "import numpy as np\n",
    "import seaborn as sns\n",
    "import xarray as xr"
   ]
  },
  {
   "cell_type": "code",
   "execution_count": 2,
   "metadata": {
    "collapsed": true
   },
   "outputs": [],
   "source": [
    "%matplotlib inline"
   ]
  },
  {
   "cell_type": "code",
   "execution_count": 4,
   "metadata": {
    "collapsed": true
   },
   "outputs": [],
   "source": [
    "ds = xr.open_dataset('/home/cz2397/data/cchdo-ctd/308_p16s_2005a_nc_ctd/33RR200501_00007_00001_ctd.nc')"
   ]
  },
  {
   "cell_type": "code",
   "execution_count": 8,
   "metadata": {
    "collapsed": false
   },
   "outputs": [],
   "source": [
    "path = glob('/home/cz2397/data/cchdo-ctd/308_p16s_2005a_nc_ctd/33RR200501_000[0-1][0-9]*.nc')"
   ]
  },
  {
   "cell_type": "code",
   "execution_count": 9,
   "metadata": {
    "collapsed": false
   },
   "outputs": [
    {
     "data": {
      "text/plain": [
       "['/home/cz2397/data/cchdo-ctd/308_p16s_2005a_nc_ctd/33RR200501_00018_00001_ctd.nc',\n",
       " '/home/cz2397/data/cchdo-ctd/308_p16s_2005a_nc_ctd/33RR200501_00012_00001_ctd.nc',\n",
       " '/home/cz2397/data/cchdo-ctd/308_p16s_2005a_nc_ctd/33RR200501_00013_00001_ctd.nc',\n",
       " '/home/cz2397/data/cchdo-ctd/308_p16s_2005a_nc_ctd/33RR200501_00016_00001_ctd.nc',\n",
       " '/home/cz2397/data/cchdo-ctd/308_p16s_2005a_nc_ctd/33RR200501_00014_00002_ctd.nc',\n",
       " '/home/cz2397/data/cchdo-ctd/308_p16s_2005a_nc_ctd/33RR200501_00005_00001_ctd.nc',\n",
       " '/home/cz2397/data/cchdo-ctd/308_p16s_2005a_nc_ctd/33RR200501_00004_00001_ctd.nc',\n",
       " '/home/cz2397/data/cchdo-ctd/308_p16s_2005a_nc_ctd/33RR200501_00015_00002_ctd.nc',\n",
       " '/home/cz2397/data/cchdo-ctd/308_p16s_2005a_nc_ctd/33RR200501_00017_00002_ctd.nc',\n",
       " '/home/cz2397/data/cchdo-ctd/308_p16s_2005a_nc_ctd/33RR200501_00006_00001_ctd.nc',\n",
       " '/home/cz2397/data/cchdo-ctd/308_p16s_2005a_nc_ctd/33RR200501_00001_00003_ctd.nc',\n",
       " '/home/cz2397/data/cchdo-ctd/308_p16s_2005a_nc_ctd/33RR200501_00007_00001_ctd.nc',\n",
       " '/home/cz2397/data/cchdo-ctd/308_p16s_2005a_nc_ctd/33RR200501_00002_00001_ctd.nc',\n",
       " '/home/cz2397/data/cchdo-ctd/308_p16s_2005a_nc_ctd/33RR200501_00003_00001_ctd.nc',\n",
       " '/home/cz2397/data/cchdo-ctd/308_p16s_2005a_nc_ctd/33RR200501_00010_00002_ctd.nc',\n",
       " '/home/cz2397/data/cchdo-ctd/308_p16s_2005a_nc_ctd/33RR200501_00011_00002_ctd.nc',\n",
       " '/home/cz2397/data/cchdo-ctd/308_p16s_2005a_nc_ctd/33RR200501_00019_00002_ctd.nc',\n",
       " '/home/cz2397/data/cchdo-ctd/308_p16s_2005a_nc_ctd/33RR200501_00008_00001_ctd.nc',\n",
       " '/home/cz2397/data/cchdo-ctd/308_p16s_2005a_nc_ctd/33RR200501_00009_00001_ctd.nc',\n",
       " '/home/cz2397/data/cchdo-ctd/308_p16s_2005a_nc_ctd/33RR200501_00009_00003_ctd.nc']"
      ]
     },
     "execution_count": 9,
     "metadata": {},
     "output_type": "execute_result"
    }
   ],
   "source": [
    "path"
   ]
  },
  {
   "cell_type": "code",
   "execution_count": null,
   "metadata": {
    "collapsed": true
   },
   "outputs": [],
   "source": []
  }
 ],
 "metadata": {
  "kernelspec": {
   "display_name": "Python 2.7",
   "language": "python",
   "name": "python2"
  },
  "language_info": {
   "codemirror_mode": {
    "name": "ipython",
    "version": 2
   },
   "file_extension": ".py",
   "mimetype": "text/x-python",
   "name": "python",
   "nbconvert_exporter": "python",
   "pygments_lexer": "ipython2",
   "version": "2.7.11"
  }
 },
 "nbformat": 4,
 "nbformat_minor": 0
}
