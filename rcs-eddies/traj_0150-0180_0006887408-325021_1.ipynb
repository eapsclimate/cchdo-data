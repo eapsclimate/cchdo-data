{
 "cells": [
  {
   "cell_type": "markdown",
   "metadata": {},
   "source": [
    "### traj_0150-0180_0006887408-325021_1"
   ]
  },
  {
   "cell_type": "code",
   "execution_count": null,
   "metadata": {
    "collapsed": true
   },
   "outputs": [],
   "source": [
    "# eddy arguments\n",
    "eddy_code = 'traj_0150-0180_0006887408'\n",
    "eddy_list = [15, 16, 17, 18, 19, 20, 21, 22]\n",
    "# expo arguments\n",
    "expo_code = '325021_1'\n",
    "expo_list = '/home/cz2397/data/cchdo-ctd/327_p17n_nc_ctd/*_ctd.nc'\n",
    "# eddy-expo arguments\n",
    "STA, CAS = 130, 1"
   ]
  },
  {
   "cell_type": "code",
   "execution_count": null,
   "metadata": {
    "collapsed": true
   },
   "outputs": [],
   "source": [
    "# packages\n",
    "from ctd2xray import cchdo\n",
    "from geopy.distance import great_circle\n",
    "from mpl_toolkits.basemap import Basemap\n",
    "from pymongo import MongoClient\n",
    "import gsw\n",
    "import matplotlib.pyplot as plt\n",
    "import numpy as np\n",
    "import seaborn as sns\n",
    "import xarray as xr\n",
    "%matplotlib inline"
   ]
  },
  {
   "cell_type": "code",
   "execution_count": null,
   "metadata": {
    "collapsed": true
   },
   "outputs": [],
   "source": [
    "# longitude\n",
    "def range_180(longitude):\n",
    "    if longitude < 180:\n",
    "        longitude = longitude\n",
    "    else:\n",
    "        longitude = longitude - 360\n",
    "    return longitude"
   ]
  },
  {
   "cell_type": "code",
   "execution_count": null,
   "metadata": {
    "collapsed": false
   },
   "outputs": [],
   "source": [
    "# eddy\n",
    "rcs_eddies = MongoClient().eddies.rcs_eddies\n",
    "eddy_rclv = rcs_eddies.find_one({'_id': eddy_code})\n",
    "eddy_area = eddy_rclv['area']\n",
    "eddy_radius_meter = (eddy_area/np.pi)**0.5\n",
    "earth_radius_meter = 6371000\n",
    "eddy_radius_degree = 180*eddy_radius_meter/(np.pi*earth_radius_meter)\n",
    "eddy_traj = eddy_rclv['features'][2]['geometry']['coordinates']\n",
    "obs_num = len(eddy_traj)\n",
    "lon_eddy = np.zeros(obs_num)\n",
    "lat_eddy = np.zeros(obs_num)\n",
    "for i in range(obs_num):\n",
    "    lon_eddy[i] = range_180(eddy_traj[i][0])\n",
    "    lat_eddy[i] = eddy_traj[i][1]\n",
    "lon_eddy_mean = lon_eddy.mean()\n",
    "lat_eddy_mean = lat_eddy.mean()\n",
    "lon_ee = np.zeros(len(eddy_list))\n",
    "lat_ee = np.zeros(len(eddy_list))\n",
    "for i in range(len(eddy_list)):\n",
    "    lon_ee[i] = range_180(eddy_traj[eddy_list[i]-1][0])\n",
    "    lat_ee[i] = eddy_traj[eddy_list[i]-1][1]\n",
    "lon_ee_mean = lon_ee.mean()\n",
    "lat_ee_mean = lat_ee.mean()"
   ]
  },
  {
   "cell_type": "code",
   "execution_count": null,
   "metadata": {
    "collapsed": true
   },
   "outputs": [],
   "source": [
    "# expo\n",
    "cchdo_ctd = MongoClient().eddies.cchdo_ctd\n",
    "cas_num = cchdo_ctd.find({'expocode': expo_code}).count()\n",
    "lon_expo = np.zeros(cas_num)\n",
    "lat_expo = np.zeros(cas_num)\n",
    "i = 0\n",
    "for expo in cchdo_ctd.find({'expocode': expo_code}).sort('time', 1):\n",
    "    lon_expo[i] = expo['location']['coordinates'][0]\n",
    "    lat_expo[i] = expo['location']['coordinates'][1]\n",
    "    i = i+1"
   ]
  },
  {
   "cell_type": "markdown",
   "metadata": {},
   "source": [
    "** figure 1 | global location**"
   ]
  },
  {
   "cell_type": "code",
   "execution_count": null,
   "metadata": {
    "collapsed": false
   },
   "outputs": [],
   "source": [
    "sns.set()\n",
    "plt.rcParams['figure.figsize'] = (12, 12)\n",
    "my_map = Basemap(projection='ortho', resolution='c',\\\n",
    "                 lon_0=lon_eddy_mean, lat_0=lat_eddy_mean)\n",
    "my_map.drawmapboundary('none')\n",
    "my_map.drawparallels(np.arange(-90, 90, 10), color='#ffffff')\n",
    "my_map.drawmeridians(np.arange(0, 360, 10), color='#ffffff')\n",
    "my_map.fillcontinents()\n",
    "x_eddy, y_eddy = my_map(lon_eddy, lat_eddy)\n",
    "x_expo, y_expo = my_map(lon_expo, lat_expo)\n",
    "my_map.plot(x_eddy, y_eddy, '.', color='#0080ff', zorder=20)\n",
    "my_map.plot(x_expo, y_expo, '.', color='#ff0080', zorder=10)\n",
    "plt.title(eddy_code + '-' + expo_code)\n",
    "plt.savefig('figures/figure-1/' + eddy_code + '-' + expo_code + '.jpeg')\n",
    "plt.show()"
   ]
  },
  {
   "cell_type": "markdown",
   "metadata": {},
   "source": [
    "** figure 2 | regional location **"
   ]
  },
  {
   "cell_type": "code",
   "execution_count": null,
   "metadata": {
    "collapsed": false
   },
   "outputs": [],
   "source": [
    "sns.set()\n",
    "plt.rcParams['figure.figsize'] = (12, 12)\n",
    "my_map = Basemap(projection='cyl', resolution='c',\\\n",
    "                 llcrnrlat=lat_ee_mean-1, urcrnrlat=lat_ee_mean+1,\\\n",
    "                 llcrnrlon=lon_ee_mean-1, urcrnrlon=lon_ee_mean+1)\n",
    "my_map.tissot(lon_0=lon_ee_mean, lat_0=lat_ee_mean, radius_deg=eddy_radius_degree,\\\n",
    "              npts=100, fc='#cccccc', ec='none', zorder=1)\n",
    "my_map.fillcontinents()\n",
    "my_map.drawparallels(np.arange(-90, 90, 1), labels=[1,0,0,0])\n",
    "my_map.drawmeridians(np.arange(0, 360, 1), labels=[0,0,0,1])\n",
    "x_eddy, y_eddy = my_map(lon_eddy, lat_eddy)\n",
    "x_expo, y_expo = my_map(lon_expo, lat_expo)\n",
    "my_map.plot(x_eddy, y_eddy, '.', color='#0080ff')\n",
    "my_map.plot(x_expo, y_expo, '.', color='#ff0080')\n",
    "plt.title(eddy_code + '-' + expo_code)\n",
    "plt.savefig('figures/figure-2/' + eddy_code + '-' + expo_code + '.jpeg')\n",
    "plt.show()"
   ]
  },
  {
   "cell_type": "markdown",
   "metadata": {
    "collapsed": true
   },
   "source": [
    "** figure 3 | temperature-salinity **"
   ]
  },
  {
   "cell_type": "code",
   "execution_count": null,
   "metadata": {
    "collapsed": false
   },
   "outputs": [],
   "source": [
    "sns.set()\n",
    "plt.rcParams['figure.figsize'] = (12, 12)\n",
    "for expo in cchdo_ctd.find({'expocode': expo_code}).sort('time', 1):\n",
    "    ds = xr.open_dataset(expo['path'])\n",
    "    lon = ds.longitude.values[0]\n",
    "    lat = ds.latitude.values[0]\n",
    "    p = ds.pressure.values\n",
    "    t = ds.temperature.values\n",
    "    s = ds.salinity.values\n",
    "    sa = gsw.SA_from_SP(s, p, lon, lat)\n",
    "    ct = gsw.CT_from_t(sa, t, p)\n",
    "    station = int(ds.STATION_NUMBER)\n",
    "    cast = int(ds.CAST_NUMBER)\n",
    "    if station == STA and cast == CAS:\n",
    "        LON = lon\n",
    "        plt.plot(sa, ct, color='#ff0000', zorder=3)\n",
    "    elif (STA-6) < station < STA:\n",
    "        plt.plot(sa, ct, color='#cccccc', zorder=1)\n",
    "    elif STA < station < (STA+6):\n",
    "        plt.plot(sa, ct, color='#999999', zorder=2)\n",
    "plt.title(eddy_code + '-' + expo_code)\n",
    "plt.xlabel('salinity')\n",
    "plt.ylabel('temperature')\n",
    "plt.savefig('figures/figure-3/' + eddy_code + '-' + expo_code + '.jpeg')\n",
    "plt.show()"
   ]
  },
  {
   "cell_type": "markdown",
   "metadata": {},
   "source": [
    "** figure 4 | pressure-temperature **"
   ]
  },
  {
   "cell_type": "code",
   "execution_count": null,
   "metadata": {
    "collapsed": false
   },
   "outputs": [],
   "source": [
    "sns.set()\n",
    "plt.rcParams['figure.figsize'] = (12, 12)\n",
    "for expo in cchdo_ctd.find({'expocode': expo_code}).sort('time', 1):\n",
    "    ds = xr.open_dataset(expo['path'])\n",
    "    lon = ds.longitude.values[0]\n",
    "    lat = ds.latitude.values[0]\n",
    "    p = ds.pressure.values\n",
    "    t = ds.temperature.values\n",
    "    s = ds.salinity.values\n",
    "    sa = gsw.SA_from_SP(s, p, lon, lat)\n",
    "    ct = gsw.CT_from_t(sa, t, p)\n",
    "    station = int(ds.STATION_NUMBER)\n",
    "    cast = int(ds.CAST_NUMBER)\n",
    "    if station == STA and cast == CAS:\n",
    "        plt.plot(ct, p, color='#ff0000', zorder=3)\n",
    "    elif (STA-6) < station < STA:\n",
    "        plt.plot(ct, p, color='#cccccc', zorder=1)\n",
    "    elif STA < station < (STA+6):\n",
    "        plt.plot(ct, p, color='#999999', zorder=2)\n",
    "plt.title(eddy_code + '-' + expo_code)\n",
    "plt.xlabel('temperature')\n",
    "plt.ylabel('pressure')\n",
    "plt.ylim([1000, 0])\n",
    "plt.savefig('figures/figure-4/' + eddy_code + '-' + expo_code + '.jpeg')\n",
    "plt.show()"
   ]
  },
  {
   "cell_type": "markdown",
   "metadata": {},
   "source": [
    "** figure 5 | pressure-salinity **"
   ]
  },
  {
   "cell_type": "code",
   "execution_count": null,
   "metadata": {
    "collapsed": false
   },
   "outputs": [],
   "source": [
    "sns.set()\n",
    "plt.rcParams['figure.figsize'] = (12, 12)\n",
    "for expo in cchdo_ctd.find({'expocode': expo_code}).sort('time', 1):\n",
    "    ds = xr.open_dataset(expo['path'])\n",
    "    lon = ds.longitude.values[0]\n",
    "    lat = ds.latitude.values[0]\n",
    "    p = ds.pressure.values\n",
    "    s = ds.salinity.values\n",
    "    sa = gsw.SA_from_SP(s, p, lon, lat)\n",
    "    station = int(ds.STATION_NUMBER)\n",
    "    cast = int(ds.CAST_NUMBER)\n",
    "    if station == STA and cast == CAS:\n",
    "        plt.plot(sa, p, color='#ff0000', zorder=3)\n",
    "    elif (STA-6) < station < STA:\n",
    "        plt.plot(sa, p, color='#cccccc', zorder=1)\n",
    "    elif STA < station < (STA+6):\n",
    "        plt.plot(sa, p, color='#999999', zorder=2)\n",
    "plt.title(eddy_code + '-' + expo_code)\n",
    "plt.xlabel('salinity')\n",
    "plt.ylabel('pressure')\n",
    "plt.ylim([1000, 0])\n",
    "plt.savefig('figures/figure-5/' + eddy_code + '-' + expo_code + '.jpeg')\n",
    "plt.show()"
   ]
  },
  {
   "cell_type": "markdown",
   "metadata": {},
   "source": [
    "** figure 6 | pressure-oxygen **"
   ]
  },
  {
   "cell_type": "code",
   "execution_count": null,
   "metadata": {
    "collapsed": false
   },
   "outputs": [],
   "source": [
    "sns.set()\n",
    "plt.rcParams['figure.figsize'] = (12, 12)\n",
    "for expo in cchdo_ctd.find({'expocode': expo_code}).sort('time', 1):\n",
    "    ds = xr.open_dataset(expo['path'])\n",
    "    p = ds.pressure.values\n",
    "    o = ds.oxygen.values\n",
    "    station = int(ds.STATION_NUMBER)\n",
    "    cast = int(ds.CAST_NUMBER)\n",
    "    if station == STA and cast == CAS:\n",
    "        plt.plot(o, p, color='#ff0000', zorder=3)\n",
    "    elif (STA-6) < station < STA:\n",
    "        plt.plot(o, p, color='#cccccc', zorder=1)\n",
    "    elif STA < station < (STA+6):\n",
    "        plt.plot(o, p, color='#999999', zorder=2)\n",
    "plt.title(eddy_code + '-' + expo_code)\n",
    "plt.xlabel('oxygen')\n",
    "plt.ylabel('pressure')\n",
    "plt.ylim([1000, 0])\n",
    "plt.savefig('figures/figure-6/' + eddy_code + '-' + expo_code + '.jpeg')\n",
    "plt.show()"
   ]
  },
  {
   "cell_type": "code",
   "execution_count": null,
   "metadata": {
    "collapsed": false
   },
   "outputs": [],
   "source": [
    "# section\n",
    "pressure = np.linspace(0, 6000, num=6001, endpoint=True)\n",
    "ds_tim = cchdo.open_cchdo_as_mfdataset(expo_list, pressure)\n",
    "longitude = ds_tim.longitude.values\n",
    "latitude = ds_tim.latitude.values\n",
    "distance = np.zeros(len(ds_tim.time.values))\n",
    "for i in range(1, len(distance)):\n",
    "    origin = (latitude[i-1], longitude[i-1])\n",
    "    termination = (latitude[i], longitude[i])\n",
    "    distance[i] = great_circle(origin, termination).kilometers\n",
    "dis_cum = np.cumsum(distance)\n",
    "dis_index = ds_tim.longitude.values.tolist().index(LON)\n",
    "DIS = dis_cum[dis_index]\n",
    "dis_cum_reset = dis_cum - DIS\n",
    "ds_tim['distance'] = xr.DataArray(dis_cum_reset, dims=ds_tim.time.dims, coords=ds_tim.time.coords)\n",
    "ds_dis = ds_tim.swap_dims({'time': 'distance'})\n",
    "ds_dis_subset = ds_dis.sel(pressure_i=slice(0, 550), distance=slice(-550, 550))"
   ]
  },
  {
   "cell_type": "markdown",
   "metadata": {},
   "source": [
    "** figure 7 | temperature section **"
   ]
  },
  {
   "cell_type": "code",
   "execution_count": null,
   "metadata": {
    "collapsed": false
   },
   "outputs": [],
   "source": [
    "sns.set()\n",
    "plt.rcParams['figure.figsize'] = (16, 8)\n",
    "image = ds_dis_subset.temperature_i.T.plot.contourf(cmap='bwr', levels=50)\n",
    "image.colorbar.set_label('temperature')\n",
    "plt.title(eddy_code + '-' + expo_code)\n",
    "plt.xlabel('distance')\n",
    "plt.xlim([-500, 500])\n",
    "plt.ylabel('pressure')\n",
    "plt.ylim([500, 0])\n",
    "plt.axvline(0, color='#ffffff')\n",
    "plt.savefig('figures/figure-7/' + eddy_code + '-' + expo_code + '.jpeg')\n",
    "plt.show()"
   ]
  },
  {
   "cell_type": "markdown",
   "metadata": {},
   "source": [
    "** figure 8 | salinity section **"
   ]
  },
  {
   "cell_type": "code",
   "execution_count": null,
   "metadata": {
    "collapsed": false
   },
   "outputs": [],
   "source": [
    "sns.set()\n",
    "plt.rcParams['figure.figsize'] = (16, 8)\n",
    "image = ds_dis_subset.salinity_i.T.plot.contourf(cmap='bwr', levels=50)\n",
    "image.colorbar.set_label('salinity')\n",
    "plt.title(eddy_code + '-' + expo_code)\n",
    "plt.xlabel('distance')\n",
    "plt.xlim([-500, 500])\n",
    "plt.ylabel('pressure')\n",
    "plt.ylim([500, 0])\n",
    "plt.axvline(0, color='#ffffff')\n",
    "plt.savefig('figures/figure-8/' + eddy_code + '-' + expo_code + '.jpeg')\n",
    "plt.show()"
   ]
  },
  {
   "cell_type": "markdown",
   "metadata": {},
   "source": [
    "** figure 9 | oxygen section **"
   ]
  },
  {
   "cell_type": "code",
   "execution_count": null,
   "metadata": {
    "collapsed": false
   },
   "outputs": [],
   "source": [
    "sns.set()\n",
    "plt.rcParams['figure.figsize'] = (16, 8)\n",
    "image = ds_dis_subset.oxygen_i.T.plot.contourf(cmap='bwr', levels=50)\n",
    "image.colorbar.set_label('oxygen')\n",
    "plt.title(eddy_code + '-' + expo_code)\n",
    "plt.xlabel('distance')\n",
    "plt.xlim([-500, 500])\n",
    "plt.ylabel('pressure')\n",
    "plt.ylim([500, 0])\n",
    "plt.axvline(0, color='#ffffff')\n",
    "plt.savefig('figures/figure-9/' + eddy_code + '-' + expo_code + '.jpeg')\n",
    "plt.show()"
   ]
  }
 ],
 "metadata": {
  "kernelspec": {
   "display_name": "Python 2.7",
   "language": "python",
   "name": "python2"
  },
  "language_info": {
   "codemirror_mode": {
    "name": "ipython",
    "version": 2
   },
   "file_extension": ".py",
   "mimetype": "text/x-python",
   "name": "python",
   "nbconvert_exporter": "python",
   "pygments_lexer": "ipython2",
   "version": "2.7.11"
  }
 },
 "nbformat": 4,
 "nbformat_minor": 0
}
