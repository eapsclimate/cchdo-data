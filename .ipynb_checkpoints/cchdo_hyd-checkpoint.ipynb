{
 "cells": [
  {
   "cell_type": "markdown",
   "metadata": {},
   "source": [
    "### packages"
   ]
  },
  {
   "cell_type": "code",
   "execution_count": 1,
   "metadata": {
    "collapsed": true
   },
   "outputs": [],
   "source": [
    "import matplotlib.pyplot as plt\n",
    "import seaborn as sns\n",
    "import xarray as xr"
   ]
  },
  {
   "cell_type": "code",
   "execution_count": 2,
   "metadata": {
    "collapsed": true
   },
   "outputs": [],
   "source": [
    "%matplotlib inline"
   ]
  },
  {
   "cell_type": "markdown",
   "metadata": {},
   "source": [
    "### data"
   ]
  },
  {
   "cell_type": "code",
   "execution_count": 3,
   "metadata": {
    "collapsed": false
   },
   "outputs": [],
   "source": [
    "ds = xr.open_dataset\\\n",
    "('/home/cz2397/data/cchdo-hyd/710_33RO20130803_nc_hyd/33RO20130803_00001_00001_hy1.nc')"
   ]
  },
  {
   "cell_type": "code",
   "execution_count": 4,
   "metadata": {
    "collapsed": false
   },
   "outputs": [
    {
     "data": {
      "text/plain": [
       "<xarray.Dataset>\n",
       "Dimensions:                      (latitude: 1, longitude: 1, pressure: 10, time: 1)\n",
       "Coordinates:\n",
       "  * pressure                     (pressure) float64 2.8 26.1 54.8 79.8 104.1 ...\n",
       "  * time                         (time) datetime64[ns] 2013-08-03T23:07:00\n",
       "  * latitude                     (latitude) float32 63.3011\n",
       "  * longitude                    (longitude) float32 -20.001\n",
       "Data variables:\n",
       "    temperature                  (pressure) float64 12.45 9.914 9.056 8.347 ...\n",
       "    salinity                     (pressure) float64 32.97 34.92 35.06 35.16 ...\n",
       "    salinity_QC                  (pressure) int16 2 2 2 2 2 2 2 2 2 2\n",
       "    bottle_salinity              (pressure) float64 32.97 34.93 35.06 35.16 ...\n",
       "    bottle_salinity_QC           (pressure) int16 2 2 2 2 2 2 2 2 2 2\n",
       "    oxygen                       (pressure) float64 295.9 267.4 255.7 257.0 ...\n",
       "    oxygen_QC                    (pressure) int16 2 2 2 2 2 2 2 2 2 2\n",
       "    bottle_oxygen                (pressure) float64 295.6 265.5 255.3 259.7 ...\n",
       "    bottle_oxygen_QC             (pressure) int16 2 2 2 2 2 2 4 2 2 2\n",
       "    silicate                     (pressure) float64 7.6 3.2 4.0 4.5 5.7 5.9 ...\n",
       "    silicate_QC                  (pressure) int16 2 2 2 2 2 6 2 2 2 2\n",
       "    nitrate                      (pressure) float64 0.0 6.1 9.8 13.1 13.5 ...\n",
       "    nitrate_QC                   (pressure) int16 2 2 2 2 2 6 6 6 6 6\n",
       "    nitrite                      (pressure) float64 0.01 0.31 0.36 0.02 0.02 ...\n",
       "    nitrite_QC                   (pressure) int16 2 2 2 2 2 6 6 6 6 6\n",
       "    phosphate                    (pressure) float64 0.06 0.55 0.75 0.88 0.88 ...\n",
       "    phosphate_QC                 (pressure) int16 2 2 2 2 2 6 6 6 6 6\n",
       "    freon_11                     (pressure) float64 3.313 3.513 3.53 3.566 ...\n",
       "    freon_11_QC                  (pressure) int16 6 2 2 2 2 2 9 2 2 9\n",
       "    freon_12                     (pressure) float64 1.922 2.008 2.035 2.033 ...\n",
       "    freon_12_QC                  (pressure) int16 6 2 2 2 2 2 9 2 2 9\n",
       "    sulfur_hexifluoride          (pressure) float64 2.073 2.069 2.171 2.113 ...\n",
       "    sulfur_hexifluoride_QC       (pressure) int16 6 2 2 2 2 2 9 2 2 9\n",
       "    total_carbon                 (pressure) float64 1.969e+03 2.106e+03 ...\n",
       "    total_carbon_QC              (pressure) int16 6 2 2 2 2 2 2 2 2 2\n",
       "    alkalinity                   (pressure) float64 2.222e+03 2.329e+03 ...\n",
       "    alkalinity_QC                (pressure) int16 4 3 4 2 3 2 2 5 2 2\n",
       "    partial_pressure_of_co2      (pressure) float64 361.7 541.3 616.6 671.7 ...\n",
       "    partial_pressure_of_co2_QC   (pressure) int16 2 2 2 2 2 2 2 2 2 2\n",
       "    partial_co2_temperature      (pressure) float64 20.0 20.0 20.0 20.0 20.0 ...\n",
       "    ph                           (pressure) float64 7.994 7.849 7.796 7.763 ...\n",
       "    ph_QC                        (pressure) int16 2 2 2 2 2 2 2 2 2 2\n",
       "    ph_temperature               (pressure) float64 25.0 25.0 25.0 25.0 25.0 ...\n",
       "    dissolved_organic_carbon     (pressure) float64 nan nan nan nan nan nan ...\n",
       "    dissolved_organic_carbon_QC  (pressure) int16 9 9 9 9 9 9 9 9 9 9\n",
       "    total_dissolved_nitrogen     (pressure) float64 nan nan nan nan nan nan ...\n",
       "    total_dissolved_nitrogen_QC  (pressure) int16 9 9 9 9 9 9 9 9 9 9\n",
       "    nitrous_oxide                (pressure) float64 10.05 11.1 11.32 11.59 ...\n",
       "    nitrous_oxide_QC             (pressure) int16 6 2 2 2 2 2 9 2 2 9\n",
       "    cdom325                      (pressure) float64 nan nan nan nan nan nan ...\n",
       "    cdom325_QC                   (pressure) int16 9 9 9 9 9 9 9 9 9 9\n",
       "    cdom340                      (pressure) float64 nan nan nan nan nan nan ...\n",
       "    cdom340_QC                   (pressure) int16 9 9 9 9 9 9 9 9 9 9\n",
       "    cdom380                      (pressure) float64 nan nan nan nan nan nan ...\n",
       "    cdom380_QC                   (pressure) int16 9 9 9 9 9 9 9 9 9 9\n",
       "    cdom412                      (pressure) float64 nan nan nan nan nan nan ...\n",
       "    cdom412_QC                   (pressure) int16 9 9 9 9 9 9 9 9 9 9\n",
       "    cdom443                      (pressure) float64 nan nan nan nan nan nan ...\n",
       "    cdom443_QC                   (pressure) int16 9 9 9 9 9 9 9 9 9 9\n",
       "    cdom490                      (pressure) float64 nan nan nan nan nan nan ...\n",
       "    cdom490_QC                   (pressure) int16 9 9 9 9 9 9 9 9 9 9\n",
       "    cdom555                      (pressure) float64 nan nan nan nan nan nan ...\n",
       "    cdom555_QC                   (pressure) int16 9 9 9 9 9 9 9 9 9 9\n",
       "    cdomsl                       (pressure) float64 nan nan nan nan nan nan ...\n",
       "    cdomsl_QC                    (pressure) int16 9 9 9 9 9 9 9 9 9 9\n",
       "    cdomsn                       (pressure) float64 nan nan nan nan nan nan ...\n",
       "    cdomsn_QC                    (pressure) int16 9 9 9 9 9 9 9 9 9 9\n",
       "    CCL4                         (pressure) float64 nan nan nan nan nan nan ...\n",
       "    CCL4_QC                      (pressure) int16 5 5 5 5 5 5 9 5 5 9\n",
       "    D14C-DIC                     (pressure) float64 nan nan nan nan nan nan ...\n",
       "    D14C-DIC_QC                  (pressure) int16 9 9 9 9 9 9 9 9 9 9\n",
       "    D14C-DIC_ERROR               (pressure) float64 nan nan nan nan nan nan ...\n",
       "    D14C-DOC                     (pressure) float64 nan nan nan nan nan nan ...\n",
       "    D14C-DOC_QC                  (pressure) int16 9 9 9 9 9 9 9 9 9 9\n",
       "    D14C-DOC_ERROR               (pressure) float64 nan nan nan nan nan nan ...\n",
       "    D13C-DOC                     (pressure) float64 nan nan nan nan nan nan ...\n",
       "    D13C-DOC_QC                  (pressure) int16 9 9 9 9 9 9 9 9 9 9\n",
       "    D13C-DOC_ERROR               (pressure) float64 nan nan nan nan nan nan ...\n",
       "    woce_date                    (time) int32 20130803\n",
       "    woce_time                    (time) int16 2307\n",
       "    station                      |S40 '1                                       '\n",
       "    cast                         |S40 '1                                       '\n",
       "Attributes:\n",
       "    EXPOCODE: 33RO20130803\n",
       "    Conventions: COARDS/WOCE\n",
       "    WOCE_VERSION: 3.0\n",
       "    WOCE_ID: A16N\n",
       "    DATA_TYPE: WOCE Bottle\n",
       "    STATION_NUMBER: 1\n",
       "    CAST_NUMBER: 1\n",
       "    BOTTOM_DEPTH_METERS: 197\n",
       "    Creation_Time: 2016-07-28T21:38:20.425511Z\n",
       "    ORIGINAL_HEADER: BOTTLE,20160728CCHSIOCBG\n",
       "# Merged parameters: D14C-DIC, D14C-DIC_FLAG_W, D14C-DIC_ERROR, D14C-DOC, D14C-DOC_FLAG_W, D14C-DOC_ERROR, D13C-DOC, D13C-DOC_FLAG_W, D13C-DOC_ERROR\n",
       "# 20150615CCHSIOCBG\n",
       "# Merged parameters: CFC-11, CFC-11_FLAG_W, CFC-12, CFC-12_FLAG_W, SF6, SF6_FLAG_W, N2O, N2O_FLAG_W, CCL4, CCL4_FLAG_W\n",
       "# Merged parameters: OXYGEN, OXYGEN_FLAG_W\n",
       "# 20140923CCHSIOCBG\n",
       "# Merged parameters: N2O\n",
       "# Merged parameters: DOC, TDN\n",
       "# Merged parameters: CDOM325, CDOM325_FLAG_W, CDOM340, CDOM340_FLA...\n",
       "    BOTTLE_NUMBERS: 10 9 8 7 6 5 4 3 1 2\n",
       "    BOTTLE_QUALITY_CODES: [2 2 2 2 2 2 2 2 2 2]\n",
       "    WOCE_BOTTLE_FLAG_DESCRIPTION: ::1 = Bottle information unavailable.:2 = No problems noted.:3 = Leaking.:4 = Did not trip correctly.:5 = Not reported.:6 = Significant discrepancy in measured values between Gerard and Niskin bottles.:7 = Unknown problem.:8 = Pair did not trip correctly. Note that the Niskin bottle can trip at an unplanned depth while the Gerard trips correctly and vice versa.:9 = Samples not drawn from this bottle.:\n",
       "\n",
       "    WOCE_WATER_SAMPLE_FLAG_DESCRIPTION: ::1 = Sample for this measurement was drawn from water bottle but analysis not received.:2 = Acceptable measurement.:3 = Questionable measurement.:4 = Bad measurement.:5 = Not reported.:6 = Mean of replicate measurements.:7 = Manual chromatographic peak measurement.:8 = Irregular digital chromatographic peak integration.:9 = Sample not drawn for this measurement from this bottle.:"
      ]
     },
     "execution_count": 4,
     "metadata": {},
     "output_type": "execute_result"
    }
   ],
   "source": [
    "ds"
   ]
  },
  {
   "cell_type": "code",
   "execution_count": 5,
   "metadata": {
    "collapsed": false
   },
   "outputs": [],
   "source": [
    "df = ds.to_dataframe()"
   ]
  },
  {
   "cell_type": "code",
   "execution_count": 6,
   "metadata": {
    "collapsed": false
   },
   "outputs": [
    {
     "data": {
      "text/html": [
       "<div>\n",
       "<table border=\"1\" class=\"dataframe\">\n",
       "  <thead>\n",
       "    <tr style=\"text-align: right;\">\n",
       "      <th></th>\n",
       "      <th></th>\n",
       "      <th></th>\n",
       "      <th></th>\n",
       "      <th>temperature</th>\n",
       "      <th>salinity</th>\n",
       "      <th>salinity_QC</th>\n",
       "      <th>bottle_salinity</th>\n",
       "      <th>bottle_salinity_QC</th>\n",
       "      <th>oxygen</th>\n",
       "      <th>oxygen_QC</th>\n",
       "      <th>bottle_oxygen</th>\n",
       "      <th>bottle_oxygen_QC</th>\n",
       "      <th>silicate</th>\n",
       "      <th>...</th>\n",
       "      <th>D14C-DOC</th>\n",
       "      <th>D14C-DOC_QC</th>\n",
       "      <th>D14C-DOC_ERROR</th>\n",
       "      <th>D13C-DOC</th>\n",
       "      <th>D13C-DOC_QC</th>\n",
       "      <th>D13C-DOC_ERROR</th>\n",
       "      <th>woce_date</th>\n",
       "      <th>woce_time</th>\n",
       "      <th>station</th>\n",
       "      <th>cast</th>\n",
       "    </tr>\n",
       "    <tr>\n",
       "      <th>latitude</th>\n",
       "      <th>longitude</th>\n",
       "      <th>pressure</th>\n",
       "      <th>time</th>\n",
       "      <th></th>\n",
       "      <th></th>\n",
       "      <th></th>\n",
       "      <th></th>\n",
       "      <th></th>\n",
       "      <th></th>\n",
       "      <th></th>\n",
       "      <th></th>\n",
       "      <th></th>\n",
       "      <th></th>\n",
       "      <th></th>\n",
       "      <th></th>\n",
       "      <th></th>\n",
       "      <th></th>\n",
       "      <th></th>\n",
       "      <th></th>\n",
       "      <th></th>\n",
       "      <th></th>\n",
       "      <th></th>\n",
       "      <th></th>\n",
       "      <th></th>\n",
       "    </tr>\n",
       "  </thead>\n",
       "  <tbody>\n",
       "    <tr>\n",
       "      <th rowspan=\"5\" valign=\"top\">63.301102</th>\n",
       "      <th rowspan=\"5\" valign=\"top\">-20.000999</th>\n",
       "      <th>2.8</th>\n",
       "      <th>2013-08-03 23:07:00</th>\n",
       "      <td>12.4514</td>\n",
       "      <td>32.9700</td>\n",
       "      <td>2</td>\n",
       "      <td>32.9680</td>\n",
       "      <td>2</td>\n",
       "      <td>295.9</td>\n",
       "      <td>2</td>\n",
       "      <td>295.6</td>\n",
       "      <td>2</td>\n",
       "      <td>7.6</td>\n",
       "      <td>...</td>\n",
       "      <td>NaN</td>\n",
       "      <td>9</td>\n",
       "      <td>NaN</td>\n",
       "      <td>NaN</td>\n",
       "      <td>9</td>\n",
       "      <td>NaN</td>\n",
       "      <td>20130803</td>\n",
       "      <td>2307</td>\n",
       "      <td>1</td>\n",
       "      <td>1</td>\n",
       "    </tr>\n",
       "    <tr>\n",
       "      <th>26.1</th>\n",
       "      <th>2013-08-03 23:07:00</th>\n",
       "      <td>9.9136</td>\n",
       "      <td>34.9211</td>\n",
       "      <td>2</td>\n",
       "      <td>34.9305</td>\n",
       "      <td>2</td>\n",
       "      <td>267.4</td>\n",
       "      <td>2</td>\n",
       "      <td>265.5</td>\n",
       "      <td>2</td>\n",
       "      <td>3.2</td>\n",
       "      <td>...</td>\n",
       "      <td>NaN</td>\n",
       "      <td>9</td>\n",
       "      <td>NaN</td>\n",
       "      <td>NaN</td>\n",
       "      <td>9</td>\n",
       "      <td>NaN</td>\n",
       "      <td>20130803</td>\n",
       "      <td>2307</td>\n",
       "      <td>1</td>\n",
       "      <td>1</td>\n",
       "    </tr>\n",
       "    <tr>\n",
       "      <th>54.8</th>\n",
       "      <th>2013-08-03 23:07:00</th>\n",
       "      <td>9.0565</td>\n",
       "      <td>35.0579</td>\n",
       "      <td>2</td>\n",
       "      <td>35.0604</td>\n",
       "      <td>2</td>\n",
       "      <td>255.7</td>\n",
       "      <td>2</td>\n",
       "      <td>255.3</td>\n",
       "      <td>2</td>\n",
       "      <td>4.0</td>\n",
       "      <td>...</td>\n",
       "      <td>NaN</td>\n",
       "      <td>9</td>\n",
       "      <td>NaN</td>\n",
       "      <td>NaN</td>\n",
       "      <td>9</td>\n",
       "      <td>NaN</td>\n",
       "      <td>20130803</td>\n",
       "      <td>2307</td>\n",
       "      <td>1</td>\n",
       "      <td>1</td>\n",
       "    </tr>\n",
       "    <tr>\n",
       "      <th>79.8</th>\n",
       "      <th>2013-08-03 23:07:00</th>\n",
       "      <td>8.3465</td>\n",
       "      <td>35.1599</td>\n",
       "      <td>2</td>\n",
       "      <td>35.1614</td>\n",
       "      <td>2</td>\n",
       "      <td>257.0</td>\n",
       "      <td>2</td>\n",
       "      <td>259.7</td>\n",
       "      <td>2</td>\n",
       "      <td>4.5</td>\n",
       "      <td>...</td>\n",
       "      <td>NaN</td>\n",
       "      <td>9</td>\n",
       "      <td>NaN</td>\n",
       "      <td>NaN</td>\n",
       "      <td>9</td>\n",
       "      <td>NaN</td>\n",
       "      <td>20130803</td>\n",
       "      <td>2307</td>\n",
       "      <td>1</td>\n",
       "      <td>1</td>\n",
       "    </tr>\n",
       "    <tr>\n",
       "      <th>104.1</th>\n",
       "      <th>2013-08-03 23:07:00</th>\n",
       "      <td>8.1891</td>\n",
       "      <td>35.1691</td>\n",
       "      <td>2</td>\n",
       "      <td>35.1687</td>\n",
       "      <td>2</td>\n",
       "      <td>261.8</td>\n",
       "      <td>2</td>\n",
       "      <td>261.8</td>\n",
       "      <td>2</td>\n",
       "      <td>5.7</td>\n",
       "      <td>...</td>\n",
       "      <td>NaN</td>\n",
       "      <td>9</td>\n",
       "      <td>NaN</td>\n",
       "      <td>NaN</td>\n",
       "      <td>9</td>\n",
       "      <td>NaN</td>\n",
       "      <td>20130803</td>\n",
       "      <td>2307</td>\n",
       "      <td>1</td>\n",
       "      <td>1</td>\n",
       "    </tr>\n",
       "  </tbody>\n",
       "</table>\n",
       "<p>5 rows × 72 columns</p>\n",
       "</div>"
      ],
      "text/plain": [
       "                                                   temperature  salinity  \\\n",
       "latitude  longitude  pressure time                                         \n",
       "63.301102 -20.000999 2.8      2013-08-03 23:07:00      12.4514   32.9700   \n",
       "                     26.1     2013-08-03 23:07:00       9.9136   34.9211   \n",
       "                     54.8     2013-08-03 23:07:00       9.0565   35.0579   \n",
       "                     79.8     2013-08-03 23:07:00       8.3465   35.1599   \n",
       "                     104.1    2013-08-03 23:07:00       8.1891   35.1691   \n",
       "\n",
       "                                                   salinity_QC  \\\n",
       "latitude  longitude  pressure time                               \n",
       "63.301102 -20.000999 2.8      2013-08-03 23:07:00            2   \n",
       "                     26.1     2013-08-03 23:07:00            2   \n",
       "                     54.8     2013-08-03 23:07:00            2   \n",
       "                     79.8     2013-08-03 23:07:00            2   \n",
       "                     104.1    2013-08-03 23:07:00            2   \n",
       "\n",
       "                                                   bottle_salinity  \\\n",
       "latitude  longitude  pressure time                                   \n",
       "63.301102 -20.000999 2.8      2013-08-03 23:07:00          32.9680   \n",
       "                     26.1     2013-08-03 23:07:00          34.9305   \n",
       "                     54.8     2013-08-03 23:07:00          35.0604   \n",
       "                     79.8     2013-08-03 23:07:00          35.1614   \n",
       "                     104.1    2013-08-03 23:07:00          35.1687   \n",
       "\n",
       "                                                   bottle_salinity_QC  oxygen  \\\n",
       "latitude  longitude  pressure time                                              \n",
       "63.301102 -20.000999 2.8      2013-08-03 23:07:00                   2   295.9   \n",
       "                     26.1     2013-08-03 23:07:00                   2   267.4   \n",
       "                     54.8     2013-08-03 23:07:00                   2   255.7   \n",
       "                     79.8     2013-08-03 23:07:00                   2   257.0   \n",
       "                     104.1    2013-08-03 23:07:00                   2   261.8   \n",
       "\n",
       "                                                   oxygen_QC  bottle_oxygen  \\\n",
       "latitude  longitude  pressure time                                            \n",
       "63.301102 -20.000999 2.8      2013-08-03 23:07:00          2          295.6   \n",
       "                     26.1     2013-08-03 23:07:00          2          265.5   \n",
       "                     54.8     2013-08-03 23:07:00          2          255.3   \n",
       "                     79.8     2013-08-03 23:07:00          2          259.7   \n",
       "                     104.1    2013-08-03 23:07:00          2          261.8   \n",
       "\n",
       "                                                   bottle_oxygen_QC  silicate  \\\n",
       "latitude  longitude  pressure time                                              \n",
       "63.301102 -20.000999 2.8      2013-08-03 23:07:00                 2       7.6   \n",
       "                     26.1     2013-08-03 23:07:00                 2       3.2   \n",
       "                     54.8     2013-08-03 23:07:00                 2       4.0   \n",
       "                     79.8     2013-08-03 23:07:00                 2       4.5   \n",
       "                     104.1    2013-08-03 23:07:00                 2       5.7   \n",
       "\n",
       "                                                                     ...                     \\\n",
       "latitude  longitude  pressure time                                   ...                      \n",
       "63.301102 -20.000999 2.8      2013-08-03 23:07:00                    ...                      \n",
       "                     26.1     2013-08-03 23:07:00                    ...                      \n",
       "                     54.8     2013-08-03 23:07:00                    ...                      \n",
       "                     79.8     2013-08-03 23:07:00                    ...                      \n",
       "                     104.1    2013-08-03 23:07:00                    ...                      \n",
       "\n",
       "                                                   D14C-DOC  D14C-DOC_QC  \\\n",
       "latitude  longitude  pressure time                                         \n",
       "63.301102 -20.000999 2.8      2013-08-03 23:07:00       NaN            9   \n",
       "                     26.1     2013-08-03 23:07:00       NaN            9   \n",
       "                     54.8     2013-08-03 23:07:00       NaN            9   \n",
       "                     79.8     2013-08-03 23:07:00       NaN            9   \n",
       "                     104.1    2013-08-03 23:07:00       NaN            9   \n",
       "\n",
       "                                                   D14C-DOC_ERROR  D13C-DOC  \\\n",
       "latitude  longitude  pressure time                                            \n",
       "63.301102 -20.000999 2.8      2013-08-03 23:07:00             NaN       NaN   \n",
       "                     26.1     2013-08-03 23:07:00             NaN       NaN   \n",
       "                     54.8     2013-08-03 23:07:00             NaN       NaN   \n",
       "                     79.8     2013-08-03 23:07:00             NaN       NaN   \n",
       "                     104.1    2013-08-03 23:07:00             NaN       NaN   \n",
       "\n",
       "                                                   D13C-DOC_QC  \\\n",
       "latitude  longitude  pressure time                               \n",
       "63.301102 -20.000999 2.8      2013-08-03 23:07:00            9   \n",
       "                     26.1     2013-08-03 23:07:00            9   \n",
       "                     54.8     2013-08-03 23:07:00            9   \n",
       "                     79.8     2013-08-03 23:07:00            9   \n",
       "                     104.1    2013-08-03 23:07:00            9   \n",
       "\n",
       "                                                   D13C-DOC_ERROR  woce_date  \\\n",
       "latitude  longitude  pressure time                                             \n",
       "63.301102 -20.000999 2.8      2013-08-03 23:07:00             NaN   20130803   \n",
       "                     26.1     2013-08-03 23:07:00             NaN   20130803   \n",
       "                     54.8     2013-08-03 23:07:00             NaN   20130803   \n",
       "                     79.8     2013-08-03 23:07:00             NaN   20130803   \n",
       "                     104.1    2013-08-03 23:07:00             NaN   20130803   \n",
       "\n",
       "                                                   woce_time  \\\n",
       "latitude  longitude  pressure time                             \n",
       "63.301102 -20.000999 2.8      2013-08-03 23:07:00       2307   \n",
       "                     26.1     2013-08-03 23:07:00       2307   \n",
       "                     54.8     2013-08-03 23:07:00       2307   \n",
       "                     79.8     2013-08-03 23:07:00       2307   \n",
       "                     104.1    2013-08-03 23:07:00       2307   \n",
       "\n",
       "                                                                                    station  \\\n",
       "latitude  longitude  pressure time                                                            \n",
       "63.301102 -20.000999 2.8      2013-08-03 23:07:00  1                                          \n",
       "                     26.1     2013-08-03 23:07:00  1                                          \n",
       "                     54.8     2013-08-03 23:07:00  1                                          \n",
       "                     79.8     2013-08-03 23:07:00  1                                          \n",
       "                     104.1    2013-08-03 23:07:00  1                                          \n",
       "\n",
       "                                                                                       cast  \n",
       "latitude  longitude  pressure time                                                           \n",
       "63.301102 -20.000999 2.8      2013-08-03 23:07:00  1                                         \n",
       "                     26.1     2013-08-03 23:07:00  1                                         \n",
       "                     54.8     2013-08-03 23:07:00  1                                         \n",
       "                     79.8     2013-08-03 23:07:00  1                                         \n",
       "                     104.1    2013-08-03 23:07:00  1                                         \n",
       "\n",
       "[5 rows x 72 columns]"
      ]
     },
     "execution_count": 6,
     "metadata": {},
     "output_type": "execute_result"
    }
   ],
   "source": [
    "df.head()"
   ]
  },
  {
   "cell_type": "markdown",
   "metadata": {},
   "source": [
    "### pressure"
   ]
  },
  {
   "cell_type": "code",
   "execution_count": 7,
   "metadata": {
    "collapsed": false
   },
   "outputs": [],
   "source": [
    "pressure = ds.indexes['pressure'].values"
   ]
  },
  {
   "cell_type": "markdown",
   "metadata": {},
   "source": [
    "### temperature"
   ]
  },
  {
   "cell_type": "code",
   "execution_count": 8,
   "metadata": {
    "collapsed": true
   },
   "outputs": [],
   "source": [
    "temperature = df.temperature"
   ]
  },
  {
   "cell_type": "code",
   "execution_count": 9,
   "metadata": {
    "collapsed": false
   },
   "outputs": [
    {
     "data": {
      "text/plain": [
       "<matplotlib.text.Text at 0x7f7a3df60950>"
      ]
     },
     "execution_count": 9,
     "metadata": {},
     "output_type": "execute_result"
    },
    {
     "data": {
      "image/png": "[encoded data removed]",
      "text/plain": [
       "<matplotlib.figure.Figure at 0x7f7a3873fdd0>"
      ]
     },
     "metadata": {},
     "output_type": "display_data"
    }
   ],
   "source": [
    "plt.rcParams['figure.figsize'] = (5, 8)\n",
    "plt.plot(temperature, pressure)\n",
    "plt.gca().invert_yaxis()\n",
    "plt.xlabel('$temperature$')\n",
    "plt.ylabel('$pressure$')"
   ]
  },
  {
   "cell_type": "markdown",
   "metadata": {},
   "source": [
    "### salinity"
   ]
  },
  {
   "cell_type": "code",
   "execution_count": 10,
   "metadata": {
    "collapsed": true
   },
   "outputs": [],
   "source": [
    "salinity = df.salinity"
   ]
  },
  {
   "cell_type": "code",
   "execution_count": 11,
   "metadata": {
    "collapsed": false
   },
   "outputs": [
    {
     "data": {
      "text/plain": [
       "<matplotlib.text.Text at 0x7f7a3804ca10>"
      ]
     },
     "execution_count": 11,
     "metadata": {},
     "output_type": "execute_result"
    },
    {
     "data": {
      "image/png": "[encoded data removed]",
      "text/plain": [
       "<matplotlib.figure.Figure at 0x7f7a380b47d0>"
      ]
     },
     "metadata": {},
     "output_type": "display_data"
    }
   ],
   "source": [
    "plt.rcParams['figure.figsize'] = (5, 8)\n",
    "plt.plot(salinity, pressure)\n",
    "plt.gca().invert_yaxis()\n",
    "plt.xlabel('$salinity$')\n",
    "plt.ylabel('$pressure$')"
   ]
  },
  {
   "cell_type": "markdown",
   "metadata": {},
   "source": [
    "### bottle salinity"
   ]
  },
  {
   "cell_type": "code",
   "execution_count": 12,
   "metadata": {
    "collapsed": false
   },
   "outputs": [],
   "source": [
    "bottle_salinity = df.bottle_salinity"
   ]
  },
  {
   "cell_type": "code",
   "execution_count": 13,
   "metadata": {
    "collapsed": false
   },
   "outputs": [
    {
     "data": {
      "text/plain": [
       "<matplotlib.text.Text at 0x7f7a180ef150>"
      ]
     },
     "execution_count": 13,
     "metadata": {},
     "output_type": "execute_result"
    },
    {
     "data": {
      "image/png": "[encoded data removed]",
      "text/plain": [
       "<matplotlib.figure.Figure at 0x7f7a3810da90>"
      ]
     },
     "metadata": {},
     "output_type": "display_data"
    }
   ],
   "source": [
    "plt.rcParams['figure.figsize'] = (5, 8)\n",
    "plt.plot(bottle_salinity, pressure)\n",
    "plt.gca().invert_yaxis()\n",
    "plt.xlabel('$bottle\\ salinity$')\n",
    "plt.ylabel('$pressure$')"
   ]
  },
  {
   "cell_type": "markdown",
   "metadata": {},
   "source": [
    "### oxygen"
   ]
  },
  {
   "cell_type": "code",
   "execution_count": 14,
   "metadata": {
    "collapsed": true
   },
   "outputs": [],
   "source": [
    "oxygen = df.oxygen"
   ]
  },
  {
   "cell_type": "code",
   "execution_count": 15,
   "metadata": {
    "collapsed": false
   },
   "outputs": [
    {
     "data": {
      "text/plain": [
       "<matplotlib.text.Text at 0x7f7a1807d410>"
      ]
     },
     "execution_count": 15,
     "metadata": {},
     "output_type": "execute_result"
    },
    {
     "data": {
      "image/png": "[encoded data removed]",
      "text/plain": [
       "<matplotlib.figure.Figure at 0x7f7a18062d90>"
      ]
     },
     "metadata": {},
     "output_type": "display_data"
    }
   ],
   "source": [
    "plt.rcParams['figure.figsize'] = (5, 8)\n",
    "plt.plot(oxygen, pressure)\n",
    "plt.gca().invert_yaxis()\n",
    "plt.xlabel('$oxygen$')\n",
    "plt.ylabel('$pressure$')"
   ]
  },
  {
   "cell_type": "markdown",
   "metadata": {},
   "source": [
    "### bottle oxygen"
   ]
  },
  {
   "cell_type": "code",
   "execution_count": 16,
   "metadata": {
    "collapsed": false
   },
   "outputs": [],
   "source": [
    "bottle_oxygen = df.bottle_oxygen"
   ]
  },
  {
   "cell_type": "code",
   "execution_count": 17,
   "metadata": {
    "collapsed": false
   },
   "outputs": [
    {
     "data": {
      "text/plain": [
       "<matplotlib.text.Text at 0x7f79d8740850>"
      ]
     },
     "execution_count": 17,
     "metadata": {},
     "output_type": "execute_result"
    },
    {
     "data": {
      "image/png": "[encoded data removed]",
      "text/plain": [
       "<matplotlib.figure.Figure at 0x7f79d87950d0>"
      ]
     },
     "metadata": {},
     "output_type": "display_data"
    }
   ],
   "source": [
    "plt.rcParams['figure.figsize'] = (5, 8)\n",
    "plt.plot(bottle_oxygen, pressure)\n",
    "plt.gca().invert_yaxis()\n",
    "plt.xlabel('$oxygen$')\n",
    "plt.ylabel('$pressure$')"
   ]
  },
  {
   "cell_type": "markdown",
   "metadata": {
    "collapsed": true
   },
   "source": [
    "### silicate"
   ]
  },
  {
   "cell_type": "code",
   "execution_count": 18,
   "metadata": {
    "collapsed": true
   },
   "outputs": [],
   "source": [
    "silicate = df.silicate"
   ]
  },
  {
   "cell_type": "code",
   "execution_count": 19,
   "metadata": {
    "collapsed": false
   },
   "outputs": [
    {
     "data": {
      "text/plain": [
       "<matplotlib.text.Text at 0x7f79d8740250>"
      ]
     },
     "execution_count": 19,
     "metadata": {},
     "output_type": "execute_result"
    },
    {
     "data": {
      "image/png": "[encoded data removed]",
      "text/plain": [
       "<matplotlib.figure.Figure at 0x7f7a18137d10>"
      ]
     },
     "metadata": {},
     "output_type": "display_data"
    }
   ],
   "source": [
    "plt.rcParams['figure.figsize'] = (5, 8)\n",
    "plt.plot(silicate, pressure)\n",
    "plt.gca().invert_yaxis()\n",
    "plt.xlabel('$silicate$')\n",
    "plt.ylabel('$pressure$')"
   ]
  },
  {
   "cell_type": "markdown",
   "metadata": {},
   "source": [
    "### nitrate"
   ]
  },
  {
   "cell_type": "code",
   "execution_count": 20,
   "metadata": {
    "collapsed": true
   },
   "outputs": [],
   "source": [
    "nitrate = df.nitrate"
   ]
  },
  {
   "cell_type": "code",
   "execution_count": 21,
   "metadata": {
    "collapsed": false
   },
   "outputs": [
    {
     "data": {
      "text/plain": [
       "<matplotlib.text.Text at 0x7f79d862f850>"
      ]
     },
     "execution_count": 21,
     "metadata": {},
     "output_type": "execute_result"
    },
    {
     "data": {
      "image/png": "[encoded data removed]",
      "text/plain": [
       "<matplotlib.figure.Figure at 0x7f7a380c5550>"
      ]
     },
     "metadata": {},
     "output_type": "display_data"
    }
   ],
   "source": [
    "plt.rcParams['figure.figsize'] = (5, 8)\n",
    "plt.plot(nitrate, pressure)\n",
    "plt.gca().invert_yaxis()\n",
    "plt.xlabel('$nitrate$')\n",
    "plt.ylabel('$pressure$')"
   ]
  },
  {
   "cell_type": "markdown",
   "metadata": {},
   "source": [
    "### nitrite"
   ]
  },
  {
   "cell_type": "code",
   "execution_count": 22,
   "metadata": {
    "collapsed": false
   },
   "outputs": [],
   "source": [
    "nitrite = df.nitrite"
   ]
  },
  {
   "cell_type": "code",
   "execution_count": 23,
   "metadata": {
    "collapsed": false
   },
   "outputs": [
    {
     "data": {
      "text/plain": [
       "<matplotlib.text.Text at 0x7f79d85705d0>"
      ]
     },
     "execution_count": 23,
     "metadata": {},
     "output_type": "execute_result"
    },
    {
     "data": {
      "image/png": "[encoded data removed]",
      "text/plain": [
       "<matplotlib.figure.Figure at 0x7f79d85524d0>"
      ]
     },
     "metadata": {},
     "output_type": "display_data"
    }
   ],
   "source": [
    "plt.rcParams['figure.figsize'] = (5, 8)\n",
    "plt.plot(nitrite, pressure)\n",
    "plt.gca().invert_yaxis()\n",
    "plt.xlabel('$nitrite$')\n",
    "plt.ylabel('$pressure$')"
   ]
  },
  {
   "cell_type": "markdown",
   "metadata": {},
   "source": [
    "### phosphate"
   ]
  },
  {
   "cell_type": "code",
   "execution_count": 24,
   "metadata": {
    "collapsed": true
   },
   "outputs": [],
   "source": [
    "phosphate = df.phosphate"
   ]
  },
  {
   "cell_type": "code",
   "execution_count": 25,
   "metadata": {
    "collapsed": false
   },
   "outputs": [
    {
     "data": {
      "text/plain": [
       "<matplotlib.text.Text at 0x7f79d84f0690>"
      ]
     },
     "execution_count": 25,
     "metadata": {},
     "output_type": "execute_result"
    },
    {
     "data": {
      "image/png": "[encoded data removed]",
      "text/plain": [
       "<matplotlib.figure.Figure at 0x7f79d84e4a10>"
      ]
     },
     "metadata": {},
     "output_type": "display_data"
    }
   ],
   "source": [
    "plt.rcParams['figure.figsize'] = (5, 8)\n",
    "plt.plot(phosphate, pressure)\n",
    "plt.gca().invert_yaxis()\n",
    "plt.xlabel('$phosphate$')\n",
    "plt.ylabel('$pressure$')"
   ]
  },
  {
   "cell_type": "markdown",
   "metadata": {},
   "source": [
    "### Freon 11"
   ]
  },
  {
   "cell_type": "code",
   "execution_count": 26,
   "metadata": {
    "collapsed": false
   },
   "outputs": [],
   "source": [
    "freon_11 = df.freon_11"
   ]
  },
  {
   "cell_type": "code",
   "execution_count": 27,
   "metadata": {
    "collapsed": false
   },
   "outputs": [
    {
     "data": {
      "text/plain": [
       "<matplotlib.text.Text at 0x7f79d83df5d0>"
      ]
     },
     "execution_count": 27,
     "metadata": {},
     "output_type": "execute_result"
    },
    {
     "data": {
      "image/png": "[encoded data removed]",
      "text/plain": [
       "<matplotlib.figure.Figure at 0x7f79d84e4d90>"
      ]
     },
     "metadata": {},
     "output_type": "display_data"
    }
   ],
   "source": [
    "plt.rcParams['figure.figsize'] = (5, 8)\n",
    "plt.plot(freon_11, pressure)\n",
    "plt.gca().invert_yaxis()\n",
    "plt.xlabel('$Freon\\ 11$')\n",
    "plt.ylabel('$pressure$')"
   ]
  },
  {
   "cell_type": "markdown",
   "metadata": {},
   "source": [
    "### Freon 12"
   ]
  },
  {
   "cell_type": "code",
   "execution_count": 28,
   "metadata": {
    "collapsed": false
   },
   "outputs": [],
   "source": [
    "freon_12 = df.freon_12"
   ]
  },
  {
   "cell_type": "code",
   "execution_count": 29,
   "metadata": {
    "collapsed": false
   },
   "outputs": [
    {
     "data": {
      "text/plain": [
       "<matplotlib.text.Text at 0x7f79d8308b90>"
      ]
     },
     "execution_count": 29,
     "metadata": {},
     "output_type": "execute_result"
    },
    {
     "data": {
      "image/png": "[encoded data removed]",
      "text/plain": [
       "<matplotlib.figure.Figure at 0x7f79d8435310>"
      ]
     },
     "metadata": {},
     "output_type": "display_data"
    }
   ],
   "source": [
    "plt.rcParams['figure.figsize'] = (5, 8)\n",
    "plt.plot(freon_12, pressure)\n",
    "plt.gca().invert_yaxis()\n",
    "plt.xlabel('$Freon\\ 12$')\n",
    "plt.ylabel('$pressure$')"
   ]
  },
  {
   "cell_type": "markdown",
   "metadata": {},
   "source": [
    "### Freon 113"
   ]
  },
  {
   "cell_type": "code",
   "execution_count": 30,
   "metadata": {
    "collapsed": false
   },
   "outputs": [
    {
     "ename": "AttributeError",
     "evalue": "'DataFrame' object has no attribute 'freon_113'",
     "output_type": "error",
     "traceback": [
      "\u001b[1;31m---------------------------------------------------------------------------\u001b[0m",
      "\u001b[1;31mAttributeError\u001b[0m                            Traceback (most recent call last)",
      "\u001b[1;32m<ipython-input-30-8613ce298d9e>\u001b[0m in \u001b[0;36m<module>\u001b[1;34m()\u001b[0m\n\u001b[1;32m----> 1\u001b[1;33m \u001b[0mfreon_113\u001b[0m \u001b[1;33m=\u001b[0m \u001b[0mdf\u001b[0m\u001b[1;33m.\u001b[0m\u001b[0mfreon_113\u001b[0m\u001b[1;33m\u001b[0m\u001b[0m\n\u001b[0m",
      "\u001b[1;32m/usr/local/anaconda/lib/python2.7/site-packages/pandas/core/generic.py\u001b[0m in \u001b[0;36m__getattr__\u001b[1;34m(self, name)\u001b[0m\n\u001b[0;32m   2358\u001b[0m                 \u001b[1;32mreturn\u001b[0m \u001b[0mself\u001b[0m\u001b[1;33m[\u001b[0m\u001b[0mname\u001b[0m\u001b[1;33m]\u001b[0m\u001b[1;33m\u001b[0m\u001b[0m\n\u001b[0;32m   2359\u001b[0m             raise AttributeError(\"'%s' object has no attribute '%s'\" %\n\u001b[1;32m-> 2360\u001b[1;33m                                  (type(self).__name__, name))\n\u001b[0m\u001b[0;32m   2361\u001b[0m \u001b[1;33m\u001b[0m\u001b[0m\n\u001b[0;32m   2362\u001b[0m     \u001b[1;32mdef\u001b[0m \u001b[0m__setattr__\u001b[0m\u001b[1;33m(\u001b[0m\u001b[0mself\u001b[0m\u001b[1;33m,\u001b[0m \u001b[0mname\u001b[0m\u001b[1;33m,\u001b[0m \u001b[0mvalue\u001b[0m\u001b[1;33m)\u001b[0m\u001b[1;33m:\u001b[0m\u001b[1;33m\u001b[0m\u001b[0m\n",
      "\u001b[1;31mAttributeError\u001b[0m: 'DataFrame' object has no attribute 'freon_113'"
     ]
    }
   ],
   "source": [
    "freon_113 = df.freon_113"
   ]
  },
  {
   "cell_type": "code",
   "execution_count": null,
   "metadata": {
    "collapsed": false
   },
   "outputs": [],
   "source": [
    "plt.rcParams['figure.figsize'] = (5, 8)\n",
    "plt.plot(freon_113, pressure)\n",
    "plt.gca().invert_yaxis()\n",
    "plt.xlabel('$Freon\\ 113$')\n",
    "plt.ylabel('$pressure$')"
   ]
  },
  {
   "cell_type": "markdown",
   "metadata": {},
   "source": [
    "### sulfur hexifluoride"
   ]
  },
  {
   "cell_type": "code",
   "execution_count": 31,
   "metadata": {
    "collapsed": false
   },
   "outputs": [],
   "source": [
    "sulfur_hexifluoride = df.sulfur_hexifluoride"
   ]
  },
  {
   "cell_type": "code",
   "execution_count": 32,
   "metadata": {
    "collapsed": false
   },
   "outputs": [
    {
     "data": {
      "text/plain": [
       "<matplotlib.text.Text at 0x7f79b87ec2d0>"
      ]
     },
     "execution_count": 32,
     "metadata": {},
     "output_type": "execute_result"
    },
    {
     "data": {
      "image/png": "[encoded data removed]",
      "text/plain": [
       "<matplotlib.figure.Figure at 0x7f79b87bcd50>"
      ]
     },
     "metadata": {},
     "output_type": "display_data"
    }
   ],
   "source": [
    "plt.rcParams['figure.figsize'] = (5, 8)\n",
    "plt.plot(sulfur_hexifluoride, pressure)\n",
    "plt.gca().invert_yaxis()\n",
    "plt.xlabel('$sulfur\\ hexifluoride$')\n",
    "plt.ylabel('$pressure$')"
   ]
  },
  {
   "cell_type": "markdown",
   "metadata": {},
   "source": [
    "### total carbon"
   ]
  },
  {
   "cell_type": "code",
   "execution_count": 33,
   "metadata": {
    "collapsed": false
   },
   "outputs": [],
   "source": [
    "total_carbon = df.total_carbon"
   ]
  },
  {
   "cell_type": "code",
   "execution_count": 34,
   "metadata": {
    "collapsed": false
   },
   "outputs": [
    {
     "data": {
      "text/plain": [
       "<matplotlib.text.Text at 0x7f79b87a2750>"
      ]
     },
     "execution_count": 34,
     "metadata": {},
     "output_type": "execute_result"
    },
    {
     "data": {
      "image/png": "[encoded data removed]",
      "text/plain": [
       "<matplotlib.figure.Figure at 0x7f79d82a4d50>"
      ]
     },
     "metadata": {},
     "output_type": "display_data"
    }
   ],
   "source": [
    "plt.rcParams['figure.figsize'] = (5, 8)\n",
    "plt.plot(total_carbon, pressure)\n",
    "plt.gca().invert_yaxis()\n",
    "plt.xlabel('$total\\ carbon$')\n",
    "plt.ylabel('$pressure$')"
   ]
  },
  {
   "cell_type": "markdown",
   "metadata": {},
   "source": [
    "### alkalinity"
   ]
  },
  {
   "cell_type": "code",
   "execution_count": 35,
   "metadata": {
    "collapsed": false
   },
   "outputs": [],
   "source": [
    "alkalinity = df.alkalinity"
   ]
  },
  {
   "cell_type": "code",
   "execution_count": 36,
   "metadata": {
    "collapsed": false
   },
   "outputs": [
    {
     "data": {
      "text/plain": [
       "<matplotlib.text.Text at 0x7f79b86eb050>"
      ]
     },
     "execution_count": 36,
     "metadata": {},
     "output_type": "execute_result"
    },
    {
     "data": {
      "image/png": "[encoded data removed]",
      "text/plain": [
       "<matplotlib.figure.Figure at 0x7f79b8725650>"
      ]
     },
     "metadata": {},
     "output_type": "display_data"
    }
   ],
   "source": [
    "plt.rcParams['figure.figsize'] = (5, 8)\n",
    "plt.plot(alkalinity, pressure)\n",
    "plt.gca().invert_yaxis()\n",
    "plt.xlabel('$alkalinity$')\n",
    "plt.ylabel('$pressure$')"
   ]
  },
  {
   "cell_type": "markdown",
   "metadata": {},
   "source": [
    "### pH"
   ]
  },
  {
   "cell_type": "code",
   "execution_count": 37,
   "metadata": {
    "collapsed": false
   },
   "outputs": [],
   "source": [
    "ph = df.ph"
   ]
  },
  {
   "cell_type": "code",
   "execution_count": 38,
   "metadata": {
    "collapsed": false
   },
   "outputs": [
    {
     "data": {
      "text/plain": [
       "<matplotlib.text.Text at 0x7f79b86e1ed0>"
      ]
     },
     "execution_count": 38,
     "metadata": {},
     "output_type": "execute_result"
    },
    {
     "data": {
      "image/png": "[encoded data removed]",
      "text/plain": [
       "<matplotlib.figure.Figure at 0x7f79b86c45d0>"
      ]
     },
     "metadata": {},
     "output_type": "display_data"
    }
   ],
   "source": [
    "plt.rcParams['figure.figsize'] = (5, 8)\n",
    "plt.plot(ph, pressure)\n",
    "plt.gca().invert_yaxis()\n",
    "plt.xlabel('$pH$')\n",
    "plt.ylabel('$pressure$')"
   ]
  },
  {
   "cell_type": "markdown",
   "metadata": {},
   "source": [
    "### CTD depth"
   ]
  },
  {
   "cell_type": "code",
   "execution_count": 39,
   "metadata": {
    "collapsed": false
   },
   "outputs": [
    {
     "ename": "AttributeError",
     "evalue": "'DataFrame' object has no attribute 'CTDDEPTH'",
     "output_type": "error",
     "traceback": [
      "\u001b[1;31m---------------------------------------------------------------------------\u001b[0m",
      "\u001b[1;31mAttributeError\u001b[0m                            Traceback (most recent call last)",
      "\u001b[1;32m<ipython-input-39-1f096f2d3dde>\u001b[0m in \u001b[0;36m<module>\u001b[1;34m()\u001b[0m\n\u001b[1;32m----> 1\u001b[1;33m \u001b[0mCTDDEPTH\u001b[0m \u001b[1;33m=\u001b[0m \u001b[0mdf\u001b[0m\u001b[1;33m.\u001b[0m\u001b[0mCTDDEPTH\u001b[0m\u001b[1;33m\u001b[0m\u001b[0m\n\u001b[0m",
      "\u001b[1;32m/usr/local/anaconda/lib/python2.7/site-packages/pandas/core/generic.py\u001b[0m in \u001b[0;36m__getattr__\u001b[1;34m(self, name)\u001b[0m\n\u001b[0;32m   2358\u001b[0m                 \u001b[1;32mreturn\u001b[0m \u001b[0mself\u001b[0m\u001b[1;33m[\u001b[0m\u001b[0mname\u001b[0m\u001b[1;33m]\u001b[0m\u001b[1;33m\u001b[0m\u001b[0m\n\u001b[0;32m   2359\u001b[0m             raise AttributeError(\"'%s' object has no attribute '%s'\" %\n\u001b[1;32m-> 2360\u001b[1;33m                                  (type(self).__name__, name))\n\u001b[0m\u001b[0;32m   2361\u001b[0m \u001b[1;33m\u001b[0m\u001b[0m\n\u001b[0;32m   2362\u001b[0m     \u001b[1;32mdef\u001b[0m \u001b[0m__setattr__\u001b[0m\u001b[1;33m(\u001b[0m\u001b[0mself\u001b[0m\u001b[1;33m,\u001b[0m \u001b[0mname\u001b[0m\u001b[1;33m,\u001b[0m \u001b[0mvalue\u001b[0m\u001b[1;33m)\u001b[0m\u001b[1;33m:\u001b[0m\u001b[1;33m\u001b[0m\u001b[0m\n",
      "\u001b[1;31mAttributeError\u001b[0m: 'DataFrame' object has no attribute 'CTDDEPTH'"
     ]
    }
   ],
   "source": [
    "CTDDEPTH = df.CTDDEPTH"
   ]
  },
  {
   "cell_type": "code",
   "execution_count": 40,
   "metadata": {
    "collapsed": false
   },
   "outputs": [
    {
     "ename": "NameError",
     "evalue": "name 'CTDDEPTH' is not defined",
     "output_type": "error",
     "traceback": [
      "\u001b[1;31m---------------------------------------------------------------------------\u001b[0m",
      "\u001b[1;31mNameError\u001b[0m                                 Traceback (most recent call last)",
      "\u001b[1;32m<ipython-input-40-be6f43cba2d5>\u001b[0m in \u001b[0;36m<module>\u001b[1;34m()\u001b[0m\n\u001b[0;32m      1\u001b[0m \u001b[0mplt\u001b[0m\u001b[1;33m.\u001b[0m\u001b[0mrcParams\u001b[0m\u001b[1;33m[\u001b[0m\u001b[1;34m'figure.figsize'\u001b[0m\u001b[1;33m]\u001b[0m \u001b[1;33m=\u001b[0m \u001b[1;33m(\u001b[0m\u001b[1;36m8\u001b[0m\u001b[1;33m,\u001b[0m \u001b[1;36m8\u001b[0m\u001b[1;33m)\u001b[0m\u001b[1;33m\u001b[0m\u001b[0m\n\u001b[1;32m----> 2\u001b[1;33m \u001b[0mplt\u001b[0m\u001b[1;33m.\u001b[0m\u001b[0mplot\u001b[0m\u001b[1;33m(\u001b[0m\u001b[0mCTDDEPTH\u001b[0m\u001b[1;33m,\u001b[0m \u001b[0mpressure\u001b[0m\u001b[1;33m)\u001b[0m\u001b[1;33m\u001b[0m\u001b[0m\n\u001b[0m\u001b[0;32m      3\u001b[0m \u001b[0mplt\u001b[0m\u001b[1;33m.\u001b[0m\u001b[0mgca\u001b[0m\u001b[1;33m(\u001b[0m\u001b[1;33m)\u001b[0m\u001b[1;33m.\u001b[0m\u001b[0minvert_yaxis\u001b[0m\u001b[1;33m(\u001b[0m\u001b[1;33m)\u001b[0m\u001b[1;33m\u001b[0m\u001b[0m\n\u001b[0;32m      4\u001b[0m \u001b[0mplt\u001b[0m\u001b[1;33m.\u001b[0m\u001b[0mxlabel\u001b[0m\u001b[1;33m(\u001b[0m\u001b[1;34m'$CTD\\ depth$'\u001b[0m\u001b[1;33m)\u001b[0m\u001b[1;33m\u001b[0m\u001b[0m\n\u001b[0;32m      5\u001b[0m \u001b[0mplt\u001b[0m\u001b[1;33m.\u001b[0m\u001b[0mylabel\u001b[0m\u001b[1;33m(\u001b[0m\u001b[1;34m'$pressure$'\u001b[0m\u001b[1;33m)\u001b[0m\u001b[1;33m\u001b[0m\u001b[0m\n",
      "\u001b[1;31mNameError\u001b[0m: name 'CTDDEPTH' is not defined"
     ]
    }
   ],
   "source": [
    "plt.rcParams['figure.figsize'] = (8, 8)\n",
    "plt.plot(CTDDEPTH, pressure)\n",
    "plt.gca().invert_yaxis()\n",
    "plt.xlabel('$CTD\\ depth$')\n",
    "plt.ylabel('$pressure$')"
   ]
  },
  {
   "cell_type": "markdown",
   "metadata": {},
   "source": [
    "### reference salinity"
   ]
  },
  {
   "cell_type": "code",
   "execution_count": 41,
   "metadata": {
    "collapsed": false
   },
   "outputs": [
    {
     "ename": "AttributeError",
     "evalue": "'DataFrame' object has no attribute 'reference_salinity'",
     "output_type": "error",
     "traceback": [
      "\u001b[1;31m---------------------------------------------------------------------------\u001b[0m",
      "\u001b[1;31mAttributeError\u001b[0m                            Traceback (most recent call last)",
      "\u001b[1;32m<ipython-input-41-eb63002dbf28>\u001b[0m in \u001b[0;36m<module>\u001b[1;34m()\u001b[0m\n\u001b[1;32m----> 1\u001b[1;33m \u001b[0mreference_salinity\u001b[0m \u001b[1;33m=\u001b[0m \u001b[0mdf\u001b[0m\u001b[1;33m.\u001b[0m\u001b[0mreference_salinity\u001b[0m\u001b[1;33m\u001b[0m\u001b[0m\n\u001b[0m",
      "\u001b[1;32m/usr/local/anaconda/lib/python2.7/site-packages/pandas/core/generic.py\u001b[0m in \u001b[0;36m__getattr__\u001b[1;34m(self, name)\u001b[0m\n\u001b[0;32m   2358\u001b[0m                 \u001b[1;32mreturn\u001b[0m \u001b[0mself\u001b[0m\u001b[1;33m[\u001b[0m\u001b[0mname\u001b[0m\u001b[1;33m]\u001b[0m\u001b[1;33m\u001b[0m\u001b[0m\n\u001b[0;32m   2359\u001b[0m             raise AttributeError(\"'%s' object has no attribute '%s'\" %\n\u001b[1;32m-> 2360\u001b[1;33m                                  (type(self).__name__, name))\n\u001b[0m\u001b[0;32m   2361\u001b[0m \u001b[1;33m\u001b[0m\u001b[0m\n\u001b[0;32m   2362\u001b[0m     \u001b[1;32mdef\u001b[0m \u001b[0m__setattr__\u001b[0m\u001b[1;33m(\u001b[0m\u001b[0mself\u001b[0m\u001b[1;33m,\u001b[0m \u001b[0mname\u001b[0m\u001b[1;33m,\u001b[0m \u001b[0mvalue\u001b[0m\u001b[1;33m)\u001b[0m\u001b[1;33m:\u001b[0m\u001b[1;33m\u001b[0m\u001b[0m\n",
      "\u001b[1;31mAttributeError\u001b[0m: 'DataFrame' object has no attribute 'reference_salinity'"
     ]
    }
   ],
   "source": [
    "reference_salinity = df.reference_salinity"
   ]
  },
  {
   "cell_type": "code",
   "execution_count": 42,
   "metadata": {
    "collapsed": false
   },
   "outputs": [
    {
     "ename": "NameError",
     "evalue": "name 'reference_salinity' is not defined",
     "output_type": "error",
     "traceback": [
      "\u001b[1;31m---------------------------------------------------------------------------\u001b[0m",
      "\u001b[1;31mNameError\u001b[0m                                 Traceback (most recent call last)",
      "\u001b[1;32m<ipython-input-42-d396818971c4>\u001b[0m in \u001b[0;36m<module>\u001b[1;34m()\u001b[0m\n\u001b[0;32m      1\u001b[0m \u001b[0mplt\u001b[0m\u001b[1;33m.\u001b[0m\u001b[0mrcParams\u001b[0m\u001b[1;33m[\u001b[0m\u001b[1;34m'figure.figsize'\u001b[0m\u001b[1;33m]\u001b[0m \u001b[1;33m=\u001b[0m \u001b[1;33m(\u001b[0m\u001b[1;36m5\u001b[0m\u001b[1;33m,\u001b[0m \u001b[1;36m8\u001b[0m\u001b[1;33m)\u001b[0m\u001b[1;33m\u001b[0m\u001b[0m\n\u001b[1;32m----> 2\u001b[1;33m \u001b[0mplt\u001b[0m\u001b[1;33m.\u001b[0m\u001b[0mplot\u001b[0m\u001b[1;33m(\u001b[0m\u001b[0mreference_salinity\u001b[0m\u001b[1;33m,\u001b[0m \u001b[0mpressure\u001b[0m\u001b[1;33m)\u001b[0m\u001b[1;33m\u001b[0m\u001b[0m\n\u001b[0m\u001b[0;32m      3\u001b[0m \u001b[0mplt\u001b[0m\u001b[1;33m.\u001b[0m\u001b[0mgca\u001b[0m\u001b[1;33m(\u001b[0m\u001b[1;33m)\u001b[0m\u001b[1;33m.\u001b[0m\u001b[0minvert_yaxis\u001b[0m\u001b[1;33m(\u001b[0m\u001b[1;33m)\u001b[0m\u001b[1;33m\u001b[0m\u001b[0m\n\u001b[0;32m      4\u001b[0m \u001b[0mplt\u001b[0m\u001b[1;33m.\u001b[0m\u001b[0mxlabel\u001b[0m\u001b[1;33m(\u001b[0m\u001b[1;34m'$reference\\ salinity$'\u001b[0m\u001b[1;33m)\u001b[0m\u001b[1;33m\u001b[0m\u001b[0m\n\u001b[0;32m      5\u001b[0m \u001b[0mplt\u001b[0m\u001b[1;33m.\u001b[0m\u001b[0mylabel\u001b[0m\u001b[1;33m(\u001b[0m\u001b[1;34m'$pressure$'\u001b[0m\u001b[1;33m)\u001b[0m\u001b[1;33m\u001b[0m\u001b[0m\n",
      "\u001b[1;31mNameError\u001b[0m: name 'reference_salinity' is not defined"
     ]
    }
   ],
   "source": [
    "plt.rcParams['figure.figsize'] = (5, 8)\n",
    "plt.plot(reference_salinity, pressure)\n",
    "plt.gca().invert_yaxis()\n",
    "plt.xlabel('$reference\\ salinity$')\n",
    "plt.ylabel('$pressure$')"
   ]
  },
  {
   "cell_type": "markdown",
   "metadata": {},
   "source": [
    "### reference temperature"
   ]
  },
  {
   "cell_type": "code",
   "execution_count": 43,
   "metadata": {
    "collapsed": false
   },
   "outputs": [
    {
     "ename": "AttributeError",
     "evalue": "'DataFrame' object has no attribute 'REFTMP'",
     "output_type": "error",
     "traceback": [
      "\u001b[1;31m---------------------------------------------------------------------------\u001b[0m",
      "\u001b[1;31mAttributeError\u001b[0m                            Traceback (most recent call last)",
      "\u001b[1;32m<ipython-input-43-040eabc66128>\u001b[0m in \u001b[0;36m<module>\u001b[1;34m()\u001b[0m\n\u001b[1;32m----> 1\u001b[1;33m \u001b[0mREFTMP\u001b[0m \u001b[1;33m=\u001b[0m \u001b[0mdf\u001b[0m\u001b[1;33m.\u001b[0m\u001b[0mREFTMP\u001b[0m\u001b[1;33m\u001b[0m\u001b[0m\n\u001b[0m",
      "\u001b[1;32m/usr/local/anaconda/lib/python2.7/site-packages/pandas/core/generic.py\u001b[0m in \u001b[0;36m__getattr__\u001b[1;34m(self, name)\u001b[0m\n\u001b[0;32m   2358\u001b[0m                 \u001b[1;32mreturn\u001b[0m \u001b[0mself\u001b[0m\u001b[1;33m[\u001b[0m\u001b[0mname\u001b[0m\u001b[1;33m]\u001b[0m\u001b[1;33m\u001b[0m\u001b[0m\n\u001b[0;32m   2359\u001b[0m             raise AttributeError(\"'%s' object has no attribute '%s'\" %\n\u001b[1;32m-> 2360\u001b[1;33m                                  (type(self).__name__, name))\n\u001b[0m\u001b[0;32m   2361\u001b[0m \u001b[1;33m\u001b[0m\u001b[0m\n\u001b[0;32m   2362\u001b[0m     \u001b[1;32mdef\u001b[0m \u001b[0m__setattr__\u001b[0m\u001b[1;33m(\u001b[0m\u001b[0mself\u001b[0m\u001b[1;33m,\u001b[0m \u001b[0mname\u001b[0m\u001b[1;33m,\u001b[0m \u001b[0mvalue\u001b[0m\u001b[1;33m)\u001b[0m\u001b[1;33m:\u001b[0m\u001b[1;33m\u001b[0m\u001b[0m\n",
      "\u001b[1;31mAttributeError\u001b[0m: 'DataFrame' object has no attribute 'REFTMP'"
     ]
    }
   ],
   "source": [
    "REFTMP = df.REFTMP"
   ]
  },
  {
   "cell_type": "code",
   "execution_count": 44,
   "metadata": {
    "collapsed": false
   },
   "outputs": [
    {
     "ename": "NameError",
     "evalue": "name 'REFTMP' is not defined",
     "output_type": "error",
     "traceback": [
      "\u001b[1;31m---------------------------------------------------------------------------\u001b[0m",
      "\u001b[1;31mNameError\u001b[0m                                 Traceback (most recent call last)",
      "\u001b[1;32m<ipython-input-44-149ecef60901>\u001b[0m in \u001b[0;36m<module>\u001b[1;34m()\u001b[0m\n\u001b[0;32m      1\u001b[0m \u001b[0mplt\u001b[0m\u001b[1;33m.\u001b[0m\u001b[0mrcParams\u001b[0m\u001b[1;33m[\u001b[0m\u001b[1;34m'figure.figsize'\u001b[0m\u001b[1;33m]\u001b[0m \u001b[1;33m=\u001b[0m \u001b[1;33m(\u001b[0m\u001b[1;36m5\u001b[0m\u001b[1;33m,\u001b[0m \u001b[1;36m8\u001b[0m\u001b[1;33m)\u001b[0m\u001b[1;33m\u001b[0m\u001b[0m\n\u001b[1;32m----> 2\u001b[1;33m \u001b[0mplt\u001b[0m\u001b[1;33m.\u001b[0m\u001b[0mplot\u001b[0m\u001b[1;33m(\u001b[0m\u001b[0mREFTMP\u001b[0m\u001b[1;33m,\u001b[0m \u001b[0mpressure\u001b[0m\u001b[1;33m)\u001b[0m\u001b[1;33m\u001b[0m\u001b[0m\n\u001b[0m\u001b[0;32m      3\u001b[0m \u001b[0mplt\u001b[0m\u001b[1;33m.\u001b[0m\u001b[0mgca\u001b[0m\u001b[1;33m(\u001b[0m\u001b[1;33m)\u001b[0m\u001b[1;33m.\u001b[0m\u001b[0minvert_yaxis\u001b[0m\u001b[1;33m(\u001b[0m\u001b[1;33m)\u001b[0m\u001b[1;33m\u001b[0m\u001b[0m\n\u001b[0;32m      4\u001b[0m \u001b[0mplt\u001b[0m\u001b[1;33m.\u001b[0m\u001b[0mxlabel\u001b[0m\u001b[1;33m(\u001b[0m\u001b[1;34m'$reference\\ temperature$'\u001b[0m\u001b[1;33m)\u001b[0m\u001b[1;33m\u001b[0m\u001b[0m\n\u001b[0;32m      5\u001b[0m \u001b[0mplt\u001b[0m\u001b[1;33m.\u001b[0m\u001b[0mylabel\u001b[0m\u001b[1;33m(\u001b[0m\u001b[1;34m'$pressure$'\u001b[0m\u001b[1;33m)\u001b[0m\u001b[1;33m\u001b[0m\u001b[0m\n",
      "\u001b[1;31mNameError\u001b[0m: name 'REFTMP' is not defined"
     ]
    }
   ],
   "source": [
    "plt.rcParams['figure.figsize'] = (5, 8)\n",
    "plt.plot(REFTMP, pressure)\n",
    "plt.gca().invert_yaxis()\n",
    "plt.xlabel('$reference\\ temperature$')\n",
    "plt.ylabel('$pressure$')"
   ]
  },
  {
   "cell_type": "markdown",
   "metadata": {},
   "source": [
    "### pH temperature"
   ]
  },
  {
   "cell_type": "code",
   "execution_count": 45,
   "metadata": {
    "collapsed": false
   },
   "outputs": [
    {
     "ename": "AttributeError",
     "evalue": "'DataFrame' object has no attribute 'PH_TMP'",
     "output_type": "error",
     "traceback": [
      "\u001b[1;31m---------------------------------------------------------------------------\u001b[0m",
      "\u001b[1;31mAttributeError\u001b[0m                            Traceback (most recent call last)",
      "\u001b[1;32m<ipython-input-45-f15b71de265a>\u001b[0m in \u001b[0;36m<module>\u001b[1;34m()\u001b[0m\n\u001b[1;32m----> 1\u001b[1;33m \u001b[0mPH_TMP\u001b[0m \u001b[1;33m=\u001b[0m \u001b[0mdf\u001b[0m\u001b[1;33m.\u001b[0m\u001b[0mPH_TMP\u001b[0m\u001b[1;33m\u001b[0m\u001b[0m\n\u001b[0m",
      "\u001b[1;32m/usr/local/anaconda/lib/python2.7/site-packages/pandas/core/generic.py\u001b[0m in \u001b[0;36m__getattr__\u001b[1;34m(self, name)\u001b[0m\n\u001b[0;32m   2358\u001b[0m                 \u001b[1;32mreturn\u001b[0m \u001b[0mself\u001b[0m\u001b[1;33m[\u001b[0m\u001b[0mname\u001b[0m\u001b[1;33m]\u001b[0m\u001b[1;33m\u001b[0m\u001b[0m\n\u001b[0;32m   2359\u001b[0m             raise AttributeError(\"'%s' object has no attribute '%s'\" %\n\u001b[1;32m-> 2360\u001b[1;33m                                  (type(self).__name__, name))\n\u001b[0m\u001b[0;32m   2361\u001b[0m \u001b[1;33m\u001b[0m\u001b[0m\n\u001b[0;32m   2362\u001b[0m     \u001b[1;32mdef\u001b[0m \u001b[0m__setattr__\u001b[0m\u001b[1;33m(\u001b[0m\u001b[0mself\u001b[0m\u001b[1;33m,\u001b[0m \u001b[0mname\u001b[0m\u001b[1;33m,\u001b[0m \u001b[0mvalue\u001b[0m\u001b[1;33m)\u001b[0m\u001b[1;33m:\u001b[0m\u001b[1;33m\u001b[0m\u001b[0m\n",
      "\u001b[1;31mAttributeError\u001b[0m: 'DataFrame' object has no attribute 'PH_TMP'"
     ]
    }
   ],
   "source": [
    "PH_TMP = df.PH_TMP"
   ]
  },
  {
   "cell_type": "code",
   "execution_count": 46,
   "metadata": {
    "collapsed": false
   },
   "outputs": [
    {
     "ename": "NameError",
     "evalue": "name 'PH_TMP' is not defined",
     "output_type": "error",
     "traceback": [
      "\u001b[1;31m---------------------------------------------------------------------------\u001b[0m",
      "\u001b[1;31mNameError\u001b[0m                                 Traceback (most recent call last)",
      "\u001b[1;32m<ipython-input-46-aaa0ef302c59>\u001b[0m in \u001b[0;36m<module>\u001b[1;34m()\u001b[0m\n\u001b[0;32m      1\u001b[0m \u001b[0mplt\u001b[0m\u001b[1;33m.\u001b[0m\u001b[0mrcParams\u001b[0m\u001b[1;33m[\u001b[0m\u001b[1;34m'figure.figsize'\u001b[0m\u001b[1;33m]\u001b[0m \u001b[1;33m=\u001b[0m \u001b[1;33m(\u001b[0m\u001b[1;36m5\u001b[0m\u001b[1;33m,\u001b[0m \u001b[1;36m8\u001b[0m\u001b[1;33m)\u001b[0m\u001b[1;33m\u001b[0m\u001b[0m\n\u001b[1;32m----> 2\u001b[1;33m \u001b[0mplt\u001b[0m\u001b[1;33m.\u001b[0m\u001b[0mplot\u001b[0m\u001b[1;33m(\u001b[0m\u001b[0mPH_TMP\u001b[0m\u001b[1;33m,\u001b[0m \u001b[0mpressure\u001b[0m\u001b[1;33m)\u001b[0m\u001b[1;33m\u001b[0m\u001b[0m\n\u001b[0m\u001b[0;32m      3\u001b[0m \u001b[0mplt\u001b[0m\u001b[1;33m.\u001b[0m\u001b[0mgca\u001b[0m\u001b[1;33m(\u001b[0m\u001b[1;33m)\u001b[0m\u001b[1;33m.\u001b[0m\u001b[0minvert_yaxis\u001b[0m\u001b[1;33m(\u001b[0m\u001b[1;33m)\u001b[0m\u001b[1;33m\u001b[0m\u001b[0m\n\u001b[0;32m      4\u001b[0m \u001b[0mplt\u001b[0m\u001b[1;33m.\u001b[0m\u001b[0mxlabel\u001b[0m\u001b[1;33m(\u001b[0m\u001b[1;34m'$pH\\ temperature$'\u001b[0m\u001b[1;33m)\u001b[0m\u001b[1;33m\u001b[0m\u001b[0m\n\u001b[0;32m      5\u001b[0m \u001b[0mplt\u001b[0m\u001b[1;33m.\u001b[0m\u001b[0mylabel\u001b[0m\u001b[1;33m(\u001b[0m\u001b[1;34m'$pressure$'\u001b[0m\u001b[1;33m)\u001b[0m\u001b[1;33m\u001b[0m\u001b[0m\n",
      "\u001b[1;31mNameError\u001b[0m: name 'PH_TMP' is not defined"
     ]
    }
   ],
   "source": [
    "plt.rcParams['figure.figsize'] = (5, 8)\n",
    "plt.plot(PH_TMP, pressure)\n",
    "plt.gca().invert_yaxis()\n",
    "plt.xlabel('$pH\\ temperature$')\n",
    "plt.ylabel('$pressure$')"
   ]
  },
  {
   "cell_type": "markdown",
   "metadata": {},
   "source": [
    "### methane"
   ]
  },
  {
   "cell_type": "code",
   "execution_count": 47,
   "metadata": {
    "collapsed": false
   },
   "outputs": [
    {
     "ename": "AttributeError",
     "evalue": "'DataFrame' object has no attribute 'METHANE'",
     "output_type": "error",
     "traceback": [
      "\u001b[1;31m---------------------------------------------------------------------------\u001b[0m",
      "\u001b[1;31mAttributeError\u001b[0m                            Traceback (most recent call last)",
      "\u001b[1;32m<ipython-input-47-2f46db748cd4>\u001b[0m in \u001b[0;36m<module>\u001b[1;34m()\u001b[0m\n\u001b[1;32m----> 1\u001b[1;33m \u001b[0mMETHANE\u001b[0m \u001b[1;33m=\u001b[0m \u001b[0mdf\u001b[0m\u001b[1;33m.\u001b[0m\u001b[0mMETHANE\u001b[0m\u001b[1;33m\u001b[0m\u001b[0m\n\u001b[0m",
      "\u001b[1;32m/usr/local/anaconda/lib/python2.7/site-packages/pandas/core/generic.py\u001b[0m in \u001b[0;36m__getattr__\u001b[1;34m(self, name)\u001b[0m\n\u001b[0;32m   2358\u001b[0m                 \u001b[1;32mreturn\u001b[0m \u001b[0mself\u001b[0m\u001b[1;33m[\u001b[0m\u001b[0mname\u001b[0m\u001b[1;33m]\u001b[0m\u001b[1;33m\u001b[0m\u001b[0m\n\u001b[0;32m   2359\u001b[0m             raise AttributeError(\"'%s' object has no attribute '%s'\" %\n\u001b[1;32m-> 2360\u001b[1;33m                                  (type(self).__name__, name))\n\u001b[0m\u001b[0;32m   2361\u001b[0m \u001b[1;33m\u001b[0m\u001b[0m\n\u001b[0;32m   2362\u001b[0m     \u001b[1;32mdef\u001b[0m \u001b[0m__setattr__\u001b[0m\u001b[1;33m(\u001b[0m\u001b[0mself\u001b[0m\u001b[1;33m,\u001b[0m \u001b[0mname\u001b[0m\u001b[1;33m,\u001b[0m \u001b[0mvalue\u001b[0m\u001b[1;33m)\u001b[0m\u001b[1;33m:\u001b[0m\u001b[1;33m\u001b[0m\u001b[0m\n",
      "\u001b[1;31mAttributeError\u001b[0m: 'DataFrame' object has no attribute 'METHANE'"
     ]
    }
   ],
   "source": [
    "METHANE = df.METHANE"
   ]
  },
  {
   "cell_type": "code",
   "execution_count": 48,
   "metadata": {
    "collapsed": false
   },
   "outputs": [
    {
     "ename": "NameError",
     "evalue": "name 'METHANE' is not defined",
     "output_type": "error",
     "traceback": [
      "\u001b[1;31m---------------------------------------------------------------------------\u001b[0m",
      "\u001b[1;31mNameError\u001b[0m                                 Traceback (most recent call last)",
      "\u001b[1;32m<ipython-input-48-c7b1d88badb8>\u001b[0m in \u001b[0;36m<module>\u001b[1;34m()\u001b[0m\n\u001b[0;32m      1\u001b[0m \u001b[0mplt\u001b[0m\u001b[1;33m.\u001b[0m\u001b[0mrcParams\u001b[0m\u001b[1;33m[\u001b[0m\u001b[1;34m'figure.figsize'\u001b[0m\u001b[1;33m]\u001b[0m \u001b[1;33m=\u001b[0m \u001b[1;33m(\u001b[0m\u001b[1;36m5\u001b[0m\u001b[1;33m,\u001b[0m \u001b[1;36m8\u001b[0m\u001b[1;33m)\u001b[0m\u001b[1;33m\u001b[0m\u001b[0m\n\u001b[1;32m----> 2\u001b[1;33m \u001b[0mplt\u001b[0m\u001b[1;33m.\u001b[0m\u001b[0mplot\u001b[0m\u001b[1;33m(\u001b[0m\u001b[0mMETHANE\u001b[0m\u001b[1;33m,\u001b[0m \u001b[0mpressure\u001b[0m\u001b[1;33m)\u001b[0m\u001b[1;33m\u001b[0m\u001b[0m\n\u001b[0m\u001b[0;32m      3\u001b[0m \u001b[0mplt\u001b[0m\u001b[1;33m.\u001b[0m\u001b[0mgca\u001b[0m\u001b[1;33m(\u001b[0m\u001b[1;33m)\u001b[0m\u001b[1;33m.\u001b[0m\u001b[0minvert_yaxis\u001b[0m\u001b[1;33m(\u001b[0m\u001b[1;33m)\u001b[0m\u001b[1;33m\u001b[0m\u001b[0m\n\u001b[0;32m      4\u001b[0m \u001b[0mplt\u001b[0m\u001b[1;33m.\u001b[0m\u001b[0mxlabel\u001b[0m\u001b[1;33m(\u001b[0m\u001b[1;34m'$pH\\ temperature$'\u001b[0m\u001b[1;33m)\u001b[0m\u001b[1;33m\u001b[0m\u001b[0m\n\u001b[0;32m      5\u001b[0m \u001b[0mplt\u001b[0m\u001b[1;33m.\u001b[0m\u001b[0mylabel\u001b[0m\u001b[1;33m(\u001b[0m\u001b[1;34m'$pressure$'\u001b[0m\u001b[1;33m)\u001b[0m\u001b[1;33m\u001b[0m\u001b[0m\n",
      "\u001b[1;31mNameError\u001b[0m: name 'METHANE' is not defined"
     ]
    }
   ],
   "source": [
    "plt.rcParams['figure.figsize'] = (5, 8)\n",
    "plt.plot(METHANE, pressure)\n",
    "plt.gca().invert_yaxis()\n",
    "plt.xlabel('$pH\\ temperature$')\n",
    "plt.ylabel('$pressure$')"
   ]
  }
 ],
 "metadata": {
  "anaconda-cloud": {},
  "kernelspec": {
   "display_name": "Python 2.7",
   "language": "python",
   "name": "python2"
  },
  "language_info": {
   "codemirror_mode": {
    "name": "ipython",
    "version": 2
   },
   "file_extension": ".py",
   "mimetype": "text/x-python",
   "name": "python",
   "nbconvert_exporter": "python",
   "pygments_lexer": "ipython2",
   "version": "2.7.11"
  }
 },
 "nbformat": 4,
 "nbformat_minor": 0
}
