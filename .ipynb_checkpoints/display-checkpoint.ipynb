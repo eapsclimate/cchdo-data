{
 "cells": [
  {
   "cell_type": "code",
   "execution_count": 1,
   "metadata": {
    "collapsed": false
   },
   "outputs": [
    {
     "data": {
      "text/html": [
       "<img style='width: 400px; margin: 0px; float: left;' src='rcs-eddies/figures/1993-05-17_18-51-00/01_global-location.jpg' /><img style='width: 400px; margin: 0px; float: left;' src='rcs-eddies/figures/1993-05-17_18-51-00/02_regional-location.jpg' /><img style='width: 400px; margin: 0px; float: left;' src='rcs-eddies/figures/1993-05-17_18-51-00/03_temperature-salinity.jpg' /><img style='width: 400px; margin: 0px; float: left;' src='rcs-eddies/figures/1993-05-17_18-51-00/04_temperature-profile.jpg' /><img style='width: 400px; margin: 0px; float: left;' src='rcs-eddies/figures/1993-05-17_18-51-00/05_salinity-profile.jpg' /><img style='width: 400px; margin: 0px; float: left;' src='rcs-eddies/figures/1993-05-17_18-51-00/06_oxygen-profile.jpg' /><img style='width: 400px; margin: 0px; float: left;' src='rcs-eddies/figures/1993-05-17_18-51-00/07_density-section.jpg' /><img style='width: 400px; margin: 0px; float: left;' src='rcs-eddies/figures/1993-05-17_18-51-00/08_temperature-section.jpg' /><img style='width: 400px; margin: 0px; float: left;' src='rcs-eddies/figures/1993-05-17_18-51-00/09_salinity-section.jpg' /><img style='width: 400px; margin: 0px; float: left;' src='rcs-eddies/figures/1993-05-17_18-51-00/10_oxygen-section.jpg' />"
      ],
      "text/plain": [
       "<IPython.core.display.HTML object>"
      ]
     },
     "metadata": {},
     "output_type": "display_data"
    }
   ],
   "source": [
    "from glob import glob\n",
    "from IPython.display import HTML, display\n",
    "html_setting = \"<img style='width: 400px; margin: 0px; float: left;' src='%s' />\"\n",
    "figure_path = 'rcs-eddies/figures/1993-05-17_18-51-00/*'\n",
    "figure_list=''.join([html_setting % str(figure) for figure in sorted(glob(figure_path))])\n",
    "display(HTML(figure_list))"
   ]
  },
  {
   "cell_type": "code",
   "execution_count": 2,
   "metadata": {
    "collapsed": false
   },
   "outputs": [
    {
     "data": {
      "text/html": [
       "<img style='width: 400px; margin: 0px; float: left;' src='rcs-eddies/figures/1993-05-28_00-12-00/01_global-location.jpg' /><img style='width: 400px; margin: 0px; float: left;' src='rcs-eddies/figures/1993-05-28_00-12-00/02_regional-location.jpg' /><img style='width: 400px; margin: 0px; float: left;' src='rcs-eddies/figures/1993-05-28_00-12-00/03_temperature-salinity.jpg' /><img style='width: 400px; margin: 0px; float: left;' src='rcs-eddies/figures/1993-05-28_00-12-00/04_temperature-profile.jpg' /><img style='width: 400px; margin: 0px; float: left;' src='rcs-eddies/figures/1993-05-28_00-12-00/05_salinity-profile.jpg' /><img style='width: 400px; margin: 0px; float: left;' src='rcs-eddies/figures/1993-05-28_00-12-00/06_oxygen-profile.jpg' /><img style='width: 400px; margin: 0px; float: left;' src='rcs-eddies/figures/1993-05-28_00-12-00/07_density-section.jpg' /><img style='width: 400px; margin: 0px; float: left;' src='rcs-eddies/figures/1993-05-28_00-12-00/08_temperature-section.jpg' /><img style='width: 400px; margin: 0px; float: left;' src='rcs-eddies/figures/1993-05-28_00-12-00/09_salinity-section.jpg' /><img style='width: 400px; margin: 0px; float: left;' src='rcs-eddies/figures/1993-05-28_00-12-00/10_oxygen-section.jpg' />"
      ],
      "text/plain": [
       "<IPython.core.display.HTML object>"
      ]
     },
     "metadata": {},
     "output_type": "display_data"
    }
   ],
   "source": [
    "figure_path = 'rcs-eddies/figures/1993-05-28_00-12-00/*'\n",
    "figure_list=''.join([html_setting % str(figure) for figure in sorted(glob(figure_path))])\n",
    "display(HTML(figure_list))"
   ]
  },
  {
   "cell_type": "code",
   "execution_count": 3,
   "metadata": {
    "collapsed": false
   },
   "outputs": [
    {
     "data": {
      "text/html": [
       "<img style='width: 400px; margin: 0px; float: left;' src='rcs-eddies/figures/1993-05-28_16-46-00/01_global-location.jpg' /><img style='width: 400px; margin: 0px; float: left;' src='rcs-eddies/figures/1993-05-28_16-46-00/02_regional-location.jpg' /><img style='width: 400px; margin: 0px; float: left;' src='rcs-eddies/figures/1993-05-28_16-46-00/03_temperature-salinity.jpg' /><img style='width: 400px; margin: 0px; float: left;' src='rcs-eddies/figures/1993-05-28_16-46-00/04_temperature-profile.jpg' /><img style='width: 400px; margin: 0px; float: left;' src='rcs-eddies/figures/1993-05-28_16-46-00/05_salinity-profile.jpg' /><img style='width: 400px; margin: 0px; float: left;' src='rcs-eddies/figures/1993-05-28_16-46-00/06_oxygen-profile.jpg' /><img style='width: 400px; margin: 0px; float: left;' src='rcs-eddies/figures/1993-05-28_16-46-00/07_density-section.jpg' /><img style='width: 400px; margin: 0px; float: left;' src='rcs-eddies/figures/1993-05-28_16-46-00/08_temperature-section.jpg' /><img style='width: 400px; margin: 0px; float: left;' src='rcs-eddies/figures/1993-05-28_16-46-00/09_salinity-section.jpg' /><img style='width: 400px; margin: 0px; float: left;' src='rcs-eddies/figures/1993-05-28_16-46-00/10_oxygen-section.jpg' />"
      ],
      "text/plain": [
       "<IPython.core.display.HTML object>"
      ]
     },
     "metadata": {},
     "output_type": "display_data"
    }
   ],
   "source": [
    "figure_path = 'rcs-eddies/figures/1993-05-28_16-46-00/*'\n",
    "figure_list=''.join([html_setting % str(figure) for figure in sorted(glob(figure_path))])\n",
    "display(HTML(figure_list))"
   ]
  },
  {
   "cell_type": "code",
   "execution_count": 4,
   "metadata": {
    "collapsed": false
   },
   "outputs": [
    {
     "data": {
      "text/html": [
       "<img style='width: 400px; margin: 0px; float: left;' src='rcs-eddies/figures/1993-05-30_05-20-00/01_global-location.jpg' /><img style='width: 400px; margin: 0px; float: left;' src='rcs-eddies/figures/1993-05-30_05-20-00/02_regional-location.jpg' /><img style='width: 400px; margin: 0px; float: left;' src='rcs-eddies/figures/1993-05-30_05-20-00/03_temperature-salinity.jpg' /><img style='width: 400px; margin: 0px; float: left;' src='rcs-eddies/figures/1993-05-30_05-20-00/04_temperature-profile.jpg' /><img style='width: 400px; margin: 0px; float: left;' src='rcs-eddies/figures/1993-05-30_05-20-00/05_salinity-profile.jpg' /><img style='width: 400px; margin: 0px; float: left;' src='rcs-eddies/figures/1993-05-30_05-20-00/06_oxygen-profile.jpg' /><img style='width: 400px; margin: 0px; float: left;' src='rcs-eddies/figures/1993-05-30_05-20-00/07_density-section.jpg' /><img style='width: 400px; margin: 0px; float: left;' src='rcs-eddies/figures/1993-05-30_05-20-00/08_temperature-section.jpg' /><img style='width: 400px; margin: 0px; float: left;' src='rcs-eddies/figures/1993-05-30_05-20-00/09_salinity-section.jpg' /><img style='width: 400px; margin: 0px; float: left;' src='rcs-eddies/figures/1993-05-30_05-20-00/10_oxygen-section.jpg' />"
      ],
      "text/plain": [
       "<IPython.core.display.HTML object>"
      ]
     },
     "metadata": {},
     "output_type": "display_data"
    }
   ],
   "source": [
    "figure_path = 'rcs-eddies/figures/1993-05-30_05-20-00/*'\n",
    "figure_list=''.join([html_setting % str(figure) for figure in sorted(glob(figure_path))])\n",
    "display(HTML(figure_list))"
   ]
  },
  {
   "cell_type": "code",
   "execution_count": 5,
   "metadata": {
    "collapsed": false
   },
   "outputs": [
    {
     "data": {
      "text/html": [
       "<img style='width: 400px; margin: 0px; float: left;' src='rcs-eddies/figures/1993-06-17_08-09-00/01_global-location.jpg' /><img style='width: 400px; margin: 0px; float: left;' src='rcs-eddies/figures/1993-06-17_08-09-00/02_regional-location.jpg' /><img style='width: 400px; margin: 0px; float: left;' src='rcs-eddies/figures/1993-06-17_08-09-00/03_temperature-salinity.jpg' /><img style='width: 400px; margin: 0px; float: left;' src='rcs-eddies/figures/1993-06-17_08-09-00/04_temperature-profile.jpg' /><img style='width: 400px; margin: 0px; float: left;' src='rcs-eddies/figures/1993-06-17_08-09-00/05_salinity-profile.jpg' /><img style='width: 400px; margin: 0px; float: left;' src='rcs-eddies/figures/1993-06-17_08-09-00/06_oxygen-profile.jpg' /><img style='width: 400px; margin: 0px; float: left;' src='rcs-eddies/figures/1993-06-17_08-09-00/07_density-section.jpg' /><img style='width: 400px; margin: 0px; float: left;' src='rcs-eddies/figures/1993-06-17_08-09-00/08_temperature-section.jpg' /><img style='width: 400px; margin: 0px; float: left;' src='rcs-eddies/figures/1993-06-17_08-09-00/09_salinity-section.jpg' /><img style='width: 400px; margin: 0px; float: left;' src='rcs-eddies/figures/1993-06-17_08-09-00/10_oxygen-section.jpg' />"
      ],
      "text/plain": [
       "<IPython.core.display.HTML object>"
      ]
     },
     "metadata": {},
     "output_type": "display_data"
    }
   ],
   "source": [
    "figure_path = 'rcs-eddies/figures/1993-06-17_08-09-00/*'\n",
    "figure_list=''.join([html_setting % str(figure) for figure in sorted(glob(figure_path))])\n",
    "display(HTML(figure_list))"
   ]
  },
  {
   "cell_type": "code",
   "execution_count": 6,
   "metadata": {
    "collapsed": false
   },
   "outputs": [
    {
     "data": {
      "text/html": [
       "<img style='width: 400px; margin: 0px; float: left;' src='rcs-eddies/figures/1993-06-19_21-54-00/01_global-location.jpg' /><img style='width: 400px; margin: 0px; float: left;' src='rcs-eddies/figures/1993-06-19_21-54-00/02_regional-location.jpg' /><img style='width: 400px; margin: 0px; float: left;' src='rcs-eddies/figures/1993-06-19_21-54-00/03_temperature-salinity.jpg' /><img style='width: 400px; margin: 0px; float: left;' src='rcs-eddies/figures/1993-06-19_21-54-00/04_temperature-profile.jpg' /><img style='width: 400px; margin: 0px; float: left;' src='rcs-eddies/figures/1993-06-19_21-54-00/05_salinity-profile.jpg' /><img style='width: 400px; margin: 0px; float: left;' src='rcs-eddies/figures/1993-06-19_21-54-00/06_oxygen-profile.jpg' /><img style='width: 400px; margin: 0px; float: left;' src='rcs-eddies/figures/1993-06-19_21-54-00/07_density-section.jpg' /><img style='width: 400px; margin: 0px; float: left;' src='rcs-eddies/figures/1993-06-19_21-54-00/08_temperature-section.jpg' /><img style='width: 400px; margin: 0px; float: left;' src='rcs-eddies/figures/1993-06-19_21-54-00/09_salinity-section.jpg' /><img style='width: 400px; margin: 0px; float: left;' src='rcs-eddies/figures/1993-06-19_21-54-00/10_oxygen-section.jpg' />"
      ],
      "text/plain": [
       "<IPython.core.display.HTML object>"
      ]
     },
     "metadata": {},
     "output_type": "display_data"
    }
   ],
   "source": [
    "figure_path = 'rcs-eddies/figures/1993-06-19_21-54-00/*'\n",
    "figure_list=''.join([html_setting % str(figure) for figure in sorted(glob(figure_path))])\n",
    "display(HTML(figure_list))"
   ]
  },
  {
   "cell_type": "code",
   "execution_count": 7,
   "metadata": {
    "collapsed": false
   },
   "outputs": [
    {
     "data": {
      "text/html": [
       "<img style='width: 400px; margin: 0px; float: left;' src='rcs-eddies/figures/1993-07-07_20-02-00/01_global-location.jpg' /><img style='width: 400px; margin: 0px; float: left;' src='rcs-eddies/figures/1993-07-07_20-02-00/02_regional-location.jpg' /><img style='width: 400px; margin: 0px; float: left;' src='rcs-eddies/figures/1993-07-07_20-02-00/03_temperature-salinity.jpg' /><img style='width: 400px; margin: 0px; float: left;' src='rcs-eddies/figures/1993-07-07_20-02-00/04_temperature-profile.jpg' /><img style='width: 400px; margin: 0px; float: left;' src='rcs-eddies/figures/1993-07-07_20-02-00/05_salinity-profile.jpg' /><img style='width: 400px; margin: 0px; float: left;' src='rcs-eddies/figures/1993-07-07_20-02-00/06_oxygen-profile.jpg' /><img style='width: 400px; margin: 0px; float: left;' src='rcs-eddies/figures/1993-07-07_20-02-00/07_density-section.jpg' /><img style='width: 400px; margin: 0px; float: left;' src='rcs-eddies/figures/1993-07-07_20-02-00/08_temperature-section.jpg' /><img style='width: 400px; margin: 0px; float: left;' src='rcs-eddies/figures/1993-07-07_20-02-00/09_salinity-section.jpg' /><img style='width: 400px; margin: 0px; float: left;' src='rcs-eddies/figures/1993-07-07_20-02-00/10_oxygen-section.jpg' />"
      ],
      "text/plain": [
       "<IPython.core.display.HTML object>"
      ]
     },
     "metadata": {},
     "output_type": "display_data"
    }
   ],
   "source": [
    "figure_path = 'rcs-eddies/figures/1993-07-07_20-02-00/*'\n",
    "figure_list=''.join([html_setting % str(figure) for figure in sorted(glob(figure_path))])\n",
    "display(HTML(figure_list))"
   ]
  },
  {
   "cell_type": "code",
   "execution_count": 8,
   "metadata": {
    "collapsed": false
   },
   "outputs": [
    {
     "data": {
      "text/html": [
       "<img style='width: 400px; margin: 0px; float: left;' src='rcs-eddies/figures/1993-07-08_22-37-00/01_global-location.jpg' /><img style='width: 400px; margin: 0px; float: left;' src='rcs-eddies/figures/1993-07-08_22-37-00/02_regional-location.jpg' /><img style='width: 400px; margin: 0px; float: left;' src='rcs-eddies/figures/1993-07-08_22-37-00/03_temperature-salinity.jpg' /><img style='width: 400px; margin: 0px; float: left;' src='rcs-eddies/figures/1993-07-08_22-37-00/04_temperature-profile.jpg' /><img style='width: 400px; margin: 0px; float: left;' src='rcs-eddies/figures/1993-07-08_22-37-00/05_salinity-profile.jpg' /><img style='width: 400px; margin: 0px; float: left;' src='rcs-eddies/figures/1993-07-08_22-37-00/06_oxygen-profile.jpg' /><img style='width: 400px; margin: 0px; float: left;' src='rcs-eddies/figures/1993-07-08_22-37-00/07_density-section.jpg' /><img style='width: 400px; margin: 0px; float: left;' src='rcs-eddies/figures/1993-07-08_22-37-00/08_temperature-section.jpg' /><img style='width: 400px; margin: 0px; float: left;' src='rcs-eddies/figures/1993-07-08_22-37-00/09_salinity-section.jpg' /><img style='width: 400px; margin: 0px; float: left;' src='rcs-eddies/figures/1993-07-08_22-37-00/10_oxygen-section.jpg' />"
      ],
      "text/plain": [
       "<IPython.core.display.HTML object>"
      ]
     },
     "metadata": {},
     "output_type": "display_data"
    }
   ],
   "source": [
    "figure_path = 'rcs-eddies/figures/1993-07-08_22-37-00/*'\n",
    "figure_list=''.join([html_setting % str(figure) for figure in sorted(glob(figure_path))])\n",
    "display(HTML(figure_list))"
   ]
  },
  {
   "cell_type": "code",
   "execution_count": 9,
   "metadata": {
    "collapsed": false
   },
   "outputs": [
    {
     "data": {
      "text/html": [
       "<img style='width: 400px; margin: 0px; float: left;' src='rcs-eddies/figures/1994-01-28_11-17-00/01_global-location.jpg' /><img style='width: 400px; margin: 0px; float: left;' src='rcs-eddies/figures/1994-01-28_11-17-00/02_regional-location.jpg' /><img style='width: 400px; margin: 0px; float: left;' src='rcs-eddies/figures/1994-01-28_11-17-00/03_temperature-salinity.jpg' /><img style='width: 400px; margin: 0px; float: left;' src='rcs-eddies/figures/1994-01-28_11-17-00/04_temperature-profile.jpg' /><img style='width: 400px; margin: 0px; float: left;' src='rcs-eddies/figures/1994-01-28_11-17-00/05_salinity-profile.jpg' /><img style='width: 400px; margin: 0px; float: left;' src='rcs-eddies/figures/1994-01-28_11-17-00/06_oxygen-profile.jpg' /><img style='width: 400px; margin: 0px; float: left;' src='rcs-eddies/figures/1994-01-28_11-17-00/07_density-section.jpg' /><img style='width: 400px; margin: 0px; float: left;' src='rcs-eddies/figures/1994-01-28_11-17-00/08_temperature-section.jpg' /><img style='width: 400px; margin: 0px; float: left;' src='rcs-eddies/figures/1994-01-28_11-17-00/09_salinity-section.jpg' /><img style='width: 400px; margin: 0px; float: left;' src='rcs-eddies/figures/1994-01-28_11-17-00/10_oxygen-section.jpg' />"
      ],
      "text/plain": [
       "<IPython.core.display.HTML object>"
      ]
     },
     "metadata": {},
     "output_type": "display_data"
    }
   ],
   "source": [
    "figure_path = 'rcs-eddies/figures/1994-01-28_11-17-00/*'\n",
    "figure_list=''.join([html_setting % str(figure) for figure in sorted(glob(figure_path))])\n",
    "display(HTML(figure_list))"
   ]
  },
  {
   "cell_type": "code",
   "execution_count": 10,
   "metadata": {
    "collapsed": false
   },
   "outputs": [
    {
     "data": {
      "text/html": [
       "<img style='width: 400px; margin: 0px; float: left;' src='rcs-eddies/figures/1994-09-25_06-36-00/01_global-location.jpg' /><img style='width: 400px; margin: 0px; float: left;' src='rcs-eddies/figures/1994-09-25_06-36-00/02_regional-location.jpg' /><img style='width: 400px; margin: 0px; float: left;' src='rcs-eddies/figures/1994-09-25_06-36-00/03_temperature-salinity.jpg' /><img style='width: 400px; margin: 0px; float: left;' src='rcs-eddies/figures/1994-09-25_06-36-00/04_temperature-profile.jpg' /><img style='width: 400px; margin: 0px; float: left;' src='rcs-eddies/figures/1994-09-25_06-36-00/05_salinity-profile.jpg' /><img style='width: 400px; margin: 0px; float: left;' src='rcs-eddies/figures/1994-09-25_06-36-00/06_oxygen-profile.jpg' /><img style='width: 400px; margin: 0px; float: left;' src='rcs-eddies/figures/1994-09-25_06-36-00/07_density-section.jpg' /><img style='width: 400px; margin: 0px; float: left;' src='rcs-eddies/figures/1994-09-25_06-36-00/08_temperature-section.jpg' /><img style='width: 400px; margin: 0px; float: left;' src='rcs-eddies/figures/1994-09-25_06-36-00/09_salinity-section.jpg' /><img style='width: 400px; margin: 0px; float: left;' src='rcs-eddies/figures/1994-09-25_06-36-00/10_oxygen-section.jpg' />"
      ],
      "text/plain": [
       "<IPython.core.display.HTML object>"
      ]
     },
     "metadata": {},
     "output_type": "display_data"
    }
   ],
   "source": [
    "figure_path = 'rcs-eddies/figures/1994-09-25_06-36-00/*'\n",
    "figure_list=''.join([html_setting % str(figure) for figure in sorted(glob(figure_path))])\n",
    "display(HTML(figure_list))"
   ]
  },
  {
   "cell_type": "code",
   "execution_count": 11,
   "metadata": {
    "collapsed": false
   },
   "outputs": [
    {
     "data": {
      "text/html": [
       "<img style='width: 400px; margin: 0px; float: left;' src='rcs-eddies/figures/1995-05-22_23-50-00/01_global-location.jpg' /><img style='width: 400px; margin: 0px; float: left;' src='rcs-eddies/figures/1995-05-22_23-50-00/02_regional-location.jpg' /><img style='width: 400px; margin: 0px; float: left;' src='rcs-eddies/figures/1995-05-22_23-50-00/03_temperature-salinity.jpg' /><img style='width: 400px; margin: 0px; float: left;' src='rcs-eddies/figures/1995-05-22_23-50-00/04_temperature-profile.jpg' /><img style='width: 400px; margin: 0px; float: left;' src='rcs-eddies/figures/1995-05-22_23-50-00/05_salinity-profile.jpg' /><img style='width: 400px; margin: 0px; float: left;' src='rcs-eddies/figures/1995-05-22_23-50-00/06_oxygen-profile.jpg' /><img style='width: 400px; margin: 0px; float: left;' src='rcs-eddies/figures/1995-05-22_23-50-00/07_density-section.jpg' /><img style='width: 400px; margin: 0px; float: left;' src='rcs-eddies/figures/1995-05-22_23-50-00/08_temperature-section.jpg' /><img style='width: 400px; margin: 0px; float: left;' src='rcs-eddies/figures/1995-05-22_23-50-00/09_salinity-section.jpg' /><img style='width: 400px; margin: 0px; float: left;' src='rcs-eddies/figures/1995-05-22_23-50-00/10_oxygen-section.jpg' />"
      ],
      "text/plain": [
       "<IPython.core.display.HTML object>"
      ]
     },
     "metadata": {},
     "output_type": "display_data"
    }
   ],
   "source": [
    "figure_path = 'rcs-eddies/figures/1995-05-22_23-50-00/*'\n",
    "figure_list=''.join([html_setting % str(figure) for figure in sorted(glob(figure_path))])\n",
    "display(HTML(figure_list))"
   ]
  },
  {
   "cell_type": "code",
   "execution_count": 12,
   "metadata": {
    "collapsed": false
   },
   "outputs": [
    {
     "data": {
      "text/html": [
       "<img style='width: 400px; margin: 0px; float: left;' src='rcs-eddies/figures/1996-01-28_17-48-00/01_global-location.jpg' /><img style='width: 400px; margin: 0px; float: left;' src='rcs-eddies/figures/1996-01-28_17-48-00/02_regional-location.jpg' /><img style='width: 400px; margin: 0px; float: left;' src='rcs-eddies/figures/1996-01-28_17-48-00/03_temperature-salinity.jpg' /><img style='width: 400px; margin: 0px; float: left;' src='rcs-eddies/figures/1996-01-28_17-48-00/04_temperature-profile.jpg' /><img style='width: 400px; margin: 0px; float: left;' src='rcs-eddies/figures/1996-01-28_17-48-00/05_salinity-profile.jpg' /><img style='width: 400px; margin: 0px; float: left;' src='rcs-eddies/figures/1996-01-28_17-48-00/06_oxygen-profile.jpg' /><img style='width: 400px; margin: 0px; float: left;' src='rcs-eddies/figures/1996-01-28_17-48-00/07_density-section.jpg' /><img style='width: 400px; margin: 0px; float: left;' src='rcs-eddies/figures/1996-01-28_17-48-00/08_temperature-section.jpg' /><img style='width: 400px; margin: 0px; float: left;' src='rcs-eddies/figures/1996-01-28_17-48-00/09_salinity-section.jpg' /><img style='width: 400px; margin: 0px; float: left;' src='rcs-eddies/figures/1996-01-28_17-48-00/10_oxygen-section.jpg' />"
      ],
      "text/plain": [
       "<IPython.core.display.HTML object>"
      ]
     },
     "metadata": {},
     "output_type": "display_data"
    }
   ],
   "source": [
    "figure_path = 'rcs-eddies/figures/1996-01-28_17-48-00/*'\n",
    "figure_list=''.join([html_setting % str(figure) for figure in sorted(glob(figure_path))])\n",
    "display(HTML(figure_list))"
   ]
  },
  {
   "cell_type": "code",
   "execution_count": 13,
   "metadata": {
    "collapsed": false
   },
   "outputs": [
    {
     "data": {
      "text/html": [
       "<img style='width: 400px; margin: 0px; float: left;' src='rcs-eddies/figures/1996-01-31_05-35-00/01_global-location.jpg' /><img style='width: 400px; margin: 0px; float: left;' src='rcs-eddies/figures/1996-01-31_05-35-00/02_regional-location.jpg' /><img style='width: 400px; margin: 0px; float: left;' src='rcs-eddies/figures/1996-01-31_05-35-00/03_temperature-salinity.jpg' /><img style='width: 400px; margin: 0px; float: left;' src='rcs-eddies/figures/1996-01-31_05-35-00/04_temperature-profile.jpg' /><img style='width: 400px; margin: 0px; float: left;' src='rcs-eddies/figures/1996-01-31_05-35-00/05_salinity-profile.jpg' /><img style='width: 400px; margin: 0px; float: left;' src='rcs-eddies/figures/1996-01-31_05-35-00/06_oxygen-profile.jpg' /><img style='width: 400px; margin: 0px; float: left;' src='rcs-eddies/figures/1996-01-31_05-35-00/07_density-section.jpg' /><img style='width: 400px; margin: 0px; float: left;' src='rcs-eddies/figures/1996-01-31_05-35-00/08_temperature-section.jpg' /><img style='width: 400px; margin: 0px; float: left;' src='rcs-eddies/figures/1996-01-31_05-35-00/09_salinity-section.jpg' /><img style='width: 400px; margin: 0px; float: left;' src='rcs-eddies/figures/1996-01-31_05-35-00/10_oxygen-section.jpg' />"
      ],
      "text/plain": [
       "<IPython.core.display.HTML object>"
      ]
     },
     "metadata": {},
     "output_type": "display_data"
    }
   ],
   "source": [
    "figure_path = 'rcs-eddies/figures/1996-01-31_05-35-00/*'\n",
    "figure_list=''.join([html_setting % str(figure) for figure in sorted(glob(figure_path))])\n",
    "display(HTML(figure_list))"
   ]
  },
  {
   "cell_type": "code",
   "execution_count": 14,
   "metadata": {
    "collapsed": false
   },
   "outputs": [
    {
     "data": {
      "text/html": [
       "<img style='width: 400px; margin: 0px; float: left;' src='rcs-eddies/figures/1996-02-29_05-25-00/01_global-location.jpg' /><img style='width: 400px; margin: 0px; float: left;' src='rcs-eddies/figures/1996-02-29_05-25-00/02_regional-location.jpg' /><img style='width: 400px; margin: 0px; float: left;' src='rcs-eddies/figures/1996-02-29_05-25-00/03_temperature-salinity.jpg' /><img style='width: 400px; margin: 0px; float: left;' src='rcs-eddies/figures/1996-02-29_05-25-00/04_temperature-profile.jpg' /><img style='width: 400px; margin: 0px; float: left;' src='rcs-eddies/figures/1996-02-29_05-25-00/05_salinity-profile.jpg' /><img style='width: 400px; margin: 0px; float: left;' src='rcs-eddies/figures/1996-02-29_05-25-00/06_oxygen-profile.jpg' /><img style='width: 400px; margin: 0px; float: left;' src='rcs-eddies/figures/1996-02-29_05-25-00/07_density-section.jpg' /><img style='width: 400px; margin: 0px; float: left;' src='rcs-eddies/figures/1996-02-29_05-25-00/08_temperature-section.jpg' /><img style='width: 400px; margin: 0px; float: left;' src='rcs-eddies/figures/1996-02-29_05-25-00/09_salinity-section.jpg' /><img style='width: 400px; margin: 0px; float: left;' src='rcs-eddies/figures/1996-02-29_05-25-00/10_oxygen-section.jpg' />"
      ],
      "text/plain": [
       "<IPython.core.display.HTML object>"
      ]
     },
     "metadata": {},
     "output_type": "display_data"
    }
   ],
   "source": [
    "figure_path = 'rcs-eddies/figures/1996-02-29_05-25-00/*'\n",
    "figure_list=''.join([html_setting % str(figure) for figure in sorted(glob(figure_path))])\n",
    "display(HTML(figure_list))"
   ]
  },
  {
   "cell_type": "code",
   "execution_count": 15,
   "metadata": {
    "collapsed": false
   },
   "outputs": [
    {
     "data": {
      "text/html": [
       "<img style='width: 400px; margin: 0px; float: left;' src='rcs-eddies/figures/2001-06-11_23-49-00/01_global-location.jpg' /><img style='width: 400px; margin: 0px; float: left;' src='rcs-eddies/figures/2001-06-11_23-49-00/02_regional-location.jpg' /><img style='width: 400px; margin: 0px; float: left;' src='rcs-eddies/figures/2001-06-11_23-49-00/03_temperature-salinity.jpg' /><img style='width: 400px; margin: 0px; float: left;' src='rcs-eddies/figures/2001-06-11_23-49-00/04_temperature-profile.jpg' /><img style='width: 400px; margin: 0px; float: left;' src='rcs-eddies/figures/2001-06-11_23-49-00/05_salinity-profile.jpg' /><img style='width: 400px; margin: 0px; float: left;' src='rcs-eddies/figures/2001-06-11_23-49-00/06_oxygen-profile.jpg' /><img style='width: 400px; margin: 0px; float: left;' src='rcs-eddies/figures/2001-06-11_23-49-00/07_density-section.jpg' /><img style='width: 400px; margin: 0px; float: left;' src='rcs-eddies/figures/2001-06-11_23-49-00/08_temperature-section.jpg' /><img style='width: 400px; margin: 0px; float: left;' src='rcs-eddies/figures/2001-06-11_23-49-00/09_salinity-section.jpg' /><img style='width: 400px; margin: 0px; float: left;' src='rcs-eddies/figures/2001-06-11_23-49-00/10_oxygen-section.jpg' />"
      ],
      "text/plain": [
       "<IPython.core.display.HTML object>"
      ]
     },
     "metadata": {},
     "output_type": "display_data"
    }
   ],
   "source": [
    "figure_path = 'rcs-eddies/figures/2001-06-11_23-49-00/*'\n",
    "figure_list=''.join([html_setting % str(figure) for figure in sorted(glob(figure_path))])\n",
    "display(HTML(figure_list))"
   ]
  },
  {
   "cell_type": "code",
   "execution_count": 16,
   "metadata": {
    "collapsed": false
   },
   "outputs": [
    {
     "data": {
      "text/html": [
       "<img style='width: 400px; margin: 0px; float: left;' src='rcs-eddies/figures/2001-08-08_03-51-00/01_global-location.jpg' /><img style='width: 400px; margin: 0px; float: left;' src='rcs-eddies/figures/2001-08-08_03-51-00/02_regional-location.jpg' /><img style='width: 400px; margin: 0px; float: left;' src='rcs-eddies/figures/2001-08-08_03-51-00/03_temperature-salinity.jpg' /><img style='width: 400px; margin: 0px; float: left;' src='rcs-eddies/figures/2001-08-08_03-51-00/04_temperature-profile.jpg' /><img style='width: 400px; margin: 0px; float: left;' src='rcs-eddies/figures/2001-08-08_03-51-00/05_salinity-profile.jpg' /><img style='width: 400px; margin: 0px; float: left;' src='rcs-eddies/figures/2001-08-08_03-51-00/06_oxygen-profile.jpg' /><img style='width: 400px; margin: 0px; float: left;' src='rcs-eddies/figures/2001-08-08_03-51-00/07_density-section.jpg' /><img style='width: 400px; margin: 0px; float: left;' src='rcs-eddies/figures/2001-08-08_03-51-00/08_temperature-section.jpg' /><img style='width: 400px; margin: 0px; float: left;' src='rcs-eddies/figures/2001-08-08_03-51-00/09_salinity-section.jpg' /><img style='width: 400px; margin: 0px; float: left;' src='rcs-eddies/figures/2001-08-08_03-51-00/10_oxygen-section.jpg' />"
      ],
      "text/plain": [
       "<IPython.core.display.HTML object>"
      ]
     },
     "metadata": {},
     "output_type": "display_data"
    }
   ],
   "source": [
    "figure_path = 'rcs-eddies/figures/2001-08-08_03-51-00/*'\n",
    "figure_list=''.join([html_setting % str(figure) for figure in sorted(glob(figure_path))])\n",
    "display(HTML(figure_list))"
   ]
  },
  {
   "cell_type": "code",
   "execution_count": 17,
   "metadata": {
    "collapsed": false
   },
   "outputs": [
    {
     "data": {
      "text/html": [
       "<img style='width: 400px; margin: 0px; float: left;' src='rcs-eddies/figures/2001-08-18_17-09-00/01_global-location.jpg' /><img style='width: 400px; margin: 0px; float: left;' src='rcs-eddies/figures/2001-08-18_17-09-00/02_regional-location.jpg' /><img style='width: 400px; margin: 0px; float: left;' src='rcs-eddies/figures/2001-08-18_17-09-00/03_temperature-salinity.jpg' /><img style='width: 400px; margin: 0px; float: left;' src='rcs-eddies/figures/2001-08-18_17-09-00/04_temperature-profile.jpg' /><img style='width: 400px; margin: 0px; float: left;' src='rcs-eddies/figures/2001-08-18_17-09-00/05_salinity-profile.jpg' /><img style='width: 400px; margin: 0px; float: left;' src='rcs-eddies/figures/2001-08-18_17-09-00/06_oxygen-profile.jpg' /><img style='width: 400px; margin: 0px; float: left;' src='rcs-eddies/figures/2001-08-18_17-09-00/07_density-section.jpg' /><img style='width: 400px; margin: 0px; float: left;' src='rcs-eddies/figures/2001-08-18_17-09-00/08_temperature-section.jpg' /><img style='width: 400px; margin: 0px; float: left;' src='rcs-eddies/figures/2001-08-18_17-09-00/09_salinity-section.jpg' /><img style='width: 400px; margin: 0px; float: left;' src='rcs-eddies/figures/2001-08-18_17-09-00/10_oxygen-section.jpg' />"
      ],
      "text/plain": [
       "<IPython.core.display.HTML object>"
      ]
     },
     "metadata": {},
     "output_type": "display_data"
    }
   ],
   "source": [
    "figure_path = 'rcs-eddies/figures/2001-08-18_17-09-00/*'\n",
    "figure_list=''.join([html_setting % str(figure) for figure in sorted(glob(figure_path))])\n",
    "display(HTML(figure_list))"
   ]
  },
  {
   "cell_type": "code",
   "execution_count": 18,
   "metadata": {
    "collapsed": false
   },
   "outputs": [
    {
     "data": {
      "text/html": [
       "<img style='width: 400px; margin: 0px; float: left;' src='rcs-eddies/figures/2005-01-11_19-24-00/01_global-location.jpg' /><img style='width: 400px; margin: 0px; float: left;' src='rcs-eddies/figures/2005-01-11_19-24-00/02_regional-location.jpg' /><img style='width: 400px; margin: 0px; float: left;' src='rcs-eddies/figures/2005-01-11_19-24-00/03_temperature-salinity.jpg' /><img style='width: 400px; margin: 0px; float: left;' src='rcs-eddies/figures/2005-01-11_19-24-00/04_temperature-profile.jpg' /><img style='width: 400px; margin: 0px; float: left;' src='rcs-eddies/figures/2005-01-11_19-24-00/05_salinity-profile.jpg' /><img style='width: 400px; margin: 0px; float: left;' src='rcs-eddies/figures/2005-01-11_19-24-00/06_oxygen-profile.jpg' /><img style='width: 400px; margin: 0px; float: left;' src='rcs-eddies/figures/2005-01-11_19-24-00/07_density-section.jpg' /><img style='width: 400px; margin: 0px; float: left;' src='rcs-eddies/figures/2005-01-11_19-24-00/08_temperature-section.jpg' /><img style='width: 400px; margin: 0px; float: left;' src='rcs-eddies/figures/2005-01-11_19-24-00/09_salinity-section.jpg' /><img style='width: 400px; margin: 0px; float: left;' src='rcs-eddies/figures/2005-01-11_19-24-00/10_oxygen-section.jpg' />"
      ],
      "text/plain": [
       "<IPython.core.display.HTML object>"
      ]
     },
     "metadata": {},
     "output_type": "display_data"
    }
   ],
   "source": [
    "figure_path = 'rcs-eddies/figures/2005-01-11_19-24-00/*'\n",
    "figure_list=''.join([html_setting % str(figure) for figure in sorted(glob(figure_path))])\n",
    "display(HTML(figure_list))"
   ]
  },
  {
   "cell_type": "code",
   "execution_count": 19,
   "metadata": {
    "collapsed": false
   },
   "outputs": [
    {
     "data": {
      "text/html": [
       "<img style='width: 400px; margin: 0px; float: left;' src='rcs-eddies/figures/2005-01-15_22-40-00/01_global-location.jpg' /><img style='width: 400px; margin: 0px; float: left;' src='rcs-eddies/figures/2005-01-15_22-40-00/02_regional-location.jpg' /><img style='width: 400px; margin: 0px; float: left;' src='rcs-eddies/figures/2005-01-15_22-40-00/03_temperature-salinity.jpg' /><img style='width: 400px; margin: 0px; float: left;' src='rcs-eddies/figures/2005-01-15_22-40-00/04_temperature-profile.jpg' /><img style='width: 400px; margin: 0px; float: left;' src='rcs-eddies/figures/2005-01-15_22-40-00/05_salinity-profile.jpg' /><img style='width: 400px; margin: 0px; float: left;' src='rcs-eddies/figures/2005-01-15_22-40-00/06_oxygen-profile.jpg' /><img style='width: 400px; margin: 0px; float: left;' src='rcs-eddies/figures/2005-01-15_22-40-00/07_density-section.jpg' /><img style='width: 400px; margin: 0px; float: left;' src='rcs-eddies/figures/2005-01-15_22-40-00/08_temperature-section.jpg' /><img style='width: 400px; margin: 0px; float: left;' src='rcs-eddies/figures/2005-01-15_22-40-00/09_salinity-section.jpg' /><img style='width: 400px; margin: 0px; float: left;' src='rcs-eddies/figures/2005-01-15_22-40-00/10_oxygen-section.jpg' />"
      ],
      "text/plain": [
       "<IPython.core.display.HTML object>"
      ]
     },
     "metadata": {},
     "output_type": "display_data"
    }
   ],
   "source": [
    "figure_path = 'rcs-eddies/figures/2005-01-15_22-40-00/*'\n",
    "figure_list=''.join([html_setting % str(figure) for figure in sorted(glob(figure_path))])\n",
    "display(HTML(figure_list))"
   ]
  },
  {
   "cell_type": "code",
   "execution_count": 20,
   "metadata": {
    "collapsed": false
   },
   "outputs": [
    {
     "data": {
      "text/html": [
       "<img style='width: 400px; margin: 0px; float: left;' src='rcs-eddies/figures/2007-08-25_11-02-00/01_global-location.jpg' /><img style='width: 400px; margin: 0px; float: left;' src='rcs-eddies/figures/2007-08-25_11-02-00/02_regional-location.jpg' /><img style='width: 400px; margin: 0px; float: left;' src='rcs-eddies/figures/2007-08-25_11-02-00/03_temperature-salinity.jpg' /><img style='width: 400px; margin: 0px; float: left;' src='rcs-eddies/figures/2007-08-25_11-02-00/04_temperature-profile.jpg' /><img style='width: 400px; margin: 0px; float: left;' src='rcs-eddies/figures/2007-08-25_11-02-00/05_salinity-profile.jpg' /><img style='width: 400px; margin: 0px; float: left;' src='rcs-eddies/figures/2007-08-25_11-02-00/06_oxygen-profile.jpg' /><img style='width: 400px; margin: 0px; float: left;' src='rcs-eddies/figures/2007-08-25_11-02-00/07_density-section.jpg' /><img style='width: 400px; margin: 0px; float: left;' src='rcs-eddies/figures/2007-08-25_11-02-00/08_temperature-section.jpg' /><img style='width: 400px; margin: 0px; float: left;' src='rcs-eddies/figures/2007-08-25_11-02-00/09_salinity-section.jpg' /><img style='width: 400px; margin: 0px; float: left;' src='rcs-eddies/figures/2007-08-25_11-02-00/10_oxygen-section.jpg' />"
      ],
      "text/plain": [
       "<IPython.core.display.HTML object>"
      ]
     },
     "metadata": {},
     "output_type": "display_data"
    }
   ],
   "source": [
    "figure_path = 'rcs-eddies/figures/2007-08-25_11-02-00/*'\n",
    "figure_list=''.join([html_setting % str(figure) for figure in sorted(glob(figure_path))])\n",
    "display(HTML(figure_list))"
   ]
  },
  {
   "cell_type": "code",
   "execution_count": 21,
   "metadata": {
    "collapsed": false
   },
   "outputs": [
    {
     "data": {
      "text/html": [
       "<img style='width: 400px; margin: 0px; float: left;' src='rcs-eddies/figures/2007-10-23_17-39-00/01_global-location.jpg' /><img style='width: 400px; margin: 0px; float: left;' src='rcs-eddies/figures/2007-10-23_17-39-00/02_regional-location.jpg' /><img style='width: 400px; margin: 0px; float: left;' src='rcs-eddies/figures/2007-10-23_17-39-00/03_temperature-salinity.jpg' /><img style='width: 400px; margin: 0px; float: left;' src='rcs-eddies/figures/2007-10-23_17-39-00/04_temperature-profile.jpg' /><img style='width: 400px; margin: 0px; float: left;' src='rcs-eddies/figures/2007-10-23_17-39-00/05_salinity-profile.jpg' /><img style='width: 400px; margin: 0px; float: left;' src='rcs-eddies/figures/2007-10-23_17-39-00/06_oxygen-profile.jpg' /><img style='width: 400px; margin: 0px; float: left;' src='rcs-eddies/figures/2007-10-23_17-39-00/07_density-section.jpg' /><img style='width: 400px; margin: 0px; float: left;' src='rcs-eddies/figures/2007-10-23_17-39-00/08_temperature-section.jpg' /><img style='width: 400px; margin: 0px; float: left;' src='rcs-eddies/figures/2007-10-23_17-39-00/09_salinity-section.jpg' /><img style='width: 400px; margin: 0px; float: left;' src='rcs-eddies/figures/2007-10-23_17-39-00/10_oxygen-section.jpg' />"
      ],
      "text/plain": [
       "<IPython.core.display.HTML object>"
      ]
     },
     "metadata": {},
     "output_type": "display_data"
    }
   ],
   "source": [
    "figure_path = 'rcs-eddies/figures/2007-10-23_17-39-00/*'\n",
    "figure_list=''.join([html_setting % str(figure) for figure in sorted(glob(figure_path))])\n",
    "display(HTML(figure_list))"
   ]
  },
  {
   "cell_type": "code",
   "execution_count": 22,
   "metadata": {
    "collapsed": false
   },
   "outputs": [
    {
     "data": {
      "text/html": [
       "<img style='width: 400px; margin: 0px; float: left;' src='rcs-eddies/figures/2007-10-24_07-11-00/01_global-location.jpg' /><img style='width: 400px; margin: 0px; float: left;' src='rcs-eddies/figures/2007-10-24_07-11-00/02_regional-location.jpg' /><img style='width: 400px; margin: 0px; float: left;' src='rcs-eddies/figures/2007-10-24_07-11-00/03_temperature-salinity.jpg' /><img style='width: 400px; margin: 0px; float: left;' src='rcs-eddies/figures/2007-10-24_07-11-00/04_temperature-profile.jpg' /><img style='width: 400px; margin: 0px; float: left;' src='rcs-eddies/figures/2007-10-24_07-11-00/05_salinity-profile.jpg' /><img style='width: 400px; margin: 0px; float: left;' src='rcs-eddies/figures/2007-10-24_07-11-00/06_oxygen-profile.jpg' /><img style='width: 400px; margin: 0px; float: left;' src='rcs-eddies/figures/2007-10-24_07-11-00/07_density-section.jpg' /><img style='width: 400px; margin: 0px; float: left;' src='rcs-eddies/figures/2007-10-24_07-11-00/08_temperature-section.jpg' /><img style='width: 400px; margin: 0px; float: left;' src='rcs-eddies/figures/2007-10-24_07-11-00/09_salinity-section.jpg' /><img style='width: 400px; margin: 0px; float: left;' src='rcs-eddies/figures/2007-10-24_07-11-00/10_oxygen-section.jpg' />"
      ],
      "text/plain": [
       "<IPython.core.display.HTML object>"
      ]
     },
     "metadata": {},
     "output_type": "display_data"
    }
   ],
   "source": [
    "figure_path = 'rcs-eddies/figures/2007-10-24_07-11-00/*'\n",
    "figure_list=''.join([html_setting % str(figure) for figure in sorted(glob(figure_path))])\n",
    "display(HTML(figure_list))"
   ]
  },
  {
   "cell_type": "code",
   "execution_count": 23,
   "metadata": {
    "collapsed": false
   },
   "outputs": [
    {
     "data": {
      "text/html": [
       "<img style='width: 400px; margin: 0px; float: left;' src='rcs-eddies/figures/2007-10-26_00-59-00/01_global-location.jpg' /><img style='width: 400px; margin: 0px; float: left;' src='rcs-eddies/figures/2007-10-26_00-59-00/02_regional-location.jpg' /><img style='width: 400px; margin: 0px; float: left;' src='rcs-eddies/figures/2007-10-26_00-59-00/03_temperature-salinity.jpg' /><img style='width: 400px; margin: 0px; float: left;' src='rcs-eddies/figures/2007-10-26_00-59-00/04_temperature-profile.jpg' /><img style='width: 400px; margin: 0px; float: left;' src='rcs-eddies/figures/2007-10-26_00-59-00/05_salinity-profile.jpg' /><img style='width: 400px; margin: 0px; float: left;' src='rcs-eddies/figures/2007-10-26_00-59-00/06_oxygen-profile.jpg' /><img style='width: 400px; margin: 0px; float: left;' src='rcs-eddies/figures/2007-10-26_00-59-00/07_density-section.jpg' /><img style='width: 400px; margin: 0px; float: left;' src='rcs-eddies/figures/2007-10-26_00-59-00/08_temperature-section.jpg' /><img style='width: 400px; margin: 0px; float: left;' src='rcs-eddies/figures/2007-10-26_00-59-00/09_salinity-section.jpg' /><img style='width: 400px; margin: 0px; float: left;' src='rcs-eddies/figures/2007-10-26_00-59-00/10_oxygen-section.jpg' />"
      ],
      "text/plain": [
       "<IPython.core.display.HTML object>"
      ]
     },
     "metadata": {},
     "output_type": "display_data"
    }
   ],
   "source": [
    "figure_path = 'rcs-eddies/figures/2007-10-26_00-59-00/*'\n",
    "figure_list=''.join([html_setting % str(figure) for figure in sorted(glob(figure_path))])\n",
    "display(HTML(figure_list))"
   ]
  },
  {
   "cell_type": "code",
   "execution_count": 24,
   "metadata": {
    "collapsed": false
   },
   "outputs": [
    {
     "data": {
      "text/html": [
       "<img style='width: 400px; margin: 0px; float: left;' src='rcs-eddies/figures/2008-09-10_09-06-00/01_global-location.jpg' /><img style='width: 400px; margin: 0px; float: left;' src='rcs-eddies/figures/2008-09-10_09-06-00/02_regional-location.jpg' /><img style='width: 400px; margin: 0px; float: left;' src='rcs-eddies/figures/2008-09-10_09-06-00/03_temperature-salinity.jpg' /><img style='width: 400px; margin: 0px; float: left;' src='rcs-eddies/figures/2008-09-10_09-06-00/04_temperature-profile.jpg' /><img style='width: 400px; margin: 0px; float: left;' src='rcs-eddies/figures/2008-09-10_09-06-00/05_salinity-profile.jpg' /><img style='width: 400px; margin: 0px; float: left;' src='rcs-eddies/figures/2008-09-10_09-06-00/06_oxygen-profile.jpg' /><img style='width: 400px; margin: 0px; float: left;' src='rcs-eddies/figures/2008-09-10_09-06-00/07_density-section.jpg' /><img style='width: 400px; margin: 0px; float: left;' src='rcs-eddies/figures/2008-09-10_09-06-00/08_temperature-section.jpg' /><img style='width: 400px; margin: 0px; float: left;' src='rcs-eddies/figures/2008-09-10_09-06-00/09_salinity-section.jpg' /><img style='width: 400px; margin: 0px; float: left;' src='rcs-eddies/figures/2008-09-10_09-06-00/10_oxygen-section.jpg' />"
      ],
      "text/plain": [
       "<IPython.core.display.HTML object>"
      ]
     },
     "metadata": {},
     "output_type": "display_data"
    }
   ],
   "source": [
    "figure_path = 'rcs-eddies/figures/2008-09-10_09-06-00/*'\n",
    "figure_list=''.join([html_setting % str(figure) for figure in sorted(glob(figure_path))])\n",
    "display(HTML(figure_list))"
   ]
  },
  {
   "cell_type": "code",
   "execution_count": 25,
   "metadata": {
    "collapsed": false
   },
   "outputs": [
    {
     "data": {
      "text/html": [
       "<img style='width: 400px; margin: 0px; float: left;' src='rcs-eddies/figures/2008-09-12_05-41-00/01_global-location.jpg' /><img style='width: 400px; margin: 0px; float: left;' src='rcs-eddies/figures/2008-09-12_05-41-00/02_regional-location.jpg' /><img style='width: 400px; margin: 0px; float: left;' src='rcs-eddies/figures/2008-09-12_05-41-00/03_temperature-salinity.jpg' /><img style='width: 400px; margin: 0px; float: left;' src='rcs-eddies/figures/2008-09-12_05-41-00/04_temperature-profile.jpg' /><img style='width: 400px; margin: 0px; float: left;' src='rcs-eddies/figures/2008-09-12_05-41-00/05_salinity-profile.jpg' /><img style='width: 400px; margin: 0px; float: left;' src='rcs-eddies/figures/2008-09-12_05-41-00/06_oxygen-profile.jpg' /><img style='width: 400px; margin: 0px; float: left;' src='rcs-eddies/figures/2008-09-12_05-41-00/07_density-section.jpg' /><img style='width: 400px; margin: 0px; float: left;' src='rcs-eddies/figures/2008-09-12_05-41-00/08_temperature-section.jpg' /><img style='width: 400px; margin: 0px; float: left;' src='rcs-eddies/figures/2008-09-12_05-41-00/09_salinity-section.jpg' /><img style='width: 400px; margin: 0px; float: left;' src='rcs-eddies/figures/2008-09-12_05-41-00/10_oxygen-section.jpg' />"
      ],
      "text/plain": [
       "<IPython.core.display.HTML object>"
      ]
     },
     "metadata": {},
     "output_type": "display_data"
    }
   ],
   "source": [
    "figure_path = 'rcs-eddies/figures/2008-09-12_05-41-00/*'\n",
    "figure_list=''.join([html_setting % str(figure) for figure in sorted(glob(figure_path))])\n",
    "display(HTML(figure_list))"
   ]
  },
  {
   "cell_type": "code",
   "execution_count": 26,
   "metadata": {
    "collapsed": false
   },
   "outputs": [
    {
     "data": {
      "text/html": [
       "<img style='width: 400px; margin: 0px; float: left;' src='rcs-eddies/figures/2008-09-13_16-20-00/01_global-location.jpg' /><img style='width: 400px; margin: 0px; float: left;' src='rcs-eddies/figures/2008-09-13_16-20-00/02_regional-location.jpg' /><img style='width: 400px; margin: 0px; float: left;' src='rcs-eddies/figures/2008-09-13_16-20-00/03_temperature-salinity.jpg' /><img style='width: 400px; margin: 0px; float: left;' src='rcs-eddies/figures/2008-09-13_16-20-00/04_temperature-profile.jpg' /><img style='width: 400px; margin: 0px; float: left;' src='rcs-eddies/figures/2008-09-13_16-20-00/05_salinity-profile.jpg' /><img style='width: 400px; margin: 0px; float: left;' src='rcs-eddies/figures/2008-09-13_16-20-00/06_oxygen-profile.jpg' /><img style='width: 400px; margin: 0px; float: left;' src='rcs-eddies/figures/2008-09-13_16-20-00/07_density-section.jpg' /><img style='width: 400px; margin: 0px; float: left;' src='rcs-eddies/figures/2008-09-13_16-20-00/08_temperature-section.jpg' /><img style='width: 400px; margin: 0px; float: left;' src='rcs-eddies/figures/2008-09-13_16-20-00/09_salinity-section.jpg' /><img style='width: 400px; margin: 0px; float: left;' src='rcs-eddies/figures/2008-09-13_16-20-00/10_oxygen-section.jpg' />"
      ],
      "text/plain": [
       "<IPython.core.display.HTML object>"
      ]
     },
     "metadata": {},
     "output_type": "display_data"
    }
   ],
   "source": [
    "figure_path = 'rcs-eddies/figures/2008-09-13_16-20-00/*'\n",
    "figure_list=''.join([html_setting % str(figure) for figure in sorted(glob(figure_path))])\n",
    "display(HTML(figure_list))"
   ]
  },
  {
   "cell_type": "code",
   "execution_count": 27,
   "metadata": {
    "collapsed": false
   },
   "outputs": [
    {
     "data": {
      "text/html": [
       "<img style='width: 400px; margin: 0px; float: left;' src='rcs-eddies/figures/2009-02-18_17-56-00/01_global-location.jpg' /><img style='width: 400px; margin: 0px; float: left;' src='rcs-eddies/figures/2009-02-18_17-56-00/02_regional-location.jpg' /><img style='width: 400px; margin: 0px; float: left;' src='rcs-eddies/figures/2009-02-18_17-56-00/03_temperature-salinity.jpg' /><img style='width: 400px; margin: 0px; float: left;' src='rcs-eddies/figures/2009-02-18_17-56-00/04_temperature-profile.jpg' /><img style='width: 400px; margin: 0px; float: left;' src='rcs-eddies/figures/2009-02-18_17-56-00/05_salinity-profile.jpg' /><img style='width: 400px; margin: 0px; float: left;' src='rcs-eddies/figures/2009-02-18_17-56-00/06_oxygen-profile.jpg' /><img style='width: 400px; margin: 0px; float: left;' src='rcs-eddies/figures/2009-02-18_17-56-00/07_density-section.jpg' /><img style='width: 400px; margin: 0px; float: left;' src='rcs-eddies/figures/2009-02-18_17-56-00/08_temperature-section.jpg' /><img style='width: 400px; margin: 0px; float: left;' src='rcs-eddies/figures/2009-02-18_17-56-00/09_salinity-section.jpg' /><img style='width: 400px; margin: 0px; float: left;' src='rcs-eddies/figures/2009-02-18_17-56-00/10_oxygen-section.jpg' />"
      ],
      "text/plain": [
       "<IPython.core.display.HTML object>"
      ]
     },
     "metadata": {},
     "output_type": "display_data"
    }
   ],
   "source": [
    "figure_path = 'rcs-eddies/figures/2009-02-18_17-56-00/*'\n",
    "figure_list=''.join([html_setting % str(figure) for figure in sorted(glob(figure_path))])\n",
    "display(HTML(figure_list))"
   ]
  },
  {
   "cell_type": "code",
   "execution_count": 28,
   "metadata": {
    "collapsed": false
   },
   "outputs": [
    {
     "data": {
      "text/html": [
       "<img style='width: 400px; margin: 0px; float: left;' src='rcs-eddies/figures/2009-12-17_16-37-00/01_global-location.jpg' /><img style='width: 400px; margin: 0px; float: left;' src='rcs-eddies/figures/2009-12-17_16-37-00/02_regional-location.jpg' /><img style='width: 400px; margin: 0px; float: left;' src='rcs-eddies/figures/2009-12-17_16-37-00/03_temperature-salinity.jpg' /><img style='width: 400px; margin: 0px; float: left;' src='rcs-eddies/figures/2009-12-17_16-37-00/04_temperature-profile.jpg' /><img style='width: 400px; margin: 0px; float: left;' src='rcs-eddies/figures/2009-12-17_16-37-00/05_salinity-profile.jpg' /><img style='width: 400px; margin: 0px; float: left;' src='rcs-eddies/figures/2009-12-17_16-37-00/06_oxygen-profile.jpg' /><img style='width: 400px; margin: 0px; float: left;' src='rcs-eddies/figures/2009-12-17_16-37-00/07_density-section.jpg' /><img style='width: 400px; margin: 0px; float: left;' src='rcs-eddies/figures/2009-12-17_16-37-00/08_temperature-section.jpg' /><img style='width: 400px; margin: 0px; float: left;' src='rcs-eddies/figures/2009-12-17_16-37-00/09_salinity-section.jpg' /><img style='width: 400px; margin: 0px; float: left;' src='rcs-eddies/figures/2009-12-17_16-37-00/10_oxygen-section.jpg' />"
      ],
      "text/plain": [
       "<IPython.core.display.HTML object>"
      ]
     },
     "metadata": {},
     "output_type": "display_data"
    }
   ],
   "source": [
    "figure_path = 'rcs-eddies/figures/2009-12-17_16-37-00/*'\n",
    "figure_list=''.join([html_setting % str(figure) for figure in sorted(glob(figure_path))])\n",
    "display(HTML(figure_list))"
   ]
  },
  {
   "cell_type": "code",
   "execution_count": 29,
   "metadata": {
    "collapsed": false
   },
   "outputs": [
    {
     "data": {
      "text/html": [
       "<img style='width: 400px; margin: 0px; float: left;' src='rcs-eddies/figures/2010-01-10_03-03-00/01_global-location.jpg' /><img style='width: 400px; margin: 0px; float: left;' src='rcs-eddies/figures/2010-01-10_03-03-00/02_regional-location.jpg' /><img style='width: 400px; margin: 0px; float: left;' src='rcs-eddies/figures/2010-01-10_03-03-00/03_temperature-salinity.jpg' /><img style='width: 400px; margin: 0px; float: left;' src='rcs-eddies/figures/2010-01-10_03-03-00/04_temperature-profile.jpg' /><img style='width: 400px; margin: 0px; float: left;' src='rcs-eddies/figures/2010-01-10_03-03-00/05_salinity-profile.jpg' /><img style='width: 400px; margin: 0px; float: left;' src='rcs-eddies/figures/2010-01-10_03-03-00/06_oxygen-profile.jpg' /><img style='width: 400px; margin: 0px; float: left;' src='rcs-eddies/figures/2010-01-10_03-03-00/07_density-section.jpg' /><img style='width: 400px; margin: 0px; float: left;' src='rcs-eddies/figures/2010-01-10_03-03-00/08_temperature-section.jpg' /><img style='width: 400px; margin: 0px; float: left;' src='rcs-eddies/figures/2010-01-10_03-03-00/09_salinity-section.jpg' /><img style='width: 400px; margin: 0px; float: left;' src='rcs-eddies/figures/2010-01-10_03-03-00/10_oxygen-section.jpg' />"
      ],
      "text/plain": [
       "<IPython.core.display.HTML object>"
      ]
     },
     "metadata": {},
     "output_type": "display_data"
    }
   ],
   "source": [
    "figure_path = 'rcs-eddies/figures/2010-01-10_03-03-00/*'\n",
    "figure_list=''.join([html_setting % str(figure) for figure in sorted(glob(figure_path))])\n",
    "display(HTML(figure_list))"
   ]
  }
 ],
 "metadata": {
  "kernelspec": {
   "display_name": "Python 2.7",
   "language": "python",
   "name": "python2"
  },
  "language_info": {
   "codemirror_mode": {
    "name": "ipython",
    "version": 2
   },
   "file_extension": ".py",
   "mimetype": "text/x-python",
   "name": "python",
   "nbconvert_exporter": "python",
   "pygments_lexer": "ipython2",
   "version": "2.7.11"
  }
 },
 "nbformat": 4,
 "nbformat_minor": 0
}
