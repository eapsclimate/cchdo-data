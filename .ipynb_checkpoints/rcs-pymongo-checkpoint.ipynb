{
 "cells": [
  {
   "cell_type": "markdown",
   "metadata": {},
   "source": [
    "## RCS Eddies"
   ]
  },
  {
   "cell_type": "code",
   "execution_count": 1,
   "metadata": {
    "collapsed": true
   },
   "outputs": [],
   "source": [
    "from pymongo import MongoClient\n",
    "from tqdm import tqdm\n",
    "import numpy as np\n",
    "import pandas as pd"
   ]
  },
  {
   "cell_type": "code",
   "execution_count": 2,
   "metadata": {
    "collapsed": true
   },
   "outputs": [],
   "source": [
    "rcs_eddies = MongoClient().eddies.rcs_eddies\n",
    "rcs_cchdo = MongoClient().eddies.rcs_cchdo"
   ]
  },
  {
   "cell_type": "code",
   "execution_count": 3,
   "metadata": {
    "collapsed": false
   },
   "outputs": [
    {
     "name": "stderr",
     "output_type": "stream",
     "text": [
      "50117it [09:37, 86.82it/s]\n"
     ]
    }
   ],
   "source": [
    "for document in tqdm(rcs_eddies.find()):\n",
    "    n = len(document[\"features\"][2][\"geometry\"][\"coordinates\"])\n",
    "    for i in range(n):\n",
    "        eddy = {\n",
    "            'eid': str(document[\"_id\"]) + \"-\" + str(i+1),\n",
    "            'dat': pd.to_datetime(document[\"date_start\"]) + np.timedelta64(i, 'D'),\n",
    "            'loc': document[\"features\"][2][\"geometry\"][\"coordinates\"][i]\n",
    "        }\n",
    "        rcs_cchdo.insert_one(dict(eddy))"
   ]
  }
 ],
 "metadata": {
  "kernelspec": {
   "display_name": "Python 2.7",
   "language": "python",
   "name": "python2"
  },
  "language_info": {
   "codemirror_mode": {
    "name": "ipython",
    "version": 2
   },
   "file_extension": ".py",
   "mimetype": "text/x-python",
   "name": "python",
   "nbconvert_exporter": "python",
   "pygments_lexer": "ipython2",
   "version": "2.7.11"
  }
 },
 "nbformat": 4,
 "nbformat_minor": 0
}
