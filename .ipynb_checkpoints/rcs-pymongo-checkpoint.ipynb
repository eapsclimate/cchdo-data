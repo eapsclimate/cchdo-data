{
 "cells": [
  {
   "cell_type": "markdown",
   "metadata": {},
   "source": [
    "### rcs eddies ###"
   ]
  },
  {
   "cell_type": "code",
   "execution_count": 1,
   "metadata": {
    "collapsed": true
   },
   "outputs": [],
   "source": [
    "# longitude range setting\n",
    "# from -180 to 180\n",
    "def format(longitude):\n",
    "    if longitude > 180:\n",
    "        longitude = longitude - 360\n",
    "    else:\n",
    "        longitude = longitude\n",
    "    return longitude"
   ]
  },
  {
   "cell_type": "markdown",
   "metadata": {},
   "source": [
    "### pymongo ###"
   ]
  },
  {
   "cell_type": "code",
   "execution_count": 2,
   "metadata": {
    "collapsed": true
   },
   "outputs": [],
   "source": [
    "from pymongo import MongoClient\n",
    "from tqdm import tqdm\n",
    "import numpy as np\n",
    "import pandas as pd"
   ]
  },
  {
   "cell_type": "code",
   "execution_count": 3,
   "metadata": {
    "collapsed": false
   },
   "outputs": [],
   "source": [
    "# collection\n",
    "rcs_eddies = MongoClient().eddies.rcs_eddies\n",
    "rcs_cchdo = MongoClient().eddies.rcs_cchdo"
   ]
  },
  {
   "cell_type": "code",
   "execution_count": 4,
   "metadata": {
    "collapsed": false
   },
   "outputs": [
    {
     "name": "stderr",
     "output_type": "stream",
     "text": [
      "47690it [09:32, 83.34it/s]\n"
     ]
    }
   ],
   "source": [
    "for document in tqdm(rcs_eddies.find()):\n",
    "    obs_num = len(document['features'][2]['geometry']['coordinates'])\n",
    "    for i in range(obs_num):\n",
    "        lon = format(float(document['features'][2]['geometry']['coordinates'][i][0]))\n",
    "        lat = float(document['features'][2]['geometry']['coordinates'][i][1])\n",
    "        eddy = {\n",
    "            'eid': str(document['_id']) + '-' + str(i+1),\n",
    "            'dat': pd.to_datetime(document['date_start']) + np.timedelta64(i, 'D'),\n",
    "            'loc': {\n",
    "                \"type\": \"Point\",\n",
    "                \"coordinates\": [lon, lat]\n",
    "            },\n",
    "            'rad': (document['area']/np.pi)**0.5\n",
    "        }\n",
    "        rcs_cchdo.insert_one(dict(eddy))"
   ]
  }
 ],
 "metadata": {
  "kernelspec": {
   "display_name": "Python 2.7",
   "language": "python",
   "name": "python2"
  },
  "language_info": {
   "codemirror_mode": {
    "name": "ipython",
    "version": 2
   },
   "file_extension": ".py",
   "mimetype": "text/x-python",
   "name": "python",
   "nbconvert_exporter": "python",
   "pygments_lexer": "ipython2",
   "version": "2.7.11"
  }
 },
 "nbformat": 4,
 "nbformat_minor": 0
}
