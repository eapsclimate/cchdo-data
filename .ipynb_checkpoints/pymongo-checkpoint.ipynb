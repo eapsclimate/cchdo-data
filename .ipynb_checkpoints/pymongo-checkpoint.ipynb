{
 "cells": [
  {
   "cell_type": "markdown",
   "metadata": {},
   "source": [
    "## SSH Eddies"
   ]
  },
  {
   "cell_type": "code",
   "execution_count": 1,
   "metadata": {
    "collapsed": false
   },
   "outputs": [],
   "source": [
    "import datetime\n",
    "import jdcal\n",
    "import numpy as np\n",
    "import pandas as pd\n",
    "import xarray as xr"
   ]
  },
  {
   "cell_type": "code",
   "execution_count": 2,
   "metadata": {
    "collapsed": true
   },
   "outputs": [],
   "source": [
    "ds = xr.open_dataset('/home/cz2397/data/ssh-eddies/tracks.20130125.nc', decode_cf=False)"
   ]
  },
  {
   "cell_type": "code",
   "execution_count": 3,
   "metadata": {
    "collapsed": false
   },
   "outputs": [
    {
     "data": {
      "text/plain": [
       "<xarray.Dataset>\n",
       "Dimensions:  (Nobs: 2590938)\n",
       "Coordinates:\n",
       "  * Nobs     (Nobs) int64 0 1 2 3 4 5 6 7 8 9 10 11 12 13 14 15 16 17 18 19 ...\n",
       "Data variables:\n",
       "    track    (Nobs) int32 1 1 1 1 2 2 2 2 3 3 3 3 4 4 4 4 5 5 5 5 6 6 6 6 7 ...\n",
       "    n        (Nobs) int32 1 2 3 4 1 2 3 4 1 2 3 4 1 2 3 4 1 2 3 4 1 2 3 4 1 ...\n",
       "    j1       (Nobs) int32 2448910 2448917 2448924 2448931 2448910 2448917 ...\n",
       "    cyc      (Nobs) int32 -1 -1 -1 -1 -1 -1 -1 -1 -1 -1 -1 -1 -1 -1 -1 -1 -1 ...\n",
       "    lon      (Nobs) float32 636.74 635.99 635.82 635.845 560.642 561.447 ...\n",
       "    lat      (Nobs) float32 -65.0011 -65.1376 -65.2457 -65.2933 -62.5424 ...\n",
       "    A        (Nobs) float32 1.24564 2.64604 3.40119 1.45836 2.16156 4.87579 ...\n",
       "    L        (Nobs) float32 44.464 36.7024 45.4221 43.022 63.0697 51.1345 ...\n",
       "    U        (Nobs) float32 5.97993 8.17373 8.28628 5.20364 4.81408 6.59872 ...\n",
       "Attributes:\n",
       "    title: Mesoscale Eddies in Altimeter Observations of SSH\n",
       "    institution: Oregon State University/CEOAS\n",
       "    file_name: tracks.20130125.nc\n",
       "    file_creation_time: 2013May06 15:53:30\n",
       "    data_process_date: 20130125\n",
       "    data_start_date: Oct 14, 1992\n",
       "    data_end_date: Apr  4, 2012\n",
       "    authors: Dudley Chelton and Michael Schlax\n",
       "    inquiries_to: Eric Beals (beals@coas.oregonstate.edu)"
      ]
     },
     "execution_count": 3,
     "metadata": {},
     "output_type": "execute_result"
    }
   ],
   "source": [
    "ds"
   ]
  },
  {
   "cell_type": "code",
   "execution_count": 4,
   "metadata": {
    "collapsed": true
   },
   "outputs": [],
   "source": [
    "df = ds.to_dataframe()"
   ]
  },
  {
   "cell_type": "code",
   "execution_count": 5,
   "metadata": {
    "collapsed": false
   },
   "outputs": [
    {
     "data": {
      "text/html": [
       "<div>\n",
       "<table border=\"1\" class=\"dataframe\">\n",
       "  <thead>\n",
       "    <tr style=\"text-align: right;\">\n",
       "      <th></th>\n",
       "      <th>track</th>\n",
       "      <th>n</th>\n",
       "      <th>j1</th>\n",
       "      <th>cyc</th>\n",
       "      <th>lon</th>\n",
       "      <th>lat</th>\n",
       "      <th>A</th>\n",
       "      <th>L</th>\n",
       "      <th>U</th>\n",
       "    </tr>\n",
       "    <tr>\n",
       "      <th>Nobs</th>\n",
       "      <th></th>\n",
       "      <th></th>\n",
       "      <th></th>\n",
       "      <th></th>\n",
       "      <th></th>\n",
       "      <th></th>\n",
       "      <th></th>\n",
       "      <th></th>\n",
       "      <th></th>\n",
       "    </tr>\n",
       "  </thead>\n",
       "  <tbody>\n",
       "    <tr>\n",
       "      <th>0</th>\n",
       "      <td>1</td>\n",
       "      <td>1</td>\n",
       "      <td>2448910</td>\n",
       "      <td>-1</td>\n",
       "      <td>636.739990</td>\n",
       "      <td>-65.001099</td>\n",
       "      <td>1.24564</td>\n",
       "      <td>44.464001</td>\n",
       "      <td>5.97993</td>\n",
       "    </tr>\n",
       "    <tr>\n",
       "      <th>1</th>\n",
       "      <td>1</td>\n",
       "      <td>2</td>\n",
       "      <td>2448917</td>\n",
       "      <td>-1</td>\n",
       "      <td>635.989990</td>\n",
       "      <td>-65.137604</td>\n",
       "      <td>2.64604</td>\n",
       "      <td>36.702400</td>\n",
       "      <td>8.17373</td>\n",
       "    </tr>\n",
       "    <tr>\n",
       "      <th>2</th>\n",
       "      <td>1</td>\n",
       "      <td>3</td>\n",
       "      <td>2448924</td>\n",
       "      <td>-1</td>\n",
       "      <td>635.820007</td>\n",
       "      <td>-65.245697</td>\n",
       "      <td>3.40119</td>\n",
       "      <td>45.422100</td>\n",
       "      <td>8.28628</td>\n",
       "    </tr>\n",
       "    <tr>\n",
       "      <th>3</th>\n",
       "      <td>1</td>\n",
       "      <td>4</td>\n",
       "      <td>2448931</td>\n",
       "      <td>-1</td>\n",
       "      <td>635.844971</td>\n",
       "      <td>-65.293297</td>\n",
       "      <td>1.45836</td>\n",
       "      <td>43.021999</td>\n",
       "      <td>5.20364</td>\n",
       "    </tr>\n",
       "    <tr>\n",
       "      <th>4</th>\n",
       "      <td>2</td>\n",
       "      <td>1</td>\n",
       "      <td>2448910</td>\n",
       "      <td>-1</td>\n",
       "      <td>560.642029</td>\n",
       "      <td>-62.542400</td>\n",
       "      <td>2.16156</td>\n",
       "      <td>63.069698</td>\n",
       "      <td>4.81408</td>\n",
       "    </tr>\n",
       "  </tbody>\n",
       "</table>\n",
       "</div>"
      ],
      "text/plain": [
       "      track  n       j1  cyc         lon        lat        A          L  \\\n",
       "Nobs                                                                      \n",
       "0         1  1  2448910   -1  636.739990 -65.001099  1.24564  44.464001   \n",
       "1         1  2  2448917   -1  635.989990 -65.137604  2.64604  36.702400   \n",
       "2         1  3  2448924   -1  635.820007 -65.245697  3.40119  45.422100   \n",
       "3         1  4  2448931   -1  635.844971 -65.293297  1.45836  43.021999   \n",
       "4         2  1  2448910   -1  560.642029 -62.542400  2.16156  63.069698   \n",
       "\n",
       "            U  \n",
       "Nobs           \n",
       "0     5.97993  \n",
       "1     8.17373  \n",
       "2     8.28628  \n",
       "3     5.20364  \n",
       "4     4.81408  "
      ]
     },
     "execution_count": 5,
     "metadata": {},
     "output_type": "execute_result"
    }
   ],
   "source": [
    "df.head()"
   ]
  },
  {
   "cell_type": "code",
   "execution_count": 6,
   "metadata": {
    "collapsed": false
   },
   "outputs": [],
   "source": [
    "def jday_to_datetime(jday, refday=0):\n",
    "    y, m, d, f = jdcal.jd2gcal(jday, refday)\n",
    "    h = int(f*24)\n",
    "    return pd.to_datetime(datetime.datetime(y, m, d, h))"
   ]
  },
  {
   "cell_type": "code",
   "execution_count": 7,
   "metadata": {
    "collapsed": false
   },
   "outputs": [],
   "source": [
    "pd_date = df.j1.apply(jday_to_datetime)"
   ]
  },
  {
   "cell_type": "code",
   "execution_count": 8,
   "metadata": {
    "collapsed": true
   },
   "outputs": [],
   "source": [
    "df.j1 = pd_date\n",
    "df = df.rename(columns = {'j1': 'date'})"
   ]
  },
  {
   "cell_type": "code",
   "execution_count": 9,
   "metadata": {
    "collapsed": false
   },
   "outputs": [
    {
     "data": {
      "text/html": [
       "<div>\n",
       "<table border=\"1\" class=\"dataframe\">\n",
       "  <thead>\n",
       "    <tr style=\"text-align: right;\">\n",
       "      <th></th>\n",
       "      <th>track</th>\n",
       "      <th>n</th>\n",
       "      <th>date</th>\n",
       "      <th>cyc</th>\n",
       "      <th>lon</th>\n",
       "      <th>lat</th>\n",
       "      <th>A</th>\n",
       "      <th>L</th>\n",
       "      <th>U</th>\n",
       "    </tr>\n",
       "    <tr>\n",
       "      <th>Nobs</th>\n",
       "      <th></th>\n",
       "      <th></th>\n",
       "      <th></th>\n",
       "      <th></th>\n",
       "      <th></th>\n",
       "      <th></th>\n",
       "      <th></th>\n",
       "      <th></th>\n",
       "      <th></th>\n",
       "    </tr>\n",
       "  </thead>\n",
       "  <tbody>\n",
       "    <tr>\n",
       "      <th>0</th>\n",
       "      <td>1</td>\n",
       "      <td>1</td>\n",
       "      <td>1992-10-14 12:00:00</td>\n",
       "      <td>-1</td>\n",
       "      <td>636.739990</td>\n",
       "      <td>-65.001099</td>\n",
       "      <td>1.24564</td>\n",
       "      <td>44.464001</td>\n",
       "      <td>5.97993</td>\n",
       "    </tr>\n",
       "    <tr>\n",
       "      <th>1</th>\n",
       "      <td>1</td>\n",
       "      <td>2</td>\n",
       "      <td>1992-10-21 12:00:00</td>\n",
       "      <td>-1</td>\n",
       "      <td>635.989990</td>\n",
       "      <td>-65.137604</td>\n",
       "      <td>2.64604</td>\n",
       "      <td>36.702400</td>\n",
       "      <td>8.17373</td>\n",
       "    </tr>\n",
       "    <tr>\n",
       "      <th>2</th>\n",
       "      <td>1</td>\n",
       "      <td>3</td>\n",
       "      <td>1992-10-28 12:00:00</td>\n",
       "      <td>-1</td>\n",
       "      <td>635.820007</td>\n",
       "      <td>-65.245697</td>\n",
       "      <td>3.40119</td>\n",
       "      <td>45.422100</td>\n",
       "      <td>8.28628</td>\n",
       "    </tr>\n",
       "    <tr>\n",
       "      <th>3</th>\n",
       "      <td>1</td>\n",
       "      <td>4</td>\n",
       "      <td>1992-11-04 12:00:00</td>\n",
       "      <td>-1</td>\n",
       "      <td>635.844971</td>\n",
       "      <td>-65.293297</td>\n",
       "      <td>1.45836</td>\n",
       "      <td>43.021999</td>\n",
       "      <td>5.20364</td>\n",
       "    </tr>\n",
       "    <tr>\n",
       "      <th>4</th>\n",
       "      <td>2</td>\n",
       "      <td>1</td>\n",
       "      <td>1992-10-14 12:00:00</td>\n",
       "      <td>-1</td>\n",
       "      <td>560.642029</td>\n",
       "      <td>-62.542400</td>\n",
       "      <td>2.16156</td>\n",
       "      <td>63.069698</td>\n",
       "      <td>4.81408</td>\n",
       "    </tr>\n",
       "  </tbody>\n",
       "</table>\n",
       "</div>"
      ],
      "text/plain": [
       "      track  n                date  cyc         lon        lat        A  \\\n",
       "Nobs                                                                      \n",
       "0         1  1 1992-10-14 12:00:00   -1  636.739990 -65.001099  1.24564   \n",
       "1         1  2 1992-10-21 12:00:00   -1  635.989990 -65.137604  2.64604   \n",
       "2         1  3 1992-10-28 12:00:00   -1  635.820007 -65.245697  3.40119   \n",
       "3         1  4 1992-11-04 12:00:00   -1  635.844971 -65.293297  1.45836   \n",
       "4         2  1 1992-10-14 12:00:00   -1  560.642029 -62.542400  2.16156   \n",
       "\n",
       "              L        U  \n",
       "Nobs                      \n",
       "0     44.464001  5.97993  \n",
       "1     36.702400  8.17373  \n",
       "2     45.422100  8.28628  \n",
       "3     43.021999  5.20364  \n",
       "4     63.069698  4.81408  "
      ]
     },
     "execution_count": 9,
     "metadata": {},
     "output_type": "execute_result"
    }
   ],
   "source": [
    "df.head()"
   ]
  },
  {
   "cell_type": "code",
   "execution_count": 10,
   "metadata": {
    "collapsed": true
   },
   "outputs": [],
   "source": [
    "lon_fix_01 = df.where(df.lon <= 540).lon - 360\n",
    "lon_fix_02 = df.where(df.lon > 540).lon - 720\n",
    "lon_fix_A = lon_fix_01\n",
    "lon_fix_A = lon_fix_A.fillna(lon_fix_02)\n",
    "df.lon = lon_fix_A"
   ]
  },
  {
   "cell_type": "code",
   "execution_count": 11,
   "metadata": {
    "collapsed": false
   },
   "outputs": [
    {
     "data": {
      "text/html": [
       "<div>\n",
       "<table border=\"1\" class=\"dataframe\">\n",
       "  <thead>\n",
       "    <tr style=\"text-align: right;\">\n",
       "      <th></th>\n",
       "      <th>track</th>\n",
       "      <th>n</th>\n",
       "      <th>date</th>\n",
       "      <th>cyc</th>\n",
       "      <th>lon</th>\n",
       "      <th>lat</th>\n",
       "      <th>A</th>\n",
       "      <th>L</th>\n",
       "      <th>U</th>\n",
       "    </tr>\n",
       "    <tr>\n",
       "      <th>Nobs</th>\n",
       "      <th></th>\n",
       "      <th></th>\n",
       "      <th></th>\n",
       "      <th></th>\n",
       "      <th></th>\n",
       "      <th></th>\n",
       "      <th></th>\n",
       "      <th></th>\n",
       "      <th></th>\n",
       "    </tr>\n",
       "  </thead>\n",
       "  <tbody>\n",
       "    <tr>\n",
       "      <th>0</th>\n",
       "      <td>1</td>\n",
       "      <td>1</td>\n",
       "      <td>1992-10-14 12:00:00</td>\n",
       "      <td>-1</td>\n",
       "      <td>-83.260010</td>\n",
       "      <td>-65.001099</td>\n",
       "      <td>1.24564</td>\n",
       "      <td>44.464001</td>\n",
       "      <td>5.97993</td>\n",
       "    </tr>\n",
       "    <tr>\n",
       "      <th>1</th>\n",
       "      <td>1</td>\n",
       "      <td>2</td>\n",
       "      <td>1992-10-21 12:00:00</td>\n",
       "      <td>-1</td>\n",
       "      <td>-84.010010</td>\n",
       "      <td>-65.137604</td>\n",
       "      <td>2.64604</td>\n",
       "      <td>36.702400</td>\n",
       "      <td>8.17373</td>\n",
       "    </tr>\n",
       "    <tr>\n",
       "      <th>2</th>\n",
       "      <td>1</td>\n",
       "      <td>3</td>\n",
       "      <td>1992-10-28 12:00:00</td>\n",
       "      <td>-1</td>\n",
       "      <td>-84.179993</td>\n",
       "      <td>-65.245697</td>\n",
       "      <td>3.40119</td>\n",
       "      <td>45.422100</td>\n",
       "      <td>8.28628</td>\n",
       "    </tr>\n",
       "    <tr>\n",
       "      <th>3</th>\n",
       "      <td>1</td>\n",
       "      <td>4</td>\n",
       "      <td>1992-11-04 12:00:00</td>\n",
       "      <td>-1</td>\n",
       "      <td>-84.155029</td>\n",
       "      <td>-65.293297</td>\n",
       "      <td>1.45836</td>\n",
       "      <td>43.021999</td>\n",
       "      <td>5.20364</td>\n",
       "    </tr>\n",
       "    <tr>\n",
       "      <th>4</th>\n",
       "      <td>2</td>\n",
       "      <td>1</td>\n",
       "      <td>1992-10-14 12:00:00</td>\n",
       "      <td>-1</td>\n",
       "      <td>-159.357971</td>\n",
       "      <td>-62.542400</td>\n",
       "      <td>2.16156</td>\n",
       "      <td>63.069698</td>\n",
       "      <td>4.81408</td>\n",
       "    </tr>\n",
       "  </tbody>\n",
       "</table>\n",
       "</div>"
      ],
      "text/plain": [
       "      track  n                date  cyc         lon        lat        A  \\\n",
       "Nobs                                                                      \n",
       "0         1  1 1992-10-14 12:00:00   -1  -83.260010 -65.001099  1.24564   \n",
       "1         1  2 1992-10-21 12:00:00   -1  -84.010010 -65.137604  2.64604   \n",
       "2         1  3 1992-10-28 12:00:00   -1  -84.179993 -65.245697  3.40119   \n",
       "3         1  4 1992-11-04 12:00:00   -1  -84.155029 -65.293297  1.45836   \n",
       "4         2  1 1992-10-14 12:00:00   -1 -159.357971 -62.542400  2.16156   \n",
       "\n",
       "              L        U  \n",
       "Nobs                      \n",
       "0     44.464001  5.97993  \n",
       "1     36.702400  8.17373  \n",
       "2     45.422100  8.28628  \n",
       "3     43.021999  5.20364  \n",
       "4     63.069698  4.81408  "
      ]
     },
     "execution_count": 11,
     "metadata": {},
     "output_type": "execute_result"
    }
   ],
   "source": [
    "df.head()"
   ]
  },
  {
   "cell_type": "code",
   "execution_count": 12,
   "metadata": {
    "collapsed": true
   },
   "outputs": [],
   "source": [
    "lon_fix_03 = df.where(df.lon < 0).lon + 360\n",
    "lon_fix_04 = df.where(df.lon >= 0).lon\n",
    "lon_fix_B = lon_fix_03\n",
    "lon_fix_B = lon_fix_B.fillna(lon_fix_04)\n",
    "df.lon = lon_fix_B"
   ]
  },
  {
   "cell_type": "code",
   "execution_count": 13,
   "metadata": {
    "collapsed": false
   },
   "outputs": [
    {
     "data": {
      "text/html": [
       "<div>\n",
       "<table border=\"1\" class=\"dataframe\">\n",
       "  <thead>\n",
       "    <tr style=\"text-align: right;\">\n",
       "      <th></th>\n",
       "      <th>track</th>\n",
       "      <th>n</th>\n",
       "      <th>date</th>\n",
       "      <th>cyc</th>\n",
       "      <th>lon</th>\n",
       "      <th>lat</th>\n",
       "      <th>A</th>\n",
       "      <th>L</th>\n",
       "      <th>U</th>\n",
       "    </tr>\n",
       "    <tr>\n",
       "      <th>Nobs</th>\n",
       "      <th></th>\n",
       "      <th></th>\n",
       "      <th></th>\n",
       "      <th></th>\n",
       "      <th></th>\n",
       "      <th></th>\n",
       "      <th></th>\n",
       "      <th></th>\n",
       "      <th></th>\n",
       "    </tr>\n",
       "  </thead>\n",
       "  <tbody>\n",
       "    <tr>\n",
       "      <th>0</th>\n",
       "      <td>1</td>\n",
       "      <td>1</td>\n",
       "      <td>1992-10-14 12:00:00</td>\n",
       "      <td>-1</td>\n",
       "      <td>276.739990</td>\n",
       "      <td>-65.001099</td>\n",
       "      <td>1.24564</td>\n",
       "      <td>44.464001</td>\n",
       "      <td>5.97993</td>\n",
       "    </tr>\n",
       "    <tr>\n",
       "      <th>1</th>\n",
       "      <td>1</td>\n",
       "      <td>2</td>\n",
       "      <td>1992-10-21 12:00:00</td>\n",
       "      <td>-1</td>\n",
       "      <td>275.989990</td>\n",
       "      <td>-65.137604</td>\n",
       "      <td>2.64604</td>\n",
       "      <td>36.702400</td>\n",
       "      <td>8.17373</td>\n",
       "    </tr>\n",
       "    <tr>\n",
       "      <th>2</th>\n",
       "      <td>1</td>\n",
       "      <td>3</td>\n",
       "      <td>1992-10-28 12:00:00</td>\n",
       "      <td>-1</td>\n",
       "      <td>275.820007</td>\n",
       "      <td>-65.245697</td>\n",
       "      <td>3.40119</td>\n",
       "      <td>45.422100</td>\n",
       "      <td>8.28628</td>\n",
       "    </tr>\n",
       "    <tr>\n",
       "      <th>3</th>\n",
       "      <td>1</td>\n",
       "      <td>4</td>\n",
       "      <td>1992-11-04 12:00:00</td>\n",
       "      <td>-1</td>\n",
       "      <td>275.844971</td>\n",
       "      <td>-65.293297</td>\n",
       "      <td>1.45836</td>\n",
       "      <td>43.021999</td>\n",
       "      <td>5.20364</td>\n",
       "    </tr>\n",
       "    <tr>\n",
       "      <th>4</th>\n",
       "      <td>2</td>\n",
       "      <td>1</td>\n",
       "      <td>1992-10-14 12:00:00</td>\n",
       "      <td>-1</td>\n",
       "      <td>200.642029</td>\n",
       "      <td>-62.542400</td>\n",
       "      <td>2.16156</td>\n",
       "      <td>63.069698</td>\n",
       "      <td>4.81408</td>\n",
       "    </tr>\n",
       "  </tbody>\n",
       "</table>\n",
       "</div>"
      ],
      "text/plain": [
       "      track  n                date  cyc         lon        lat        A  \\\n",
       "Nobs                                                                      \n",
       "0         1  1 1992-10-14 12:00:00   -1  276.739990 -65.001099  1.24564   \n",
       "1         1  2 1992-10-21 12:00:00   -1  275.989990 -65.137604  2.64604   \n",
       "2         1  3 1992-10-28 12:00:00   -1  275.820007 -65.245697  3.40119   \n",
       "3         1  4 1992-11-04 12:00:00   -1  275.844971 -65.293297  1.45836   \n",
       "4         2  1 1992-10-14 12:00:00   -1  200.642029 -62.542400  2.16156   \n",
       "\n",
       "              L        U  \n",
       "Nobs                      \n",
       "0     44.464001  5.97993  \n",
       "1     36.702400  8.17373  \n",
       "2     45.422100  8.28628  \n",
       "3     43.021999  5.20364  \n",
       "4     63.069698  4.81408  "
      ]
     },
     "execution_count": 13,
     "metadata": {},
     "output_type": "execute_result"
    }
   ],
   "source": [
    "df.head()"
   ]
  },
  {
   "cell_type": "code",
   "execution_count": 14,
   "metadata": {
    "collapsed": false
   },
   "outputs": [],
   "source": [
    "track = np.asarray(df.track)\n",
    "n = np.asarray(df.n)\n",
    "date = df.date\n",
    "lon = np.asarray(df.lon)\n",
    "lat = np.asarray(df.lat)"
   ]
  },
  {
   "cell_type": "markdown",
   "metadata": {},
   "source": [
    "## PyMongo"
   ]
  },
  {
   "cell_type": "code",
   "execution_count": 15,
   "metadata": {
    "collapsed": false
   },
   "outputs": [],
   "source": [
    "from pymongo import MongoClient\n",
    "from tqdm import tqdm"
   ]
  },
  {
   "cell_type": "code",
   "execution_count": 16,
   "metadata": {
    "collapsed": true
   },
   "outputs": [],
   "source": [
    "client = MongoClient()"
   ]
  },
  {
   "cell_type": "code",
   "execution_count": 17,
   "metadata": {
    "collapsed": false
   },
   "outputs": [
    {
     "data": {
      "text/plain": [
       "[u'eddies', u'local']"
      ]
     },
     "execution_count": 17,
     "metadata": {},
     "output_type": "execute_result"
    }
   ],
   "source": [
    "client.database_names()"
   ]
  },
  {
   "cell_type": "code",
   "execution_count": 18,
   "metadata": {
    "collapsed": false
   },
   "outputs": [],
   "source": [
    "db = client.eddies"
   ]
  },
  {
   "cell_type": "code",
   "execution_count": 19,
   "metadata": {
    "collapsed": false
   },
   "outputs": [
    {
     "data": {
      "text/plain": [
       "[u'rcs_eddies', u'cchdo', u'ssh_eddies']"
      ]
     },
     "execution_count": 19,
     "metadata": {},
     "output_type": "execute_result"
    }
   ],
   "source": [
    "db.collection_names()"
   ]
  },
  {
   "cell_type": "code",
   "execution_count": 20,
   "metadata": {
    "collapsed": true
   },
   "outputs": [],
   "source": [
    "collection = db.cchdo"
   ]
  },
  {
   "cell_type": "code",
   "execution_count": 21,
   "metadata": {
    "collapsed": false
   },
   "outputs": [
    {
     "name": "stderr",
     "output_type": "stream",
     "text": [
      "-c:1: DeprecationWarning: remove is deprecated. Use delete_one or delete_many instead.\n"
     ]
    }
   ],
   "source": [
    "result = db.cchdo.remove()"
   ]
  },
  {
   "cell_type": "code",
   "execution_count": 22,
   "metadata": {
    "collapsed": false
   },
   "outputs": [
    {
     "name": "stdout",
     "output_type": "stream",
     "text": [
      "215184\n"
     ]
    }
   ],
   "source": [
    "M = max(df.track)\n",
    "print(M)"
   ]
  },
  {
   "cell_type": "code",
   "execution_count": 23,
   "metadata": {
    "collapsed": false
   },
   "outputs": [
    {
     "name": "stdout",
     "output_type": "stream",
     "text": [
      "2590938\n"
     ]
    }
   ],
   "source": [
    "N = len(df.n)\n",
    "print(N)"
   ]
  },
  {
   "cell_type": "code",
   "execution_count": 24,
   "metadata": {
    "collapsed": false
   },
   "outputs": [
    {
     "name": "stderr",
     "output_type": "stream",
     "text": [
      "100%|██████████| 2590938/2590938 [12:56<00:00, 3338.67it/s]\n"
     ]
    }
   ],
   "source": [
    "for i in tqdm(range(N)):\n",
    "    eddy = {\n",
    "        'eid': str(track[i]) + \"-\" + str(n[i]),\n",
    "        'dat': date[i],\n",
    "        'loc': [float(lon[i]), float(lat[i])]\n",
    "    }\n",
    "    result = db.cchdo.insert_one(dict(eddy))"
   ]
  }
 ],
 "metadata": {
  "kernelspec": {
   "display_name": "Python 2.7",
   "language": "python",
   "name": "python2"
  },
  "language_info": {
   "codemirror_mode": {
    "name": "ipython",
    "version": 2
   },
   "file_extension": ".py",
   "mimetype": "text/x-python",
   "name": "python",
   "nbconvert_exporter": "python",
   "pygments_lexer": "ipython2",
   "version": "2.7.11"
  }
 },
 "nbformat": 4,
 "nbformat_minor": 0
}
